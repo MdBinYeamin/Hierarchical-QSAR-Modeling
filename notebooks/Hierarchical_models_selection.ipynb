{
 "cells": [
  {
   "cell_type": "code",
   "execution_count": 1,
   "metadata": {},
   "outputs": [],
   "source": [
    "from utils import * \n",
    "\n",
    "import pandas as pd\n",
    "import numpy as np\n",
    "import matplotlib.pyplot as plt\n",
    "import math\n",
    "import itertools\n",
    "from pprint import pprint\n",
    "import joblib\n",
    "\n",
    "import statistics\n",
    "\n",
    "# Models\n",
    "from xgboost import XGBClassifier, XGBRegressor\n",
    "from sklearn.ensemble import RandomForestClassifier, RandomForestRegressor\n",
    "from sklearn.svm import SVC, SVR\n",
    "from sklearn.neighbors import KNeighborsClassifier, KNeighborsRegressor\n",
    "\n",
    "from sklearn.preprocessing import LabelEncoder, LabelBinarizer\n",
    "from sklearn.model_selection import KFold, cross_validate, GridSearchCV, cross_val_score, RandomizedSearchCV \n",
    "from sklearn.model_selection import cross_val_predict\n",
    "\n",
    "from sklearn.pipeline import Pipeline\n",
    "\n",
    "from sklearn.metrics import make_scorer\n",
    "\n",
    "#regression matrics\n",
    "from sklearn.metrics import mean_absolute_error , mean_squared_error, r2_score\n",
    "\n",
    "#classification metrics\n",
    "from sklearn.metrics import accuracy_score, confusion_matrix, classification_report\n",
    "from sklearn.metrics import accuracy_score, balanced_accuracy_score, roc_auc_score, f1_score, matthews_corrcoef\n",
    "\n",
    "from sklearn.base import BaseEstimator\n",
    "from sklearn.base import ClassifierMixin\n",
    "from sklearn.base import TransformerMixin\n",
    "from sklearn.base import clone\n",
    "from sklearn.model_selection._split import check_cv"
   ]
  },
  {
   "cell_type": "markdown",
   "metadata": {},
   "source": [
    "## Data "
   ]
  },
  {
   "cell_type": "code",
   "execution_count": 2,
   "metadata": {},
   "outputs": [
    {
     "data": {
      "text/plain": [
       "((8221, 6), (2849, 6))"
      ]
     },
     "execution_count": 2,
     "metadata": {},
     "output_type": "execute_result"
    }
   ],
   "source": [
    "train_labels = pd.read_csv('../data/train_test_sets/train_labels.csv', index_col = 'CASRN')\n",
    "test_labels = pd.read_csv('../data/train_test_sets/test_labels.csv', index_col = 'CASRN')\n",
    "train_labels.shape, test_labels.shape"
   ]
  },
  {
   "cell_type": "code",
   "execution_count": 4,
   "metadata": {},
   "outputs": [
    {
     "data": {
      "text/plain": [
       "(8221, 100)"
      ]
     },
     "execution_count": 4,
     "metadata": {},
     "output_type": "execute_result"
    }
   ],
   "source": [
    "train_Hfeatures = pd.read_csv('../data/Hmodel_features_combined/train_Hfeatures.csv', index_col = 'CASRN')\n",
    "train_Hfeatures.shape"
   ]
  },
  {
   "cell_type": "code",
   "execution_count": 5,
   "metadata": {},
   "outputs": [
    {
     "data": {
      "text/html": [
       "<div>\n",
       "<style scoped>\n",
       "    .dataframe tbody tr th:only-of-type {\n",
       "        vertical-align: middle;\n",
       "    }\n",
       "\n",
       "    .dataframe tbody tr th {\n",
       "        vertical-align: top;\n",
       "    }\n",
       "\n",
       "    .dataframe thead th {\n",
       "        text-align: right;\n",
       "    }\n",
       "</style>\n",
       "<table border=\"1\" class=\"dataframe\">\n",
       "  <thead>\n",
       "    <tr style=\"text-align: right;\">\n",
       "      <th></th>\n",
       "      <th>EPA_RF_ecfp6bits-1</th>\n",
       "      <th>EPA_RF_ecfp6bits-2</th>\n",
       "      <th>EPA_RF_ecfp6bits-3</th>\n",
       "      <th>EPA_RF_ecfp6counts-1</th>\n",
       "      <th>EPA_RF_ecfp6counts-2</th>\n",
       "      <th>EPA_RF_ecfp6counts-3</th>\n",
       "      <th>EPA_RF_maccs-1</th>\n",
       "      <th>EPA_RF_maccs-2</th>\n",
       "      <th>EPA_RF_maccs-3</th>\n",
       "      <th>EPA_RF_mordred-1</th>\n",
       "      <th>...</th>\n",
       "      <th>Toxic_svm_ecfp6bits-1</th>\n",
       "      <th>Toxic_svm_ecfp6counts-1</th>\n",
       "      <th>Toxic_svm_maccs-1</th>\n",
       "      <th>Toxic_svm_mordred-1</th>\n",
       "      <th>Toxic_svm_rdkit2d-1</th>\n",
       "      <th>Toxic_xgboost_ecfp6bits-1</th>\n",
       "      <th>Toxic_xgboost_ecfp6counts-1</th>\n",
       "      <th>Toxic_xgboost_maccs-1</th>\n",
       "      <th>Toxic_xgboost_mordred-1</th>\n",
       "      <th>Toxic_xgboost_rdkit2d-1</th>\n",
       "    </tr>\n",
       "    <tr>\n",
       "      <th>CASRN</th>\n",
       "      <th></th>\n",
       "      <th></th>\n",
       "      <th></th>\n",
       "      <th></th>\n",
       "      <th></th>\n",
       "      <th></th>\n",
       "      <th></th>\n",
       "      <th></th>\n",
       "      <th></th>\n",
       "      <th></th>\n",
       "      <th></th>\n",
       "      <th></th>\n",
       "      <th></th>\n",
       "      <th></th>\n",
       "      <th></th>\n",
       "      <th></th>\n",
       "      <th></th>\n",
       "      <th></th>\n",
       "      <th></th>\n",
       "      <th></th>\n",
       "      <th></th>\n",
       "    </tr>\n",
       "  </thead>\n",
       "  <tbody>\n",
       "    <tr>\n",
       "      <th>23233-88-7</th>\n",
       "      <td>0.133902</td>\n",
       "      <td>0.240154</td>\n",
       "      <td>0.502604</td>\n",
       "      <td>0.125821</td>\n",
       "      <td>0.246357</td>\n",
       "      <td>0.522198</td>\n",
       "      <td>0.104243</td>\n",
       "      <td>0.165346</td>\n",
       "      <td>0.515884</td>\n",
       "      <td>0.081167</td>\n",
       "      <td>...</td>\n",
       "      <td>0.582366</td>\n",
       "      <td>0.682633</td>\n",
       "      <td>0.275429</td>\n",
       "      <td>0.816182</td>\n",
       "      <td>0.489093</td>\n",
       "      <td>0.668234</td>\n",
       "      <td>0.759473</td>\n",
       "      <td>0.36906</td>\n",
       "      <td>0.470704</td>\n",
       "      <td>0.472904</td>\n",
       "    </tr>\n",
       "  </tbody>\n",
       "</table>\n",
       "<p>1 rows × 100 columns</p>\n",
       "</div>"
      ],
      "text/plain": [
       "            EPA_RF_ecfp6bits-1  EPA_RF_ecfp6bits-2  EPA_RF_ecfp6bits-3  \\\n",
       "CASRN                                                                    \n",
       "23233-88-7            0.133902            0.240154            0.502604   \n",
       "\n",
       "            EPA_RF_ecfp6counts-1  EPA_RF_ecfp6counts-2  EPA_RF_ecfp6counts-3  \\\n",
       "CASRN                                                                          \n",
       "23233-88-7              0.125821              0.246357              0.522198   \n",
       "\n",
       "            EPA_RF_maccs-1  EPA_RF_maccs-2  EPA_RF_maccs-3  EPA_RF_mordred-1  \\\n",
       "CASRN                                                                          \n",
       "23233-88-7        0.104243        0.165346        0.515884          0.081167   \n",
       "\n",
       "            ...  Toxic_svm_ecfp6bits-1  Toxic_svm_ecfp6counts-1  \\\n",
       "CASRN       ...                                                   \n",
       "23233-88-7  ...               0.582366                 0.682633   \n",
       "\n",
       "            Toxic_svm_maccs-1  Toxic_svm_mordred-1  Toxic_svm_rdkit2d-1  \\\n",
       "CASRN                                                                     \n",
       "23233-88-7           0.275429             0.816182             0.489093   \n",
       "\n",
       "            Toxic_xgboost_ecfp6bits-1  Toxic_xgboost_ecfp6counts-1  \\\n",
       "CASRN                                                                \n",
       "23233-88-7                   0.668234                     0.759473   \n",
       "\n",
       "            Toxic_xgboost_maccs-1  Toxic_xgboost_mordred-1  \\\n",
       "CASRN                                                        \n",
       "23233-88-7                0.36906                 0.470704   \n",
       "\n",
       "            Toxic_xgboost_rdkit2d-1  \n",
       "CASRN                                \n",
       "23233-88-7                 0.472904  \n",
       "\n",
       "[1 rows x 100 columns]"
      ]
     },
     "execution_count": 5,
     "metadata": {},
     "output_type": "execute_result"
    }
   ],
   "source": [
    "train_Hfeatures.head(1)"
   ]
  },
  {
   "cell_type": "markdown",
   "metadata": {},
   "source": [
    "## Model Selection\n",
    "\n",
    "We will model 3 endpoints with 4 algorithm (knn, xgboost, svm and rf)"
   ]
  },
  {
   "cell_type": "code",
   "execution_count": 6,
   "metadata": {},
   "outputs": [],
   "source": [
    "# regression \n",
    "knn_reg = KNeighborsRegressor()\n",
    "svr = SVR()\n",
    "xgb_reg = XGBRegressor(random_state =123, n_jobs=6 ,objective ='reg:squarederror')\n",
    "rf_reg =  RandomForestRegressor(random_state =123, n_jobs=6)\n",
    "\n",
    "\n",
    "# classification \n",
    "svc = SVC(random_state =42)\n",
    "knn_clf = KNeighborsClassifier()\n",
    "xgb_clf = XGBClassifier(random_state =123, n_jobs=6)\n",
    "rf_clf =  RandomForestClassifier(random_state =123, n_jobs=6)"
   ]
  },
  {
   "cell_type": "markdown",
   "metadata": {},
   "source": [
    "### Search Space"
   ]
  },
  {
   "cell_type": "code",
   "execution_count": 16,
   "metadata": {},
   "outputs": [],
   "source": [
    "knn_grid_parameters = {'n_neighbors': [5,9,15,19,25,35,45,55,71,101,151], 'weights': ['distance'],'p': [1,2]}"
   ]
  },
  {
   "cell_type": "code",
   "execution_count": 8,
   "metadata": {},
   "outputs": [],
   "source": [
    "svm_grid_parameters = [\n",
    "  {'C': [0.01, 0.1, 1, 10, 100, 200, 400, 1000], 'kernel': ['linear']},\n",
    "  {'C': [0.01, 0.1, 1, 10, 100, 200, 400, 1000], 'gamma': [100,10,1,1e-1,1e-2, 1e-3], 'kernel': ['rbf']},\n",
    " ]"
   ]
  },
  {
   "cell_type": "code",
   "execution_count": 9,
   "metadata": {},
   "outputs": [
    {
     "name": "stdout",
     "output_type": "stream",
     "text": [
      "{'bootstrap': [True, False],\n",
      " 'max_depth': [5, 20, 35, 50, 65, 80, None],\n",
      " 'max_features': ['log2', 'sqrt'],\n",
      " 'min_samples_leaf': [2, 4, 6],\n",
      " 'min_samples_split': [2, 5, 10],\n",
      " 'n_estimators': [500, 1500]}\n"
     ]
    }
   ],
   "source": [
    "# Number of trees in random forest\n",
    "n_estimators = [int(x) for x in np.linspace(start = 500, stop = 1500, num = 2)]\n",
    "# Number of features to consider at every split\n",
    "max_features = ['log2', 'sqrt']\n",
    "# Maximum number of levels in tree\n",
    "max_depth = [int(x) for x in np.linspace(5, 80, num = 6)]\n",
    "max_depth.append(None)\n",
    "# Minimum number of samples required to split a node\n",
    "min_samples_split = [2, 5, 10]\n",
    "# Minimum number of samples required at each leaf node\n",
    "min_samples_leaf = [2, 4, 6]\n",
    "# Method of selecting samples for training each tree\n",
    "bootstrap = [True, False]\n",
    "\n",
    "# Create the random grid\n",
    "rf_grid_parameters = {'n_estimators': n_estimators,\n",
    "               'max_features': max_features,\n",
    "               'max_depth': max_depth,\n",
    "               'min_samples_split': min_samples_split,\n",
    "               'min_samples_leaf': min_samples_leaf,\n",
    "               'bootstrap': bootstrap}\n",
    "\n",
    "pprint(rf_grid_parameters)"
   ]
  },
  {
   "cell_type": "code",
   "execution_count": 10,
   "metadata": {},
   "outputs": [],
   "source": [
    "xgb_grid_parameters = {\n",
    "    'learning_rate': [0.01,0.1],\n",
    "    'max_depth': [3,6,10],\n",
    "    'min_child_weight':[1,3,5], \n",
    "    'gamma':[0,1,5],  \n",
    "    'subsample':[i/10.0 for i in range(6,11)],\n",
    "    'colsample_bytree':[i/10.0 for i in range(5,11)], \n",
    "    'n_estimators': [500,1500]}"
   ]
  },
  {
   "cell_type": "markdown",
   "metadata": {},
   "source": [
    "### Endpoint 1: Toxic"
   ]
  },
  {
   "cell_type": "code",
   "execution_count": 12,
   "metadata": {},
   "outputs": [],
   "source": [
    "encoder_toxic = joblib.load('../data/label_encoders/encoder_toxic.joblib')"
   ]
  },
  {
   "cell_type": "code",
   "execution_count": 17,
   "metadata": {},
   "outputs": [
    {
     "name": "stdout",
     "output_type": "stream",
     "text": [
      "Best parameters set found on development set: {'n_neighbors': 151, 'p': 1, 'weights': 'distance'}\n",
      "Best score: 0.8798414771964566\n",
      "Grid scores on development set:\n",
      "\n",
      "0.843 (+/-0.042) for {'n_neighbors': 5, 'p': 1, 'weights': 'distance'}\n",
      "0.845 (+/-0.038) for {'n_neighbors': 5, 'p': 2, 'weights': 'distance'}\n",
      "0.860 (+/-0.043) for {'n_neighbors': 9, 'p': 1, 'weights': 'distance'}\n",
      "0.862 (+/-0.043) for {'n_neighbors': 9, 'p': 2, 'weights': 'distance'}\n",
      "0.870 (+/-0.046) for {'n_neighbors': 15, 'p': 1, 'weights': 'distance'}\n",
      "0.869 (+/-0.042) for {'n_neighbors': 15, 'p': 2, 'weights': 'distance'}\n",
      "0.871 (+/-0.047) for {'n_neighbors': 19, 'p': 1, 'weights': 'distance'}\n",
      "0.872 (+/-0.042) for {'n_neighbors': 19, 'p': 2, 'weights': 'distance'}\n",
      "0.874 (+/-0.046) for {'n_neighbors': 25, 'p': 1, 'weights': 'distance'}\n",
      "0.874 (+/-0.044) for {'n_neighbors': 25, 'p': 2, 'weights': 'distance'}\n",
      "0.876 (+/-0.047) for {'n_neighbors': 35, 'p': 1, 'weights': 'distance'}\n",
      "0.876 (+/-0.046) for {'n_neighbors': 35, 'p': 2, 'weights': 'distance'}\n",
      "0.878 (+/-0.047) for {'n_neighbors': 45, 'p': 1, 'weights': 'distance'}\n",
      "0.877 (+/-0.045) for {'n_neighbors': 45, 'p': 2, 'weights': 'distance'}\n",
      "0.878 (+/-0.047) for {'n_neighbors': 55, 'p': 1, 'weights': 'distance'}\n",
      "0.878 (+/-0.045) for {'n_neighbors': 55, 'p': 2, 'weights': 'distance'}\n",
      "0.880 (+/-0.047) for {'n_neighbors': 71, 'p': 1, 'weights': 'distance'}\n",
      "0.879 (+/-0.045) for {'n_neighbors': 71, 'p': 2, 'weights': 'distance'}\n",
      "0.880 (+/-0.046) for {'n_neighbors': 101, 'p': 1, 'weights': 'distance'}\n",
      "0.879 (+/-0.045) for {'n_neighbors': 101, 'p': 2, 'weights': 'distance'}\n",
      "0.880 (+/-0.046) for {'n_neighbors': 151, 'p': 1, 'weights': 'distance'}\n",
      "0.879 (+/-0.047) for {'n_neighbors': 151, 'p': 2, 'weights': 'distance'}\n",
      "CPU times: user 309 ms, sys: 19.7 ms, total: 329 ms\n",
      "Wall time: 1min\n"
     ]
    }
   ],
   "source": [
    "%%time\n",
    "a,b,c,d,e = prepare_input(train_labels, train_Hfeatures, target = 'toxic', encoder = encoder_toxic)\n",
    "\n",
    "H_t_knn = model_selection(knn_clf, knn_grid_parameters, a, c, scoring = 'roc_auc', cv=5, GridSearch = True)"
   ]
  },
  {
   "cell_type": "code",
   "execution_count": 18,
   "metadata": {},
   "outputs": [
    {
     "name": "stderr",
     "output_type": "stream",
     "text": [
      "/home/xinhao/.local/lib/python3.6/site-packages/joblib/externals/loky/process_executor.py:706: UserWarning: A worker stopped while some jobs were given to the executor. This can be caused by a too short worker timeout or by a memory leak.\n",
      "  \"timeout or by a memory leak.\", UserWarning\n"
     ]
    },
    {
     "name": "stdout",
     "output_type": "stream",
     "text": [
      "Best parameters set found on development set: {'C': 10, 'gamma': 0.001, 'kernel': 'rbf'}\n",
      "Best score: 0.8826931493143051\n",
      "Grid scores on development set:\n",
      "\n",
      "0.883 (+/-0.049) for {'C': 0.01, 'kernel': 'linear'}\n",
      "0.880 (+/-0.049) for {'C': 0.1, 'kernel': 'linear'}\n",
      "0.877 (+/-0.050) for {'C': 1, 'kernel': 'linear'}\n",
      "0.876 (+/-0.050) for {'C': 10, 'kernel': 'linear'}\n",
      "0.876 (+/-0.050) for {'C': 100, 'kernel': 'linear'}\n",
      "0.876 (+/-0.050) for {'C': 200, 'kernel': 'linear'}\n",
      "0.876 (+/-0.050) for {'C': 400, 'kernel': 'linear'}\n",
      "0.876 (+/-0.050) for {'C': 1000, 'kernel': 'linear'}\n",
      "0.510 (+/-0.007) for {'C': 0.01, 'gamma': 100, 'kernel': 'rbf'}\n",
      "0.764 (+/-0.028) for {'C': 0.01, 'gamma': 10, 'kernel': 'rbf'}\n",
      "0.828 (+/-0.042) for {'C': 0.01, 'gamma': 1, 'kernel': 'rbf'}\n",
      "0.864 (+/-0.049) for {'C': 0.01, 'gamma': 0.1, 'kernel': 'rbf'}\n",
      "0.865 (+/-0.052) for {'C': 0.01, 'gamma': 0.01, 'kernel': 'rbf'}\n",
      "0.853 (+/-0.055) for {'C': 0.01, 'gamma': 0.001, 'kernel': 'rbf'}\n",
      "0.511 (+/-0.007) for {'C': 0.1, 'gamma': 100, 'kernel': 'rbf'}\n",
      "0.765 (+/-0.028) for {'C': 0.1, 'gamma': 10, 'kernel': 'rbf'}\n",
      "0.835 (+/-0.039) for {'C': 0.1, 'gamma': 1, 'kernel': 'rbf'}\n",
      "0.867 (+/-0.048) for {'C': 0.1, 'gamma': 0.1, 'kernel': 'rbf'}\n",
      "0.879 (+/-0.050) for {'C': 0.1, 'gamma': 0.01, 'kernel': 'rbf'}\n",
      "0.868 (+/-0.051) for {'C': 0.1, 'gamma': 0.001, 'kernel': 'rbf'}\n",
      "0.514 (+/-0.006) for {'C': 1, 'gamma': 100, 'kernel': 'rbf'}\n",
      "0.765 (+/-0.028) for {'C': 1, 'gamma': 10, 'kernel': 'rbf'}\n",
      "0.846 (+/-0.035) for {'C': 1, 'gamma': 1, 'kernel': 'rbf'}\n",
      "0.863 (+/-0.046) for {'C': 1, 'gamma': 0.1, 'kernel': 'rbf'}\n",
      "0.880 (+/-0.048) for {'C': 1, 'gamma': 0.01, 'kernel': 'rbf'}\n",
      "0.881 (+/-0.049) for {'C': 1, 'gamma': 0.001, 'kernel': 'rbf'}\n",
      "0.514 (+/-0.006) for {'C': 10, 'gamma': 100, 'kernel': 'rbf'}\n",
      "0.765 (+/-0.028) for {'C': 10, 'gamma': 10, 'kernel': 'rbf'}\n",
      "0.841 (+/-0.036) for {'C': 10, 'gamma': 1, 'kernel': 'rbf'}\n",
      "0.857 (+/-0.044) for {'C': 10, 'gamma': 0.1, 'kernel': 'rbf'}\n",
      "0.873 (+/-0.047) for {'C': 10, 'gamma': 0.01, 'kernel': 'rbf'}\n",
      "0.883 (+/-0.048) for {'C': 10, 'gamma': 0.001, 'kernel': 'rbf'}\n",
      "0.514 (+/-0.006) for {'C': 100, 'gamma': 100, 'kernel': 'rbf'}\n",
      "0.765 (+/-0.028) for {'C': 100, 'gamma': 10, 'kernel': 'rbf'}\n",
      "0.841 (+/-0.036) for {'C': 100, 'gamma': 1, 'kernel': 'rbf'}\n",
      "0.822 (+/-0.051) for {'C': 100, 'gamma': 0.1, 'kernel': 'rbf'}\n",
      "0.868 (+/-0.047) for {'C': 100, 'gamma': 0.01, 'kernel': 'rbf'}\n",
      "0.878 (+/-0.050) for {'C': 100, 'gamma': 0.001, 'kernel': 'rbf'}\n",
      "0.514 (+/-0.006) for {'C': 200, 'gamma': 100, 'kernel': 'rbf'}\n",
      "0.765 (+/-0.028) for {'C': 200, 'gamma': 10, 'kernel': 'rbf'}\n",
      "0.841 (+/-0.036) for {'C': 200, 'gamma': 1, 'kernel': 'rbf'}\n",
      "0.809 (+/-0.054) for {'C': 200, 'gamma': 0.1, 'kernel': 'rbf'}\n",
      "0.867 (+/-0.048) for {'C': 200, 'gamma': 0.01, 'kernel': 'rbf'}\n",
      "0.876 (+/-0.050) for {'C': 200, 'gamma': 0.001, 'kernel': 'rbf'}\n",
      "0.514 (+/-0.006) for {'C': 400, 'gamma': 100, 'kernel': 'rbf'}\n",
      "0.765 (+/-0.028) for {'C': 400, 'gamma': 10, 'kernel': 'rbf'}\n",
      "0.841 (+/-0.036) for {'C': 400, 'gamma': 1, 'kernel': 'rbf'}\n",
      "0.800 (+/-0.055) for {'C': 400, 'gamma': 0.1, 'kernel': 'rbf'}\n",
      "0.864 (+/-0.048) for {'C': 400, 'gamma': 0.01, 'kernel': 'rbf'}\n",
      "0.875 (+/-0.049) for {'C': 400, 'gamma': 0.001, 'kernel': 'rbf'}\n",
      "0.514 (+/-0.006) for {'C': 1000, 'gamma': 100, 'kernel': 'rbf'}\n",
      "0.765 (+/-0.028) for {'C': 1000, 'gamma': 10, 'kernel': 'rbf'}\n",
      "0.841 (+/-0.036) for {'C': 1000, 'gamma': 1, 'kernel': 'rbf'}\n",
      "0.799 (+/-0.054) for {'C': 1000, 'gamma': 0.1, 'kernel': 'rbf'}\n",
      "0.858 (+/-0.048) for {'C': 1000, 'gamma': 0.01, 'kernel': 'rbf'}\n",
      "0.874 (+/-0.049) for {'C': 1000, 'gamma': 0.001, 'kernel': 'rbf'}\n",
      "CPU times: user 5.19 s, sys: 198 ms, total: 5.39 s\n",
      "Wall time: 15min 10s\n"
     ]
    }
   ],
   "source": [
    "%%time\n",
    "a,b,c,d,e = prepare_input(train_labels, train_Hfeatures, target = 'toxic', encoder = encoder_toxic)\n",
    "\n",
    "H_t_svm = model_selection(svc, svm_grid_parameters, a, c, scoring = 'roc_auc', cv=5, GridSearch = True)"
   ]
  },
  {
   "cell_type": "code",
   "execution_count": 19,
   "metadata": {},
   "outputs": [
    {
     "name": "stdout",
     "output_type": "stream",
     "text": [
      "Best parameters set found on development set: {'n_estimators': 1500, 'min_samples_split': 5, 'min_samples_leaf': 6, 'max_features': 'log2', 'max_depth': 35, 'bootstrap': False}\n",
      "Best score: 0.8824387196376858\n",
      "Grid scores on development set:\n",
      "\n",
      "0.882 (+/-0.047) for {'n_estimators': 1500, 'min_samples_split': 10, 'min_samples_leaf': 4, 'max_features': 'log2', 'max_depth': 20, 'bootstrap': True}\n",
      "0.882 (+/-0.047) for {'n_estimators': 1500, 'min_samples_split': 10, 'min_samples_leaf': 4, 'max_features': 'sqrt', 'max_depth': 80, 'bootstrap': True}\n",
      "0.882 (+/-0.047) for {'n_estimators': 500, 'min_samples_split': 2, 'min_samples_leaf': 4, 'max_features': 'sqrt', 'max_depth': 20, 'bootstrap': True}\n",
      "0.882 (+/-0.049) for {'n_estimators': 1500, 'min_samples_split': 5, 'min_samples_leaf': 4, 'max_features': 'sqrt', 'max_depth': 5, 'bootstrap': True}\n",
      "0.882 (+/-0.047) for {'n_estimators': 500, 'min_samples_split': 5, 'min_samples_leaf': 4, 'max_features': 'log2', 'max_depth': 35, 'bootstrap': False}\n",
      "0.881 (+/-0.046) for {'n_estimators': 500, 'min_samples_split': 5, 'min_samples_leaf': 2, 'max_features': 'sqrt', 'max_depth': None, 'bootstrap': False}\n",
      "0.882 (+/-0.049) for {'n_estimators': 1500, 'min_samples_split': 10, 'min_samples_leaf': 2, 'max_features': 'sqrt', 'max_depth': 5, 'bootstrap': True}\n",
      "0.882 (+/-0.048) for {'n_estimators': 500, 'min_samples_split': 10, 'min_samples_leaf': 6, 'max_features': 'sqrt', 'max_depth': None, 'bootstrap': True}\n",
      "0.882 (+/-0.047) for {'n_estimators': 1500, 'min_samples_split': 10, 'min_samples_leaf': 6, 'max_features': 'sqrt', 'max_depth': 20, 'bootstrap': False}\n",
      "0.882 (+/-0.048) for {'n_estimators': 500, 'min_samples_split': 10, 'min_samples_leaf': 6, 'max_features': 'sqrt', 'max_depth': 50, 'bootstrap': True}\n",
      "0.882 (+/-0.047) for {'n_estimators': 1500, 'min_samples_split': 2, 'min_samples_leaf': 2, 'max_features': 'log2', 'max_depth': None, 'bootstrap': True}\n",
      "0.881 (+/-0.047) for {'n_estimators': 500, 'min_samples_split': 10, 'min_samples_leaf': 4, 'max_features': 'sqrt', 'max_depth': 20, 'bootstrap': True}\n",
      "0.882 (+/-0.047) for {'n_estimators': 500, 'min_samples_split': 5, 'min_samples_leaf': 6, 'max_features': 'log2', 'max_depth': 20, 'bootstrap': False}\n",
      "0.881 (+/-0.049) for {'n_estimators': 500, 'min_samples_split': 10, 'min_samples_leaf': 4, 'max_features': 'log2', 'max_depth': 5, 'bootstrap': False}\n",
      "0.882 (+/-0.047) for {'n_estimators': 1500, 'min_samples_split': 2, 'min_samples_leaf': 4, 'max_features': 'sqrt', 'max_depth': 35, 'bootstrap': True}\n",
      "0.882 (+/-0.046) for {'n_estimators': 1500, 'min_samples_split': 5, 'min_samples_leaf': 2, 'max_features': 'log2', 'max_depth': 80, 'bootstrap': False}\n",
      "0.882 (+/-0.047) for {'n_estimators': 500, 'min_samples_split': 2, 'min_samples_leaf': 6, 'max_features': 'log2', 'max_depth': None, 'bootstrap': True}\n",
      "0.882 (+/-0.048) for {'n_estimators': 500, 'min_samples_split': 10, 'min_samples_leaf': 6, 'max_features': 'sqrt', 'max_depth': 80, 'bootstrap': True}\n",
      "0.882 (+/-0.047) for {'n_estimators': 500, 'min_samples_split': 5, 'min_samples_leaf': 6, 'max_features': 'log2', 'max_depth': 80, 'bootstrap': True}\n",
      "0.881 (+/-0.049) for {'n_estimators': 1500, 'min_samples_split': 2, 'min_samples_leaf': 4, 'max_features': 'log2', 'max_depth': 5, 'bootstrap': True}\n",
      "0.882 (+/-0.047) for {'n_estimators': 1500, 'min_samples_split': 2, 'min_samples_leaf': 6, 'max_features': 'sqrt', 'max_depth': 35, 'bootstrap': False}\n",
      "0.882 (+/-0.049) for {'n_estimators': 500, 'min_samples_split': 10, 'min_samples_leaf': 6, 'max_features': 'sqrt', 'max_depth': 5, 'bootstrap': True}\n",
      "0.881 (+/-0.046) for {'n_estimators': 500, 'min_samples_split': 2, 'min_samples_leaf': 2, 'max_features': 'sqrt', 'max_depth': 20, 'bootstrap': True}\n",
      "0.882 (+/-0.047) for {'n_estimators': 1500, 'min_samples_split': 10, 'min_samples_leaf': 6, 'max_features': 'sqrt', 'max_depth': 65, 'bootstrap': False}\n",
      "0.882 (+/-0.049) for {'n_estimators': 500, 'min_samples_split': 5, 'min_samples_leaf': 6, 'max_features': 'sqrt', 'max_depth': 5, 'bootstrap': True}\n",
      "0.882 (+/-0.047) for {'n_estimators': 1500, 'min_samples_split': 10, 'min_samples_leaf': 4, 'max_features': 'sqrt', 'max_depth': 80, 'bootstrap': False}\n",
      "0.882 (+/-0.050) for {'n_estimators': 1500, 'min_samples_split': 5, 'min_samples_leaf': 4, 'max_features': 'sqrt', 'max_depth': 5, 'bootstrap': False}\n",
      "0.882 (+/-0.047) for {'n_estimators': 1500, 'min_samples_split': 5, 'min_samples_leaf': 6, 'max_features': 'log2', 'max_depth': 35, 'bootstrap': False}\n",
      "0.881 (+/-0.047) for {'n_estimators': 500, 'min_samples_split': 5, 'min_samples_leaf': 2, 'max_features': 'sqrt', 'max_depth': 80, 'bootstrap': True}\n",
      "0.882 (+/-0.047) for {'n_estimators': 500, 'min_samples_split': 2, 'min_samples_leaf': 4, 'max_features': 'log2', 'max_depth': 35, 'bootstrap': False}\n",
      "CPU times: user 5min 48s, sys: 24.7 s, total: 6min 13s\n",
      "Wall time: 20min 4s\n"
     ]
    }
   ],
   "source": [
    "%%time\n",
    "a,b,c,d,e = prepare_input(train_labels, train_Hfeatures, target = 'toxic', encoder = encoder_toxic)\n",
    "\n",
    "H_t_rf = model_selection(rf_clf, rf_grid_parameters, a, c, scoring = 'roc_auc', cv=5, GridSearch = False, n_iter=30,n_jobs=1)"
   ]
  },
  {
   "cell_type": "code",
   "execution_count": 20,
   "metadata": {},
   "outputs": [
    {
     "name": "stdout",
     "output_type": "stream",
     "text": [
      "Best parameters set found on development set: {'subsample': 0.6, 'n_estimators': 500, 'min_child_weight': 1, 'max_depth': 3, 'learning_rate': 0.01, 'gamma': 0, 'colsample_bytree': 0.5}\n",
      "Best score: 0.8833070866375617\n",
      "Grid scores on development set:\n",
      "\n",
      "0.880 (+/-0.045) for {'subsample': 0.7, 'n_estimators': 1500, 'min_child_weight': 1, 'max_depth': 6, 'learning_rate': 0.01, 'gamma': 5, 'colsample_bytree': 0.7}\n",
      "0.867 (+/-0.044) for {'subsample': 0.9, 'n_estimators': 1500, 'min_child_weight': 5, 'max_depth': 10, 'learning_rate': 0.1, 'gamma': 0, 'colsample_bytree': 0.6}\n",
      "0.870 (+/-0.042) for {'subsample': 0.9, 'n_estimators': 1500, 'min_child_weight': 1, 'max_depth': 3, 'learning_rate': 0.1, 'gamma': 0, 'colsample_bytree': 0.5}\n",
      "0.881 (+/-0.048) for {'subsample': 1.0, 'n_estimators': 500, 'min_child_weight': 3, 'max_depth': 6, 'learning_rate': 0.01, 'gamma': 5, 'colsample_bytree': 0.7}\n",
      "0.883 (+/-0.048) for {'subsample': 0.6, 'n_estimators': 500, 'min_child_weight': 5, 'max_depth': 3, 'learning_rate': 0.01, 'gamma': 5, 'colsample_bytree': 0.5}\n",
      "0.883 (+/-0.048) for {'subsample': 0.6, 'n_estimators': 500, 'min_child_weight': 1, 'max_depth': 3, 'learning_rate': 0.01, 'gamma': 0, 'colsample_bytree': 0.5}\n",
      "0.875 (+/-0.048) for {'subsample': 1.0, 'n_estimators': 500, 'min_child_weight': 5, 'max_depth': 6, 'learning_rate': 0.1, 'gamma': 5, 'colsample_bytree': 0.7}\n",
      "0.872 (+/-0.045) for {'subsample': 1.0, 'n_estimators': 500, 'min_child_weight': 5, 'max_depth': 10, 'learning_rate': 0.1, 'gamma': 1, 'colsample_bytree': 0.6}\n",
      "0.873 (+/-0.045) for {'subsample': 0.8, 'n_estimators': 500, 'min_child_weight': 1, 'max_depth': 3, 'learning_rate': 0.1, 'gamma': 5, 'colsample_bytree': 1.0}\n",
      "0.874 (+/-0.048) for {'subsample': 1.0, 'n_estimators': 1500, 'min_child_weight': 5, 'max_depth': 10, 'learning_rate': 0.1, 'gamma': 5, 'colsample_bytree': 0.7}\n",
      "0.870 (+/-0.046) for {'subsample': 0.7, 'n_estimators': 500, 'min_child_weight': 3, 'max_depth': 6, 'learning_rate': 0.1, 'gamma': 1, 'colsample_bytree': 0.6}\n",
      "0.871 (+/-0.045) for {'subsample': 1.0, 'n_estimators': 1500, 'min_child_weight': 1, 'max_depth': 6, 'learning_rate': 0.1, 'gamma': 0, 'colsample_bytree': 0.5}\n",
      "0.870 (+/-0.048) for {'subsample': 0.7, 'n_estimators': 1500, 'min_child_weight': 3, 'max_depth': 10, 'learning_rate': 0.1, 'gamma': 1, 'colsample_bytree': 0.9}\n",
      "0.871 (+/-0.044) for {'subsample': 0.8, 'n_estimators': 1500, 'min_child_weight': 1, 'max_depth': 10, 'learning_rate': 0.1, 'gamma': 0, 'colsample_bytree': 0.5}\n",
      "0.880 (+/-0.047) for {'subsample': 1.0, 'n_estimators': 1500, 'min_child_weight': 1, 'max_depth': 6, 'learning_rate': 0.01, 'gamma': 5, 'colsample_bytree': 0.9}\n",
      "0.870 (+/-0.043) for {'subsample': 0.7, 'n_estimators': 500, 'min_child_weight': 5, 'max_depth': 6, 'learning_rate': 0.1, 'gamma': 5, 'colsample_bytree': 0.7}\n",
      "0.882 (+/-0.047) for {'subsample': 0.8, 'n_estimators': 1500, 'min_child_weight': 5, 'max_depth': 3, 'learning_rate': 0.01, 'gamma': 0, 'colsample_bytree': 0.8}\n",
      "0.863 (+/-0.043) for {'subsample': 0.6, 'n_estimators': 1500, 'min_child_weight': 5, 'max_depth': 10, 'learning_rate': 0.1, 'gamma': 0, 'colsample_bytree': 0.9}\n",
      "0.872 (+/-0.045) for {'subsample': 0.7, 'n_estimators': 500, 'min_child_weight': 1, 'max_depth': 6, 'learning_rate': 0.1, 'gamma': 0, 'colsample_bytree': 0.7}\n",
      "0.865 (+/-0.045) for {'subsample': 0.8, 'n_estimators': 1500, 'min_child_weight': 5, 'max_depth': 6, 'learning_rate': 0.1, 'gamma': 0, 'colsample_bytree': 1.0}\n",
      "0.881 (+/-0.047) for {'subsample': 1.0, 'n_estimators': 1500, 'min_child_weight': 1, 'max_depth': 3, 'learning_rate': 0.01, 'gamma': 0, 'colsample_bytree': 0.8}\n",
      "0.872 (+/-0.047) for {'subsample': 0.7, 'n_estimators': 500, 'min_child_weight': 5, 'max_depth': 3, 'learning_rate': 0.1, 'gamma': 0, 'colsample_bytree': 0.7}\n",
      "0.882 (+/-0.046) for {'subsample': 0.9, 'n_estimators': 1500, 'min_child_weight': 3, 'max_depth': 3, 'learning_rate': 0.01, 'gamma': 5, 'colsample_bytree': 0.7}\n",
      "0.881 (+/-0.046) for {'subsample': 0.7, 'n_estimators': 1500, 'min_child_weight': 1, 'max_depth': 6, 'learning_rate': 0.01, 'gamma': 5, 'colsample_bytree': 0.6}\n",
      "0.882 (+/-0.047) for {'subsample': 0.7, 'n_estimators': 500, 'min_child_weight': 5, 'max_depth': 6, 'learning_rate': 0.01, 'gamma': 0, 'colsample_bytree': 0.9}\n",
      "0.881 (+/-0.047) for {'subsample': 0.8, 'n_estimators': 500, 'min_child_weight': 5, 'max_depth': 10, 'learning_rate': 0.01, 'gamma': 0, 'colsample_bytree': 0.7}\n",
      "0.865 (+/-0.045) for {'subsample': 0.7, 'n_estimators': 1500, 'min_child_weight': 3, 'max_depth': 10, 'learning_rate': 0.1, 'gamma': 0, 'colsample_bytree': 0.5}\n",
      "0.870 (+/-0.045) for {'subsample': 1.0, 'n_estimators': 500, 'min_child_weight': 5, 'max_depth': 6, 'learning_rate': 0.1, 'gamma': 0, 'colsample_bytree': 1.0}\n",
      "0.882 (+/-0.044) for {'subsample': 0.6, 'n_estimators': 500, 'min_child_weight': 1, 'max_depth': 10, 'learning_rate': 0.01, 'gamma': 1, 'colsample_bytree': 0.7}\n",
      "0.873 (+/-0.045) for {'subsample': 1.0, 'n_estimators': 1500, 'min_child_weight': 3, 'max_depth': 10, 'learning_rate': 0.1, 'gamma': 1, 'colsample_bytree': 0.9}\n",
      "CPU times: user 2h 38min 56s, sys: 17.4 s, total: 2h 39min 14s\n",
      "Wall time: 26min 41s\n"
     ]
    }
   ],
   "source": [
    "%%time\n",
    "a,b,c,d,e = prepare_input(train_labels, train_Hfeatures, target = 'toxic', encoder = encoder_toxic)\n",
    "\n",
    "H_t_xgb = model_selection(xgb_clf, xgb_grid_parameters, a, c, scoring = 'roc_auc', cv=5, GridSearch = False, n_iter=30,n_jobs=1)"
   ]
  },
  {
   "cell_type": "markdown",
   "metadata": {},
   "source": [
    "### Endpoint 2: logLD50"
   ]
  },
  {
   "cell_type": "code",
   "execution_count": 21,
   "metadata": {},
   "outputs": [
    {
     "name": "stdout",
     "output_type": "stream",
     "text": [
      "Best parameters set found on development set: {'n_estimators': 1500, 'min_samples_split': 2, 'min_samples_leaf': 4, 'max_features': 'sqrt', 'max_depth': 20, 'bootstrap': False}\n",
      "Best score: -0.3045348143883177\n",
      "Grid scores on development set:\n",
      "\n",
      "-0.305 (+/-0.056) for {'n_estimators': 500, 'min_samples_split': 10, 'min_samples_leaf': 2, 'max_features': 'log2', 'max_depth': 80, 'bootstrap': False}\n",
      "-0.306 (+/-0.056) for {'n_estimators': 500, 'min_samples_split': 10, 'min_samples_leaf': 6, 'max_features': 'sqrt', 'max_depth': 35, 'bootstrap': True}\n",
      "-0.305 (+/-0.057) for {'n_estimators': 1500, 'min_samples_split': 2, 'min_samples_leaf': 2, 'max_features': 'sqrt', 'max_depth': 80, 'bootstrap': False}\n",
      "-0.305 (+/-0.057) for {'n_estimators': 500, 'min_samples_split': 10, 'min_samples_leaf': 2, 'max_features': 'log2', 'max_depth': 20, 'bootstrap': False}\n",
      "-0.316 (+/-0.054) for {'n_estimators': 1500, 'min_samples_split': 2, 'min_samples_leaf': 2, 'max_features': 'log2', 'max_depth': 5, 'bootstrap': True}\n",
      "-0.306 (+/-0.056) for {'n_estimators': 500, 'min_samples_split': 10, 'min_samples_leaf': 6, 'max_features': 'sqrt', 'max_depth': 80, 'bootstrap': True}\n",
      "-0.312 (+/-0.055) for {'n_estimators': 1500, 'min_samples_split': 10, 'min_samples_leaf': 6, 'max_features': 'sqrt', 'max_depth': 5, 'bootstrap': True}\n",
      "-0.305 (+/-0.057) for {'n_estimators': 500, 'min_samples_split': 5, 'min_samples_leaf': 2, 'max_features': 'sqrt', 'max_depth': 50, 'bootstrap': False}\n",
      "-0.306 (+/-0.056) for {'n_estimators': 500, 'min_samples_split': 10, 'min_samples_leaf': 6, 'max_features': 'sqrt', 'max_depth': None, 'bootstrap': True}\n",
      "-0.307 (+/-0.056) for {'n_estimators': 1500, 'min_samples_split': 5, 'min_samples_leaf': 4, 'max_features': 'log2', 'max_depth': 65, 'bootstrap': True}\n",
      "-0.307 (+/-0.057) for {'n_estimators': 500, 'min_samples_split': 2, 'min_samples_leaf': 6, 'max_features': 'log2', 'max_depth': 20, 'bootstrap': False}\n",
      "-0.306 (+/-0.057) for {'n_estimators': 500, 'min_samples_split': 2, 'min_samples_leaf': 6, 'max_features': 'sqrt', 'max_depth': 35, 'bootstrap': False}\n",
      "-0.305 (+/-0.056) for {'n_estimators': 1500, 'min_samples_split': 2, 'min_samples_leaf': 6, 'max_features': 'sqrt', 'max_depth': 20, 'bootstrap': False}\n",
      "-0.315 (+/-0.054) for {'n_estimators': 500, 'min_samples_split': 5, 'min_samples_leaf': 2, 'max_features': 'log2', 'max_depth': 5, 'bootstrap': True}\n",
      "-0.308 (+/-0.056) for {'n_estimators': 1500, 'min_samples_split': 5, 'min_samples_leaf': 6, 'max_features': 'log2', 'max_depth': 50, 'bootstrap': True}\n",
      "-0.306 (+/-0.056) for {'n_estimators': 1500, 'min_samples_split': 10, 'min_samples_leaf': 2, 'max_features': 'log2', 'max_depth': None, 'bootstrap': False}\n",
      "-0.315 (+/-0.054) for {'n_estimators': 1500, 'min_samples_split': 2, 'min_samples_leaf': 4, 'max_features': 'log2', 'max_depth': 5, 'bootstrap': False}\n",
      "-0.306 (+/-0.055) for {'n_estimators': 500, 'min_samples_split': 5, 'min_samples_leaf': 4, 'max_features': 'log2', 'max_depth': 65, 'bootstrap': False}\n",
      "-0.307 (+/-0.056) for {'n_estimators': 500, 'min_samples_split': 2, 'min_samples_leaf': 4, 'max_features': 'log2', 'max_depth': 35, 'bootstrap': True}\n",
      "-0.305 (+/-0.056) for {'n_estimators': 500, 'min_samples_split': 10, 'min_samples_leaf': 2, 'max_features': 'log2', 'max_depth': 65, 'bootstrap': False}\n",
      "-0.306 (+/-0.056) for {'n_estimators': 1500, 'min_samples_split': 2, 'min_samples_leaf': 4, 'max_features': 'sqrt', 'max_depth': None, 'bootstrap': True}\n",
      "-0.305 (+/-0.056) for {'n_estimators': 1500, 'min_samples_split': 2, 'min_samples_leaf': 4, 'max_features': 'sqrt', 'max_depth': 20, 'bootstrap': False}\n",
      "-0.306 (+/-0.056) for {'n_estimators': 1500, 'min_samples_split': 5, 'min_samples_leaf': 2, 'max_features': 'log2', 'max_depth': 50, 'bootstrap': False}\n",
      "-0.308 (+/-0.056) for {'n_estimators': 1500, 'min_samples_split': 5, 'min_samples_leaf': 6, 'max_features': 'log2', 'max_depth': 35, 'bootstrap': True}\n",
      "-0.308 (+/-0.056) for {'n_estimators': 1500, 'min_samples_split': 10, 'min_samples_leaf': 4, 'max_features': 'log2', 'max_depth': 50, 'bootstrap': True}\n",
      "-0.306 (+/-0.055) for {'n_estimators': 1500, 'min_samples_split': 2, 'min_samples_leaf': 2, 'max_features': 'log2', 'max_depth': 50, 'bootstrap': False}\n",
      "-0.306 (+/-0.056) for {'n_estimators': 1500, 'min_samples_split': 10, 'min_samples_leaf': 6, 'max_features': 'sqrt', 'max_depth': 50, 'bootstrap': True}\n",
      "-0.306 (+/-0.056) for {'n_estimators': 500, 'min_samples_split': 10, 'min_samples_leaf': 2, 'max_features': 'sqrt', 'max_depth': 50, 'bootstrap': True}\n",
      "-0.312 (+/-0.055) for {'n_estimators': 1500, 'min_samples_split': 10, 'min_samples_leaf': 4, 'max_features': 'sqrt', 'max_depth': 5, 'bootstrap': False}\n",
      "-0.308 (+/-0.056) for {'n_estimators': 500, 'min_samples_split': 2, 'min_samples_leaf': 2, 'max_features': 'log2', 'max_depth': 20, 'bootstrap': True}\n",
      "CPU times: user 5min 21s, sys: 17.2 s, total: 5min 38s\n",
      "Wall time: 15min 11s\n"
     ]
    }
   ],
   "source": [
    "%%time\n",
    "a,b,c,d,e = prepare_input(train_labels, train_Hfeatures, target = 'logLD50_mmolkg', encoder = None)\n",
    "\n",
    "H_ld50_rf = model_selection(rf_reg, rf_grid_parameters, a, c, scoring = 'neg_mean_squared_error', cv=5, GridSearch = False, n_iter=30,n_jobs=1)"
   ]
  },
  {
   "cell_type": "code",
   "execution_count": 22,
   "metadata": {},
   "outputs": [
    {
     "name": "stdout",
     "output_type": "stream",
     "text": [
      "Best parameters set found on development set: {'subsample': 0.6, 'n_estimators': 500, 'min_child_weight': 3, 'max_depth': 6, 'learning_rate': 0.01, 'gamma': 1, 'colsample_bytree': 0.6}\n",
      "Best score: -0.30420437070099515\n",
      "Grid scores on development set:\n",
      "\n",
      "-0.325 (+/-0.059) for {'subsample': 0.7, 'n_estimators': 1500, 'min_child_weight': 1, 'max_depth': 6, 'learning_rate': 0.1, 'gamma': 1, 'colsample_bytree': 1.0}\n",
      "-0.305 (+/-0.060) for {'subsample': 0.6, 'n_estimators': 1500, 'min_child_weight': 5, 'max_depth': 10, 'learning_rate': 0.01, 'gamma': 5, 'colsample_bytree': 0.5}\n",
      "-0.321 (+/-0.062) for {'subsample': 0.8, 'n_estimators': 500, 'min_child_weight': 3, 'max_depth': 10, 'learning_rate': 0.1, 'gamma': 1, 'colsample_bytree': 0.7}\n",
      "-0.312 (+/-0.062) for {'subsample': 1.0, 'n_estimators': 1500, 'min_child_weight': 5, 'max_depth': 6, 'learning_rate': 0.01, 'gamma': 1, 'colsample_bytree': 0.9}\n",
      "-0.309 (+/-0.060) for {'subsample': 0.9, 'n_estimators': 500, 'min_child_weight': 5, 'max_depth': 6, 'learning_rate': 0.01, 'gamma': 5, 'colsample_bytree': 0.8}\n",
      "-0.318 (+/-0.059) for {'subsample': 1.0, 'n_estimators': 1500, 'min_child_weight': 1, 'max_depth': 6, 'learning_rate': 0.1, 'gamma': 1, 'colsample_bytree': 0.9}\n",
      "-0.324 (+/-0.074) for {'subsample': 1.0, 'n_estimators': 1500, 'min_child_weight': 1, 'max_depth': 10, 'learning_rate': 0.1, 'gamma': 1, 'colsample_bytree': 1.0}\n",
      "-0.325 (+/-0.057) for {'subsample': 0.9, 'n_estimators': 500, 'min_child_weight': 1, 'max_depth': 6, 'learning_rate': 0.1, 'gamma': 0, 'colsample_bytree': 0.6}\n",
      "-0.325 (+/-0.059) for {'subsample': 0.7, 'n_estimators': 500, 'min_child_weight': 1, 'max_depth': 10, 'learning_rate': 0.1, 'gamma': 0, 'colsample_bytree': 0.8}\n",
      "-0.304 (+/-0.059) for {'subsample': 0.6, 'n_estimators': 500, 'min_child_weight': 3, 'max_depth': 6, 'learning_rate': 0.01, 'gamma': 1, 'colsample_bytree': 0.6}\n",
      "-0.306 (+/-0.059) for {'subsample': 0.6, 'n_estimators': 500, 'min_child_weight': 5, 'max_depth': 3, 'learning_rate': 0.01, 'gamma': 0, 'colsample_bytree': 0.8}\n",
      "-0.313 (+/-0.059) for {'subsample': 1.0, 'n_estimators': 500, 'min_child_weight': 3, 'max_depth': 3, 'learning_rate': 0.01, 'gamma': 5, 'colsample_bytree': 1.0}\n",
      "-0.308 (+/-0.058) for {'subsample': 0.9, 'n_estimators': 500, 'min_child_weight': 3, 'max_depth': 3, 'learning_rate': 0.01, 'gamma': 0, 'colsample_bytree': 0.5}\n",
      "-0.308 (+/-0.055) for {'subsample': 0.7, 'n_estimators': 500, 'min_child_weight': 1, 'max_depth': 10, 'learning_rate': 0.01, 'gamma': 0, 'colsample_bytree': 0.5}\n",
      "-0.311 (+/-0.061) for {'subsample': 0.7, 'n_estimators': 500, 'min_child_weight': 1, 'max_depth': 10, 'learning_rate': 0.1, 'gamma': 5, 'colsample_bytree': 1.0}\n",
      "-0.314 (+/-0.062) for {'subsample': 1.0, 'n_estimators': 500, 'min_child_weight': 5, 'max_depth': 6, 'learning_rate': 0.01, 'gamma': 0, 'colsample_bytree': 1.0}\n",
      "-0.323 (+/-0.057) for {'subsample': 0.7, 'n_estimators': 500, 'min_child_weight': 3, 'max_depth': 3, 'learning_rate': 0.1, 'gamma': 1, 'colsample_bytree': 0.5}\n",
      "-0.323 (+/-0.059) for {'subsample': 0.8, 'n_estimators': 1500, 'min_child_weight': 3, 'max_depth': 6, 'learning_rate': 0.1, 'gamma': 1, 'colsample_bytree': 0.7}\n",
      "-0.307 (+/-0.058) for {'subsample': 0.7, 'n_estimators': 500, 'min_child_weight': 1, 'max_depth': 3, 'learning_rate': 0.01, 'gamma': 1, 'colsample_bytree': 0.5}\n",
      "-0.350 (+/-0.062) for {'subsample': 0.6, 'n_estimators': 1500, 'min_child_weight': 3, 'max_depth': 3, 'learning_rate': 0.1, 'gamma': 0, 'colsample_bytree': 1.0}\n",
      "-0.310 (+/-0.058) for {'subsample': 0.7, 'n_estimators': 1500, 'min_child_weight': 1, 'max_depth': 6, 'learning_rate': 0.01, 'gamma': 0, 'colsample_bytree': 0.8}\n",
      "-0.319 (+/-0.058) for {'subsample': 1.0, 'n_estimators': 500, 'min_child_weight': 5, 'max_depth': 6, 'learning_rate': 0.1, 'gamma': 1, 'colsample_bytree': 0.7}\n",
      "-0.332 (+/-0.068) for {'subsample': 1.0, 'n_estimators': 500, 'min_child_weight': 1, 'max_depth': 10, 'learning_rate': 0.1, 'gamma': 0, 'colsample_bytree': 1.0}\n",
      "-0.307 (+/-0.058) for {'subsample': 0.8, 'n_estimators': 500, 'min_child_weight': 3, 'max_depth': 3, 'learning_rate': 0.01, 'gamma': 1, 'colsample_bytree': 0.6}\n",
      "-0.319 (+/-0.062) for {'subsample': 1.0, 'n_estimators': 500, 'min_child_weight': 1, 'max_depth': 10, 'learning_rate': 0.1, 'gamma': 1, 'colsample_bytree': 0.5}\n",
      "-0.307 (+/-0.060) for {'subsample': 0.8, 'n_estimators': 1500, 'min_child_weight': 3, 'max_depth': 6, 'learning_rate': 0.01, 'gamma': 5, 'colsample_bytree': 0.6}\n",
      "-0.313 (+/-0.058) for {'subsample': 1.0, 'n_estimators': 500, 'min_child_weight': 5, 'max_depth': 3, 'learning_rate': 0.1, 'gamma': 5, 'colsample_bytree': 1.0}\n",
      "-0.308 (+/-0.059) for {'subsample': 0.9, 'n_estimators': 1500, 'min_child_weight': 1, 'max_depth': 3, 'learning_rate': 0.01, 'gamma': 5, 'colsample_bytree': 0.5}\n",
      "-0.311 (+/-0.058) for {'subsample': 1.0, 'n_estimators': 1500, 'min_child_weight': 3, 'max_depth': 3, 'learning_rate': 0.1, 'gamma': 5, 'colsample_bytree': 0.7}\n",
      "-0.323 (+/-0.064) for {'subsample': 1.0, 'n_estimators': 1500, 'min_child_weight': 5, 'max_depth': 10, 'learning_rate': 0.1, 'gamma': 1, 'colsample_bytree': 0.8}\n",
      "CPU times: user 2h 10min 5s, sys: 11.8 s, total: 2h 10min 17s\n",
      "Wall time: 21min 53s\n"
     ]
    }
   ],
   "source": [
    "%%time\n",
    "a,b,c,d,e = prepare_input(train_labels, train_Hfeatures, target = 'logLD50_mmolkg', encoder = None)\n",
    "\n",
    "H_ld50_xgb = model_selection(xgb_reg, xgb_grid_parameters, a, c, scoring = 'neg_mean_squared_error', cv=5, GridSearch = False, n_iter=30,n_jobs=1)"
   ]
  },
  {
   "cell_type": "code",
   "execution_count": 23,
   "metadata": {},
   "outputs": [
    {
     "name": "stdout",
     "output_type": "stream",
     "text": [
      "Best parameters set found on development set: {'C': 1, 'gamma': 0.01, 'kernel': 'rbf'}\n",
      "Best score: -0.3047374781566766\n",
      "Grid scores on development set:\n",
      "\n",
      "-0.309 (+/-0.052) for {'C': 0.01, 'kernel': 'linear'}\n",
      "-0.309 (+/-0.054) for {'C': 0.1, 'kernel': 'linear'}\n",
      "-0.311 (+/-0.053) for {'C': 1, 'kernel': 'linear'}\n",
      "-0.311 (+/-0.053) for {'C': 10, 'kernel': 'linear'}\n",
      "-0.312 (+/-0.053) for {'C': 100, 'kernel': 'linear'}\n",
      "-0.312 (+/-0.053) for {'C': 200, 'kernel': 'linear'}\n",
      "-0.312 (+/-0.053) for {'C': 400, 'kernel': 'linear'}\n",
      "-0.312 (+/-0.053) for {'C': 1000, 'kernel': 'linear'}\n",
      "-0.844 (+/-0.335) for {'C': 0.01, 'gamma': 100, 'kernel': 'rbf'}\n",
      "-0.844 (+/-0.335) for {'C': 0.01, 'gamma': 10, 'kernel': 'rbf'}\n",
      "-0.766 (+/-0.319) for {'C': 0.01, 'gamma': 1, 'kernel': 'rbf'}\n",
      "-0.382 (+/-0.111) for {'C': 0.01, 'gamma': 0.1, 'kernel': 'rbf'}\n",
      "-0.343 (+/-0.066) for {'C': 0.01, 'gamma': 0.01, 'kernel': 'rbf'}\n",
      "-0.468 (+/-0.125) for {'C': 0.01, 'gamma': 0.001, 'kernel': 'rbf'}\n",
      "-0.844 (+/-0.334) for {'C': 0.1, 'gamma': 100, 'kernel': 'rbf'}\n",
      "-0.843 (+/-0.334) for {'C': 0.1, 'gamma': 10, 'kernel': 'rbf'}\n",
      "-0.586 (+/-0.224) for {'C': 0.1, 'gamma': 1, 'kernel': 'rbf'}\n",
      "-0.324 (+/-0.078) for {'C': 0.1, 'gamma': 0.1, 'kernel': 'rbf'}\n",
      "-0.314 (+/-0.055) for {'C': 0.1, 'gamma': 0.01, 'kernel': 'rbf'}\n",
      "-0.325 (+/-0.050) for {'C': 0.1, 'gamma': 0.001, 'kernel': 'rbf'}\n",
      "-0.827 (+/-0.309) for {'C': 1, 'gamma': 100, 'kernel': 'rbf'}\n",
      "-0.827 (+/-0.308) for {'C': 1, 'gamma': 10, 'kernel': 'rbf'}\n",
      "-0.450 (+/-0.116) for {'C': 1, 'gamma': 1, 'kernel': 'rbf'}\n",
      "-0.314 (+/-0.071) for {'C': 1, 'gamma': 0.1, 'kernel': 'rbf'}\n",
      "-0.305 (+/-0.055) for {'C': 1, 'gamma': 0.01, 'kernel': 'rbf'}\n",
      "-0.312 (+/-0.050) for {'C': 1, 'gamma': 0.001, 'kernel': 'rbf'}\n",
      "-0.823 (+/-0.278) for {'C': 10, 'gamma': 100, 'kernel': 'rbf'}\n",
      "-0.821 (+/-0.276) for {'C': 10, 'gamma': 10, 'kernel': 'rbf'}\n",
      "-0.445 (+/-0.103) for {'C': 10, 'gamma': 1, 'kernel': 'rbf'}\n",
      "-0.349 (+/-0.073) for {'C': 10, 'gamma': 0.1, 'kernel': 'rbf'}\n",
      "-0.305 (+/-0.052) for {'C': 10, 'gamma': 0.01, 'kernel': 'rbf'}\n",
      "-0.307 (+/-0.053) for {'C': 10, 'gamma': 0.001, 'kernel': 'rbf'}\n",
      "-0.823 (+/-0.278) for {'C': 100, 'gamma': 100, 'kernel': 'rbf'}\n",
      "-0.821 (+/-0.276) for {'C': 100, 'gamma': 10, 'kernel': 'rbf'}\n",
      "-0.445 (+/-0.103) for {'C': 100, 'gamma': 1, 'kernel': 'rbf'}\n",
      "-0.436 (+/-0.076) for {'C': 100, 'gamma': 0.1, 'kernel': 'rbf'}\n",
      "-0.313 (+/-0.055) for {'C': 100, 'gamma': 0.01, 'kernel': 'rbf'}\n",
      "-0.307 (+/-0.053) for {'C': 100, 'gamma': 0.001, 'kernel': 'rbf'}\n",
      "-0.823 (+/-0.278) for {'C': 200, 'gamma': 100, 'kernel': 'rbf'}\n",
      "-0.821 (+/-0.276) for {'C': 200, 'gamma': 10, 'kernel': 'rbf'}\n",
      "-0.445 (+/-0.103) for {'C': 200, 'gamma': 1, 'kernel': 'rbf'}\n",
      "-0.463 (+/-0.079) for {'C': 200, 'gamma': 0.1, 'kernel': 'rbf'}\n",
      "-0.320 (+/-0.055) for {'C': 200, 'gamma': 0.01, 'kernel': 'rbf'}\n",
      "-0.307 (+/-0.052) for {'C': 200, 'gamma': 0.001, 'kernel': 'rbf'}\n",
      "-0.823 (+/-0.278) for {'C': 400, 'gamma': 100, 'kernel': 'rbf'}\n",
      "-0.821 (+/-0.276) for {'C': 400, 'gamma': 10, 'kernel': 'rbf'}\n",
      "-0.445 (+/-0.103) for {'C': 400, 'gamma': 1, 'kernel': 'rbf'}\n",
      "-0.479 (+/-0.078) for {'C': 400, 'gamma': 0.1, 'kernel': 'rbf'}\n",
      "-0.331 (+/-0.054) for {'C': 400, 'gamma': 0.01, 'kernel': 'rbf'}\n",
      "-0.308 (+/-0.053) for {'C': 400, 'gamma': 0.001, 'kernel': 'rbf'}\n",
      "-0.823 (+/-0.278) for {'C': 1000, 'gamma': 100, 'kernel': 'rbf'}\n",
      "-0.821 (+/-0.276) for {'C': 1000, 'gamma': 10, 'kernel': 'rbf'}\n",
      "-0.445 (+/-0.103) for {'C': 1000, 'gamma': 1, 'kernel': 'rbf'}\n",
      "-0.481 (+/-0.078) for {'C': 1000, 'gamma': 0.1, 'kernel': 'rbf'}\n",
      "-0.355 (+/-0.056) for {'C': 1000, 'gamma': 0.01, 'kernel': 'rbf'}\n",
      "-0.308 (+/-0.053) for {'C': 1000, 'gamma': 0.001, 'kernel': 'rbf'}\n",
      "CPU times: user 5.67 s, sys: 978 ms, total: 6.65 s\n",
      "Wall time: 1h 9min 21s\n"
     ]
    }
   ],
   "source": [
    "%%time\n",
    "a,b,c,d,e = prepare_input(train_labels, train_Hfeatures, target = 'logLD50_mmolkg', encoder = None)\n",
    "\n",
    "H_ld50_svr = model_selection(svr, svm_grid_parameters, a, c, scoring = 'neg_mean_squared_error', cv=5, GridSearch = True)"
   ]
  },
  {
   "cell_type": "code",
   "execution_count": 24,
   "metadata": {},
   "outputs": [
    {
     "name": "stdout",
     "output_type": "stream",
     "text": [
      "Best parameters set found on development set: {'n_neighbors': 45, 'p': 2, 'weights': 'distance'}\n",
      "Best score: -0.31540912162767376\n",
      "Grid scores on development set:\n",
      "\n",
      "-0.351 (+/-0.052) for {'n_neighbors': 5, 'p': 1, 'weights': 'distance'}\n",
      "-0.352 (+/-0.053) for {'n_neighbors': 5, 'p': 2, 'weights': 'distance'}\n",
      "-0.332 (+/-0.055) for {'n_neighbors': 9, 'p': 1, 'weights': 'distance'}\n",
      "-0.331 (+/-0.057) for {'n_neighbors': 9, 'p': 2, 'weights': 'distance'}\n",
      "-0.323 (+/-0.051) for {'n_neighbors': 15, 'p': 1, 'weights': 'distance'}\n",
      "-0.322 (+/-0.049) for {'n_neighbors': 15, 'p': 2, 'weights': 'distance'}\n",
      "-0.320 (+/-0.048) for {'n_neighbors': 19, 'p': 1, 'weights': 'distance'}\n",
      "-0.319 (+/-0.047) for {'n_neighbors': 19, 'p': 2, 'weights': 'distance'}\n",
      "-0.319 (+/-0.047) for {'n_neighbors': 25, 'p': 1, 'weights': 'distance'}\n",
      "-0.317 (+/-0.047) for {'n_neighbors': 25, 'p': 2, 'weights': 'distance'}\n",
      "-0.319 (+/-0.048) for {'n_neighbors': 35, 'p': 1, 'weights': 'distance'}\n",
      "-0.316 (+/-0.048) for {'n_neighbors': 35, 'p': 2, 'weights': 'distance'}\n",
      "-0.319 (+/-0.046) for {'n_neighbors': 45, 'p': 1, 'weights': 'distance'}\n",
      "-0.315 (+/-0.048) for {'n_neighbors': 45, 'p': 2, 'weights': 'distance'}\n",
      "-0.319 (+/-0.045) for {'n_neighbors': 55, 'p': 1, 'weights': 'distance'}\n",
      "-0.316 (+/-0.049) for {'n_neighbors': 55, 'p': 2, 'weights': 'distance'}\n",
      "-0.319 (+/-0.047) for {'n_neighbors': 71, 'p': 1, 'weights': 'distance'}\n",
      "-0.317 (+/-0.048) for {'n_neighbors': 71, 'p': 2, 'weights': 'distance'}\n",
      "-0.321 (+/-0.048) for {'n_neighbors': 101, 'p': 1, 'weights': 'distance'}\n",
      "-0.318 (+/-0.048) for {'n_neighbors': 101, 'p': 2, 'weights': 'distance'}\n",
      "-0.324 (+/-0.049) for {'n_neighbors': 151, 'p': 1, 'weights': 'distance'}\n",
      "-0.320 (+/-0.052) for {'n_neighbors': 151, 'p': 2, 'weights': 'distance'}\n",
      "CPU times: user 317 ms, sys: 120 ms, total: 437 ms\n",
      "Wall time: 31.5 s\n"
     ]
    }
   ],
   "source": [
    "%%time\n",
    "a,b,c,d,e = prepare_input(train_labels, train_Hfeatures, target = 'logLD50_mmolkg', encoder = None)\n",
    "\n",
    "H_ld50_knn = model_selection(knn_reg, knn_grid_parameters, a, c, scoring = 'neg_mean_squared_error', cv=5, GridSearch = True)"
   ]
  },
  {
   "cell_type": "markdown",
   "metadata": {},
   "source": [
    "### Endpoint 3: EPA Category"
   ]
  },
  {
   "cell_type": "code",
   "execution_count": 25,
   "metadata": {},
   "outputs": [],
   "source": [
    "encoder_epa = joblib.load('../data/label_encoders/encoder_epa.joblib')"
   ]
  },
  {
   "cell_type": "code",
   "execution_count": 29,
   "metadata": {},
   "outputs": [
    {
     "name": "stdout",
     "output_type": "stream",
     "text": [
      "Best parameters set found on development set: {'n_estimators': 500, 'min_samples_split': 10, 'min_samples_leaf': 6, 'max_features': 'sqrt', 'max_depth': None, 'bootstrap': False}\n",
      "Best score: 0.6416518706215465\n",
      "Grid scores on development set:\n",
      "\n",
      "0.630 (+/-0.073) for {'n_estimators': 1500, 'min_samples_split': 10, 'min_samples_leaf': 6, 'max_features': 'sqrt', 'max_depth': 5, 'bootstrap': False}\n",
      "0.632 (+/-0.071) for {'n_estimators': 1500, 'min_samples_split': 2, 'min_samples_leaf': 6, 'max_features': 'sqrt', 'max_depth': 5, 'bootstrap': True}\n",
      "0.638 (+/-0.056) for {'n_estimators': 500, 'min_samples_split': 10, 'min_samples_leaf': 2, 'max_features': 'sqrt', 'max_depth': 35, 'bootstrap': False}\n",
      "0.630 (+/-0.069) for {'n_estimators': 1500, 'min_samples_split': 10, 'min_samples_leaf': 2, 'max_features': 'log2', 'max_depth': 5, 'bootstrap': False}\n",
      "0.639 (+/-0.062) for {'n_estimators': 1500, 'min_samples_split': 2, 'min_samples_leaf': 4, 'max_features': 'sqrt', 'max_depth': 80, 'bootstrap': True}\n",
      "0.637 (+/-0.059) for {'n_estimators': 500, 'min_samples_split': 10, 'min_samples_leaf': 4, 'max_features': 'log2', 'max_depth': 50, 'bootstrap': True}\n",
      "0.637 (+/-0.054) for {'n_estimators': 500, 'min_samples_split': 5, 'min_samples_leaf': 2, 'max_features': 'log2', 'max_depth': 50, 'bootstrap': True}\n",
      "0.627 (+/-0.074) for {'n_estimators': 500, 'min_samples_split': 10, 'min_samples_leaf': 2, 'max_features': 'log2', 'max_depth': 5, 'bootstrap': False}\n",
      "0.641 (+/-0.055) for {'n_estimators': 500, 'min_samples_split': 5, 'min_samples_leaf': 6, 'max_features': 'sqrt', 'max_depth': 20, 'bootstrap': False}\n",
      "0.639 (+/-0.059) for {'n_estimators': 1500, 'min_samples_split': 2, 'min_samples_leaf': 6, 'max_features': 'sqrt', 'max_depth': 65, 'bootstrap': False}\n",
      "0.632 (+/-0.071) for {'n_estimators': 1500, 'min_samples_split': 2, 'min_samples_leaf': 4, 'max_features': 'sqrt', 'max_depth': 5, 'bootstrap': True}\n",
      "0.630 (+/-0.073) for {'n_estimators': 1500, 'min_samples_split': 10, 'min_samples_leaf': 4, 'max_features': 'log2', 'max_depth': 5, 'bootstrap': True}\n",
      "0.640 (+/-0.059) for {'n_estimators': 1500, 'min_samples_split': 2, 'min_samples_leaf': 6, 'max_features': 'log2', 'max_depth': 20, 'bootstrap': False}\n",
      "0.639 (+/-0.064) for {'n_estimators': 1500, 'min_samples_split': 5, 'min_samples_leaf': 6, 'max_features': 'sqrt', 'max_depth': None, 'bootstrap': True}\n",
      "0.639 (+/-0.062) for {'n_estimators': 1500, 'min_samples_split': 5, 'min_samples_leaf': 4, 'max_features': 'sqrt', 'max_depth': 35, 'bootstrap': True}\n",
      "0.638 (+/-0.059) for {'n_estimators': 500, 'min_samples_split': 10, 'min_samples_leaf': 2, 'max_features': 'log2', 'max_depth': 20, 'bootstrap': False}\n",
      "0.639 (+/-0.058) for {'n_estimators': 1500, 'min_samples_split': 10, 'min_samples_leaf': 4, 'max_features': 'log2', 'max_depth': 80, 'bootstrap': False}\n",
      "0.640 (+/-0.054) for {'n_estimators': 1500, 'min_samples_split': 10, 'min_samples_leaf': 2, 'max_features': 'sqrt', 'max_depth': 80, 'bootstrap': False}\n",
      "0.637 (+/-0.058) for {'n_estimators': 500, 'min_samples_split': 5, 'min_samples_leaf': 6, 'max_features': 'log2', 'max_depth': 35, 'bootstrap': True}\n",
      "0.639 (+/-0.062) for {'n_estimators': 500, 'min_samples_split': 5, 'min_samples_leaf': 6, 'max_features': 'sqrt', 'max_depth': 65, 'bootstrap': True}\n",
      "0.639 (+/-0.053) for {'n_estimators': 500, 'min_samples_split': 10, 'min_samples_leaf': 4, 'max_features': 'sqrt', 'max_depth': 50, 'bootstrap': False}\n",
      "0.641 (+/-0.052) for {'n_estimators': 500, 'min_samples_split': 10, 'min_samples_leaf': 2, 'max_features': 'sqrt', 'max_depth': 20, 'bootstrap': False}\n",
      "0.630 (+/-0.073) for {'n_estimators': 1500, 'min_samples_split': 5, 'min_samples_leaf': 2, 'max_features': 'sqrt', 'max_depth': 5, 'bootstrap': False}\n",
      "0.636 (+/-0.056) for {'n_estimators': 500, 'min_samples_split': 2, 'min_samples_leaf': 2, 'max_features': 'log2', 'max_depth': 80, 'bootstrap': True}\n",
      "0.640 (+/-0.054) for {'n_estimators': 500, 'min_samples_split': 2, 'min_samples_leaf': 4, 'max_features': 'log2', 'max_depth': 35, 'bootstrap': False}\n",
      "0.642 (+/-0.058) for {'n_estimators': 500, 'min_samples_split': 10, 'min_samples_leaf': 6, 'max_features': 'sqrt', 'max_depth': None, 'bootstrap': False}\n",
      "0.640 (+/-0.060) for {'n_estimators': 500, 'min_samples_split': 5, 'min_samples_leaf': 6, 'max_features': 'log2', 'max_depth': 80, 'bootstrap': False}\n",
      "0.639 (+/-0.046) for {'n_estimators': 500, 'min_samples_split': 5, 'min_samples_leaf': 2, 'max_features': 'sqrt', 'max_depth': 20, 'bootstrap': False}\n",
      "0.637 (+/-0.058) for {'n_estimators': 500, 'min_samples_split': 2, 'min_samples_leaf': 6, 'max_features': 'log2', 'max_depth': 35, 'bootstrap': True}\n",
      "0.640 (+/-0.059) for {'n_estimators': 1500, 'min_samples_split': 5, 'min_samples_leaf': 6, 'max_features': 'log2', 'max_depth': 20, 'bootstrap': False}\n",
      "CPU times: user 5min 20s, sys: 24.8 s, total: 5min 45s\n",
      "Wall time: 22min 1s\n"
     ]
    }
   ],
   "source": [
    "%%time\n",
    "a,b,c,d,e = prepare_input(train_labels, train_Hfeatures, target = 'EPA_category', encoder = encoder_epa)\n",
    "\n",
    "H_epa_rf = model_selection(rf_clf, rf_grid_parameters, a, c, scoring = 'f1_weighted', cv=5, GridSearch = False, n_iter=30,n_jobs=1)"
   ]
  },
  {
   "cell_type": "code",
   "execution_count": 26,
   "metadata": {},
   "outputs": [
    {
     "name": "stdout",
     "output_type": "stream",
     "text": [
      "Best parameters set found on development set: {'subsample': 0.6, 'n_estimators': 1500, 'min_child_weight': 3, 'max_depth': 10, 'learning_rate': 0.01, 'gamma': 5, 'colsample_bytree': 0.7}\n",
      "Best score: 0.6402031489213905\n",
      "Grid scores on development set:\n",
      "\n",
      "0.640 (+/-0.061) for {'subsample': 0.6, 'n_estimators': 1500, 'min_child_weight': 3, 'max_depth': 10, 'learning_rate': 0.01, 'gamma': 5, 'colsample_bytree': 0.7}\n",
      "0.637 (+/-0.070) for {'subsample': 0.6, 'n_estimators': 1500, 'min_child_weight': 3, 'max_depth': 6, 'learning_rate': 0.01, 'gamma': 5, 'colsample_bytree': 0.5}\n",
      "0.636 (+/-0.060) for {'subsample': 0.8, 'n_estimators': 500, 'min_child_weight': 3, 'max_depth': 10, 'learning_rate': 0.01, 'gamma': 5, 'colsample_bytree': 0.7}\n",
      "0.635 (+/-0.065) for {'subsample': 0.9, 'n_estimators': 500, 'min_child_weight': 1, 'max_depth': 3, 'learning_rate': 0.01, 'gamma': 1, 'colsample_bytree': 0.6}\n",
      "0.633 (+/-0.066) for {'subsample': 0.6, 'n_estimators': 1500, 'min_child_weight': 5, 'max_depth': 3, 'learning_rate': 0.1, 'gamma': 5, 'colsample_bytree': 1.0}\n",
      "0.629 (+/-0.062) for {'subsample': 0.6, 'n_estimators': 500, 'min_child_weight': 1, 'max_depth': 10, 'learning_rate': 0.1, 'gamma': 1, 'colsample_bytree': 1.0}\n",
      "0.627 (+/-0.059) for {'subsample': 0.8, 'n_estimators': 1500, 'min_child_weight': 5, 'max_depth': 10, 'learning_rate': 0.1, 'gamma': 0, 'colsample_bytree': 0.8}\n",
      "0.637 (+/-0.058) for {'subsample': 0.8, 'n_estimators': 500, 'min_child_weight': 5, 'max_depth': 6, 'learning_rate': 0.1, 'gamma': 5, 'colsample_bytree': 0.8}\n",
      "0.636 (+/-0.065) for {'subsample': 0.6, 'n_estimators': 500, 'min_child_weight': 5, 'max_depth': 3, 'learning_rate': 0.01, 'gamma': 0, 'colsample_bytree': 0.8}\n",
      "0.638 (+/-0.065) for {'subsample': 0.7, 'n_estimators': 500, 'min_child_weight': 5, 'max_depth': 6, 'learning_rate': 0.01, 'gamma': 1, 'colsample_bytree': 0.6}\n",
      "0.637 (+/-0.068) for {'subsample': 0.7, 'n_estimators': 500, 'min_child_weight': 1, 'max_depth': 6, 'learning_rate': 0.01, 'gamma': 5, 'colsample_bytree': 0.9}\n",
      "0.633 (+/-0.053) for {'subsample': 0.6, 'n_estimators': 500, 'min_child_weight': 1, 'max_depth': 10, 'learning_rate': 0.1, 'gamma': 1, 'colsample_bytree': 0.9}\n",
      "0.639 (+/-0.060) for {'subsample': 0.8, 'n_estimators': 1500, 'min_child_weight': 1, 'max_depth': 10, 'learning_rate': 0.01, 'gamma': 0, 'colsample_bytree': 0.8}\n",
      "0.624 (+/-0.058) for {'subsample': 0.9, 'n_estimators': 1500, 'min_child_weight': 1, 'max_depth': 3, 'learning_rate': 0.1, 'gamma': 1, 'colsample_bytree': 0.7}\n",
      "0.639 (+/-0.061) for {'subsample': 0.6, 'n_estimators': 1500, 'min_child_weight': 3, 'max_depth': 3, 'learning_rate': 0.01, 'gamma': 5, 'colsample_bytree': 0.7}\n",
      "0.635 (+/-0.059) for {'subsample': 0.8, 'n_estimators': 1500, 'min_child_weight': 1, 'max_depth': 10, 'learning_rate': 0.01, 'gamma': 1, 'colsample_bytree': 0.6}\n",
      "0.638 (+/-0.057) for {'subsample': 0.6, 'n_estimators': 500, 'min_child_weight': 1, 'max_depth': 10, 'learning_rate': 0.01, 'gamma': 1, 'colsample_bytree': 0.9}\n",
      "0.635 (+/-0.064) for {'subsample': 0.9, 'n_estimators': 500, 'min_child_weight': 3, 'max_depth': 3, 'learning_rate': 0.01, 'gamma': 1, 'colsample_bytree': 0.5}\n",
      "0.639 (+/-0.063) for {'subsample': 1.0, 'n_estimators': 1500, 'min_child_weight': 5, 'max_depth': 6, 'learning_rate': 0.1, 'gamma': 5, 'colsample_bytree': 0.6}\n",
      "0.635 (+/-0.054) for {'subsample': 0.8, 'n_estimators': 500, 'min_child_weight': 5, 'max_depth': 10, 'learning_rate': 0.1, 'gamma': 5, 'colsample_bytree': 0.9}\n",
      "0.636 (+/-0.057) for {'subsample': 0.6, 'n_estimators': 1500, 'min_child_weight': 3, 'max_depth': 10, 'learning_rate': 0.01, 'gamma': 1, 'colsample_bytree': 0.8}\n",
      "0.632 (+/-0.061) for {'subsample': 0.7, 'n_estimators': 500, 'min_child_weight': 5, 'max_depth': 3, 'learning_rate': 0.1, 'gamma': 0, 'colsample_bytree': 0.5}\n",
      "0.634 (+/-0.069) for {'subsample': 0.7, 'n_estimators': 1500, 'min_child_weight': 1, 'max_depth': 6, 'learning_rate': 0.01, 'gamma': 0, 'colsample_bytree': 0.5}\n",
      "0.636 (+/-0.064) for {'subsample': 0.8, 'n_estimators': 500, 'min_child_weight': 1, 'max_depth': 3, 'learning_rate': 0.01, 'gamma': 5, 'colsample_bytree': 0.7}\n",
      "0.635 (+/-0.059) for {'subsample': 0.9, 'n_estimators': 1500, 'min_child_weight': 5, 'max_depth': 10, 'learning_rate': 0.01, 'gamma': 0, 'colsample_bytree': 0.8}\n",
      "0.640 (+/-0.063) for {'subsample': 0.9, 'n_estimators': 500, 'min_child_weight': 1, 'max_depth': 6, 'learning_rate': 0.01, 'gamma': 0, 'colsample_bytree': 0.9}\n",
      "0.632 (+/-0.060) for {'subsample': 0.6, 'n_estimators': 500, 'min_child_weight': 5, 'max_depth': 6, 'learning_rate': 0.1, 'gamma': 5, 'colsample_bytree': 0.8}\n",
      "0.632 (+/-0.064) for {'subsample': 0.9, 'n_estimators': 500, 'min_child_weight': 5, 'max_depth': 3, 'learning_rate': 0.1, 'gamma': 1, 'colsample_bytree': 0.6}\n",
      "0.637 (+/-0.067) for {'subsample': 0.8, 'n_estimators': 1500, 'min_child_weight': 3, 'max_depth': 6, 'learning_rate': 0.1, 'gamma': 5, 'colsample_bytree': 0.9}\n",
      "0.635 (+/-0.057) for {'subsample': 0.7, 'n_estimators': 1500, 'min_child_weight': 5, 'max_depth': 6, 'learning_rate': 0.1, 'gamma': 1, 'colsample_bytree': 0.8}\n",
      "CPU times: user 10h 36min, sys: 26.6 s, total: 10h 36min 27s\n",
      "Wall time: 1h 46min 18s\n"
     ]
    }
   ],
   "source": [
    "%%time\n",
    "a,b,c,d,e = prepare_input(train_labels, train_Hfeatures, target = 'EPA_category', encoder = encoder_epa)\n",
    "\n",
    "H_epa_xgb = model_selection(xgb_clf, xgb_grid_parameters, a, c, scoring = 'f1_weighted', cv=5, GridSearch = False, n_iter=30,n_jobs=1)"
   ]
  },
  {
   "cell_type": "code",
   "execution_count": 27,
   "metadata": {},
   "outputs": [
    {
     "name": "stdout",
     "output_type": "stream",
     "text": [
      "Best parameters set found on development set: {'C': 0.1, 'kernel': 'linear'}\n",
      "Best score: 0.6366080337823246\n",
      "Grid scores on development set:\n",
      "\n",
      "0.632 (+/-0.072) for {'C': 0.01, 'kernel': 'linear'}\n",
      "0.637 (+/-0.067) for {'C': 0.1, 'kernel': 'linear'}\n",
      "0.630 (+/-0.068) for {'C': 1, 'kernel': 'linear'}\n",
      "0.630 (+/-0.071) for {'C': 10, 'kernel': 'linear'}\n",
      "0.631 (+/-0.071) for {'C': 100, 'kernel': 'linear'}\n",
      "0.631 (+/-0.071) for {'C': 200, 'kernel': 'linear'}\n",
      "0.630 (+/-0.072) for {'C': 400, 'kernel': 'linear'}\n",
      "0.629 (+/-0.070) for {'C': 1000, 'kernel': 'linear'}\n",
      "0.334 (+/-0.001) for {'C': 0.01, 'gamma': 100, 'kernel': 'rbf'}\n",
      "0.334 (+/-0.001) for {'C': 0.01, 'gamma': 10, 'kernel': 'rbf'}\n",
      "0.334 (+/-0.001) for {'C': 0.01, 'gamma': 1, 'kernel': 'rbf'}\n",
      "0.531 (+/-0.061) for {'C': 0.01, 'gamma': 0.1, 'kernel': 'rbf'}\n",
      "0.425 (+/-0.018) for {'C': 0.01, 'gamma': 0.01, 'kernel': 'rbf'}\n",
      "0.334 (+/-0.001) for {'C': 0.01, 'gamma': 0.001, 'kernel': 'rbf'}\n",
      "0.334 (+/-0.001) for {'C': 0.1, 'gamma': 100, 'kernel': 'rbf'}\n",
      "0.334 (+/-0.001) for {'C': 0.1, 'gamma': 10, 'kernel': 'rbf'}\n",
      "0.403 (+/-0.047) for {'C': 0.1, 'gamma': 1, 'kernel': 'rbf'}\n",
      "0.616 (+/-0.074) for {'C': 0.1, 'gamma': 0.1, 'kernel': 'rbf'}\n",
      "0.605 (+/-0.090) for {'C': 0.1, 'gamma': 0.01, 'kernel': 'rbf'}\n",
      "0.448 (+/-0.031) for {'C': 0.1, 'gamma': 0.001, 'kernel': 'rbf'}\n",
      "0.334 (+/-0.001) for {'C': 1, 'gamma': 100, 'kernel': 'rbf'}\n",
      "0.336 (+/-0.004) for {'C': 1, 'gamma': 10, 'kernel': 'rbf'}\n",
      "0.588 (+/-0.069) for {'C': 1, 'gamma': 1, 'kernel': 'rbf'}\n",
      "0.630 (+/-0.070) for {'C': 1, 'gamma': 0.1, 'kernel': 'rbf'}\n",
      "0.621 (+/-0.079) for {'C': 1, 'gamma': 0.01, 'kernel': 'rbf'}\n",
      "0.611 (+/-0.088) for {'C': 1, 'gamma': 0.001, 'kernel': 'rbf'}\n",
      "0.334 (+/-0.001) for {'C': 10, 'gamma': 100, 'kernel': 'rbf'}\n",
      "0.338 (+/-0.008) for {'C': 10, 'gamma': 10, 'kernel': 'rbf'}\n",
      "0.585 (+/-0.063) for {'C': 10, 'gamma': 1, 'kernel': 'rbf'}\n",
      "0.621 (+/-0.063) for {'C': 10, 'gamma': 0.1, 'kernel': 'rbf'}\n",
      "0.624 (+/-0.076) for {'C': 10, 'gamma': 0.01, 'kernel': 'rbf'}\n",
      "0.631 (+/-0.076) for {'C': 10, 'gamma': 0.001, 'kernel': 'rbf'}\n",
      "0.334 (+/-0.001) for {'C': 100, 'gamma': 100, 'kernel': 'rbf'}\n",
      "0.338 (+/-0.008) for {'C': 100, 'gamma': 10, 'kernel': 'rbf'}\n",
      "0.585 (+/-0.063) for {'C': 100, 'gamma': 1, 'kernel': 'rbf'}\n",
      "0.577 (+/-0.038) for {'C': 100, 'gamma': 0.1, 'kernel': 'rbf'}\n",
      "0.625 (+/-0.072) for {'C': 100, 'gamma': 0.01, 'kernel': 'rbf'}\n",
      "0.631 (+/-0.074) for {'C': 100, 'gamma': 0.001, 'kernel': 'rbf'}\n",
      "0.334 (+/-0.001) for {'C': 200, 'gamma': 100, 'kernel': 'rbf'}\n",
      "0.338 (+/-0.008) for {'C': 200, 'gamma': 10, 'kernel': 'rbf'}\n",
      "0.585 (+/-0.063) for {'C': 200, 'gamma': 1, 'kernel': 'rbf'}\n",
      "0.561 (+/-0.034) for {'C': 200, 'gamma': 0.1, 'kernel': 'rbf'}\n",
      "0.625 (+/-0.069) for {'C': 200, 'gamma': 0.01, 'kernel': 'rbf'}\n",
      "0.627 (+/-0.073) for {'C': 200, 'gamma': 0.001, 'kernel': 'rbf'}\n",
      "0.334 (+/-0.001) for {'C': 400, 'gamma': 100, 'kernel': 'rbf'}\n",
      "0.338 (+/-0.008) for {'C': 400, 'gamma': 10, 'kernel': 'rbf'}\n",
      "0.585 (+/-0.063) for {'C': 400, 'gamma': 1, 'kernel': 'rbf'}\n",
      "0.555 (+/-0.029) for {'C': 400, 'gamma': 0.1, 'kernel': 'rbf'}\n",
      "0.624 (+/-0.063) for {'C': 400, 'gamma': 0.01, 'kernel': 'rbf'}\n",
      "0.628 (+/-0.075) for {'C': 400, 'gamma': 0.001, 'kernel': 'rbf'}\n",
      "0.334 (+/-0.001) for {'C': 1000, 'gamma': 100, 'kernel': 'rbf'}\n",
      "0.338 (+/-0.008) for {'C': 1000, 'gamma': 10, 'kernel': 'rbf'}\n",
      "0.585 (+/-0.063) for {'C': 1000, 'gamma': 1, 'kernel': 'rbf'}\n",
      "0.554 (+/-0.029) for {'C': 1000, 'gamma': 0.1, 'kernel': 'rbf'}\n",
      "0.615 (+/-0.061) for {'C': 1000, 'gamma': 0.01, 'kernel': 'rbf'}\n",
      "0.627 (+/-0.074) for {'C': 1000, 'gamma': 0.001, 'kernel': 'rbf'}\n",
      "CPU times: user 5.8 s, sys: 632 ms, total: 6.43 s\n",
      "Wall time: 26min 18s\n"
     ]
    }
   ],
   "source": [
    "%%time\n",
    "a,b,c,d,e = prepare_input(train_labels, train_Hfeatures, target = 'EPA_category', encoder = encoder_epa)\n",
    "\n",
    "H_epa_svc = model_selection(svc, svm_grid_parameters, a, c, scoring = 'f1_weighted', cv=5, GridSearch = True)"
   ]
  },
  {
   "cell_type": "code",
   "execution_count": 28,
   "metadata": {},
   "outputs": [
    {
     "name": "stdout",
     "output_type": "stream",
     "text": [
      "Best parameters set found on development set: {'n_neighbors': 35, 'p': 1, 'weights': 'distance'}\n",
      "Best score: 0.6316034266269072\n",
      "Grid scores on development set:\n",
      "\n",
      "0.593 (+/-0.056) for {'n_neighbors': 5, 'p': 1, 'weights': 'distance'}\n",
      "0.591 (+/-0.041) for {'n_neighbors': 5, 'p': 2, 'weights': 'distance'}\n",
      "0.610 (+/-0.049) for {'n_neighbors': 9, 'p': 1, 'weights': 'distance'}\n",
      "0.615 (+/-0.046) for {'n_neighbors': 9, 'p': 2, 'weights': 'distance'}\n",
      "0.623 (+/-0.054) for {'n_neighbors': 15, 'p': 1, 'weights': 'distance'}\n",
      "0.623 (+/-0.059) for {'n_neighbors': 15, 'p': 2, 'weights': 'distance'}\n",
      "0.625 (+/-0.057) for {'n_neighbors': 19, 'p': 1, 'weights': 'distance'}\n",
      "0.623 (+/-0.055) for {'n_neighbors': 19, 'p': 2, 'weights': 'distance'}\n",
      "0.627 (+/-0.066) for {'n_neighbors': 25, 'p': 1, 'weights': 'distance'}\n",
      "0.625 (+/-0.059) for {'n_neighbors': 25, 'p': 2, 'weights': 'distance'}\n",
      "0.632 (+/-0.058) for {'n_neighbors': 35, 'p': 1, 'weights': 'distance'}\n",
      "0.626 (+/-0.063) for {'n_neighbors': 35, 'p': 2, 'weights': 'distance'}\n",
      "0.631 (+/-0.069) for {'n_neighbors': 45, 'p': 1, 'weights': 'distance'}\n",
      "0.627 (+/-0.069) for {'n_neighbors': 45, 'p': 2, 'weights': 'distance'}\n",
      "0.631 (+/-0.062) for {'n_neighbors': 55, 'p': 1, 'weights': 'distance'}\n",
      "0.629 (+/-0.070) for {'n_neighbors': 55, 'p': 2, 'weights': 'distance'}\n",
      "0.631 (+/-0.057) for {'n_neighbors': 71, 'p': 1, 'weights': 'distance'}\n",
      "0.629 (+/-0.072) for {'n_neighbors': 71, 'p': 2, 'weights': 'distance'}\n",
      "0.630 (+/-0.062) for {'n_neighbors': 101, 'p': 1, 'weights': 'distance'}\n",
      "0.627 (+/-0.066) for {'n_neighbors': 101, 'p': 2, 'weights': 'distance'}\n",
      "0.629 (+/-0.063) for {'n_neighbors': 151, 'p': 1, 'weights': 'distance'}\n",
      "0.624 (+/-0.073) for {'n_neighbors': 151, 'p': 2, 'weights': 'distance'}\n",
      "CPU times: user 322 ms, sys: 60 ms, total: 382 ms\n",
      "Wall time: 57.9 s\n"
     ]
    }
   ],
   "source": [
    "%%time\n",
    "a,b,c,d,e = prepare_input(train_labels, train_Hfeatures, target = 'EPA_category', encoder = encoder_epa)\n",
    "\n",
    "H_epa_knn = model_selection(knn_clf, knn_grid_parameters, a, c, scoring = 'f1_weighted', cv=5, GridSearch = True)"
   ]
  }
 ],
 "metadata": {
  "kernelspec": {
   "display_name": "Python 3",
   "language": "python",
   "name": "python3"
  },
  "language_info": {
   "codemirror_mode": {
    "name": "ipython",
    "version": 3
   },
   "file_extension": ".py",
   "mimetype": "text/x-python",
   "name": "python",
   "nbconvert_exporter": "python",
   "pygments_lexer": "ipython3",
   "version": "3.6.7"
  }
 },
 "nbformat": 4,
 "nbformat_minor": 2
}
