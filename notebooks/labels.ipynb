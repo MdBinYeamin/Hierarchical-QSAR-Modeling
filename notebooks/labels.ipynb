{
 "cells": [
  {
   "cell_type": "code",
   "execution_count": 1,
   "metadata": {},
   "outputs": [],
   "source": [
    "import pandas as pd\n",
    "import numpy as np\n",
    "import math\n",
    "import joblib\n",
    "\n",
    "from rdkit import Chem\n",
    "from rdkit.Chem import PandasTools\n",
    "from rdkit.Chem import Descriptors\n",
    "from sklearn.preprocessing import LabelEncoder"
   ]
  },
  {
   "cell_type": "code",
   "execution_count": 2,
   "metadata": {},
   "outputs": [],
   "source": [
    "train = pd.read_csv('../data/train_test_sets/train.csv', index_col = 'CASRN')\n",
    "test = pd.read_csv('../data/train_test_sets/test.csv', index_col = 'CASRN')"
   ]
  },
  {
   "cell_type": "code",
   "execution_count": 3,
   "metadata": {},
   "outputs": [
    {
     "data": {
      "text/html": [
       "<div>\n",
       "<style scoped>\n",
       "    .dataframe tbody tr th:only-of-type {\n",
       "        vertical-align: middle;\n",
       "    }\n",
       "\n",
       "    .dataframe tbody tr th {\n",
       "        vertical-align: top;\n",
       "    }\n",
       "\n",
       "    .dataframe thead th {\n",
       "        text-align: right;\n",
       "    }\n",
       "</style>\n",
       "<table border=\"1\" class=\"dataframe\">\n",
       "  <thead>\n",
       "    <tr style=\"text-align: right;\">\n",
       "      <th></th>\n",
       "      <th>EPA_category</th>\n",
       "      <th>GHS_category</th>\n",
       "      <th>LD50_mgkg</th>\n",
       "      <th>nontoxic</th>\n",
       "      <th>very_toxic</th>\n",
       "      <th>SMILES</th>\n",
       "    </tr>\n",
       "    <tr>\n",
       "      <th>CASRN</th>\n",
       "      <th></th>\n",
       "      <th></th>\n",
       "      <th></th>\n",
       "      <th></th>\n",
       "      <th></th>\n",
       "      <th></th>\n",
       "    </tr>\n",
       "  </thead>\n",
       "  <tbody>\n",
       "    <tr>\n",
       "      <th>23233-88-7</th>\n",
       "      <td>3.0</td>\n",
       "      <td>5.0</td>\n",
       "      <td>3000.0</td>\n",
       "      <td>True</td>\n",
       "      <td>False</td>\n",
       "      <td>CC(=O)Oc1c(Br)cc(Cl)cc1C(=S)Nc1ccc(Br)cc1</td>\n",
       "    </tr>\n",
       "  </tbody>\n",
       "</table>\n",
       "</div>"
      ],
      "text/plain": [
       "            EPA_category  GHS_category  LD50_mgkg nontoxic very_toxic  \\\n",
       "CASRN                                                                   \n",
       "23233-88-7           3.0           5.0     3000.0     True      False   \n",
       "\n",
       "                                               SMILES  \n",
       "CASRN                                                  \n",
       "23233-88-7  CC(=O)Oc1c(Br)cc(Cl)cc1C(=S)Nc1ccc(Br)cc1  "
      ]
     },
     "execution_count": 3,
     "metadata": {},
     "output_type": "execute_result"
    }
   ],
   "source": [
    "train.head(1)"
   ]
  },
  {
   "cell_type": "markdown",
   "metadata": {},
   "source": [
    "In this study, we have five endpoints: \n",
    " - (1) EPA category (class 1-4), \n",
    " - (2) GHS category (class 1-5), \n",
    " - (3) LD50 (mg/kg/day); \n",
    " - (4) nontoxic (LD50 >2,000 mg/kg)\n",
    " - (5) very toxic (LD50 < 50 mg/kg)\n",
    " "
   ]
  },
  {
   "cell_type": "markdown",
   "metadata": {},
   "source": [
    "We will make some adjustment on the labels for modeling \n",
    " - (1) change LD50_mgkg to LD50 mmolkg\n",
    " - (2) change 'nontoxic' to 'toxic' (switch the True and False)\n",
    " - (3) label encoding the classifiation labels"
   ]
  },
  {
   "cell_type": "code",
   "execution_count": 4,
   "metadata": {},
   "outputs": [],
   "source": [
    "PandasTools.AddMoleculeColumnToFrame(train,smilesCol='SMILES')\n",
    "PandasTools.AddMoleculeColumnToFrame(test,smilesCol='SMILES')"
   ]
  },
  {
   "cell_type": "code",
   "execution_count": 5,
   "metadata": {},
   "outputs": [],
   "source": [
    "train['MW'] = train.apply(lambda x: Descriptors.MolWt(x['ROMol']), axis=1)\n",
    "test['MW'] = test.apply(lambda x: Descriptors.MolWt(x['ROMol']), axis=1)"
   ]
  },
  {
   "cell_type": "code",
   "execution_count": 6,
   "metadata": {},
   "outputs": [
    {
     "data": {
      "text/html": [
       "<div>\n",
       "<style scoped>\n",
       "    .dataframe tbody tr th:only-of-type {\n",
       "        vertical-align: middle;\n",
       "    }\n",
       "\n",
       "    .dataframe tbody tr th {\n",
       "        vertical-align: top;\n",
       "    }\n",
       "\n",
       "    .dataframe thead th {\n",
       "        text-align: right;\n",
       "    }\n",
       "</style>\n",
       "<table border=\"1\" class=\"dataframe\">\n",
       "  <thead>\n",
       "    <tr style=\"text-align: right;\">\n",
       "      <th></th>\n",
       "      <th>EPA_category</th>\n",
       "      <th>GHS_category</th>\n",
       "      <th>LD50_mgkg</th>\n",
       "      <th>nontoxic</th>\n",
       "      <th>very_toxic</th>\n",
       "      <th>SMILES</th>\n",
       "      <th>ROMol</th>\n",
       "      <th>MW</th>\n",
       "    </tr>\n",
       "    <tr>\n",
       "      <th>CASRN</th>\n",
       "      <th></th>\n",
       "      <th></th>\n",
       "      <th></th>\n",
       "      <th></th>\n",
       "      <th></th>\n",
       "      <th></th>\n",
       "      <th></th>\n",
       "      <th></th>\n",
       "    </tr>\n",
       "  </thead>\n",
       "  <tbody>\n",
       "    <tr>\n",
       "      <th>23233-88-7</th>\n",
       "      <td>3.0</td>\n",
       "      <td>5.0</td>\n",
       "      <td>3000.0</td>\n",
       "      <td>True</td>\n",
       "      <td>False</td>\n",
       "      <td>CC(=O)Oc1c(Br)cc(Cl)cc1C(=S)Nc1ccc(Br)cc1</td>\n",
       "      <td><img src=\"data:image/png;base64,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\" alt=\"Mol\"/></td>\n",
       "      <td>463.578</td>\n",
       "    </tr>\n",
       "  </tbody>\n",
       "</table>\n",
       "</div>"
      ],
      "text/plain": [
       "            EPA_category  GHS_category  LD50_mgkg nontoxic very_toxic  \\\n",
       "CASRN                                                                   \n",
       "23233-88-7           3.0           5.0     3000.0     True      False   \n",
       "\n",
       "                                               SMILES  \\\n",
       "CASRN                                                   \n",
       "23233-88-7  CC(=O)Oc1c(Br)cc(Cl)cc1C(=S)Nc1ccc(Br)cc1   \n",
       "\n",
       "                                                        ROMol       MW  \n",
       "CASRN                                                                   \n",
       "23233-88-7  <img src=\"data:image/png;base64,iVBORw0KGgoAAA...  463.578  "
      ]
     },
     "execution_count": 6,
     "metadata": {},
     "output_type": "execute_result"
    }
   ],
   "source": [
    "train.head(1)"
   ]
  },
  {
   "cell_type": "code",
   "execution_count": 7,
   "metadata": {},
   "outputs": [],
   "source": [
    "def logLD50(df):\n",
    "    logLD50_mmolkg = []\n",
    "    for i in range(df.shape[0]):\n",
    "        if pd.isna(df['LD50_mgkg'][i]):\n",
    "            logLD50_mmolkg.append(df['LD50_mgkg'][i])\n",
    "        else:\n",
    "            logLD50_mmolkg.append(math.log10(float(df['LD50_mgkg'][i])/float(df['MW'][i])))\n",
    "    return logLD50_mmolkg"
   ]
  },
  {
   "cell_type": "code",
   "execution_count": 8,
   "metadata": {},
   "outputs": [],
   "source": [
    "train['logLD50_mmolkg'] = logLD50(train)\n",
    "test['logLD50_mmolkg'] = logLD50(test)"
   ]
  },
  {
   "cell_type": "code",
   "execution_count": 9,
   "metadata": {},
   "outputs": [
    {
     "data": {
      "text/html": [
       "<div>\n",
       "<style scoped>\n",
       "    .dataframe tbody tr th:only-of-type {\n",
       "        vertical-align: middle;\n",
       "    }\n",
       "\n",
       "    .dataframe tbody tr th {\n",
       "        vertical-align: top;\n",
       "    }\n",
       "\n",
       "    .dataframe thead th {\n",
       "        text-align: right;\n",
       "    }\n",
       "</style>\n",
       "<table border=\"1\" class=\"dataframe\">\n",
       "  <thead>\n",
       "    <tr style=\"text-align: right;\">\n",
       "      <th></th>\n",
       "      <th>EPA_category</th>\n",
       "      <th>GHS_category</th>\n",
       "      <th>LD50_mgkg</th>\n",
       "      <th>nontoxic</th>\n",
       "      <th>very_toxic</th>\n",
       "      <th>SMILES</th>\n",
       "      <th>ROMol</th>\n",
       "      <th>MW</th>\n",
       "      <th>logLD50_mmolkg</th>\n",
       "    </tr>\n",
       "    <tr>\n",
       "      <th>CASRN</th>\n",
       "      <th></th>\n",
       "      <th></th>\n",
       "      <th></th>\n",
       "      <th></th>\n",
       "      <th></th>\n",
       "      <th></th>\n",
       "      <th></th>\n",
       "      <th></th>\n",
       "      <th></th>\n",
       "    </tr>\n",
       "  </thead>\n",
       "  <tbody>\n",
       "    <tr>\n",
       "      <th>23233-88-7</th>\n",
       "      <td>3.0</td>\n",
       "      <td>5.0</td>\n",
       "      <td>3000.0</td>\n",
       "      <td>True</td>\n",
       "      <td>False</td>\n",
       "      <td>CC(=O)Oc1c(Br)cc(Cl)cc1C(=S)Nc1ccc(Br)cc1</td>\n",
       "      <td><img src=\"data:image/png;base64,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\" alt=\"Mol\"/></td>\n",
       "      <td>463.578</td>\n",
       "      <td>0.810998</td>\n",
       "    </tr>\n",
       "  </tbody>\n",
       "</table>\n",
       "</div>"
      ],
      "text/plain": [
       "            EPA_category  GHS_category  LD50_mgkg nontoxic very_toxic  \\\n",
       "CASRN                                                                   \n",
       "23233-88-7           3.0           5.0     3000.0     True      False   \n",
       "\n",
       "                                               SMILES  \\\n",
       "CASRN                                                   \n",
       "23233-88-7  CC(=O)Oc1c(Br)cc(Cl)cc1C(=S)Nc1ccc(Br)cc1   \n",
       "\n",
       "                                                        ROMol       MW  \\\n",
       "CASRN                                                                    \n",
       "23233-88-7  <img src=\"data:image/png;base64,iVBORw0KGgoAAA...  463.578   \n",
       "\n",
       "            logLD50_mmolkg  \n",
       "CASRN                       \n",
       "23233-88-7        0.810998  "
      ]
     },
     "execution_count": 9,
     "metadata": {},
     "output_type": "execute_result"
    }
   ],
   "source": [
    "train.head(1)"
   ]
  },
  {
   "cell_type": "code",
   "execution_count": 10,
   "metadata": {},
   "outputs": [],
   "source": [
    "def binary_toxic(df):\n",
    "    toxic = []\n",
    "    for i in range(df.shape[0]):\n",
    "        if pd.isna(df['nontoxic'][i]):\n",
    "            toxic.append(df['nontoxic'][i])\n",
    "        else:\n",
    "            toxic.append(1 if df['nontoxic'][i] is False else 0)\n",
    "    return toxic\n",
    "\n",
    "def binary_verytoxic(df):\n",
    "    verytoxic = []\n",
    "    for i in range(df.shape[0]):\n",
    "        if pd.isna(df['very_toxic'][i]):\n",
    "            verytoxic.append(df['very_toxic'][i])\n",
    "        else:\n",
    "            verytoxic.append(0 if df['very_toxic'][i] is False else 1)\n",
    "    return verytoxic"
   ]
  },
  {
   "cell_type": "code",
   "execution_count": 11,
   "metadata": {},
   "outputs": [],
   "source": [
    "train['toxic'] = binary_toxic(train)\n",
    "test['toxic'] = binary_toxic(test)"
   ]
  },
  {
   "cell_type": "code",
   "execution_count": 12,
   "metadata": {},
   "outputs": [],
   "source": [
    "train['verytoxic'] = binary_verytoxic(train)\n",
    "test['verytoxic'] = binary_verytoxic(test)"
   ]
  },
  {
   "cell_type": "code",
   "execution_count": 13,
   "metadata": {},
   "outputs": [
    {
     "data": {
      "text/html": [
       "<div>\n",
       "<style scoped>\n",
       "    .dataframe tbody tr th:only-of-type {\n",
       "        vertical-align: middle;\n",
       "    }\n",
       "\n",
       "    .dataframe tbody tr th {\n",
       "        vertical-align: top;\n",
       "    }\n",
       "\n",
       "    .dataframe thead th {\n",
       "        text-align: right;\n",
       "    }\n",
       "</style>\n",
       "<table border=\"1\" class=\"dataframe\">\n",
       "  <thead>\n",
       "    <tr style=\"text-align: right;\">\n",
       "      <th></th>\n",
       "      <th>EPA_category</th>\n",
       "      <th>GHS_category</th>\n",
       "      <th>LD50_mgkg</th>\n",
       "      <th>nontoxic</th>\n",
       "      <th>very_toxic</th>\n",
       "      <th>SMILES</th>\n",
       "      <th>ROMol</th>\n",
       "      <th>MW</th>\n",
       "      <th>logLD50_mmolkg</th>\n",
       "      <th>toxic</th>\n",
       "      <th>verytoxic</th>\n",
       "    </tr>\n",
       "    <tr>\n",
       "      <th>CASRN</th>\n",
       "      <th></th>\n",
       "      <th></th>\n",
       "      <th></th>\n",
       "      <th></th>\n",
       "      <th></th>\n",
       "      <th></th>\n",
       "      <th></th>\n",
       "      <th></th>\n",
       "      <th></th>\n",
       "      <th></th>\n",
       "      <th></th>\n",
       "    </tr>\n",
       "  </thead>\n",
       "  <tbody>\n",
       "    <tr>\n",
       "      <th>23233-88-7</th>\n",
       "      <td>3.0</td>\n",
       "      <td>5.0</td>\n",
       "      <td>3000.0</td>\n",
       "      <td>True</td>\n",
       "      <td>False</td>\n",
       "      <td>CC(=O)Oc1c(Br)cc(Cl)cc1C(=S)Nc1ccc(Br)cc1</td>\n",
       "      <td><img src=\"data:image/png;base64,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\" alt=\"Mol\"/></td>\n",
       "      <td>463.578</td>\n",
       "      <td>0.810998</td>\n",
       "      <td>0.0</td>\n",
       "      <td>0.0</td>\n",
       "    </tr>\n",
       "  </tbody>\n",
       "</table>\n",
       "</div>"
      ],
      "text/plain": [
       "            EPA_category  GHS_category  LD50_mgkg nontoxic very_toxic  \\\n",
       "CASRN                                                                   \n",
       "23233-88-7           3.0           5.0     3000.0     True      False   \n",
       "\n",
       "                                               SMILES  \\\n",
       "CASRN                                                   \n",
       "23233-88-7  CC(=O)Oc1c(Br)cc(Cl)cc1C(=S)Nc1ccc(Br)cc1   \n",
       "\n",
       "                                                        ROMol       MW  \\\n",
       "CASRN                                                                    \n",
       "23233-88-7  <img src=\"data:image/png;base64,iVBORw0KGgoAAA...  463.578   \n",
       "\n",
       "            logLD50_mmolkg  toxic  verytoxic  \n",
       "CASRN                                         \n",
       "23233-88-7        0.810998    0.0        0.0  "
      ]
     },
     "execution_count": 13,
     "metadata": {},
     "output_type": "execute_result"
    }
   ],
   "source": [
    "train.head(1)"
   ]
  },
  {
   "cell_type": "markdown",
   "metadata": {},
   "source": [
    "Drop unnecessary cols"
   ]
  },
  {
   "cell_type": "code",
   "execution_count": 14,
   "metadata": {},
   "outputs": [],
   "source": [
    "train = train.drop(['nontoxic', 'very_toxic', 'ROMol', 'MW', 'LD50_mgkg'], axis=1)\n",
    "test = test.drop(['nontoxic', 'very_toxic', 'ROMol', 'MW', 'LD50_mgkg'], axis=1)"
   ]
  },
  {
   "cell_type": "code",
   "execution_count": 15,
   "metadata": {},
   "outputs": [
    {
     "data": {
      "text/html": [
       "<div>\n",
       "<style scoped>\n",
       "    .dataframe tbody tr th:only-of-type {\n",
       "        vertical-align: middle;\n",
       "    }\n",
       "\n",
       "    .dataframe tbody tr th {\n",
       "        vertical-align: top;\n",
       "    }\n",
       "\n",
       "    .dataframe thead th {\n",
       "        text-align: right;\n",
       "    }\n",
       "</style>\n",
       "<table border=\"1\" class=\"dataframe\">\n",
       "  <thead>\n",
       "    <tr style=\"text-align: right;\">\n",
       "      <th></th>\n",
       "      <th>EPA_category</th>\n",
       "      <th>GHS_category</th>\n",
       "      <th>SMILES</th>\n",
       "      <th>logLD50_mmolkg</th>\n",
       "      <th>toxic</th>\n",
       "      <th>verytoxic</th>\n",
       "    </tr>\n",
       "    <tr>\n",
       "      <th>CASRN</th>\n",
       "      <th></th>\n",
       "      <th></th>\n",
       "      <th></th>\n",
       "      <th></th>\n",
       "      <th></th>\n",
       "      <th></th>\n",
       "    </tr>\n",
       "  </thead>\n",
       "  <tbody>\n",
       "    <tr>\n",
       "      <th>23233-88-7</th>\n",
       "      <td>3.0</td>\n",
       "      <td>5.0</td>\n",
       "      <td>CC(=O)Oc1c(Br)cc(Cl)cc1C(=S)Nc1ccc(Br)cc1</td>\n",
       "      <td>0.810998</td>\n",
       "      <td>0.0</td>\n",
       "      <td>0.0</td>\n",
       "    </tr>\n",
       "  </tbody>\n",
       "</table>\n",
       "</div>"
      ],
      "text/plain": [
       "            EPA_category  GHS_category  \\\n",
       "CASRN                                    \n",
       "23233-88-7           3.0           5.0   \n",
       "\n",
       "                                               SMILES  logLD50_mmolkg  toxic  \\\n",
       "CASRN                                                                          \n",
       "23233-88-7  CC(=O)Oc1c(Br)cc(Cl)cc1C(=S)Nc1ccc(Br)cc1        0.810998    0.0   \n",
       "\n",
       "            verytoxic  \n",
       "CASRN                  \n",
       "23233-88-7        0.0  "
      ]
     },
     "execution_count": 15,
     "metadata": {},
     "output_type": "execute_result"
    }
   ],
   "source": [
    "train.head(1)"
   ]
  },
  {
   "cell_type": "markdown",
   "metadata": {},
   "source": [
    "Reorder the cols"
   ]
  },
  {
   "cell_type": "code",
   "execution_count": 16,
   "metadata": {},
   "outputs": [],
   "source": [
    "columnsTitles = ['SMILES', 'logLD50_mmolkg', 'verytoxic', 'toxic', 'EPA_category', 'GHS_category']\n",
    "\n",
    "train = train.reindex(columns=columnsTitles)\n",
    "test = test.reindex(columns=columnsTitles)"
   ]
  },
  {
   "cell_type": "code",
   "execution_count": 17,
   "metadata": {},
   "outputs": [
    {
     "data": {
      "text/html": [
       "<div>\n",
       "<style scoped>\n",
       "    .dataframe tbody tr th:only-of-type {\n",
       "        vertical-align: middle;\n",
       "    }\n",
       "\n",
       "    .dataframe tbody tr th {\n",
       "        vertical-align: top;\n",
       "    }\n",
       "\n",
       "    .dataframe thead th {\n",
       "        text-align: right;\n",
       "    }\n",
       "</style>\n",
       "<table border=\"1\" class=\"dataframe\">\n",
       "  <thead>\n",
       "    <tr style=\"text-align: right;\">\n",
       "      <th></th>\n",
       "      <th>SMILES</th>\n",
       "      <th>logLD50_mmolkg</th>\n",
       "      <th>verytoxic</th>\n",
       "      <th>toxic</th>\n",
       "      <th>EPA_category</th>\n",
       "      <th>GHS_category</th>\n",
       "    </tr>\n",
       "    <tr>\n",
       "      <th>CASRN</th>\n",
       "      <th></th>\n",
       "      <th></th>\n",
       "      <th></th>\n",
       "      <th></th>\n",
       "      <th></th>\n",
       "      <th></th>\n",
       "    </tr>\n",
       "  </thead>\n",
       "  <tbody>\n",
       "    <tr>\n",
       "      <th>23233-88-7</th>\n",
       "      <td>CC(=O)Oc1c(Br)cc(Cl)cc1C(=S)Nc1ccc(Br)cc1</td>\n",
       "      <td>0.810998</td>\n",
       "      <td>0.0</td>\n",
       "      <td>0.0</td>\n",
       "      <td>3.0</td>\n",
       "      <td>5.0</td>\n",
       "    </tr>\n",
       "  </tbody>\n",
       "</table>\n",
       "</div>"
      ],
      "text/plain": [
       "                                               SMILES  logLD50_mmolkg  \\\n",
       "CASRN                                                                   \n",
       "23233-88-7  CC(=O)Oc1c(Br)cc(Cl)cc1C(=S)Nc1ccc(Br)cc1        0.810998   \n",
       "\n",
       "            verytoxic  toxic  EPA_category  GHS_category  \n",
       "CASRN                                                     \n",
       "23233-88-7        0.0    0.0           3.0           5.0  "
      ]
     },
     "execution_count": 17,
     "metadata": {},
     "output_type": "execute_result"
    }
   ],
   "source": [
    "train.head(1)"
   ]
  },
  {
   "cell_type": "code",
   "execution_count": 18,
   "metadata": {},
   "outputs": [
    {
     "data": {
      "text/html": [
       "<div>\n",
       "<style scoped>\n",
       "    .dataframe tbody tr th:only-of-type {\n",
       "        vertical-align: middle;\n",
       "    }\n",
       "\n",
       "    .dataframe tbody tr th {\n",
       "        vertical-align: top;\n",
       "    }\n",
       "\n",
       "    .dataframe thead th {\n",
       "        text-align: right;\n",
       "    }\n",
       "</style>\n",
       "<table border=\"1\" class=\"dataframe\">\n",
       "  <thead>\n",
       "    <tr style=\"text-align: right;\">\n",
       "      <th></th>\n",
       "      <th>SMILES</th>\n",
       "      <th>logLD50_mmolkg</th>\n",
       "      <th>verytoxic</th>\n",
       "      <th>toxic</th>\n",
       "      <th>EPA_category</th>\n",
       "      <th>GHS_category</th>\n",
       "    </tr>\n",
       "    <tr>\n",
       "      <th>CASRN</th>\n",
       "      <th></th>\n",
       "      <th></th>\n",
       "      <th></th>\n",
       "      <th></th>\n",
       "      <th></th>\n",
       "      <th></th>\n",
       "    </tr>\n",
       "  </thead>\n",
       "  <tbody>\n",
       "    <tr>\n",
       "      <th>130209-82-4</th>\n",
       "      <td>CC(C)OC(=O)CCCC=CCC1C(O)CC(O)C1CCC(O)CCc1ccccc1</td>\n",
       "      <td>NaN</td>\n",
       "      <td>1.0</td>\n",
       "      <td>1.0</td>\n",
       "      <td>1.0</td>\n",
       "      <td>1.0</td>\n",
       "    </tr>\n",
       "  </tbody>\n",
       "</table>\n",
       "</div>"
      ],
      "text/plain": [
       "                                                      SMILES  logLD50_mmolkg  \\\n",
       "CASRN                                                                          \n",
       "130209-82-4  CC(C)OC(=O)CCCC=CCC1C(O)CC(O)C1CCC(O)CCc1ccccc1             NaN   \n",
       "\n",
       "             verytoxic  toxic  EPA_category  GHS_category  \n",
       "CASRN                                                      \n",
       "130209-82-4        1.0    1.0           1.0           1.0  "
      ]
     },
     "execution_count": 18,
     "metadata": {},
     "output_type": "execute_result"
    }
   ],
   "source": [
    "test.head(1)"
   ]
  },
  {
   "cell_type": "code",
   "execution_count": 19,
   "metadata": {},
   "outputs": [],
   "source": [
    "train.to_csv('../data/train_test_sets/train_labels.csv')\n",
    "test.to_csv('../data/train_test_sets/test_labels.csv')"
   ]
  },
  {
   "cell_type": "code",
   "execution_count": 25,
   "metadata": {},
   "outputs": [],
   "source": [
    "def get_labelencoder(df_labels):\n",
    "    \n",
    "    encoder_verytoxic = LabelEncoder().fit(df_labels[~df_labels['verytoxic'].isnull()]['verytoxic'].values)\n",
    "    encoder_toxic = LabelEncoder().fit(df_labels[~df_labels['toxic'].isnull()]['toxic'].values)\n",
    "    encoder_epa = LabelEncoder().fit(df_labels[~df_labels['EPA_category'].isnull()]['EPA_category'].values)\n",
    "    encoder_ghs = LabelEncoder().fit(df_labels[~df_labels['GHS_category'].isnull()]['GHS_category'].values)\n",
    "    \n",
    "    return encoder_verytoxic, encoder_toxic, encoder_epa, encoder_ghs"
   ]
  },
  {
   "cell_type": "markdown",
   "metadata": {},
   "source": [
    "[Label Encoding](https://scikit-learn.org/stable/modules/generated/sklearn.preprocessing.LabelEncoder.html)"
   ]
  },
  {
   "cell_type": "code",
   "execution_count": 26,
   "metadata": {},
   "outputs": [],
   "source": [
    "encoder_verytoxic, encoder_toxic, encoder_epa, encoder_ghs = get_labelencoder(train)"
   ]
  },
  {
   "cell_type": "code",
   "execution_count": 28,
   "metadata": {},
   "outputs": [
    {
     "name": "stdout",
     "output_type": "stream",
     "text": [
      "Very toxic [0. 1.]\n",
      "Toxic [0. 1.]\n",
      "EPA [1. 2. 3. 4.]\n",
      "GHS [1. 2. 3. 4. 5.]\n"
     ]
    }
   ],
   "source": [
    "print('Very toxic', encoder_verytoxic.classes_)\n",
    "print('Toxic', encoder_toxic.classes_)\n",
    "print('EPA', encoder_epa.classes_)\n",
    "print('GHS', encoder_ghs.classes_)"
   ]
  },
  {
   "cell_type": "markdown",
   "metadata": {},
   "source": [
    "Save the encoder for modeling"
   ]
  },
  {
   "cell_type": "code",
   "execution_count": 29,
   "metadata": {},
   "outputs": [
    {
     "data": {
      "text/plain": [
       "['../data/label_encoders/encoder_ghs.joblib']"
      ]
     },
     "execution_count": 29,
     "metadata": {},
     "output_type": "execute_result"
    }
   ],
   "source": [
    "joblib.dump(encoder_verytoxic, '../data/label_encoders/encoder_verytoxic.joblib')\n",
    "joblib.dump(encoder_toxic, '../data/label_encoders/encoder_toxic.joblib')\n",
    "joblib.dump(encoder_epa, '../data/label_encoders/encoder_epa.joblib')\n",
    "joblib.dump(encoder_ghs, '../data/label_encoders/encoder_ghs.joblib')"
   ]
  }
 ],
 "metadata": {
  "kernelspec": {
   "display_name": "Python 3",
   "language": "python",
   "name": "python3"
  },
  "language_info": {
   "codemirror_mode": {
    "name": "ipython",
    "version": 3
   },
   "file_extension": ".py",
   "mimetype": "text/x-python",
   "name": "python",
   "nbconvert_exporter": "python",
   "pygments_lexer": "ipython3",
   "version": "3.6.7"
  }
 },
 "nbformat": 4,
 "nbformat_minor": 2
}
