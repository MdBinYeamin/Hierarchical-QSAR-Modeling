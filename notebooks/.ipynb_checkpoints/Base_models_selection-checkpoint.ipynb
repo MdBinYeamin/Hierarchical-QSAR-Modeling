{
 "cells": [
  {
   "cell_type": "code",
   "execution_count": null,
   "metadata": {},
   "outputs": [],
   "source": []
  },
  {
   "cell_type": "code",
   "execution_count": 3,
   "metadata": {},
   "outputs": [],
   "source": [
    "# Models\n",
    "from xgboost import XGBClassifier, XGBRegressor\n",
    "from sklearn.ensemble import RandomForestClassifier, RandomForestRegressor\n",
    "from sklearn.svm import SVC, SVR\n",
    "from sklearn.neighbors import KNeighborsClassifier, KNeighborsRegressor"
   ]
  },
  {
   "cell_type": "code",
   "execution_count": 4,
   "metadata": {},
   "outputs": [],
   "source": [
    "import pandas as pd\n",
    "import numpy as np\n",
    "import matplotlib.pyplot as plt\n",
    "import math\n",
    "import itertools\n",
    "from pprint import pprint\n",
    "import joblib\n",
    "\n",
    "from sklearn.preprocessing import LabelEncoder\n",
    "from sklearn.model_selection import KFold, cross_validate, GridSearchCV, cross_val_score, RandomizedSearchCV \n",
    "from sklearn.model_selection import cross_val_predict\n",
    "\n",
    "from sklearn.pipeline import Pipeline\n",
    "\n",
    "from sklearn.metrics import make_scorer\n",
    "\n",
    "#regression matrics\n",
    "from sklearn.metrics import mean_absolute_error , mean_squared_error, r2_score\n",
    "\n",
    "#classification metrics\n",
    "from sklearn.metrics import accuracy_score, confusion_matrix, classification_report\n",
    "\n",
    "from sklearn.base import BaseEstimator\n",
    "from sklearn.base import ClassifierMixin\n",
    "from sklearn.base import TransformerMixin\n",
    "from sklearn.base import clone\n",
    "from sklearn.model_selection._split import check_cv"
   ]
  },
  {
   "cell_type": "code",
   "execution_count": 5,
   "metadata": {},
   "outputs": [],
   "source": [
    "from utils import *"
   ]
  },
  {
   "cell_type": "markdown",
   "metadata": {},
   "source": [
    "## Data"
   ]
  },
  {
   "cell_type": "code",
   "execution_count": 6,
   "metadata": {},
   "outputs": [],
   "source": [
    "#import labels\n",
    "train_labels = pd.read_csv('../data/train_test_sets/train_labels.csv', index_col = 'CASRN')\n",
    "\n",
    "# import all the training features\n",
    "train_ecfp6_bits = pd.read_csv('../data/Bmodel_features/modeling_train_ecfp6_bits.csv', index_col='CASRN')\n",
    "train_ecfp6_counts = pd.read_csv('../data/Bmodel_features/modeling_train_ecfp6_counts.csv', index_col='CASRN')\n",
    "train_maccs = pd.read_csv('../data/Bmodel_features/modeling_train_maccs.csv', index_col='CASRN')\n",
    "train_rdkit2d = pd.read_csv('../data/Bmodel_features/modeling_train_rdkit2d.csv', index_col='CASRN')\n",
    "train_mordred = pd.read_csv('../data/Bmodel_features/modeling_train_mordred.csv', index_col='CASRN')"
   ]
  },
  {
   "cell_type": "markdown",
   "metadata": {},
   "source": [
    "## Models"
   ]
  },
  {
   "cell_type": "code",
   "execution_count": 7,
   "metadata": {},
   "outputs": [],
   "source": [
    "# regression \n",
    "knn_reg = KNeighborsRegressor()\n",
    "svr = SVR()\n",
    "xgb_reg = XGBRegressor(random_state =123, n_jobs=6 ,objective ='reg:squarederror')\n",
    "rf_reg =  RandomForestRegressor(random_state =123, n_jobs=6)\n",
    "\n",
    "\n",
    "# classification \n",
    "svc = SVC(random_state =42)\n",
    "knn_clf = KNeighborsClassifier()\n",
    "xgb_clf = XGBClassifier(random_state =123, n_jobs=6)\n",
    "rf_clf =  RandomForestClassifier(random_state =123, n_jobs=6)"
   ]
  },
  {
   "cell_type": "markdown",
   "metadata": {},
   "source": [
    "## Search Space"
   ]
  },
  {
   "cell_type": "markdown",
   "metadata": {},
   "source": [
    "[kNN](https://scikit-learn.org/stable/modules/neighbors.html)"
   ]
  },
  {
   "cell_type": "code",
   "execution_count": 7,
   "metadata": {},
   "outputs": [],
   "source": [
    "knn_grid_parameters_des = {'n_neighbors': [5,9,15,19,25,35,45,55,71], 'weights': ['distance'],'p': [1,2]}\n",
    "knn_grid_parameters_fp = {'n_neighbors': [5,9,15,19,23,25,35,45,55,71], 'weights': ['distance'],\n",
    "                          'metric': ['jaccard', 'dice', 'rogerstanimoto']}\n",
    "knn_grid_parameters_fpcounts = {'n_neighbors': [5,9,15,19,25,35,45,55,71], 'weights': ['distance'],\n",
    "                          'metric': ['hamming', 'canberra', 'braycurtis']}"
   ]
  },
  {
   "cell_type": "markdown",
   "metadata": {},
   "source": [
    "[SVM](https://scikit-learn.org/stable/auto_examples/svm/plot_rbf_parameters.html)\n",
    "\n",
    "Intuitively, the `gamma` parameter defines how far the influence of a single training example reaches, with low values meaning ‘far’ and high values meaning ‘close’. The `gamma`parameters can be seen as the inverse of the radius of influence of samples selected by the model as support vectors.\n",
    "\n",
    "The `C`parameter trades off correct classification of training examples against maximization of the decision function’s margin. For larger values of `C`, a smaller margin will be accepted if the decision function is better at classifying all training points correctly. A lower C will encourage a larger margin, therefore a simpler decision function, at the cost of training accuracy. In other words`C` behaves as a regularization parameter in the SVM."
   ]
  },
  {
   "cell_type": "code",
   "execution_count": 24,
   "metadata": {},
   "outputs": [],
   "source": [
    "svm_grid_parameters = [\n",
    "  {'C': [0.01, 0.1, 1, 10, 100, 200, 400, 1000], 'kernel': ['linear']},\n",
    "  {'C': [0.01, 0.1, 1, 10, 100, 200, 400, 1000], 'gamma': [100,10,1,1e-1,1e-2, 1e-3], 'kernel': ['rbf']},\n",
    " ]"
   ]
  },
  {
   "cell_type": "code",
   "execution_count": 35,
   "metadata": {},
   "outputs": [],
   "source": [
    "svm_grid_parameters = { 'gamma': [10,1,1e-1,1e-2],\n",
    "                     'C': [1, 10, 100]}"
   ]
  },
  {
   "cell_type": "code",
   "execution_count": 100,
   "metadata": {},
   "outputs": [],
   "source": [
    "svm_grid_parameters_1 = { 'gamma': [1,1e-1],\n",
    "                     'C': [1, 10]}"
   ]
  },
  {
   "cell_type": "code",
   "execution_count": 8,
   "metadata": {},
   "outputs": [],
   "source": [
    "svm_grid_parameters_2 = [\n",
    "  {'C': [1, 10], 'kernel': ['linear']},\n",
    "  {'C': [1, 10], 'gamma': [1,1e-1], 'kernel': ['rbf']},\n",
    " ]"
   ]
  },
  {
   "cell_type": "markdown",
   "metadata": {},
   "source": [
    "[RF]()"
   ]
  },
  {
   "cell_type": "code",
   "execution_count": 28,
   "metadata": {},
   "outputs": [
    {
     "name": "stdout",
     "output_type": "stream",
     "text": [
      "{'bootstrap': [True, False],\n",
      " 'max_depth': [5, 20, 35, 50, 65, 80, None],\n",
      " 'max_features': ['log2', 'sqrt'],\n",
      " 'min_samples_leaf': [2, 4, 6],\n",
      " 'min_samples_split': [2, 5, 10],\n",
      " 'n_estimators': [500, 1500]}\n"
     ]
    }
   ],
   "source": [
    "# Number of trees in random forest\n",
    "n_estimators = [int(x) for x in np.linspace(start = 500, stop = 1500, num = 2)]\n",
    "# Number of features to consider at every split\n",
    "max_features = ['log2', 'sqrt']\n",
    "# Maximum number of levels in tree\n",
    "max_depth = [int(x) for x in np.linspace(5, 80, num = 6)]\n",
    "max_depth.append(None)\n",
    "# Minimum number of samples required to split a node\n",
    "min_samples_split = [2, 5, 10]\n",
    "# Minimum number of samples required at each leaf node\n",
    "min_samples_leaf = [2, 4, 6]\n",
    "# Method of selecting samples for training each tree\n",
    "bootstrap = [True, False]\n",
    "\n",
    "# Create the random grid\n",
    "rf_grid_parameters = {'n_estimators': n_estimators,\n",
    "               'max_features': max_features,\n",
    "               'max_depth': max_depth,\n",
    "               'min_samples_split': min_samples_split,\n",
    "               'min_samples_leaf': min_samples_leaf,\n",
    "               'bootstrap': bootstrap}\n",
    "\n",
    "pprint(rf_grid_parameters)"
   ]
  },
  {
   "cell_type": "markdown",
   "metadata": {},
   "source": [
    "[xgb]()"
   ]
  },
  {
   "cell_type": "code",
   "execution_count": 52,
   "metadata": {},
   "outputs": [
    {
     "name": "stdout",
     "output_type": "stream",
     "text": [
      "Default Parameters :\n",
      "\n",
      "{'base_score': 0.5,\n",
      " 'booster': 'gbtree',\n",
      " 'colsample_bylevel': 1,\n",
      " 'colsample_bynode': 1,\n",
      " 'colsample_bytree': 1,\n",
      " 'gamma': 0,\n",
      " 'importance_type': 'gain',\n",
      " 'learning_rate': 0.1,\n",
      " 'max_delta_step': 0,\n",
      " 'max_depth': 3,\n",
      " 'min_child_weight': 1,\n",
      " 'missing': None,\n",
      " 'n_estimators': 100,\n",
      " 'n_jobs': 6,\n",
      " 'nthread': None,\n",
      " 'objective': 'reg:linear',\n",
      " 'random_state': 123,\n",
      " 'reg_alpha': 0,\n",
      " 'reg_lambda': 1,\n",
      " 'scale_pos_weight': 1,\n",
      " 'seed': None,\n",
      " 'silent': None,\n",
      " 'subsample': 1,\n",
      " 'verbosity': 1}\n"
     ]
    }
   ],
   "source": [
    "print('Default Parameters :\\n')\n",
    "pprint(xgb_reg.get_params())"
   ]
  },
  {
   "cell_type": "code",
   "execution_count": 73,
   "metadata": {},
   "outputs": [],
   "source": [
    "xgb_grid_parameters = {\n",
    "    'learning_rate': [0.01,0.1],\n",
    "    'max_depth': [3,6,10],\n",
    "    'min_child_weight':[1,3,5], \n",
    "    'gamma':[0,1,5],  \n",
    "    'subsample':[i/10.0 for i in range(6,11)],\n",
    "    'colsample_bytree':[i/10.0 for i in range(5,11)], \n",
    "    'n_estimators': [500,1500]}"
   ]
  },
  {
   "cell_type": "code",
   "execution_count": 74,
   "metadata": {},
   "outputs": [
    {
     "data": {
      "text/plain": [
       "{'learning_rate': [0.01, 0.1],\n",
       " 'max_depth': [3, 6, 10],\n",
       " 'min_child_weight': [1, 3, 5],\n",
       " 'gamma': [0, 1, 5],\n",
       " 'subsample': [0.6, 0.7, 0.8, 0.9, 1.0],\n",
       " 'colsample_bytree': [0.5, 0.6, 0.7, 0.8, 0.9, 1.0],\n",
       " 'n_estimators': [500, 1500]}"
      ]
     },
     "execution_count": 74,
     "metadata": {},
     "output_type": "execute_result"
    }
   ],
   "source": [
    "xgb_grid_parameters"
   ]
  },
  {
   "cell_type": "code",
   "execution_count": 17,
   "metadata": {},
   "outputs": [],
   "source": [
    "def result_model_selection(results, name):\n",
    "    df_results = pd.DataFrame({'model': [name] * len(results.cv_results_['params']),\n",
    "                               'params': results.cv_results_['params'],\n",
    "                              'mean score': results.cv_results_['mean_test_score'],\n",
    "                              'std score': results.cv_results_['std_test_score'],\n",
    "                               'rank': results.cv_results_['rank_test_score']\n",
    "                              })\n",
    "    return df_results"
   ]
  },
  {
   "cell_type": "markdown",
   "metadata": {},
   "source": [
    "# kNN"
   ]
  },
  {
   "cell_type": "markdown",
   "metadata": {},
   "source": [
    "### Endpoint 1: VeryToxic"
   ]
  },
  {
   "cell_type": "code",
   "execution_count": 7,
   "metadata": {},
   "outputs": [],
   "source": [
    "encoder_verytoxic = joblib.load('../data/label_encoders/encoder_verytoxic.joblib')"
   ]
  },
  {
   "cell_type": "code",
   "execution_count": 8,
   "metadata": {},
   "outputs": [
    {
     "name": "stdout",
     "output_type": "stream",
     "text": [
      "Best parameters set found on development set: {'metric': 'dice', 'n_neighbors': 25, 'weights': 'distance'}\n",
      "Best score: 0.8364398520846357\n",
      "Grid scores on development set:\n",
      "\n",
      "0.800 (+/-0.102) for {'metric': 'jaccard', 'n_neighbors': 5, 'weights': 'distance'}\n",
      "0.820 (+/-0.103) for {'metric': 'jaccard', 'n_neighbors': 9, 'weights': 'distance'}\n",
      "0.830 (+/-0.110) for {'metric': 'jaccard', 'n_neighbors': 15, 'weights': 'distance'}\n",
      "0.831 (+/-0.115) for {'metric': 'jaccard', 'n_neighbors': 19, 'weights': 'distance'}\n",
      "0.834 (+/-0.117) for {'metric': 'jaccard', 'n_neighbors': 23, 'weights': 'distance'}\n",
      "0.836 (+/-0.118) for {'metric': 'jaccard', 'n_neighbors': 25, 'weights': 'distance'}\n",
      "0.830 (+/-0.125) for {'metric': 'jaccard', 'n_neighbors': 35, 'weights': 'distance'}\n",
      "0.829 (+/-0.126) for {'metric': 'jaccard', 'n_neighbors': 45, 'weights': 'distance'}\n",
      "0.830 (+/-0.122) for {'metric': 'jaccard', 'n_neighbors': 55, 'weights': 'distance'}\n",
      "0.825 (+/-0.131) for {'metric': 'jaccard', 'n_neighbors': 71, 'weights': 'distance'}\n",
      "0.800 (+/-0.102) for {'metric': 'dice', 'n_neighbors': 5, 'weights': 'distance'}\n",
      "0.820 (+/-0.103) for {'metric': 'dice', 'n_neighbors': 9, 'weights': 'distance'}\n",
      "0.830 (+/-0.110) for {'metric': 'dice', 'n_neighbors': 15, 'weights': 'distance'}\n",
      "0.832 (+/-0.114) for {'metric': 'dice', 'n_neighbors': 19, 'weights': 'distance'}\n",
      "0.835 (+/-0.116) for {'metric': 'dice', 'n_neighbors': 23, 'weights': 'distance'}\n",
      "0.836 (+/-0.117) for {'metric': 'dice', 'n_neighbors': 25, 'weights': 'distance'}\n",
      "0.831 (+/-0.124) for {'metric': 'dice', 'n_neighbors': 35, 'weights': 'distance'}\n",
      "0.830 (+/-0.125) for {'metric': 'dice', 'n_neighbors': 45, 'weights': 'distance'}\n",
      "0.831 (+/-0.121) for {'metric': 'dice', 'n_neighbors': 55, 'weights': 'distance'}\n",
      "0.827 (+/-0.129) for {'metric': 'dice', 'n_neighbors': 71, 'weights': 'distance'}\n",
      "0.740 (+/-0.057) for {'metric': 'rogerstanimoto', 'n_neighbors': 5, 'weights': 'distance'}\n",
      "0.757 (+/-0.066) for {'metric': 'rogerstanimoto', 'n_neighbors': 9, 'weights': 'distance'}\n",
      "0.762 (+/-0.080) for {'metric': 'rogerstanimoto', 'n_neighbors': 15, 'weights': 'distance'}\n",
      "0.764 (+/-0.075) for {'metric': 'rogerstanimoto', 'n_neighbors': 19, 'weights': 'distance'}\n",
      "0.762 (+/-0.072) for {'metric': 'rogerstanimoto', 'n_neighbors': 23, 'weights': 'distance'}\n",
      "0.765 (+/-0.080) for {'metric': 'rogerstanimoto', 'n_neighbors': 25, 'weights': 'distance'}\n",
      "0.760 (+/-0.087) for {'metric': 'rogerstanimoto', 'n_neighbors': 35, 'weights': 'distance'}\n",
      "0.772 (+/-0.090) for {'metric': 'rogerstanimoto', 'n_neighbors': 45, 'weights': 'distance'}\n",
      "0.770 (+/-0.111) for {'metric': 'rogerstanimoto', 'n_neighbors': 55, 'weights': 'distance'}\n",
      "0.776 (+/-0.118) for {'metric': 'rogerstanimoto', 'n_neighbors': 71, 'weights': 'distance'}\n",
      "CPU times: user 2.37 s, sys: 287 ms, total: 2.66 s\n",
      "Wall time: 22min 26s\n"
     ]
    }
   ],
   "source": [
    "%%time\n",
    "a,b,c,d,e = prepare_input(train_labels, train_ecfp6_bits, target = 'verytoxic', encoder = encoder_verytoxic)\n",
    "\n",
    "vt_knn_ecfp6bits = model_selection(knn_clf, knn_grid_parameters_fp, a, c, scoring = 'roc_auc', cv=5, GridSearch = True)"
   ]
  },
  {
   "cell_type": "code",
   "execution_count": 9,
   "metadata": {},
   "outputs": [
    {
     "name": "stdout",
     "output_type": "stream",
     "text": [
      "Best parameters set found on development set: {'metric': 'dice', 'n_neighbors': 35, 'weights': 'distance'}\n",
      "Best score: 0.839530791592507\n",
      "Grid scores on development set:\n",
      "\n",
      "0.804 (+/-0.108) for {'metric': 'jaccard', 'n_neighbors': 5, 'weights': 'distance'}\n",
      "0.824 (+/-0.102) for {'metric': 'jaccard', 'n_neighbors': 9, 'weights': 'distance'}\n",
      "0.834 (+/-0.101) for {'metric': 'jaccard', 'n_neighbors': 15, 'weights': 'distance'}\n",
      "0.837 (+/-0.099) for {'metric': 'jaccard', 'n_neighbors': 19, 'weights': 'distance'}\n",
      "0.838 (+/-0.098) for {'metric': 'jaccard', 'n_neighbors': 23, 'weights': 'distance'}\n",
      "0.839 (+/-0.098) for {'metric': 'jaccard', 'n_neighbors': 25, 'weights': 'distance'}\n",
      "0.838 (+/-0.095) for {'metric': 'jaccard', 'n_neighbors': 35, 'weights': 'distance'}\n",
      "0.833 (+/-0.101) for {'metric': 'jaccard', 'n_neighbors': 45, 'weights': 'distance'}\n",
      "0.833 (+/-0.103) for {'metric': 'jaccard', 'n_neighbors': 55, 'weights': 'distance'}\n",
      "0.829 (+/-0.107) for {'metric': 'jaccard', 'n_neighbors': 71, 'weights': 'distance'}\n",
      "0.804 (+/-0.108) for {'metric': 'dice', 'n_neighbors': 5, 'weights': 'distance'}\n",
      "0.824 (+/-0.102) for {'metric': 'dice', 'n_neighbors': 9, 'weights': 'distance'}\n",
      "0.835 (+/-0.101) for {'metric': 'dice', 'n_neighbors': 15, 'weights': 'distance'}\n",
      "0.838 (+/-0.098) for {'metric': 'dice', 'n_neighbors': 19, 'weights': 'distance'}\n",
      "0.839 (+/-0.097) for {'metric': 'dice', 'n_neighbors': 23, 'weights': 'distance'}\n",
      "0.839 (+/-0.097) for {'metric': 'dice', 'n_neighbors': 25, 'weights': 'distance'}\n",
      "0.840 (+/-0.094) for {'metric': 'dice', 'n_neighbors': 35, 'weights': 'distance'}\n",
      "0.835 (+/-0.100) for {'metric': 'dice', 'n_neighbors': 45, 'weights': 'distance'}\n",
      "0.834 (+/-0.101) for {'metric': 'dice', 'n_neighbors': 55, 'weights': 'distance'}\n",
      "0.831 (+/-0.105) for {'metric': 'dice', 'n_neighbors': 71, 'weights': 'distance'}\n",
      "0.799 (+/-0.114) for {'metric': 'rogerstanimoto', 'n_neighbors': 5, 'weights': 'distance'}\n",
      "0.821 (+/-0.118) for {'metric': 'rogerstanimoto', 'n_neighbors': 9, 'weights': 'distance'}\n",
      "0.834 (+/-0.110) for {'metric': 'rogerstanimoto', 'n_neighbors': 15, 'weights': 'distance'}\n",
      "0.838 (+/-0.101) for {'metric': 'rogerstanimoto', 'n_neighbors': 19, 'weights': 'distance'}\n",
      "0.838 (+/-0.097) for {'metric': 'rogerstanimoto', 'n_neighbors': 23, 'weights': 'distance'}\n",
      "0.839 (+/-0.097) for {'metric': 'rogerstanimoto', 'n_neighbors': 25, 'weights': 'distance'}\n",
      "0.838 (+/-0.097) for {'metric': 'rogerstanimoto', 'n_neighbors': 35, 'weights': 'distance'}\n",
      "0.834 (+/-0.102) for {'metric': 'rogerstanimoto', 'n_neighbors': 45, 'weights': 'distance'}\n",
      "0.836 (+/-0.100) for {'metric': 'rogerstanimoto', 'n_neighbors': 55, 'weights': 'distance'}\n",
      "0.829 (+/-0.106) for {'metric': 'rogerstanimoto', 'n_neighbors': 71, 'weights': 'distance'}\n",
      "CPU times: user 533 ms, sys: 47.4 ms, total: 580 ms\n",
      "Wall time: 1min 42s\n"
     ]
    }
   ],
   "source": [
    "%%time\n",
    "a,b,c,d,e = prepare_input(train_labels, train_maccs, target = 'verytoxic', encoder = encoder_verytoxic)\n",
    "\n",
    "vt_knn_maccs = model_selection(knn_clf, knn_grid_parameters_fp, a, c, scoring = 'roc_auc', cv=5, GridSearch = True)"
   ]
  },
  {
   "cell_type": "code",
   "execution_count": 10,
   "metadata": {},
   "outputs": [
    {
     "name": "stdout",
     "output_type": "stream",
     "text": [
      "Best parameters set found on development set: {'metric': 'braycurtis', 'n_neighbors': 35, 'weights': 'distance'}\n",
      "Best score: 0.8387612550176445\n",
      "Grid scores on development set:\n",
      "\n",
      "0.714 (+/-0.048) for {'metric': 'hamming', 'n_neighbors': 5, 'weights': 'distance'}\n",
      "0.718 (+/-0.054) for {'metric': 'hamming', 'n_neighbors': 9, 'weights': 'distance'}\n",
      "0.723 (+/-0.056) for {'metric': 'hamming', 'n_neighbors': 15, 'weights': 'distance'}\n",
      "0.720 (+/-0.058) for {'metric': 'hamming', 'n_neighbors': 19, 'weights': 'distance'}\n",
      "0.724 (+/-0.070) for {'metric': 'hamming', 'n_neighbors': 25, 'weights': 'distance'}\n",
      "0.724 (+/-0.073) for {'metric': 'hamming', 'n_neighbors': 35, 'weights': 'distance'}\n",
      "0.719 (+/-0.076) for {'metric': 'hamming', 'n_neighbors': 45, 'weights': 'distance'}\n",
      "0.713 (+/-0.087) for {'metric': 'hamming', 'n_neighbors': 55, 'weights': 'distance'}\n",
      "0.721 (+/-0.086) for {'metric': 'hamming', 'n_neighbors': 71, 'weights': 'distance'}\n",
      "0.729 (+/-0.039) for {'metric': 'canberra', 'n_neighbors': 5, 'weights': 'distance'}\n",
      "0.734 (+/-0.049) for {'metric': 'canberra', 'n_neighbors': 9, 'weights': 'distance'}\n",
      "0.746 (+/-0.058) for {'metric': 'canberra', 'n_neighbors': 15, 'weights': 'distance'}\n",
      "0.750 (+/-0.057) for {'metric': 'canberra', 'n_neighbors': 19, 'weights': 'distance'}\n",
      "0.752 (+/-0.052) for {'metric': 'canberra', 'n_neighbors': 25, 'weights': 'distance'}\n",
      "0.757 (+/-0.065) for {'metric': 'canberra', 'n_neighbors': 35, 'weights': 'distance'}\n",
      "0.758 (+/-0.077) for {'metric': 'canberra', 'n_neighbors': 45, 'weights': 'distance'}\n",
      "0.754 (+/-0.100) for {'metric': 'canberra', 'n_neighbors': 55, 'weights': 'distance'}\n",
      "0.751 (+/-0.097) for {'metric': 'canberra', 'n_neighbors': 71, 'weights': 'distance'}\n",
      "0.798 (+/-0.127) for {'metric': 'braycurtis', 'n_neighbors': 5, 'weights': 'distance'}\n",
      "0.818 (+/-0.113) for {'metric': 'braycurtis', 'n_neighbors': 9, 'weights': 'distance'}\n",
      "0.831 (+/-0.114) for {'metric': 'braycurtis', 'n_neighbors': 15, 'weights': 'distance'}\n",
      "0.832 (+/-0.111) for {'metric': 'braycurtis', 'n_neighbors': 19, 'weights': 'distance'}\n",
      "0.836 (+/-0.111) for {'metric': 'braycurtis', 'n_neighbors': 25, 'weights': 'distance'}\n",
      "0.839 (+/-0.109) for {'metric': 'braycurtis', 'n_neighbors': 35, 'weights': 'distance'}\n",
      "0.838 (+/-0.108) for {'metric': 'braycurtis', 'n_neighbors': 45, 'weights': 'distance'}\n",
      "0.836 (+/-0.114) for {'metric': 'braycurtis', 'n_neighbors': 55, 'weights': 'distance'}\n",
      "0.832 (+/-0.120) for {'metric': 'braycurtis', 'n_neighbors': 71, 'weights': 'distance'}\n",
      "CPU times: user 1.74 s, sys: 149 ms, total: 1.89 s\n",
      "Wall time: 17min 24s\n"
     ]
    }
   ],
   "source": [
    "%%time\n",
    "a,b,c,d,e = prepare_input(train_labels, train_ecfp6_counts, target = 'verytoxic', encoder = encoder_verytoxic)\n",
    "\n",
    "vt_knn_ecfp6count = model_selection(knn_clf, knn_grid_parameters_fpcounts, a, c, scoring = 'roc_auc', cv=5, GridSearch = True)"
   ]
  },
  {
   "cell_type": "code",
   "execution_count": 11,
   "metadata": {},
   "outputs": [
    {
     "name": "stdout",
     "output_type": "stream",
     "text": [
      "Best parameters set found on development set: {'n_neighbors': 25, 'p': 1, 'weights': 'distance'}\n",
      "Best score: 0.8262497861356659\n",
      "Grid scores on development set:\n",
      "\n",
      "0.789 (+/-0.117) for {'n_neighbors': 5, 'p': 1, 'weights': 'distance'}\n",
      "0.776 (+/-0.113) for {'n_neighbors': 5, 'p': 2, 'weights': 'distance'}\n",
      "0.810 (+/-0.116) for {'n_neighbors': 9, 'p': 1, 'weights': 'distance'}\n",
      "0.792 (+/-0.118) for {'n_neighbors': 9, 'p': 2, 'weights': 'distance'}\n",
      "0.821 (+/-0.117) for {'n_neighbors': 15, 'p': 1, 'weights': 'distance'}\n",
      "0.804 (+/-0.128) for {'n_neighbors': 15, 'p': 2, 'weights': 'distance'}\n",
      "0.822 (+/-0.119) for {'n_neighbors': 19, 'p': 1, 'weights': 'distance'}\n",
      "0.810 (+/-0.130) for {'n_neighbors': 19, 'p': 2, 'weights': 'distance'}\n",
      "0.826 (+/-0.121) for {'n_neighbors': 25, 'p': 1, 'weights': 'distance'}\n",
      "0.812 (+/-0.129) for {'n_neighbors': 25, 'p': 2, 'weights': 'distance'}\n",
      "0.824 (+/-0.125) for {'n_neighbors': 35, 'p': 1, 'weights': 'distance'}\n",
      "0.807 (+/-0.138) for {'n_neighbors': 35, 'p': 2, 'weights': 'distance'}\n",
      "0.824 (+/-0.129) for {'n_neighbors': 45, 'p': 1, 'weights': 'distance'}\n",
      "0.805 (+/-0.140) for {'n_neighbors': 45, 'p': 2, 'weights': 'distance'}\n",
      "0.818 (+/-0.133) for {'n_neighbors': 55, 'p': 1, 'weights': 'distance'}\n",
      "0.800 (+/-0.145) for {'n_neighbors': 55, 'p': 2, 'weights': 'distance'}\n",
      "0.810 (+/-0.141) for {'n_neighbors': 71, 'p': 1, 'weights': 'distance'}\n",
      "0.794 (+/-0.150) for {'n_neighbors': 71, 'p': 2, 'weights': 'distance'}\n",
      "CPU times: user 308 ms, sys: 19.4 ms, total: 328 ms\n",
      "Wall time: 1min 11s\n"
     ]
    }
   ],
   "source": [
    "%%time\n",
    "a,b,c,d,e = prepare_input(train_labels, train_rdkit2d, target = 'verytoxic', encoder = encoder_verytoxic)\n",
    "\n",
    "vt_knn_rdkit2d = model_selection(knn_clf, knn_grid_parameters_des, a, c, scoring = 'roc_auc', cv=5, GridSearch = True)"
   ]
  },
  {
   "cell_type": "code",
   "execution_count": 12,
   "metadata": {},
   "outputs": [
    {
     "name": "stdout",
     "output_type": "stream",
     "text": [
      "Best parameters set found on development set: {'n_neighbors': 45, 'p': 1, 'weights': 'distance'}\n",
      "Best score: 0.8258538199032514\n",
      "Grid scores on development set:\n",
      "\n",
      "0.810 (+/-0.103) for {'n_neighbors': 5, 'p': 1, 'weights': 'distance'}\n",
      "0.799 (+/-0.110) for {'n_neighbors': 5, 'p': 2, 'weights': 'distance'}\n",
      "0.824 (+/-0.107) for {'n_neighbors': 9, 'p': 1, 'weights': 'distance'}\n",
      "0.809 (+/-0.117) for {'n_neighbors': 9, 'p': 2, 'weights': 'distance'}\n",
      "0.822 (+/-0.126) for {'n_neighbors': 15, 'p': 1, 'weights': 'distance'}\n",
      "0.820 (+/-0.126) for {'n_neighbors': 15, 'p': 2, 'weights': 'distance'}\n",
      "0.823 (+/-0.128) for {'n_neighbors': 19, 'p': 1, 'weights': 'distance'}\n",
      "0.823 (+/-0.124) for {'n_neighbors': 19, 'p': 2, 'weights': 'distance'}\n",
      "0.825 (+/-0.126) for {'n_neighbors': 25, 'p': 1, 'weights': 'distance'}\n",
      "0.820 (+/-0.126) for {'n_neighbors': 25, 'p': 2, 'weights': 'distance'}\n",
      "0.823 (+/-0.128) for {'n_neighbors': 35, 'p': 1, 'weights': 'distance'}\n",
      "0.818 (+/-0.129) for {'n_neighbors': 35, 'p': 2, 'weights': 'distance'}\n",
      "0.826 (+/-0.125) for {'n_neighbors': 45, 'p': 1, 'weights': 'distance'}\n",
      "0.818 (+/-0.126) for {'n_neighbors': 45, 'p': 2, 'weights': 'distance'}\n",
      "0.824 (+/-0.125) for {'n_neighbors': 55, 'p': 1, 'weights': 'distance'}\n",
      "0.819 (+/-0.126) for {'n_neighbors': 55, 'p': 2, 'weights': 'distance'}\n",
      "0.823 (+/-0.130) for {'n_neighbors': 71, 'p': 1, 'weights': 'distance'}\n",
      "0.816 (+/-0.130) for {'n_neighbors': 71, 'p': 2, 'weights': 'distance'}\n",
      "CPU times: user 491 ms, sys: 49.5 ms, total: 541 ms\n",
      "Wall time: 2min 46s\n"
     ]
    }
   ],
   "source": [
    "%%time\n",
    "a,b,c,d,e = prepare_input(train_labels, train_mordred, target = 'verytoxic', encoder = encoder_verytoxic)\n",
    "\n",
    "vt_knn_mordred = model_selection(knn_clf, knn_grid_parameters_des, a, c, scoring = 'roc_auc', cv=5, GridSearch = True)"
   ]
  },
  {
   "cell_type": "markdown",
   "metadata": {},
   "source": [
    "## Endpoint 2: toxic"
   ]
  },
  {
   "cell_type": "code",
   "execution_count": 25,
   "metadata": {},
   "outputs": [],
   "source": [
    "encoder_toxic = joblib.load('../data/label_encoders/encoder_toxic.joblib')"
   ]
  },
  {
   "cell_type": "code",
   "execution_count": 28,
   "metadata": {},
   "outputs": [
    {
     "name": "stdout",
     "output_type": "stream",
     "text": [
      "Best parameters set found on development set: {'metric': 'dice', 'n_neighbors': 19, 'weights': 'distance'}\n",
      "Best score: 0.7763432868206271\n",
      "Grid scores on development set:\n",
      "\n",
      "0.760 (+/-0.064) for {'metric': 'jaccard', 'n_neighbors': 5, 'weights': 'distance'}\n",
      "0.770 (+/-0.055) for {'metric': 'jaccard', 'n_neighbors': 9, 'weights': 'distance'}\n",
      "0.775 (+/-0.051) for {'metric': 'jaccard', 'n_neighbors': 15, 'weights': 'distance'}\n",
      "0.774 (+/-0.055) for {'metric': 'jaccard', 'n_neighbors': 19, 'weights': 'distance'}\n",
      "0.773 (+/-0.060) for {'metric': 'jaccard', 'n_neighbors': 23, 'weights': 'distance'}\n",
      "0.772 (+/-0.061) for {'metric': 'jaccard', 'n_neighbors': 25, 'weights': 'distance'}\n",
      "0.766 (+/-0.067) for {'metric': 'jaccard', 'n_neighbors': 35, 'weights': 'distance'}\n",
      "0.764 (+/-0.067) for {'metric': 'jaccard', 'n_neighbors': 45, 'weights': 'distance'}\n",
      "0.761 (+/-0.065) for {'metric': 'jaccard', 'n_neighbors': 55, 'weights': 'distance'}\n",
      "0.756 (+/-0.065) for {'metric': 'jaccard', 'n_neighbors': 71, 'weights': 'distance'}\n",
      "0.761 (+/-0.063) for {'metric': 'dice', 'n_neighbors': 5, 'weights': 'distance'}\n",
      "0.771 (+/-0.055) for {'metric': 'dice', 'n_neighbors': 9, 'weights': 'distance'}\n",
      "0.776 (+/-0.051) for {'metric': 'dice', 'n_neighbors': 15, 'weights': 'distance'}\n",
      "0.776 (+/-0.055) for {'metric': 'dice', 'n_neighbors': 19, 'weights': 'distance'}\n",
      "0.775 (+/-0.060) for {'metric': 'dice', 'n_neighbors': 23, 'weights': 'distance'}\n",
      "0.774 (+/-0.061) for {'metric': 'dice', 'n_neighbors': 25, 'weights': 'distance'}\n",
      "0.769 (+/-0.066) for {'metric': 'dice', 'n_neighbors': 35, 'weights': 'distance'}\n",
      "0.767 (+/-0.068) for {'metric': 'dice', 'n_neighbors': 45, 'weights': 'distance'}\n",
      "0.764 (+/-0.066) for {'metric': 'dice', 'n_neighbors': 55, 'weights': 'distance'}\n",
      "0.759 (+/-0.065) for {'metric': 'dice', 'n_neighbors': 71, 'weights': 'distance'}\n",
      "0.727 (+/-0.061) for {'metric': 'rogerstanimoto', 'n_neighbors': 5, 'weights': 'distance'}\n",
      "0.728 (+/-0.061) for {'metric': 'rogerstanimoto', 'n_neighbors': 9, 'weights': 'distance'}\n",
      "0.724 (+/-0.064) for {'metric': 'rogerstanimoto', 'n_neighbors': 15, 'weights': 'distance'}\n",
      "0.720 (+/-0.064) for {'metric': 'rogerstanimoto', 'n_neighbors': 19, 'weights': 'distance'}\n",
      "0.714 (+/-0.069) for {'metric': 'rogerstanimoto', 'n_neighbors': 23, 'weights': 'distance'}\n",
      "0.713 (+/-0.069) for {'metric': 'rogerstanimoto', 'n_neighbors': 25, 'weights': 'distance'}\n",
      "0.707 (+/-0.073) for {'metric': 'rogerstanimoto', 'n_neighbors': 35, 'weights': 'distance'}\n",
      "0.703 (+/-0.079) for {'metric': 'rogerstanimoto', 'n_neighbors': 45, 'weights': 'distance'}\n",
      "0.699 (+/-0.075) for {'metric': 'rogerstanimoto', 'n_neighbors': 55, 'weights': 'distance'}\n",
      "0.703 (+/-0.075) for {'metric': 'rogerstanimoto', 'n_neighbors': 71, 'weights': 'distance'}\n",
      "CPU times: user 2.41 s, sys: 360 ms, total: 2.77 s\n",
      "Wall time: 22min 26s\n"
     ]
    }
   ],
   "source": [
    "%%time\n",
    "a,b,c,d,e = prepare_input(train_labels, train_ecfp6_bits, target = 'toxic', encoder = encoder_toxic)\n",
    "\n",
    "t_knn_ecfp6bits = model_selection(knn_clf, knn_grid_parameters_fp, a, c, scoring = 'roc_auc', cv=5, GridSearch = True)"
   ]
  },
  {
   "cell_type": "code",
   "execution_count": 29,
   "metadata": {},
   "outputs": [
    {
     "name": "stdout",
     "output_type": "stream",
     "text": [
      "Best parameters set found on development set: {'metric': 'rogerstanimoto', 'n_neighbors': 23, 'weights': 'distance'}\n",
      "Best score: 0.799649224423121\n",
      "Grid scores on development set:\n",
      "\n",
      "0.791 (+/-0.082) for {'metric': 'jaccard', 'n_neighbors': 5, 'weights': 'distance'}\n",
      "0.798 (+/-0.081) for {'metric': 'jaccard', 'n_neighbors': 9, 'weights': 'distance'}\n",
      "0.798 (+/-0.085) for {'metric': 'jaccard', 'n_neighbors': 15, 'weights': 'distance'}\n",
      "0.798 (+/-0.087) for {'metric': 'jaccard', 'n_neighbors': 19, 'weights': 'distance'}\n",
      "0.796 (+/-0.086) for {'metric': 'jaccard', 'n_neighbors': 23, 'weights': 'distance'}\n",
      "0.796 (+/-0.086) for {'metric': 'jaccard', 'n_neighbors': 25, 'weights': 'distance'}\n",
      "0.792 (+/-0.086) for {'metric': 'jaccard', 'n_neighbors': 35, 'weights': 'distance'}\n",
      "0.790 (+/-0.081) for {'metric': 'jaccard', 'n_neighbors': 45, 'weights': 'distance'}\n",
      "0.787 (+/-0.081) for {'metric': 'jaccard', 'n_neighbors': 55, 'weights': 'distance'}\n",
      "0.784 (+/-0.078) for {'metric': 'jaccard', 'n_neighbors': 71, 'weights': 'distance'}\n",
      "0.791 (+/-0.082) for {'metric': 'dice', 'n_neighbors': 5, 'weights': 'distance'}\n",
      "0.798 (+/-0.081) for {'metric': 'dice', 'n_neighbors': 9, 'weights': 'distance'}\n",
      "0.799 (+/-0.084) for {'metric': 'dice', 'n_neighbors': 15, 'weights': 'distance'}\n",
      "0.799 (+/-0.086) for {'metric': 'dice', 'n_neighbors': 19, 'weights': 'distance'}\n",
      "0.798 (+/-0.085) for {'metric': 'dice', 'n_neighbors': 23, 'weights': 'distance'}\n",
      "0.798 (+/-0.085) for {'metric': 'dice', 'n_neighbors': 25, 'weights': 'distance'}\n",
      "0.794 (+/-0.085) for {'metric': 'dice', 'n_neighbors': 35, 'weights': 'distance'}\n",
      "0.792 (+/-0.081) for {'metric': 'dice', 'n_neighbors': 45, 'weights': 'distance'}\n",
      "0.790 (+/-0.081) for {'metric': 'dice', 'n_neighbors': 55, 'weights': 'distance'}\n",
      "0.786 (+/-0.079) for {'metric': 'dice', 'n_neighbors': 71, 'weights': 'distance'}\n",
      "0.788 (+/-0.082) for {'metric': 'rogerstanimoto', 'n_neighbors': 5, 'weights': 'distance'}\n",
      "0.797 (+/-0.077) for {'metric': 'rogerstanimoto', 'n_neighbors': 9, 'weights': 'distance'}\n",
      "0.799 (+/-0.080) for {'metric': 'rogerstanimoto', 'n_neighbors': 15, 'weights': 'distance'}\n",
      "0.800 (+/-0.079) for {'metric': 'rogerstanimoto', 'n_neighbors': 19, 'weights': 'distance'}\n",
      "0.800 (+/-0.076) for {'metric': 'rogerstanimoto', 'n_neighbors': 23, 'weights': 'distance'}\n",
      "0.798 (+/-0.077) for {'metric': 'rogerstanimoto', 'n_neighbors': 25, 'weights': 'distance'}\n",
      "0.795 (+/-0.074) for {'metric': 'rogerstanimoto', 'n_neighbors': 35, 'weights': 'distance'}\n",
      "0.793 (+/-0.076) for {'metric': 'rogerstanimoto', 'n_neighbors': 45, 'weights': 'distance'}\n",
      "0.791 (+/-0.076) for {'metric': 'rogerstanimoto', 'n_neighbors': 55, 'weights': 'distance'}\n",
      "0.787 (+/-0.074) for {'metric': 'rogerstanimoto', 'n_neighbors': 71, 'weights': 'distance'}\n",
      "CPU times: user 518 ms, sys: 50.4 ms, total: 568 ms\n",
      "Wall time: 1min 40s\n"
     ]
    }
   ],
   "source": [
    "%%time\n",
    "a,b,c,d,e = prepare_input(train_labels, train_maccs, target = 'toxic', encoder = encoder_toxic)\n",
    "\n",
    "t_knn_maccs = model_selection(knn_clf, knn_grid_parameters_fp, a, c, scoring = 'roc_auc', cv=5, GridSearch = True)"
   ]
  },
  {
   "cell_type": "code",
   "execution_count": 41,
   "metadata": {},
   "outputs": [
    {
     "name": "stdout",
     "output_type": "stream",
     "text": [
      "Best parameters set found on development set: {'metric': 'braycurtis', 'n_neighbors': 19, 'weights': 'distance'}\n",
      "Best score: 0.7775241942906674\n",
      "Grid scores on development set:\n",
      "\n",
      "0.694 (+/-0.080) for {'metric': 'hamming', 'n_neighbors': 5, 'weights': 'distance'}\n",
      "0.700 (+/-0.082) for {'metric': 'hamming', 'n_neighbors': 9, 'weights': 'distance'}\n",
      "0.699 (+/-0.069) for {'metric': 'hamming', 'n_neighbors': 15, 'weights': 'distance'}\n",
      "0.693 (+/-0.070) for {'metric': 'hamming', 'n_neighbors': 19, 'weights': 'distance'}\n",
      "0.690 (+/-0.074) for {'metric': 'hamming', 'n_neighbors': 25, 'weights': 'distance'}\n",
      "0.685 (+/-0.073) for {'metric': 'hamming', 'n_neighbors': 35, 'weights': 'distance'}\n",
      "0.689 (+/-0.085) for {'metric': 'hamming', 'n_neighbors': 45, 'weights': 'distance'}\n",
      "0.680 (+/-0.090) for {'metric': 'hamming', 'n_neighbors': 55, 'weights': 'distance'}\n",
      "0.681 (+/-0.079) for {'metric': 'hamming', 'n_neighbors': 71, 'weights': 'distance'}\n",
      "0.719 (+/-0.073) for {'metric': 'canberra', 'n_neighbors': 5, 'weights': 'distance'}\n",
      "0.720 (+/-0.075) for {'metric': 'canberra', 'n_neighbors': 9, 'weights': 'distance'}\n",
      "0.713 (+/-0.074) for {'metric': 'canberra', 'n_neighbors': 15, 'weights': 'distance'}\n",
      "0.710 (+/-0.072) for {'metric': 'canberra', 'n_neighbors': 19, 'weights': 'distance'}\n",
      "0.708 (+/-0.077) for {'metric': 'canberra', 'n_neighbors': 25, 'weights': 'distance'}\n",
      "0.704 (+/-0.076) for {'metric': 'canberra', 'n_neighbors': 35, 'weights': 'distance'}\n",
      "0.702 (+/-0.080) for {'metric': 'canberra', 'n_neighbors': 45, 'weights': 'distance'}\n",
      "0.704 (+/-0.081) for {'metric': 'canberra', 'n_neighbors': 55, 'weights': 'distance'}\n",
      "0.703 (+/-0.078) for {'metric': 'canberra', 'n_neighbors': 71, 'weights': 'distance'}\n",
      "0.763 (+/-0.067) for {'metric': 'braycurtis', 'n_neighbors': 5, 'weights': 'distance'}\n",
      "0.774 (+/-0.060) for {'metric': 'braycurtis', 'n_neighbors': 9, 'weights': 'distance'}\n",
      "0.775 (+/-0.063) for {'metric': 'braycurtis', 'n_neighbors': 15, 'weights': 'distance'}\n",
      "0.778 (+/-0.060) for {'metric': 'braycurtis', 'n_neighbors': 19, 'weights': 'distance'}\n",
      "0.775 (+/-0.061) for {'metric': 'braycurtis', 'n_neighbors': 25, 'weights': 'distance'}\n",
      "0.772 (+/-0.057) for {'metric': 'braycurtis', 'n_neighbors': 35, 'weights': 'distance'}\n",
      "0.770 (+/-0.054) for {'metric': 'braycurtis', 'n_neighbors': 45, 'weights': 'distance'}\n",
      "0.768 (+/-0.055) for {'metric': 'braycurtis', 'n_neighbors': 55, 'weights': 'distance'}\n",
      "0.765 (+/-0.055) for {'metric': 'braycurtis', 'n_neighbors': 71, 'weights': 'distance'}\n",
      "CPU times: user 1.81 s, sys: 394 ms, total: 2.2 s\n",
      "Wall time: 17min 22s\n"
     ]
    }
   ],
   "source": [
    "%%time\n",
    "a,b,c,d,e = prepare_input(train_labels, train_ecfp6_counts, target = 'toxic', encoder = encoder_toxic)\n",
    "\n",
    "t_knn_ecfp6count = model_selection(knn_clf, knn_grid_parameters_fpcounts, a, c, scoring = 'roc_auc', cv=5, GridSearch = True)"
   ]
  },
  {
   "cell_type": "code",
   "execution_count": 42,
   "metadata": {},
   "outputs": [
    {
     "name": "stdout",
     "output_type": "stream",
     "text": [
      "Best parameters set found on development set: {'n_neighbors': 15, 'p': 1, 'weights': 'distance'}\n",
      "Best score: 0.8029854704696326\n",
      "Grid scores on development set:\n",
      "\n",
      "0.795 (+/-0.076) for {'n_neighbors': 5, 'p': 1, 'weights': 'distance'}\n",
      "0.776 (+/-0.078) for {'n_neighbors': 5, 'p': 2, 'weights': 'distance'}\n",
      "0.801 (+/-0.080) for {'n_neighbors': 9, 'p': 1, 'weights': 'distance'}\n",
      "0.782 (+/-0.082) for {'n_neighbors': 9, 'p': 2, 'weights': 'distance'}\n",
      "0.803 (+/-0.071) for {'n_neighbors': 15, 'p': 1, 'weights': 'distance'}\n",
      "0.780 (+/-0.079) for {'n_neighbors': 15, 'p': 2, 'weights': 'distance'}\n",
      "0.801 (+/-0.068) for {'n_neighbors': 19, 'p': 1, 'weights': 'distance'}\n",
      "0.778 (+/-0.075) for {'n_neighbors': 19, 'p': 2, 'weights': 'distance'}\n",
      "0.798 (+/-0.068) for {'n_neighbors': 25, 'p': 1, 'weights': 'distance'}\n",
      "0.776 (+/-0.071) for {'n_neighbors': 25, 'p': 2, 'weights': 'distance'}\n",
      "0.792 (+/-0.069) for {'n_neighbors': 35, 'p': 1, 'weights': 'distance'}\n",
      "0.771 (+/-0.065) for {'n_neighbors': 35, 'p': 2, 'weights': 'distance'}\n",
      "0.789 (+/-0.068) for {'n_neighbors': 45, 'p': 1, 'weights': 'distance'}\n",
      "0.765 (+/-0.064) for {'n_neighbors': 45, 'p': 2, 'weights': 'distance'}\n",
      "0.785 (+/-0.067) for {'n_neighbors': 55, 'p': 1, 'weights': 'distance'}\n",
      "0.761 (+/-0.067) for {'n_neighbors': 55, 'p': 2, 'weights': 'distance'}\n",
      "0.781 (+/-0.066) for {'n_neighbors': 71, 'p': 1, 'weights': 'distance'}\n",
      "0.757 (+/-0.065) for {'n_neighbors': 71, 'p': 2, 'weights': 'distance'}\n",
      "CPU times: user 302 ms, sys: 37.2 ms, total: 340 ms\n",
      "Wall time: 1min 10s\n"
     ]
    }
   ],
   "source": [
    "%%time\n",
    "a,b,c,d,e = prepare_input(train_labels, train_rdkit2d, target = 'toxic', encoder = encoder_toxic)\n",
    "\n",
    "t_knn_rdkit2d = model_selection(knn_clf, knn_grid_parameters_des, a, c, scoring = 'roc_auc', cv=5, GridSearch = True)"
   ]
  },
  {
   "cell_type": "code",
   "execution_count": 43,
   "metadata": {},
   "outputs": [
    {
     "name": "stdout",
     "output_type": "stream",
     "text": [
      "Best parameters set found on development set: {'n_neighbors': 15, 'p': 1, 'weights': 'distance'}\n",
      "Best score: 0.8041736775310927\n",
      "Grid scores on development set:\n",
      "\n",
      "0.794 (+/-0.072) for {'n_neighbors': 5, 'p': 1, 'weights': 'distance'}\n",
      "0.783 (+/-0.075) for {'n_neighbors': 5, 'p': 2, 'weights': 'distance'}\n",
      "0.803 (+/-0.071) for {'n_neighbors': 9, 'p': 1, 'weights': 'distance'}\n",
      "0.791 (+/-0.083) for {'n_neighbors': 9, 'p': 2, 'weights': 'distance'}\n",
      "0.804 (+/-0.070) for {'n_neighbors': 15, 'p': 1, 'weights': 'distance'}\n",
      "0.790 (+/-0.081) for {'n_neighbors': 15, 'p': 2, 'weights': 'distance'}\n",
      "0.802 (+/-0.074) for {'n_neighbors': 19, 'p': 1, 'weights': 'distance'}\n",
      "0.789 (+/-0.079) for {'n_neighbors': 19, 'p': 2, 'weights': 'distance'}\n",
      "0.800 (+/-0.071) for {'n_neighbors': 25, 'p': 1, 'weights': 'distance'}\n",
      "0.788 (+/-0.075) for {'n_neighbors': 25, 'p': 2, 'weights': 'distance'}\n",
      "0.797 (+/-0.069) for {'n_neighbors': 35, 'p': 1, 'weights': 'distance'}\n",
      "0.784 (+/-0.073) for {'n_neighbors': 35, 'p': 2, 'weights': 'distance'}\n",
      "0.794 (+/-0.067) for {'n_neighbors': 45, 'p': 1, 'weights': 'distance'}\n",
      "0.780 (+/-0.068) for {'n_neighbors': 45, 'p': 2, 'weights': 'distance'}\n",
      "0.791 (+/-0.066) for {'n_neighbors': 55, 'p': 1, 'weights': 'distance'}\n",
      "0.777 (+/-0.066) for {'n_neighbors': 55, 'p': 2, 'weights': 'distance'}\n",
      "0.788 (+/-0.066) for {'n_neighbors': 71, 'p': 1, 'weights': 'distance'}\n",
      "0.771 (+/-0.065) for {'n_neighbors': 71, 'p': 2, 'weights': 'distance'}\n",
      "CPU times: user 496 ms, sys: 34.3 ms, total: 530 ms\n",
      "Wall time: 2min 41s\n"
     ]
    }
   ],
   "source": [
    "%%time\n",
    "a,b,c,d,e = prepare_input(train_labels, train_mordred, target = 'toxic', encoder = encoder_toxic)\n",
    "\n",
    "t_knn_mordred = model_selection(knn_clf, knn_grid_parameters_des, a, c, scoring = 'roc_auc', cv=5, GridSearch = True)"
   ]
  },
  {
   "cell_type": "markdown",
   "metadata": {},
   "source": [
    "## Endpoint 3: EPA"
   ]
  },
  {
   "cell_type": "code",
   "execution_count": 56,
   "metadata": {},
   "outputs": [],
   "source": [
    "encoder_epa = joblib.load('../data/label_encoders/encoder_epa.joblib')"
   ]
  },
  {
   "cell_type": "code",
   "execution_count": 57,
   "metadata": {},
   "outputs": [
    {
     "name": "stdout",
     "output_type": "stream",
     "text": [
      "Best parameters set found on development set: {'metric': 'dice', 'n_neighbors': 9, 'weights': 'distance'}\n",
      "Best score: 0.5270581333255882\n",
      "Grid scores on development set:\n",
      "\n",
      "0.525 (+/-0.025) for {'metric': 'jaccard', 'n_neighbors': 5, 'weights': 'distance'}\n",
      "0.526 (+/-0.036) for {'metric': 'jaccard', 'n_neighbors': 9, 'weights': 'distance'}\n",
      "0.523 (+/-0.046) for {'metric': 'jaccard', 'n_neighbors': 15, 'weights': 'distance'}\n",
      "0.513 (+/-0.057) for {'metric': 'jaccard', 'n_neighbors': 19, 'weights': 'distance'}\n",
      "0.510 (+/-0.054) for {'metric': 'jaccard', 'n_neighbors': 23, 'weights': 'distance'}\n",
      "0.509 (+/-0.061) for {'metric': 'jaccard', 'n_neighbors': 25, 'weights': 'distance'}\n",
      "0.493 (+/-0.067) for {'metric': 'jaccard', 'n_neighbors': 35, 'weights': 'distance'}\n",
      "0.482 (+/-0.058) for {'metric': 'jaccard', 'n_neighbors': 45, 'weights': 'distance'}\n",
      "0.470 (+/-0.061) for {'metric': 'jaccard', 'n_neighbors': 55, 'weights': 'distance'}\n",
      "0.457 (+/-0.065) for {'metric': 'jaccard', 'n_neighbors': 71, 'weights': 'distance'}\n",
      "0.526 (+/-0.033) for {'metric': 'dice', 'n_neighbors': 5, 'weights': 'distance'}\n",
      "0.527 (+/-0.041) for {'metric': 'dice', 'n_neighbors': 9, 'weights': 'distance'}\n",
      "0.526 (+/-0.045) for {'metric': 'dice', 'n_neighbors': 15, 'weights': 'distance'}\n",
      "0.516 (+/-0.053) for {'metric': 'dice', 'n_neighbors': 19, 'weights': 'distance'}\n",
      "0.514 (+/-0.057) for {'metric': 'dice', 'n_neighbors': 23, 'weights': 'distance'}\n",
      "0.513 (+/-0.059) for {'metric': 'dice', 'n_neighbors': 25, 'weights': 'distance'}\n",
      "0.499 (+/-0.072) for {'metric': 'dice', 'n_neighbors': 35, 'weights': 'distance'}\n",
      "0.488 (+/-0.063) for {'metric': 'dice', 'n_neighbors': 45, 'weights': 'distance'}\n",
      "0.477 (+/-0.062) for {'metric': 'dice', 'n_neighbors': 55, 'weights': 'distance'}\n",
      "0.463 (+/-0.069) for {'metric': 'dice', 'n_neighbors': 71, 'weights': 'distance'}\n",
      "0.485 (+/-0.042) for {'metric': 'rogerstanimoto', 'n_neighbors': 5, 'weights': 'distance'}\n",
      "0.480 (+/-0.039) for {'metric': 'rogerstanimoto', 'n_neighbors': 9, 'weights': 'distance'}\n",
      "0.470 (+/-0.052) for {'metric': 'rogerstanimoto', 'n_neighbors': 15, 'weights': 'distance'}\n",
      "0.460 (+/-0.064) for {'metric': 'rogerstanimoto', 'n_neighbors': 19, 'weights': 'distance'}\n",
      "0.451 (+/-0.070) for {'metric': 'rogerstanimoto', 'n_neighbors': 23, 'weights': 'distance'}\n",
      "0.445 (+/-0.067) for {'metric': 'rogerstanimoto', 'n_neighbors': 25, 'weights': 'distance'}\n",
      "0.440 (+/-0.057) for {'metric': 'rogerstanimoto', 'n_neighbors': 35, 'weights': 'distance'}\n",
      "0.430 (+/-0.051) for {'metric': 'rogerstanimoto', 'n_neighbors': 45, 'weights': 'distance'}\n",
      "0.416 (+/-0.037) for {'metric': 'rogerstanimoto', 'n_neighbors': 55, 'weights': 'distance'}\n",
      "0.402 (+/-0.038) for {'metric': 'rogerstanimoto', 'n_neighbors': 71, 'weights': 'distance'}\n",
      "CPU times: user 2.3 s, sys: 525 ms, total: 2.82 s\n",
      "Wall time: 22min 39s\n"
     ]
    }
   ],
   "source": [
    "%%time\n",
    "a,b,c,d,e = prepare_input(train_labels, train_ecfp6_bits, target = 'EPA_category', encoder = encoder_epa)\n",
    "\n",
    "epa_knn_ecfp6bits = model_selection(knn_clf, knn_grid_parameters_fp, a, c, scoring = 'f1_weighted', cv=5, GridSearch = True)"
   ]
  },
  {
   "cell_type": "code",
   "execution_count": 58,
   "metadata": {},
   "outputs": [
    {
     "name": "stdout",
     "output_type": "stream",
     "text": [
      "Best parameters set found on development set: {'metric': 'rogerstanimoto', 'n_neighbors': 15, 'weights': 'distance'}\n",
      "Best score: 0.5428375675642761\n",
      "Grid scores on development set:\n",
      "\n",
      "0.532 (+/-0.047) for {'metric': 'jaccard', 'n_neighbors': 5, 'weights': 'distance'}\n",
      "0.539 (+/-0.052) for {'metric': 'jaccard', 'n_neighbors': 9, 'weights': 'distance'}\n",
      "0.533 (+/-0.068) for {'metric': 'jaccard', 'n_neighbors': 15, 'weights': 'distance'}\n",
      "0.533 (+/-0.072) for {'metric': 'jaccard', 'n_neighbors': 19, 'weights': 'distance'}\n",
      "0.530 (+/-0.070) for {'metric': 'jaccard', 'n_neighbors': 23, 'weights': 'distance'}\n",
      "0.531 (+/-0.070) for {'metric': 'jaccard', 'n_neighbors': 25, 'weights': 'distance'}\n",
      "0.522 (+/-0.079) for {'metric': 'jaccard', 'n_neighbors': 35, 'weights': 'distance'}\n",
      "0.516 (+/-0.079) for {'metric': 'jaccard', 'n_neighbors': 45, 'weights': 'distance'}\n",
      "0.508 (+/-0.071) for {'metric': 'jaccard', 'n_neighbors': 55, 'weights': 'distance'}\n",
      "0.499 (+/-0.064) for {'metric': 'jaccard', 'n_neighbors': 71, 'weights': 'distance'}\n",
      "0.533 (+/-0.048) for {'metric': 'dice', 'n_neighbors': 5, 'weights': 'distance'}\n",
      "0.541 (+/-0.052) for {'metric': 'dice', 'n_neighbors': 9, 'weights': 'distance'}\n",
      "0.535 (+/-0.068) for {'metric': 'dice', 'n_neighbors': 15, 'weights': 'distance'}\n",
      "0.534 (+/-0.072) for {'metric': 'dice', 'n_neighbors': 19, 'weights': 'distance'}\n",
      "0.532 (+/-0.071) for {'metric': 'dice', 'n_neighbors': 23, 'weights': 'distance'}\n",
      "0.533 (+/-0.070) for {'metric': 'dice', 'n_neighbors': 25, 'weights': 'distance'}\n",
      "0.526 (+/-0.079) for {'metric': 'dice', 'n_neighbors': 35, 'weights': 'distance'}\n",
      "0.519 (+/-0.075) for {'metric': 'dice', 'n_neighbors': 45, 'weights': 'distance'}\n",
      "0.511 (+/-0.072) for {'metric': 'dice', 'n_neighbors': 55, 'weights': 'distance'}\n",
      "0.503 (+/-0.067) for {'metric': 'dice', 'n_neighbors': 71, 'weights': 'distance'}\n",
      "0.531 (+/-0.053) for {'metric': 'rogerstanimoto', 'n_neighbors': 5, 'weights': 'distance'}\n",
      "0.537 (+/-0.059) for {'metric': 'rogerstanimoto', 'n_neighbors': 9, 'weights': 'distance'}\n",
      "0.543 (+/-0.068) for {'metric': 'rogerstanimoto', 'n_neighbors': 15, 'weights': 'distance'}\n",
      "0.539 (+/-0.067) for {'metric': 'rogerstanimoto', 'n_neighbors': 19, 'weights': 'distance'}\n",
      "0.536 (+/-0.069) for {'metric': 'rogerstanimoto', 'n_neighbors': 23, 'weights': 'distance'}\n",
      "0.533 (+/-0.065) for {'metric': 'rogerstanimoto', 'n_neighbors': 25, 'weights': 'distance'}\n",
      "0.527 (+/-0.083) for {'metric': 'rogerstanimoto', 'n_neighbors': 35, 'weights': 'distance'}\n",
      "0.518 (+/-0.079) for {'metric': 'rogerstanimoto', 'n_neighbors': 45, 'weights': 'distance'}\n",
      "0.512 (+/-0.077) for {'metric': 'rogerstanimoto', 'n_neighbors': 55, 'weights': 'distance'}\n",
      "0.500 (+/-0.076) for {'metric': 'rogerstanimoto', 'n_neighbors': 71, 'weights': 'distance'}\n",
      "CPU times: user 552 ms, sys: 28.2 ms, total: 580 ms\n",
      "Wall time: 1min 40s\n"
     ]
    }
   ],
   "source": [
    "%%time\n",
    "a,b,c,d,e = prepare_input(train_labels, train_maccs, target = 'EPA_category', encoder = encoder_epa)\n",
    "\n",
    "epa_knn_maccs = model_selection(knn_clf, knn_grid_parameters_fp, a, c, scoring = 'f1_weighted', cv=5, GridSearch = True)"
   ]
  },
  {
   "cell_type": "code",
   "execution_count": 59,
   "metadata": {},
   "outputs": [
    {
     "name": "stdout",
     "output_type": "stream",
     "text": [
      "Best parameters set found on development set: {'metric': 'braycurtis', 'n_neighbors': 9, 'weights': 'distance'}\n",
      "Best score: 0.526256890725965\n",
      "Grid scores on development set:\n",
      "\n",
      "0.449 (+/-0.054) for {'metric': 'hamming', 'n_neighbors': 5, 'weights': 'distance'}\n",
      "0.443 (+/-0.074) for {'metric': 'hamming', 'n_neighbors': 9, 'weights': 'distance'}\n",
      "0.425 (+/-0.093) for {'metric': 'hamming', 'n_neighbors': 15, 'weights': 'distance'}\n",
      "0.409 (+/-0.088) for {'metric': 'hamming', 'n_neighbors': 19, 'weights': 'distance'}\n",
      "0.409 (+/-0.082) for {'metric': 'hamming', 'n_neighbors': 25, 'weights': 'distance'}\n",
      "0.408 (+/-0.064) for {'metric': 'hamming', 'n_neighbors': 35, 'weights': 'distance'}\n",
      "0.405 (+/-0.051) for {'metric': 'hamming', 'n_neighbors': 45, 'weights': 'distance'}\n",
      "0.404 (+/-0.043) for {'metric': 'hamming', 'n_neighbors': 55, 'weights': 'distance'}\n",
      "0.390 (+/-0.039) for {'metric': 'hamming', 'n_neighbors': 71, 'weights': 'distance'}\n",
      "0.478 (+/-0.045) for {'metric': 'canberra', 'n_neighbors': 5, 'weights': 'distance'}\n",
      "0.473 (+/-0.053) for {'metric': 'canberra', 'n_neighbors': 9, 'weights': 'distance'}\n",
      "0.463 (+/-0.062) for {'metric': 'canberra', 'n_neighbors': 15, 'weights': 'distance'}\n",
      "0.450 (+/-0.061) for {'metric': 'canberra', 'n_neighbors': 19, 'weights': 'distance'}\n",
      "0.434 (+/-0.077) for {'metric': 'canberra', 'n_neighbors': 25, 'weights': 'distance'}\n",
      "0.428 (+/-0.054) for {'metric': 'canberra', 'n_neighbors': 35, 'weights': 'distance'}\n",
      "0.414 (+/-0.049) for {'metric': 'canberra', 'n_neighbors': 45, 'weights': 'distance'}\n",
      "0.411 (+/-0.045) for {'metric': 'canberra', 'n_neighbors': 55, 'weights': 'distance'}\n",
      "0.400 (+/-0.042) for {'metric': 'canberra', 'n_neighbors': 71, 'weights': 'distance'}\n",
      "0.525 (+/-0.054) for {'metric': 'braycurtis', 'n_neighbors': 5, 'weights': 'distance'}\n",
      "0.526 (+/-0.049) for {'metric': 'braycurtis', 'n_neighbors': 9, 'weights': 'distance'}\n",
      "0.517 (+/-0.048) for {'metric': 'braycurtis', 'n_neighbors': 15, 'weights': 'distance'}\n",
      "0.514 (+/-0.056) for {'metric': 'braycurtis', 'n_neighbors': 19, 'weights': 'distance'}\n",
      "0.505 (+/-0.041) for {'metric': 'braycurtis', 'n_neighbors': 25, 'weights': 'distance'}\n",
      "0.496 (+/-0.043) for {'metric': 'braycurtis', 'n_neighbors': 35, 'weights': 'distance'}\n",
      "0.480 (+/-0.046) for {'metric': 'braycurtis', 'n_neighbors': 45, 'weights': 'distance'}\n",
      "0.470 (+/-0.057) for {'metric': 'braycurtis', 'n_neighbors': 55, 'weights': 'distance'}\n",
      "0.457 (+/-0.057) for {'metric': 'braycurtis', 'n_neighbors': 71, 'weights': 'distance'}\n",
      "CPU times: user 1.75 s, sys: 145 ms, total: 1.89 s\n",
      "Wall time: 16min 41s\n"
     ]
    }
   ],
   "source": [
    "%%time\n",
    "a,b,c,d,e = prepare_input(train_labels, train_ecfp6_counts, target = 'EPA_category', encoder = encoder_epa)\n",
    "\n",
    "epa_knn_ecfp6count = model_selection(knn_clf, knn_grid_parameters_fpcounts, a, c, scoring = 'f1_weighted', cv=5, GridSearch = True)"
   ]
  },
  {
   "cell_type": "code",
   "execution_count": 60,
   "metadata": {},
   "outputs": [
    {
     "name": "stdout",
     "output_type": "stream",
     "text": [
      "Best parameters set found on development set: {'n_neighbors': 9, 'p': 1, 'weights': 'distance'}\n",
      "Best score: 0.5360856666601568\n",
      "Grid scores on development set:\n",
      "\n",
      "0.533 (+/-0.043) for {'n_neighbors': 5, 'p': 1, 'weights': 'distance'}\n",
      "0.523 (+/-0.041) for {'n_neighbors': 5, 'p': 2, 'weights': 'distance'}\n",
      "0.536 (+/-0.055) for {'n_neighbors': 9, 'p': 1, 'weights': 'distance'}\n",
      "0.522 (+/-0.052) for {'n_neighbors': 9, 'p': 2, 'weights': 'distance'}\n",
      "0.532 (+/-0.071) for {'n_neighbors': 15, 'p': 1, 'weights': 'distance'}\n",
      "0.512 (+/-0.062) for {'n_neighbors': 15, 'p': 2, 'weights': 'distance'}\n",
      "0.528 (+/-0.065) for {'n_neighbors': 19, 'p': 1, 'weights': 'distance'}\n",
      "0.507 (+/-0.061) for {'n_neighbors': 19, 'p': 2, 'weights': 'distance'}\n",
      "0.522 (+/-0.072) for {'n_neighbors': 25, 'p': 1, 'weights': 'distance'}\n",
      "0.504 (+/-0.073) for {'n_neighbors': 25, 'p': 2, 'weights': 'distance'}\n",
      "0.510 (+/-0.084) for {'n_neighbors': 35, 'p': 1, 'weights': 'distance'}\n",
      "0.492 (+/-0.079) for {'n_neighbors': 35, 'p': 2, 'weights': 'distance'}\n",
      "0.500 (+/-0.080) for {'n_neighbors': 45, 'p': 1, 'weights': 'distance'}\n",
      "0.483 (+/-0.071) for {'n_neighbors': 45, 'p': 2, 'weights': 'distance'}\n",
      "0.492 (+/-0.078) for {'n_neighbors': 55, 'p': 1, 'weights': 'distance'}\n",
      "0.474 (+/-0.076) for {'n_neighbors': 55, 'p': 2, 'weights': 'distance'}\n",
      "0.481 (+/-0.082) for {'n_neighbors': 71, 'p': 1, 'weights': 'distance'}\n",
      "0.457 (+/-0.068) for {'n_neighbors': 71, 'p': 2, 'weights': 'distance'}\n",
      "CPU times: user 303 ms, sys: 31.5 ms, total: 335 ms\n",
      "Wall time: 1min 8s\n"
     ]
    }
   ],
   "source": [
    "%%time\n",
    "a,b,c,d,e = prepare_input(train_labels, train_rdkit2d, target = 'EPA_category', encoder = encoder_epa)\n",
    "\n",
    "epa_knn_rdkit2d = model_selection(knn_clf, knn_grid_parameters_des, a, c, scoring = 'f1_weighted', cv=5, GridSearch = True)"
   ]
  },
  {
   "cell_type": "code",
   "execution_count": 61,
   "metadata": {},
   "outputs": [
    {
     "name": "stdout",
     "output_type": "stream",
     "text": [
      "Best parameters set found on development set: {'n_neighbors': 9, 'p': 1, 'weights': 'distance'}\n",
      "Best score: 0.5379409379014389\n",
      "Grid scores on development set:\n",
      "\n",
      "0.537 (+/-0.039) for {'n_neighbors': 5, 'p': 1, 'weights': 'distance'}\n",
      "0.528 (+/-0.044) for {'n_neighbors': 5, 'p': 2, 'weights': 'distance'}\n",
      "0.538 (+/-0.038) for {'n_neighbors': 9, 'p': 1, 'weights': 'distance'}\n",
      "0.529 (+/-0.053) for {'n_neighbors': 9, 'p': 2, 'weights': 'distance'}\n",
      "0.534 (+/-0.050) for {'n_neighbors': 15, 'p': 1, 'weights': 'distance'}\n",
      "0.528 (+/-0.060) for {'n_neighbors': 15, 'p': 2, 'weights': 'distance'}\n",
      "0.527 (+/-0.064) for {'n_neighbors': 19, 'p': 1, 'weights': 'distance'}\n",
      "0.523 (+/-0.061) for {'n_neighbors': 19, 'p': 2, 'weights': 'distance'}\n",
      "0.526 (+/-0.065) for {'n_neighbors': 25, 'p': 1, 'weights': 'distance'}\n",
      "0.512 (+/-0.062) for {'n_neighbors': 25, 'p': 2, 'weights': 'distance'}\n",
      "0.509 (+/-0.066) for {'n_neighbors': 35, 'p': 1, 'weights': 'distance'}\n",
      "0.499 (+/-0.061) for {'n_neighbors': 35, 'p': 2, 'weights': 'distance'}\n",
      "0.504 (+/-0.075) for {'n_neighbors': 45, 'p': 1, 'weights': 'distance'}\n",
      "0.486 (+/-0.064) for {'n_neighbors': 45, 'p': 2, 'weights': 'distance'}\n",
      "0.494 (+/-0.072) for {'n_neighbors': 55, 'p': 1, 'weights': 'distance'}\n",
      "0.480 (+/-0.071) for {'n_neighbors': 55, 'p': 2, 'weights': 'distance'}\n",
      "0.486 (+/-0.070) for {'n_neighbors': 71, 'p': 1, 'weights': 'distance'}\n",
      "0.472 (+/-0.069) for {'n_neighbors': 71, 'p': 2, 'weights': 'distance'}\n",
      "CPU times: user 490 ms, sys: 32.1 ms, total: 522 ms\n",
      "Wall time: 2min 38s\n"
     ]
    }
   ],
   "source": [
    "%%time\n",
    "a,b,c,d,e = prepare_input(train_labels, train_mordred, target = 'EPA_category', encoder = encoder_epa)\n",
    "\n",
    "epa_knn_mordred = model_selection(knn_clf, knn_grid_parameters_des, a, c, scoring = 'f1_weighted', cv=5, GridSearch = True)"
   ]
  },
  {
   "cell_type": "markdown",
   "metadata": {},
   "source": [
    "## Endpoint 4: logLD50"
   ]
  },
  {
   "cell_type": "code",
   "execution_count": 50,
   "metadata": {},
   "outputs": [
    {
     "name": "stdout",
     "output_type": "stream",
     "text": [
      "Best parameters set found on development set: {'metric': 'dice', 'n_neighbors': 15, 'weights': 'distance'}\n",
      "Best score: -0.5328170551774813\n",
      "Grid scores on development set:\n",
      "\n",
      "-0.554 (+/-0.155) for {'metric': 'jaccard', 'n_neighbors': 5, 'weights': 'distance'}\n",
      "-0.542 (+/-0.169) for {'metric': 'jaccard', 'n_neighbors': 9, 'weights': 'distance'}\n",
      "-0.537 (+/-0.176) for {'metric': 'jaccard', 'n_neighbors': 15, 'weights': 'distance'}\n",
      "-0.542 (+/-0.173) for {'metric': 'jaccard', 'n_neighbors': 19, 'weights': 'distance'}\n",
      "-0.546 (+/-0.172) for {'metric': 'jaccard', 'n_neighbors': 23, 'weights': 'distance'}\n",
      "-0.549 (+/-0.171) for {'metric': 'jaccard', 'n_neighbors': 25, 'weights': 'distance'}\n",
      "-0.559 (+/-0.168) for {'metric': 'jaccard', 'n_neighbors': 35, 'weights': 'distance'}\n",
      "-0.566 (+/-0.168) for {'metric': 'jaccard', 'n_neighbors': 45, 'weights': 'distance'}\n",
      "-0.576 (+/-0.172) for {'metric': 'jaccard', 'n_neighbors': 55, 'weights': 'distance'}\n",
      "-0.589 (+/-0.184) for {'metric': 'jaccard', 'n_neighbors': 71, 'weights': 'distance'}\n",
      "-0.551 (+/-0.153) for {'metric': 'dice', 'n_neighbors': 5, 'weights': 'distance'}\n",
      "-0.538 (+/-0.167) for {'metric': 'dice', 'n_neighbors': 9, 'weights': 'distance'}\n",
      "-0.533 (+/-0.174) for {'metric': 'dice', 'n_neighbors': 15, 'weights': 'distance'}\n",
      "-0.537 (+/-0.173) for {'metric': 'dice', 'n_neighbors': 19, 'weights': 'distance'}\n",
      "-0.541 (+/-0.172) for {'metric': 'dice', 'n_neighbors': 23, 'weights': 'distance'}\n",
      "-0.544 (+/-0.171) for {'metric': 'dice', 'n_neighbors': 25, 'weights': 'distance'}\n",
      "-0.553 (+/-0.168) for {'metric': 'dice', 'n_neighbors': 35, 'weights': 'distance'}\n",
      "-0.560 (+/-0.167) for {'metric': 'dice', 'n_neighbors': 45, 'weights': 'distance'}\n",
      "-0.570 (+/-0.172) for {'metric': 'dice', 'n_neighbors': 55, 'weights': 'distance'}\n",
      "-0.584 (+/-0.182) for {'metric': 'dice', 'n_neighbors': 71, 'weights': 'distance'}\n",
      "-0.737 (+/-0.262) for {'metric': 'rogerstanimoto', 'n_neighbors': 5, 'weights': 'distance'}\n",
      "-0.753 (+/-0.316) for {'metric': 'rogerstanimoto', 'n_neighbors': 9, 'weights': 'distance'}\n",
      "-0.778 (+/-0.336) for {'metric': 'rogerstanimoto', 'n_neighbors': 15, 'weights': 'distance'}\n",
      "-0.787 (+/-0.342) for {'metric': 'rogerstanimoto', 'n_neighbors': 19, 'weights': 'distance'}\n",
      "-0.797 (+/-0.344) for {'metric': 'rogerstanimoto', 'n_neighbors': 23, 'weights': 'distance'}\n",
      "-0.804 (+/-0.347) for {'metric': 'rogerstanimoto', 'n_neighbors': 25, 'weights': 'distance'}\n",
      "-0.832 (+/-0.362) for {'metric': 'rogerstanimoto', 'n_neighbors': 35, 'weights': 'distance'}\n",
      "-0.849 (+/-0.377) for {'metric': 'rogerstanimoto', 'n_neighbors': 45, 'weights': 'distance'}\n",
      "-0.864 (+/-0.395) for {'metric': 'rogerstanimoto', 'n_neighbors': 55, 'weights': 'distance'}\n",
      "-0.880 (+/-0.412) for {'metric': 'rogerstanimoto', 'n_neighbors': 71, 'weights': 'distance'}\n",
      "CPU times: user 1.69 s, sys: 337 ms, total: 2.03 s\n",
      "Wall time: 12min 40s\n"
     ]
    }
   ],
   "source": [
    "%%time\n",
    "a,b,c,d,e = prepare_input(train_labels, train_ecfp6_bits, target = 'logLD50_mmolkg', encoder = None)\n",
    "\n",
    "ld50_knn_ecfp6bits = model_selection(knn_reg, knn_grid_parameters_fp, a, c, scoring = 'neg_mean_squared_error', cv=5, GridSearch = True)"
   ]
  },
  {
   "cell_type": "code",
   "execution_count": 51,
   "metadata": {},
   "outputs": [
    {
     "name": "stdout",
     "output_type": "stream",
     "text": [
      "Best parameters set found on development set: {'metric': 'rogerstanimoto', 'n_neighbors': 9, 'weights': 'distance'}\n",
      "Best score: -0.4895571637640469\n",
      "Grid scores on development set:\n",
      "\n",
      "-0.507 (+/-0.086) for {'metric': 'jaccard', 'n_neighbors': 5, 'weights': 'distance'}\n",
      "-0.501 (+/-0.107) for {'metric': 'jaccard', 'n_neighbors': 9, 'weights': 'distance'}\n",
      "-0.504 (+/-0.137) for {'metric': 'jaccard', 'n_neighbors': 15, 'weights': 'distance'}\n",
      "-0.509 (+/-0.146) for {'metric': 'jaccard', 'n_neighbors': 19, 'weights': 'distance'}\n",
      "-0.516 (+/-0.149) for {'metric': 'jaccard', 'n_neighbors': 23, 'weights': 'distance'}\n",
      "-0.520 (+/-0.149) for {'metric': 'jaccard', 'n_neighbors': 25, 'weights': 'distance'}\n",
      "-0.532 (+/-0.152) for {'metric': 'jaccard', 'n_neighbors': 35, 'weights': 'distance'}\n",
      "-0.543 (+/-0.155) for {'metric': 'jaccard', 'n_neighbors': 45, 'weights': 'distance'}\n",
      "-0.552 (+/-0.156) for {'metric': 'jaccard', 'n_neighbors': 55, 'weights': 'distance'}\n",
      "-0.561 (+/-0.157) for {'metric': 'jaccard', 'n_neighbors': 71, 'weights': 'distance'}\n",
      "-0.505 (+/-0.084) for {'metric': 'dice', 'n_neighbors': 5, 'weights': 'distance'}\n",
      "-0.498 (+/-0.103) for {'metric': 'dice', 'n_neighbors': 9, 'weights': 'distance'}\n",
      "-0.500 (+/-0.132) for {'metric': 'dice', 'n_neighbors': 15, 'weights': 'distance'}\n",
      "-0.505 (+/-0.141) for {'metric': 'dice', 'n_neighbors': 19, 'weights': 'distance'}\n",
      "-0.511 (+/-0.144) for {'metric': 'dice', 'n_neighbors': 23, 'weights': 'distance'}\n",
      "-0.515 (+/-0.144) for {'metric': 'dice', 'n_neighbors': 25, 'weights': 'distance'}\n",
      "-0.527 (+/-0.148) for {'metric': 'dice', 'n_neighbors': 35, 'weights': 'distance'}\n",
      "-0.538 (+/-0.151) for {'metric': 'dice', 'n_neighbors': 45, 'weights': 'distance'}\n",
      "-0.546 (+/-0.152) for {'metric': 'dice', 'n_neighbors': 55, 'weights': 'distance'}\n",
      "-0.555 (+/-0.153) for {'metric': 'dice', 'n_neighbors': 71, 'weights': 'distance'}\n",
      "-0.501 (+/-0.087) for {'metric': 'rogerstanimoto', 'n_neighbors': 5, 'weights': 'distance'}\n",
      "-0.490 (+/-0.102) for {'metric': 'rogerstanimoto', 'n_neighbors': 9, 'weights': 'distance'}\n",
      "-0.498 (+/-0.128) for {'metric': 'rogerstanimoto', 'n_neighbors': 15, 'weights': 'distance'}\n",
      "-0.506 (+/-0.137) for {'metric': 'rogerstanimoto', 'n_neighbors': 19, 'weights': 'distance'}\n",
      "-0.514 (+/-0.146) for {'metric': 'rogerstanimoto', 'n_neighbors': 23, 'weights': 'distance'}\n",
      "-0.517 (+/-0.147) for {'metric': 'rogerstanimoto', 'n_neighbors': 25, 'weights': 'distance'}\n",
      "-0.531 (+/-0.154) for {'metric': 'rogerstanimoto', 'n_neighbors': 35, 'weights': 'distance'}\n",
      "-0.542 (+/-0.158) for {'metric': 'rogerstanimoto', 'n_neighbors': 45, 'weights': 'distance'}\n",
      "-0.551 (+/-0.160) for {'metric': 'rogerstanimoto', 'n_neighbors': 55, 'weights': 'distance'}\n",
      "-0.562 (+/-0.165) for {'metric': 'rogerstanimoto', 'n_neighbors': 71, 'weights': 'distance'}\n",
      "CPU times: user 477 ms, sys: 30.7 ms, total: 508 ms\n",
      "Wall time: 56.5 s\n"
     ]
    }
   ],
   "source": [
    "%%time\n",
    "a,b,c,d,e = prepare_input(train_labels, train_maccs, target = 'logLD50_mmolkg', encoder = None)\n",
    "\n",
    "ld50_knn_maccs = model_selection(knn_reg, knn_grid_parameters_fp, a, c, scoring = 'neg_mean_squared_error', cv=5, GridSearch = True)"
   ]
  },
  {
   "cell_type": "code",
   "execution_count": 52,
   "metadata": {},
   "outputs": [
    {
     "name": "stdout",
     "output_type": "stream",
     "text": [
      "Best parameters set found on development set: {'metric': 'braycurtis', 'n_neighbors': 15, 'weights': 'distance'}\n",
      "Best score: -0.5298963472744054\n",
      "Grid scores on development set:\n",
      "\n",
      "-0.766 (+/-0.252) for {'metric': 'hamming', 'n_neighbors': 5, 'weights': 'distance'}\n",
      "-0.771 (+/-0.274) for {'metric': 'hamming', 'n_neighbors': 9, 'weights': 'distance'}\n",
      "-0.788 (+/-0.325) for {'metric': 'hamming', 'n_neighbors': 15, 'weights': 'distance'}\n",
      "-0.805 (+/-0.353) for {'metric': 'hamming', 'n_neighbors': 19, 'weights': 'distance'}\n",
      "-0.828 (+/-0.382) for {'metric': 'hamming', 'n_neighbors': 25, 'weights': 'distance'}\n",
      "-0.858 (+/-0.413) for {'metric': 'hamming', 'n_neighbors': 35, 'weights': 'distance'}\n",
      "-0.883 (+/-0.436) for {'metric': 'hamming', 'n_neighbors': 45, 'weights': 'distance'}\n",
      "-0.901 (+/-0.449) for {'metric': 'hamming', 'n_neighbors': 55, 'weights': 'distance'}\n",
      "-0.915 (+/-0.459) for {'metric': 'hamming', 'n_neighbors': 71, 'weights': 'distance'}\n",
      "-0.761 (+/-0.259) for {'metric': 'canberra', 'n_neighbors': 5, 'weights': 'distance'}\n",
      "-0.762 (+/-0.291) for {'metric': 'canberra', 'n_neighbors': 9, 'weights': 'distance'}\n",
      "-0.786 (+/-0.321) for {'metric': 'canberra', 'n_neighbors': 15, 'weights': 'distance'}\n",
      "-0.798 (+/-0.331) for {'metric': 'canberra', 'n_neighbors': 19, 'weights': 'distance'}\n",
      "-0.816 (+/-0.347) for {'metric': 'canberra', 'n_neighbors': 25, 'weights': 'distance'}\n",
      "-0.843 (+/-0.374) for {'metric': 'canberra', 'n_neighbors': 35, 'weights': 'distance'}\n",
      "-0.863 (+/-0.394) for {'metric': 'canberra', 'n_neighbors': 45, 'weights': 'distance'}\n",
      "-0.879 (+/-0.419) for {'metric': 'canberra', 'n_neighbors': 55, 'weights': 'distance'}\n",
      "-0.897 (+/-0.439) for {'metric': 'canberra', 'n_neighbors': 71, 'weights': 'distance'}\n",
      "-0.540 (+/-0.143) for {'metric': 'braycurtis', 'n_neighbors': 5, 'weights': 'distance'}\n",
      "-0.530 (+/-0.152) for {'metric': 'braycurtis', 'n_neighbors': 9, 'weights': 'distance'}\n",
      "-0.530 (+/-0.159) for {'metric': 'braycurtis', 'n_neighbors': 15, 'weights': 'distance'}\n",
      "-0.537 (+/-0.168) for {'metric': 'braycurtis', 'n_neighbors': 19, 'weights': 'distance'}\n",
      "-0.543 (+/-0.172) for {'metric': 'braycurtis', 'n_neighbors': 25, 'weights': 'distance'}\n",
      "-0.557 (+/-0.170) for {'metric': 'braycurtis', 'n_neighbors': 35, 'weights': 'distance'}\n",
      "-0.567 (+/-0.173) for {'metric': 'braycurtis', 'n_neighbors': 45, 'weights': 'distance'}\n",
      "-0.577 (+/-0.177) for {'metric': 'braycurtis', 'n_neighbors': 55, 'weights': 'distance'}\n",
      "-0.593 (+/-0.184) for {'metric': 'braycurtis', 'n_neighbors': 71, 'weights': 'distance'}\n",
      "CPU times: user 1.24 s, sys: 135 ms, total: 1.37 s\n",
      "Wall time: 9min 32s\n"
     ]
    }
   ],
   "source": [
    "%%time\n",
    "a,b,c,d,e = prepare_input(train_labels, train_ecfp6_counts, target = 'logLD50_mmolkg', encoder = None)\n",
    "\n",
    "ld50_knn_ecfp6count = model_selection(knn_reg, knn_grid_parameters_fpcounts, a, c, scoring = 'neg_mean_squared_error', cv=5, GridSearch = True)"
   ]
  },
  {
   "cell_type": "code",
   "execution_count": 53,
   "metadata": {},
   "outputs": [
    {
     "name": "stdout",
     "output_type": "stream",
     "text": [
      "Best parameters set found on development set: {'n_neighbors': 9, 'p': 1, 'weights': 'distance'}\n",
      "Best score: -0.49749231245615383\n",
      "Grid scores on development set:\n",
      "\n",
      "-0.511 (+/-0.130) for {'n_neighbors': 5, 'p': 1, 'weights': 'distance'}\n",
      "-0.550 (+/-0.161) for {'n_neighbors': 5, 'p': 2, 'weights': 'distance'}\n",
      "-0.497 (+/-0.131) for {'n_neighbors': 9, 'p': 1, 'weights': 'distance'}\n",
      "-0.539 (+/-0.164) for {'n_neighbors': 9, 'p': 2, 'weights': 'distance'}\n",
      "-0.506 (+/-0.140) for {'n_neighbors': 15, 'p': 1, 'weights': 'distance'}\n",
      "-0.539 (+/-0.167) for {'n_neighbors': 15, 'p': 2, 'weights': 'distance'}\n",
      "-0.512 (+/-0.141) for {'n_neighbors': 19, 'p': 1, 'weights': 'distance'}\n",
      "-0.543 (+/-0.162) for {'n_neighbors': 19, 'p': 2, 'weights': 'distance'}\n",
      "-0.519 (+/-0.151) for {'n_neighbors': 25, 'p': 1, 'weights': 'distance'}\n",
      "-0.553 (+/-0.164) for {'n_neighbors': 25, 'p': 2, 'weights': 'distance'}\n",
      "-0.534 (+/-0.151) for {'n_neighbors': 35, 'p': 1, 'weights': 'distance'}\n",
      "-0.566 (+/-0.162) for {'n_neighbors': 35, 'p': 2, 'weights': 'distance'}\n",
      "-0.546 (+/-0.155) for {'n_neighbors': 45, 'p': 1, 'weights': 'distance'}\n",
      "-0.578 (+/-0.169) for {'n_neighbors': 45, 'p': 2, 'weights': 'distance'}\n",
      "-0.558 (+/-0.160) for {'n_neighbors': 55, 'p': 1, 'weights': 'distance'}\n",
      "-0.588 (+/-0.177) for {'n_neighbors': 55, 'p': 2, 'weights': 'distance'}\n",
      "-0.575 (+/-0.167) for {'n_neighbors': 71, 'p': 1, 'weights': 'distance'}\n",
      "-0.603 (+/-0.190) for {'n_neighbors': 71, 'p': 2, 'weights': 'distance'}\n",
      "CPU times: user 271 ms, sys: 21.2 ms, total: 292 ms\n",
      "Wall time: 41.3 s\n"
     ]
    }
   ],
   "source": [
    "%%time\n",
    "a,b,c,d,e = prepare_input(train_labels, train_rdkit2d, target = 'logLD50_mmolkg', encoder = None)\n",
    "\n",
    "ld50_knn_rdkit2d = model_selection(knn_reg, knn_grid_parameters_des, a, c, scoring = 'neg_mean_squared_error', cv=5, GridSearch = True)"
   ]
  },
  {
   "cell_type": "code",
   "execution_count": 54,
   "metadata": {},
   "outputs": [
    {
     "name": "stdout",
     "output_type": "stream",
     "text": [
      "Best parameters set found on development set: {'n_neighbors': 9, 'p': 1, 'weights': 'distance'}\n",
      "Best score: -0.4715369782401039\n",
      "Grid scores on development set:\n",
      "\n",
      "-0.477 (+/-0.083) for {'n_neighbors': 5, 'p': 1, 'weights': 'distance'}\n",
      "-0.497 (+/-0.090) for {'n_neighbors': 5, 'p': 2, 'weights': 'distance'}\n",
      "-0.472 (+/-0.119) for {'n_neighbors': 9, 'p': 1, 'weights': 'distance'}\n",
      "-0.492 (+/-0.110) for {'n_neighbors': 9, 'p': 2, 'weights': 'distance'}\n",
      "-0.481 (+/-0.139) for {'n_neighbors': 15, 'p': 1, 'weights': 'distance'}\n",
      "-0.496 (+/-0.129) for {'n_neighbors': 15, 'p': 2, 'weights': 'distance'}\n",
      "-0.487 (+/-0.139) for {'n_neighbors': 19, 'p': 1, 'weights': 'distance'}\n",
      "-0.503 (+/-0.130) for {'n_neighbors': 19, 'p': 2, 'weights': 'distance'}\n",
      "-0.494 (+/-0.135) for {'n_neighbors': 25, 'p': 1, 'weights': 'distance'}\n",
      "-0.508 (+/-0.131) for {'n_neighbors': 25, 'p': 2, 'weights': 'distance'}\n",
      "-0.510 (+/-0.135) for {'n_neighbors': 35, 'p': 1, 'weights': 'distance'}\n",
      "-0.520 (+/-0.129) for {'n_neighbors': 35, 'p': 2, 'weights': 'distance'}\n",
      "-0.519 (+/-0.133) for {'n_neighbors': 45, 'p': 1, 'weights': 'distance'}\n",
      "-0.532 (+/-0.128) for {'n_neighbors': 45, 'p': 2, 'weights': 'distance'}\n",
      "-0.528 (+/-0.137) for {'n_neighbors': 55, 'p': 1, 'weights': 'distance'}\n",
      "-0.541 (+/-0.129) for {'n_neighbors': 55, 'p': 2, 'weights': 'distance'}\n",
      "-0.541 (+/-0.143) for {'n_neighbors': 71, 'p': 1, 'weights': 'distance'}\n",
      "-0.552 (+/-0.135) for {'n_neighbors': 71, 'p': 2, 'weights': 'distance'}\n",
      "CPU times: user 485 ms, sys: 31.1 ms, total: 516 ms\n",
      "Wall time: 1min 33s\n"
     ]
    }
   ],
   "source": [
    "%%time\n",
    "a,b,c,d,e = prepare_input(train_labels, train_mordred, target = 'logLD50_mmolkg', encoder = None)\n",
    "\n",
    "ld50_knn_mordred = model_selection(knn_reg, knn_grid_parameters_des, a, c, scoring = 'neg_mean_squared_error', cv=5, GridSearch = True)"
   ]
  },
  {
   "cell_type": "markdown",
   "metadata": {},
   "source": [
    "# SVM"
   ]
  },
  {
   "cell_type": "markdown",
   "metadata": {},
   "source": [
    "## Endpoint 1: verytoxic"
   ]
  },
  {
   "cell_type": "markdown",
   "metadata": {},
   "source": [
    "## Endpoint 1: toxic"
   ]
  },
  {
   "cell_type": "code",
   "execution_count": 9,
   "metadata": {},
   "outputs": [],
   "source": [
    "encoder_toxic = joblib.load('../data/label_encoders/encoder_toxic.joblib')"
   ]
  },
  {
   "cell_type": "code",
   "execution_count": 27,
   "metadata": {},
   "outputs": [
    {
     "name": "stderr",
     "output_type": "stream",
     "text": [
      "/home/xinhao/.local/lib/python3.6/site-packages/joblib/externals/loky/process_executor.py:706: UserWarning: A worker stopped while some jobs were given to the executor. This can be caused by a too short worker timeout or by a memory leak.\n",
      "  \"timeout or by a memory leak.\", UserWarning\n"
     ]
    },
    {
     "name": "stdout",
     "output_type": "stream",
     "text": [
      "Best parameters set found on development set: {'C': 1, 'gamma': 0.01, 'kernel': 'rbf'}\n",
      "Best score: 0.7613998340826534\n",
      "Grid scores on development set:\n",
      "\n",
      "0.740 (+/-0.067) for {'C': 0.01, 'kernel': 'linear'}\n",
      "0.719 (+/-0.050) for {'C': 0.1, 'kernel': 'linear'}\n",
      "0.685 (+/-0.033) for {'C': 1, 'kernel': 'linear'}\n",
      "0.666 (+/-0.022) for {'C': 10, 'kernel': 'linear'}\n",
      "0.662 (+/-0.023) for {'C': 100, 'kernel': 'linear'}\n",
      "0.662 (+/-0.025) for {'C': 200, 'kernel': 'linear'}\n",
      "0.662 (+/-0.024) for {'C': 400, 'kernel': 'linear'}\n",
      "0.662 (+/-0.024) for {'C': 1000, 'kernel': 'linear'}\n",
      "0.500 (+/-0.001) for {'C': 0.01, 'gamma': 100, 'kernel': 'rbf'}\n",
      "0.501 (+/-0.002) for {'C': 0.01, 'gamma': 10, 'kernel': 'rbf'}\n",
      "0.670 (+/-0.069) for {'C': 0.01, 'gamma': 1, 'kernel': 'rbf'}\n",
      "0.702 (+/-0.085) for {'C': 0.01, 'gamma': 0.1, 'kernel': 'rbf'}\n",
      "0.716 (+/-0.090) for {'C': 0.01, 'gamma': 0.01, 'kernel': 'rbf'}\n",
      "0.711 (+/-0.076) for {'C': 0.01, 'gamma': 0.001, 'kernel': 'rbf'}\n",
      "0.500 (+/-0.001) for {'C': 0.1, 'gamma': 100, 'kernel': 'rbf'}\n",
      "0.501 (+/-0.002) for {'C': 0.1, 'gamma': 10, 'kernel': 'rbf'}\n",
      "0.675 (+/-0.067) for {'C': 0.1, 'gamma': 1, 'kernel': 'rbf'}\n",
      "0.704 (+/-0.081) for {'C': 0.1, 'gamma': 0.1, 'kernel': 'rbf'}\n",
      "0.725 (+/-0.078) for {'C': 0.1, 'gamma': 0.01, 'kernel': 'rbf'}\n",
      "0.712 (+/-0.076) for {'C': 0.1, 'gamma': 0.001, 'kernel': 'rbf'}\n",
      "0.500 (+/-0.001) for {'C': 1, 'gamma': 100, 'kernel': 'rbf'}\n",
      "0.501 (+/-0.002) for {'C': 1, 'gamma': 10, 'kernel': 'rbf'}\n",
      "0.677 (+/-0.065) for {'C': 1, 'gamma': 1, 'kernel': 'rbf'}\n",
      "0.761 (+/-0.082) for {'C': 1, 'gamma': 0.1, 'kernel': 'rbf'}\n",
      "0.761 (+/-0.067) for {'C': 1, 'gamma': 0.01, 'kernel': 'rbf'}\n",
      "0.727 (+/-0.067) for {'C': 1, 'gamma': 0.001, 'kernel': 'rbf'}\n",
      "0.500 (+/-0.001) for {'C': 10, 'gamma': 100, 'kernel': 'rbf'}\n",
      "0.501 (+/-0.002) for {'C': 10, 'gamma': 10, 'kernel': 'rbf'}\n",
      "0.678 (+/-0.067) for {'C': 10, 'gamma': 1, 'kernel': 'rbf'}\n",
      "0.759 (+/-0.082) for {'C': 10, 'gamma': 0.1, 'kernel': 'rbf'}\n",
      "0.746 (+/-0.053) for {'C': 10, 'gamma': 0.01, 'kernel': 'rbf'}\n",
      "0.743 (+/-0.062) for {'C': 10, 'gamma': 0.001, 'kernel': 'rbf'}\n",
      "0.500 (+/-0.001) for {'C': 100, 'gamma': 100, 'kernel': 'rbf'}\n",
      "0.501 (+/-0.002) for {'C': 100, 'gamma': 10, 'kernel': 'rbf'}\n",
      "0.678 (+/-0.067) for {'C': 100, 'gamma': 1, 'kernel': 'rbf'}\n",
      "0.758 (+/-0.082) for {'C': 100, 'gamma': 0.1, 'kernel': 'rbf'}\n",
      "0.717 (+/-0.057) for {'C': 100, 'gamma': 0.01, 'kernel': 'rbf'}\n",
      "0.716 (+/-0.047) for {'C': 100, 'gamma': 0.001, 'kernel': 'rbf'}\n",
      "0.500 (+/-0.001) for {'C': 200, 'gamma': 100, 'kernel': 'rbf'}\n",
      "0.501 (+/-0.002) for {'C': 200, 'gamma': 10, 'kernel': 'rbf'}\n",
      "0.678 (+/-0.067) for {'C': 200, 'gamma': 1, 'kernel': 'rbf'}\n",
      "0.758 (+/-0.082) for {'C': 200, 'gamma': 0.1, 'kernel': 'rbf'}\n",
      "0.713 (+/-0.057) for {'C': 200, 'gamma': 0.01, 'kernel': 'rbf'}\n",
      "0.706 (+/-0.043) for {'C': 200, 'gamma': 0.001, 'kernel': 'rbf'}\n",
      "0.500 (+/-0.001) for {'C': 400, 'gamma': 100, 'kernel': 'rbf'}\n",
      "0.501 (+/-0.002) for {'C': 400, 'gamma': 10, 'kernel': 'rbf'}\n",
      "0.678 (+/-0.067) for {'C': 400, 'gamma': 1, 'kernel': 'rbf'}\n",
      "0.758 (+/-0.082) for {'C': 400, 'gamma': 0.1, 'kernel': 'rbf'}\n",
      "0.711 (+/-0.055) for {'C': 400, 'gamma': 0.01, 'kernel': 'rbf'}\n",
      "0.699 (+/-0.038) for {'C': 400, 'gamma': 0.001, 'kernel': 'rbf'}\n",
      "0.500 (+/-0.001) for {'C': 1000, 'gamma': 100, 'kernel': 'rbf'}\n",
      "0.501 (+/-0.002) for {'C': 1000, 'gamma': 10, 'kernel': 'rbf'}\n",
      "0.678 (+/-0.067) for {'C': 1000, 'gamma': 1, 'kernel': 'rbf'}\n",
      "0.758 (+/-0.082) for {'C': 1000, 'gamma': 0.1, 'kernel': 'rbf'}\n",
      "0.711 (+/-0.055) for {'C': 1000, 'gamma': 0.01, 'kernel': 'rbf'}\n",
      "0.690 (+/-0.046) for {'C': 1000, 'gamma': 0.001, 'kernel': 'rbf'}\n",
      "CPU times: user 1min 41s, sys: 1.84 s, total: 1min 42s\n",
      "Wall time: 15h 33min 40s\n"
     ]
    }
   ],
   "source": [
    "%%time\n",
    "a,b,c,d,e = prepare_input(train_labels, train_ecfp6_bits, target = 'toxic', encoder = encoder_toxic)\n",
    "\n",
    "t_svc_ecfp6bits = model_selection(svc, svm_grid_parameters, a, c, scoring = 'roc_auc', cv=5, GridSearch = True, n_jobs=6)"
   ]
  },
  {
   "cell_type": "code",
   "execution_count": 10,
   "metadata": {},
   "outputs": [
    {
     "name": "stdout",
     "output_type": "stream",
     "text": [
      "Best parameters set found on development set: {'C': 1, 'gamma': 0.1, 'kernel': 'rbf'}\n",
      "Best score: 0.8139581855724844\n",
      "Grid scores on development set:\n",
      "\n",
      "0.748 (+/-0.078) for {'C': 0.01, 'kernel': 'linear'}\n",
      "0.749 (+/-0.084) for {'C': 0.1, 'kernel': 'linear'}\n",
      "0.746 (+/-0.083) for {'C': 1, 'kernel': 'linear'}\n",
      "0.745 (+/-0.082) for {'C': 10, 'kernel': 'linear'}\n",
      "0.745 (+/-0.082) for {'C': 100, 'kernel': 'linear'}\n",
      "0.745 (+/-0.082) for {'C': 200, 'kernel': 'linear'}\n",
      "0.745 (+/-0.082) for {'C': 400, 'kernel': 'linear'}\n",
      "0.745 (+/-0.082) for {'C': 1000, 'kernel': 'linear'}\n",
      "0.509 (+/-0.006) for {'C': 0.01, 'gamma': 100, 'kernel': 'rbf'}\n",
      "0.614 (+/-0.070) for {'C': 0.01, 'gamma': 10, 'kernel': 'rbf'}\n",
      "0.753 (+/-0.109) for {'C': 0.01, 'gamma': 1, 'kernel': 'rbf'}\n",
      "0.737 (+/-0.122) for {'C': 0.01, 'gamma': 0.1, 'kernel': 'rbf'}\n",
      "0.715 (+/-0.126) for {'C': 0.01, 'gamma': 0.01, 'kernel': 'rbf'}\n",
      "0.706 (+/-0.116) for {'C': 0.01, 'gamma': 0.001, 'kernel': 'rbf'}\n",
      "0.509 (+/-0.006) for {'C': 0.1, 'gamma': 100, 'kernel': 'rbf'}\n",
      "0.614 (+/-0.071) for {'C': 0.1, 'gamma': 10, 'kernel': 'rbf'}\n",
      "0.754 (+/-0.109) for {'C': 0.1, 'gamma': 1, 'kernel': 'rbf'}\n",
      "0.780 (+/-0.085) for {'C': 0.1, 'gamma': 0.1, 'kernel': 'rbf'}\n",
      "0.751 (+/-0.078) for {'C': 0.1, 'gamma': 0.01, 'kernel': 'rbf'}\n",
      "0.706 (+/-0.117) for {'C': 0.1, 'gamma': 0.001, 'kernel': 'rbf'}\n",
      "0.509 (+/-0.006) for {'C': 1, 'gamma': 100, 'kernel': 'rbf'}\n",
      "0.614 (+/-0.072) for {'C': 1, 'gamma': 10, 'kernel': 'rbf'}\n",
      "0.751 (+/-0.107) for {'C': 1, 'gamma': 1, 'kernel': 'rbf'}\n",
      "0.814 (+/-0.067) for {'C': 1, 'gamma': 0.1, 'kernel': 'rbf'}\n",
      "0.785 (+/-0.066) for {'C': 1, 'gamma': 0.01, 'kernel': 'rbf'}\n",
      "0.740 (+/-0.077) for {'C': 1, 'gamma': 0.001, 'kernel': 'rbf'}\n",
      "0.509 (+/-0.006) for {'C': 10, 'gamma': 100, 'kernel': 'rbf'}\n",
      "0.614 (+/-0.073) for {'C': 10, 'gamma': 10, 'kernel': 'rbf'}\n",
      "0.749 (+/-0.107) for {'C': 10, 'gamma': 1, 'kernel': 'rbf'}\n",
      "0.793 (+/-0.081) for {'C': 10, 'gamma': 0.1, 'kernel': 'rbf'}\n",
      "0.800 (+/-0.069) for {'C': 10, 'gamma': 0.01, 'kernel': 'rbf'}\n",
      "0.760 (+/-0.077) for {'C': 10, 'gamma': 0.001, 'kernel': 'rbf'}\n",
      "0.509 (+/-0.006) for {'C': 100, 'gamma': 100, 'kernel': 'rbf'}\n",
      "0.614 (+/-0.073) for {'C': 100, 'gamma': 10, 'kernel': 'rbf'}\n",
      "0.749 (+/-0.107) for {'C': 100, 'gamma': 1, 'kernel': 'rbf'}\n",
      "0.790 (+/-0.078) for {'C': 100, 'gamma': 0.1, 'kernel': 'rbf'}\n",
      "0.780 (+/-0.080) for {'C': 100, 'gamma': 0.01, 'kernel': 'rbf'}\n",
      "0.782 (+/-0.070) for {'C': 100, 'gamma': 0.001, 'kernel': 'rbf'}\n",
      "0.509 (+/-0.006) for {'C': 200, 'gamma': 100, 'kernel': 'rbf'}\n",
      "0.614 (+/-0.073) for {'C': 200, 'gamma': 10, 'kernel': 'rbf'}\n",
      "0.749 (+/-0.107) for {'C': 200, 'gamma': 1, 'kernel': 'rbf'}\n",
      "0.790 (+/-0.078) for {'C': 200, 'gamma': 0.1, 'kernel': 'rbf'}\n",
      "0.767 (+/-0.082) for {'C': 200, 'gamma': 0.01, 'kernel': 'rbf'}\n",
      "0.788 (+/-0.070) for {'C': 200, 'gamma': 0.001, 'kernel': 'rbf'}\n",
      "0.509 (+/-0.006) for {'C': 400, 'gamma': 100, 'kernel': 'rbf'}\n",
      "0.614 (+/-0.073) for {'C': 400, 'gamma': 10, 'kernel': 'rbf'}\n",
      "0.749 (+/-0.107) for {'C': 400, 'gamma': 1, 'kernel': 'rbf'}\n",
      "0.790 (+/-0.078) for {'C': 400, 'gamma': 0.1, 'kernel': 'rbf'}\n",
      "0.753 (+/-0.082) for {'C': 400, 'gamma': 0.01, 'kernel': 'rbf'}\n",
      "0.794 (+/-0.069) for {'C': 400, 'gamma': 0.001, 'kernel': 'rbf'}\n",
      "0.509 (+/-0.006) for {'C': 1000, 'gamma': 100, 'kernel': 'rbf'}\n",
      "0.614 (+/-0.073) for {'C': 1000, 'gamma': 10, 'kernel': 'rbf'}\n",
      "0.749 (+/-0.107) for {'C': 1000, 'gamma': 1, 'kernel': 'rbf'}\n",
      "0.790 (+/-0.078) for {'C': 1000, 'gamma': 0.1, 'kernel': 'rbf'}\n",
      "0.738 (+/-0.078) for {'C': 1000, 'gamma': 0.01, 'kernel': 'rbf'}\n",
      "0.796 (+/-0.071) for {'C': 1000, 'gamma': 0.001, 'kernel': 'rbf'}\n",
      "CPU times: user 2h 46min 18s, sys: 1.02 s, total: 2h 46min 19s\n",
      "Wall time: 2h 46min 19s\n"
     ]
    }
   ],
   "source": [
    "%%time\n",
    "a,b,c,d,e = prepare_input(train_labels, train_maccs, target = 'toxic', encoder = encoder_toxic)\n",
    "\n",
    "t_svc_maccs = model_selection(svc, svm_grid_parameters, a, c, scoring = 'roc_auc', cv=5, GridSearch = True, n_jobs=1)"
   ]
  },
  {
   "cell_type": "code",
   "execution_count": 28,
   "metadata": {},
   "outputs": [
    {
     "name": "stderr",
     "output_type": "stream",
     "text": [
      "/home/xinhao/.local/lib/python3.6/site-packages/joblib/externals/loky/process_executor.py:706: UserWarning: A worker stopped while some jobs were given to the executor. This can be caused by a too short worker timeout or by a memory leak.\n",
      "  \"timeout or by a memory leak.\", UserWarning\n"
     ]
    },
    {
     "name": "stdout",
     "output_type": "stream",
     "text": [
      "Best parameters set found on development set: {'C': 1, 'gamma': 0.01, 'kernel': 'rbf'}\n",
      "Best score: 0.7891994176406041\n",
      "Grid scores on development set:\n",
      "\n",
      "0.748 (+/-0.044) for {'C': 0.01, 'kernel': 'linear'}\n",
      "0.718 (+/-0.033) for {'C': 0.1, 'kernel': 'linear'}\n",
      "0.679 (+/-0.022) for {'C': 1, 'kernel': 'linear'}\n",
      "0.666 (+/-0.019) for {'C': 10, 'kernel': 'linear'}\n",
      "0.662 (+/-0.021) for {'C': 100, 'kernel': 'linear'}\n",
      "0.662 (+/-0.022) for {'C': 200, 'kernel': 'linear'}\n",
      "0.661 (+/-0.021) for {'C': 400, 'kernel': 'linear'}\n",
      "0.661 (+/-0.022) for {'C': 1000, 'kernel': 'linear'}\n",
      "0.500 (+/-0.000) for {'C': 0.01, 'gamma': 100, 'kernel': 'rbf'}\n",
      "0.500 (+/-0.001) for {'C': 0.01, 'gamma': 10, 'kernel': 'rbf'}\n",
      "0.608 (+/-0.030) for {'C': 0.01, 'gamma': 1, 'kernel': 'rbf'}\n",
      "0.714 (+/-0.035) for {'C': 0.01, 'gamma': 0.1, 'kernel': 'rbf'}\n",
      "0.695 (+/-0.082) for {'C': 0.01, 'gamma': 0.01, 'kernel': 'rbf'}\n",
      "0.680 (+/-0.070) for {'C': 0.01, 'gamma': 0.001, 'kernel': 'rbf'}\n",
      "0.500 (+/-0.000) for {'C': 0.1, 'gamma': 100, 'kernel': 'rbf'}\n",
      "0.500 (+/-0.001) for {'C': 0.1, 'gamma': 10, 'kernel': 'rbf'}\n",
      "0.618 (+/-0.034) for {'C': 0.1, 'gamma': 1, 'kernel': 'rbf'}\n",
      "0.713 (+/-0.034) for {'C': 0.1, 'gamma': 0.1, 'kernel': 'rbf'}\n",
      "0.728 (+/-0.064) for {'C': 0.1, 'gamma': 0.01, 'kernel': 'rbf'}\n",
      "0.709 (+/-0.058) for {'C': 0.1, 'gamma': 0.001, 'kernel': 'rbf'}\n",
      "0.500 (+/-0.000) for {'C': 1, 'gamma': 100, 'kernel': 'rbf'}\n",
      "0.500 (+/-0.001) for {'C': 1, 'gamma': 10, 'kernel': 'rbf'}\n",
      "0.628 (+/-0.036) for {'C': 1, 'gamma': 1, 'kernel': 'rbf'}\n",
      "0.725 (+/-0.043) for {'C': 1, 'gamma': 0.1, 'kernel': 'rbf'}\n",
      "0.789 (+/-0.049) for {'C': 1, 'gamma': 0.01, 'kernel': 'rbf'}\n",
      "0.753 (+/-0.049) for {'C': 1, 'gamma': 0.001, 'kernel': 'rbf'}\n",
      "0.500 (+/-0.000) for {'C': 10, 'gamma': 100, 'kernel': 'rbf'}\n",
      "0.500 (+/-0.001) for {'C': 10, 'gamma': 10, 'kernel': 'rbf'}\n",
      "0.628 (+/-0.036) for {'C': 10, 'gamma': 1, 'kernel': 'rbf'}\n",
      "0.726 (+/-0.052) for {'C': 10, 'gamma': 0.1, 'kernel': 'rbf'}\n",
      "0.773 (+/-0.038) for {'C': 10, 'gamma': 0.01, 'kernel': 'rbf'}\n",
      "0.773 (+/-0.045) for {'C': 10, 'gamma': 0.001, 'kernel': 'rbf'}\n",
      "0.500 (+/-0.000) for {'C': 100, 'gamma': 100, 'kernel': 'rbf'}\n",
      "0.500 (+/-0.001) for {'C': 100, 'gamma': 10, 'kernel': 'rbf'}\n",
      "0.628 (+/-0.036) for {'C': 100, 'gamma': 1, 'kernel': 'rbf'}\n",
      "0.726 (+/-0.052) for {'C': 100, 'gamma': 0.1, 'kernel': 'rbf'}\n",
      "0.759 (+/-0.038) for {'C': 100, 'gamma': 0.01, 'kernel': 'rbf'}\n",
      "0.740 (+/-0.036) for {'C': 100, 'gamma': 0.001, 'kernel': 'rbf'}\n",
      "0.500 (+/-0.000) for {'C': 200, 'gamma': 100, 'kernel': 'rbf'}\n",
      "0.500 (+/-0.001) for {'C': 200, 'gamma': 10, 'kernel': 'rbf'}\n",
      "0.628 (+/-0.036) for {'C': 200, 'gamma': 1, 'kernel': 'rbf'}\n",
      "0.726 (+/-0.052) for {'C': 200, 'gamma': 0.1, 'kernel': 'rbf'}\n",
      "0.758 (+/-0.041) for {'C': 200, 'gamma': 0.01, 'kernel': 'rbf'}\n",
      "0.727 (+/-0.040) for {'C': 200, 'gamma': 0.001, 'kernel': 'rbf'}\n",
      "0.500 (+/-0.000) for {'C': 400, 'gamma': 100, 'kernel': 'rbf'}\n",
      "0.500 (+/-0.001) for {'C': 400, 'gamma': 10, 'kernel': 'rbf'}\n",
      "0.628 (+/-0.036) for {'C': 400, 'gamma': 1, 'kernel': 'rbf'}\n",
      "0.726 (+/-0.052) for {'C': 400, 'gamma': 0.1, 'kernel': 'rbf'}\n",
      "0.757 (+/-0.043) for {'C': 400, 'gamma': 0.01, 'kernel': 'rbf'}\n",
      "0.718 (+/-0.049) for {'C': 400, 'gamma': 0.001, 'kernel': 'rbf'}\n",
      "0.500 (+/-0.000) for {'C': 1000, 'gamma': 100, 'kernel': 'rbf'}\n",
      "0.500 (+/-0.001) for {'C': 1000, 'gamma': 10, 'kernel': 'rbf'}\n",
      "0.628 (+/-0.036) for {'C': 1000, 'gamma': 1, 'kernel': 'rbf'}\n",
      "0.726 (+/-0.052) for {'C': 1000, 'gamma': 0.1, 'kernel': 'rbf'}\n",
      "0.756 (+/-0.045) for {'C': 1000, 'gamma': 0.01, 'kernel': 'rbf'}\n",
      "0.712 (+/-0.056) for {'C': 1000, 'gamma': 0.001, 'kernel': 'rbf'}\n",
      "CPU times: user 1min 44s, sys: 2.83 s, total: 1min 46s\n",
      "Wall time: 1d 14h 13min 28s\n"
     ]
    }
   ],
   "source": [
    "%%time\n",
    "a,b,c,d,e = prepare_input(train_labels, train_ecfp6_counts, target = 'toxic', encoder = encoder_toxic)\n",
    "\n",
    "t_svc_ecfp6counts = model_selection(svc, svm_grid_parameters, a, c, scoring = 'roc_auc', cv=5, GridSearch = True, n_jobs=6)"
   ]
  },
  {
   "cell_type": "code",
   "execution_count": 11,
   "metadata": {},
   "outputs": [
    {
     "name": "stdout",
     "output_type": "stream",
     "text": [
      "Best parameters set found on development set: {'C': 1, 'gamma': 1, 'kernel': 'rbf'}\n",
      "Best score: 0.8121959351290623\n",
      "Grid scores on development set:\n",
      "\n",
      "0.693 (+/-0.038) for {'C': 0.01, 'kernel': 'linear'}\n",
      "0.729 (+/-0.038) for {'C': 0.1, 'kernel': 'linear'}\n",
      "0.751 (+/-0.052) for {'C': 1, 'kernel': 'linear'}\n",
      "0.756 (+/-0.058) for {'C': 10, 'kernel': 'linear'}\n",
      "0.756 (+/-0.057) for {'C': 100, 'kernel': 'linear'}\n",
      "0.757 (+/-0.056) for {'C': 200, 'kernel': 'linear'}\n",
      "0.757 (+/-0.056) for {'C': 400, 'kernel': 'linear'}\n",
      "0.758 (+/-0.055) for {'C': 1000, 'kernel': 'linear'}\n",
      "0.725 (+/-0.089) for {'C': 0.01, 'gamma': 100, 'kernel': 'rbf'}\n",
      "0.759 (+/-0.078) for {'C': 0.01, 'gamma': 10, 'kernel': 'rbf'}\n",
      "0.720 (+/-0.066) for {'C': 0.01, 'gamma': 1, 'kernel': 'rbf'}\n",
      "0.686 (+/-0.049) for {'C': 0.01, 'gamma': 0.1, 'kernel': 'rbf'}\n",
      "0.679 (+/-0.045) for {'C': 0.01, 'gamma': 0.01, 'kernel': 'rbf'}\n",
      "0.672 (+/-0.047) for {'C': 0.01, 'gamma': 0.001, 'kernel': 'rbf'}\n",
      "0.728 (+/-0.088) for {'C': 0.1, 'gamma': 100, 'kernel': 'rbf'}\n",
      "0.761 (+/-0.077) for {'C': 0.1, 'gamma': 10, 'kernel': 'rbf'}\n",
      "0.764 (+/-0.061) for {'C': 0.1, 'gamma': 1, 'kernel': 'rbf'}\n",
      "0.713 (+/-0.042) for {'C': 0.1, 'gamma': 0.1, 'kernel': 'rbf'}\n",
      "0.679 (+/-0.045) for {'C': 0.1, 'gamma': 0.01, 'kernel': 'rbf'}\n",
      "0.678 (+/-0.044) for {'C': 0.1, 'gamma': 0.001, 'kernel': 'rbf'}\n",
      "0.731 (+/-0.084) for {'C': 1, 'gamma': 100, 'kernel': 'rbf'}\n",
      "0.778 (+/-0.093) for {'C': 1, 'gamma': 10, 'kernel': 'rbf'}\n",
      "0.812 (+/-0.069) for {'C': 1, 'gamma': 1, 'kernel': 'rbf'}\n",
      "0.757 (+/-0.049) for {'C': 1, 'gamma': 0.1, 'kernel': 'rbf'}\n",
      "0.708 (+/-0.037) for {'C': 1, 'gamma': 0.01, 'kernel': 'rbf'}\n",
      "0.678 (+/-0.044) for {'C': 1, 'gamma': 0.001, 'kernel': 'rbf'}\n",
      "0.731 (+/-0.084) for {'C': 10, 'gamma': 100, 'kernel': 'rbf'}\n",
      "0.769 (+/-0.085) for {'C': 10, 'gamma': 10, 'kernel': 'rbf'}\n",
      "0.811 (+/-0.077) for {'C': 10, 'gamma': 1, 'kernel': 'rbf'}\n",
      "0.793 (+/-0.064) for {'C': 10, 'gamma': 0.1, 'kernel': 'rbf'}\n",
      "0.741 (+/-0.044) for {'C': 10, 'gamma': 0.01, 'kernel': 'rbf'}\n",
      "0.707 (+/-0.036) for {'C': 10, 'gamma': 0.001, 'kernel': 'rbf'}\n",
      "0.731 (+/-0.084) for {'C': 100, 'gamma': 100, 'kernel': 'rbf'}\n",
      "0.768 (+/-0.081) for {'C': 100, 'gamma': 10, 'kernel': 'rbf'}\n",
      "0.775 (+/-0.084) for {'C': 100, 'gamma': 1, 'kernel': 'rbf'}\n",
      "0.803 (+/-0.076) for {'C': 100, 'gamma': 0.1, 'kernel': 'rbf'}\n",
      "0.769 (+/-0.061) for {'C': 100, 'gamma': 0.01, 'kernel': 'rbf'}\n",
      "0.738 (+/-0.042) for {'C': 100, 'gamma': 0.001, 'kernel': 'rbf'}\n",
      "0.731 (+/-0.084) for {'C': 200, 'gamma': 100, 'kernel': 'rbf'}\n",
      "0.768 (+/-0.081) for {'C': 200, 'gamma': 10, 'kernel': 'rbf'}\n",
      "0.765 (+/-0.085) for {'C': 200, 'gamma': 1, 'kernel': 'rbf'}\n",
      "0.801 (+/-0.078) for {'C': 200, 'gamma': 0.1, 'kernel': 'rbf'}\n",
      "0.775 (+/-0.065) for {'C': 200, 'gamma': 0.01, 'kernel': 'rbf'}\n",
      "0.746 (+/-0.048) for {'C': 200, 'gamma': 0.001, 'kernel': 'rbf'}\n",
      "0.731 (+/-0.084) for {'C': 400, 'gamma': 100, 'kernel': 'rbf'}\n",
      "0.768 (+/-0.081) for {'C': 400, 'gamma': 10, 'kernel': 'rbf'}\n",
      "0.758 (+/-0.088) for {'C': 400, 'gamma': 1, 'kernel': 'rbf'}\n",
      "0.796 (+/-0.081) for {'C': 400, 'gamma': 0.1, 'kernel': 'rbf'}\n",
      "0.783 (+/-0.066) for {'C': 400, 'gamma': 0.01, 'kernel': 'rbf'}\n",
      "0.751 (+/-0.052) for {'C': 400, 'gamma': 0.001, 'kernel': 'rbf'}\n",
      "0.731 (+/-0.084) for {'C': 1000, 'gamma': 100, 'kernel': 'rbf'}\n",
      "0.768 (+/-0.081) for {'C': 1000, 'gamma': 10, 'kernel': 'rbf'}\n",
      "0.752 (+/-0.085) for {'C': 1000, 'gamma': 1, 'kernel': 'rbf'}\n",
      "0.786 (+/-0.079) for {'C': 1000, 'gamma': 0.1, 'kernel': 'rbf'}\n",
      "0.792 (+/-0.068) for {'C': 1000, 'gamma': 0.01, 'kernel': 'rbf'}\n",
      "0.757 (+/-0.056) for {'C': 1000, 'gamma': 0.001, 'kernel': 'rbf'}\n",
      "CPU times: user 45min 54s, sys: 924 ms, total: 45min 55s\n",
      "Wall time: 45min 55s\n"
     ]
    }
   ],
   "source": [
    "%%time\n",
    "a,b,c,d,e = prepare_input(train_labels, train_rdkit2d, target = 'toxic', encoder = encoder_toxic)\n",
    "\n",
    "t_svc_rdkit2d = model_selection(svc, svm_grid_parameters, a, c, scoring = 'roc_auc', cv=5, GridSearch = True, n_jobs=1)"
   ]
  },
  {
   "cell_type": "code",
   "execution_count": 12,
   "metadata": {},
   "outputs": [
    {
     "name": "stdout",
     "output_type": "stream",
     "text": [
      "Best parameters set found on development set: {'C': 10, 'gamma': 0.1, 'kernel': 'rbf'}\n",
      "Best score: 0.8212399984635705\n",
      "Grid scores on development set:\n",
      "\n",
      "0.742 (+/-0.065) for {'C': 0.01, 'kernel': 'linear'}\n",
      "0.771 (+/-0.065) for {'C': 0.1, 'kernel': 'linear'}\n",
      "0.778 (+/-0.062) for {'C': 1, 'kernel': 'linear'}\n",
      "0.772 (+/-0.054) for {'C': 10, 'kernel': 'linear'}\n",
      "0.765 (+/-0.057) for {'C': 100, 'kernel': 'linear'}\n",
      "0.763 (+/-0.060) for {'C': 200, 'kernel': 'linear'}\n",
      "0.762 (+/-0.062) for {'C': 400, 'kernel': 'linear'}\n",
      "0.760 (+/-0.068) for {'C': 1000, 'kernel': 'linear'}\n",
      "0.609 (+/-0.085) for {'C': 0.01, 'gamma': 100, 'kernel': 'rbf'}\n",
      "0.750 (+/-0.089) for {'C': 0.01, 'gamma': 10, 'kernel': 'rbf'}\n",
      "0.743 (+/-0.067) for {'C': 0.01, 'gamma': 1, 'kernel': 'rbf'}\n",
      "0.720 (+/-0.096) for {'C': 0.01, 'gamma': 0.1, 'kernel': 'rbf'}\n",
      "0.711 (+/-0.074) for {'C': 0.01, 'gamma': 0.01, 'kernel': 'rbf'}\n",
      "0.709 (+/-0.070) for {'C': 0.01, 'gamma': 0.001, 'kernel': 'rbf'}\n",
      "0.616 (+/-0.089) for {'C': 0.1, 'gamma': 100, 'kernel': 'rbf'}\n",
      "0.750 (+/-0.090) for {'C': 0.1, 'gamma': 10, 'kernel': 'rbf'}\n",
      "0.779 (+/-0.061) for {'C': 0.1, 'gamma': 1, 'kernel': 'rbf'}\n",
      "0.764 (+/-0.068) for {'C': 0.1, 'gamma': 0.1, 'kernel': 'rbf'}\n",
      "0.712 (+/-0.073) for {'C': 0.1, 'gamma': 0.01, 'kernel': 'rbf'}\n",
      "0.710 (+/-0.070) for {'C': 0.1, 'gamma': 0.001, 'kernel': 'rbf'}\n",
      "0.629 (+/-0.098) for {'C': 1, 'gamma': 100, 'kernel': 'rbf'}\n",
      "0.750 (+/-0.090) for {'C': 1, 'gamma': 10, 'kernel': 'rbf'}\n",
      "0.814 (+/-0.074) for {'C': 1, 'gamma': 1, 'kernel': 'rbf'}\n",
      "0.802 (+/-0.063) for {'C': 1, 'gamma': 0.1, 'kernel': 'rbf'}\n",
      "0.758 (+/-0.066) for {'C': 1, 'gamma': 0.01, 'kernel': 'rbf'}\n",
      "0.711 (+/-0.070) for {'C': 1, 'gamma': 0.001, 'kernel': 'rbf'}\n",
      "0.629 (+/-0.098) for {'C': 10, 'gamma': 100, 'kernel': 'rbf'}\n",
      "0.748 (+/-0.090) for {'C': 10, 'gamma': 10, 'kernel': 'rbf'}\n",
      "0.798 (+/-0.090) for {'C': 10, 'gamma': 1, 'kernel': 'rbf'}\n",
      "0.821 (+/-0.059) for {'C': 10, 'gamma': 0.1, 'kernel': 'rbf'}\n",
      "0.783 (+/-0.065) for {'C': 10, 'gamma': 0.01, 'kernel': 'rbf'}\n",
      "0.755 (+/-0.066) for {'C': 10, 'gamma': 0.001, 'kernel': 'rbf'}\n",
      "0.629 (+/-0.098) for {'C': 100, 'gamma': 100, 'kernel': 'rbf'}\n",
      "0.748 (+/-0.090) for {'C': 100, 'gamma': 10, 'kernel': 'rbf'}\n",
      "0.789 (+/-0.091) for {'C': 100, 'gamma': 1, 'kernel': 'rbf'}\n",
      "0.806 (+/-0.067) for {'C': 100, 'gamma': 0.1, 'kernel': 'rbf'}\n",
      "0.797 (+/-0.058) for {'C': 100, 'gamma': 0.01, 'kernel': 'rbf'}\n",
      "0.776 (+/-0.064) for {'C': 100, 'gamma': 0.001, 'kernel': 'rbf'}\n",
      "0.629 (+/-0.098) for {'C': 200, 'gamma': 100, 'kernel': 'rbf'}\n",
      "0.748 (+/-0.090) for {'C': 200, 'gamma': 10, 'kernel': 'rbf'}\n",
      "0.788 (+/-0.090) for {'C': 200, 'gamma': 1, 'kernel': 'rbf'}\n",
      "0.794 (+/-0.074) for {'C': 200, 'gamma': 0.1, 'kernel': 'rbf'}\n",
      "0.801 (+/-0.057) for {'C': 200, 'gamma': 0.01, 'kernel': 'rbf'}\n",
      "0.779 (+/-0.063) for {'C': 200, 'gamma': 0.001, 'kernel': 'rbf'}\n",
      "0.629 (+/-0.098) for {'C': 400, 'gamma': 100, 'kernel': 'rbf'}\n",
      "0.748 (+/-0.090) for {'C': 400, 'gamma': 10, 'kernel': 'rbf'}\n",
      "0.788 (+/-0.090) for {'C': 400, 'gamma': 1, 'kernel': 'rbf'}\n",
      "0.784 (+/-0.073) for {'C': 400, 'gamma': 0.1, 'kernel': 'rbf'}\n",
      "0.803 (+/-0.055) for {'C': 400, 'gamma': 0.01, 'kernel': 'rbf'}\n",
      "0.781 (+/-0.062) for {'C': 400, 'gamma': 0.001, 'kernel': 'rbf'}\n",
      "0.629 (+/-0.098) for {'C': 1000, 'gamma': 100, 'kernel': 'rbf'}\n",
      "0.748 (+/-0.090) for {'C': 1000, 'gamma': 10, 'kernel': 'rbf'}\n",
      "0.788 (+/-0.090) for {'C': 1000, 'gamma': 1, 'kernel': 'rbf'}\n",
      "0.773 (+/-0.077) for {'C': 1000, 'gamma': 0.1, 'kernel': 'rbf'}\n",
      "0.809 (+/-0.056) for {'C': 1000, 'gamma': 0.01, 'kernel': 'rbf'}\n",
      "0.781 (+/-0.059) for {'C': 1000, 'gamma': 0.001, 'kernel': 'rbf'}\n",
      "CPU times: user 2h 15min 57s, sys: 4.92 s, total: 2h 16min 2s\n",
      "Wall time: 2h 16min 2s\n"
     ]
    }
   ],
   "source": [
    "%%time\n",
    "a,b,c,d,e = prepare_input(train_labels, train_mordred, target = 'toxic', encoder = encoder_toxic)\n",
    "\n",
    "t_svc_mordred = model_selection(svc, svm_grid_parameters, a, c, scoring = 'roc_auc', cv=5, GridSearch = True, n_jobs=1)"
   ]
  },
  {
   "cell_type": "markdown",
   "metadata": {},
   "source": [
    "## Endpoint 2: EPA"
   ]
  },
  {
   "cell_type": "code",
   "execution_count": 29,
   "metadata": {},
   "outputs": [],
   "source": [
    "encoder_epa = joblib.load('../data/label_encoders/encoder_epa.joblib')"
   ]
  },
  {
   "cell_type": "code",
   "execution_count": 30,
   "metadata": {},
   "outputs": [
    {
     "name": "stderr",
     "output_type": "stream",
     "text": [
      "/home/xinhao/.local/lib/python3.6/site-packages/joblib/externals/loky/process_executor.py:706: UserWarning: A worker stopped while some jobs were given to the executor. This can be caused by a too short worker timeout or by a memory leak.\n",
      "  \"timeout or by a memory leak.\", UserWarning\n"
     ]
    },
    {
     "name": "stdout",
     "output_type": "stream",
     "text": [
      "Best parameters set found on development set: {'C': 10, 'gamma': 0.01, 'kernel': 'rbf'}\n",
      "Best score: 0.5016354482846775\n",
      "Grid scores on development set:\n",
      "\n",
      "0.450 (+/-0.049) for {'C': 0.01, 'kernel': 'linear'}\n",
      "0.488 (+/-0.043) for {'C': 0.1, 'kernel': 'linear'}\n",
      "0.438 (+/-0.021) for {'C': 1, 'kernel': 'linear'}\n",
      "0.422 (+/-0.019) for {'C': 10, 'kernel': 'linear'}\n",
      "0.423 (+/-0.024) for {'C': 100, 'kernel': 'linear'}\n",
      "0.425 (+/-0.028) for {'C': 200, 'kernel': 'linear'}\n",
      "0.422 (+/-0.027) for {'C': 400, 'kernel': 'linear'}\n",
      "0.421 (+/-0.029) for {'C': 1000, 'kernel': 'linear'}\n",
      "0.334 (+/-0.001) for {'C': 0.01, 'gamma': 100, 'kernel': 'rbf'}\n",
      "0.334 (+/-0.001) for {'C': 0.01, 'gamma': 10, 'kernel': 'rbf'}\n",
      "0.334 (+/-0.001) for {'C': 0.01, 'gamma': 1, 'kernel': 'rbf'}\n",
      "0.334 (+/-0.001) for {'C': 0.01, 'gamma': 0.1, 'kernel': 'rbf'}\n",
      "0.334 (+/-0.001) for {'C': 0.01, 'gamma': 0.01, 'kernel': 'rbf'}\n",
      "0.334 (+/-0.001) for {'C': 0.01, 'gamma': 0.001, 'kernel': 'rbf'}\n",
      "0.334 (+/-0.001) for {'C': 0.1, 'gamma': 100, 'kernel': 'rbf'}\n",
      "0.334 (+/-0.001) for {'C': 0.1, 'gamma': 10, 'kernel': 'rbf'}\n",
      "0.334 (+/-0.001) for {'C': 0.1, 'gamma': 1, 'kernel': 'rbf'}\n",
      "0.334 (+/-0.001) for {'C': 0.1, 'gamma': 0.1, 'kernel': 'rbf'}\n",
      "0.334 (+/-0.001) for {'C': 0.1, 'gamma': 0.01, 'kernel': 'rbf'}\n",
      "0.334 (+/-0.001) for {'C': 0.1, 'gamma': 0.001, 'kernel': 'rbf'}\n",
      "0.335 (+/-0.002) for {'C': 1, 'gamma': 100, 'kernel': 'rbf'}\n",
      "0.335 (+/-0.002) for {'C': 1, 'gamma': 10, 'kernel': 'rbf'}\n",
      "0.335 (+/-0.002) for {'C': 1, 'gamma': 1, 'kernel': 'rbf'}\n",
      "0.384 (+/-0.032) for {'C': 1, 'gamma': 0.1, 'kernel': 'rbf'}\n",
      "0.472 (+/-0.068) for {'C': 1, 'gamma': 0.01, 'kernel': 'rbf'}\n",
      "0.338 (+/-0.007) for {'C': 1, 'gamma': 0.001, 'kernel': 'rbf'}\n",
      "0.335 (+/-0.002) for {'C': 10, 'gamma': 100, 'kernel': 'rbf'}\n",
      "0.335 (+/-0.002) for {'C': 10, 'gamma': 10, 'kernel': 'rbf'}\n",
      "0.334 (+/-0.002) for {'C': 10, 'gamma': 1, 'kernel': 'rbf'}\n",
      "0.415 (+/-0.040) for {'C': 10, 'gamma': 0.1, 'kernel': 'rbf'}\n",
      "0.502 (+/-0.045) for {'C': 10, 'gamma': 0.01, 'kernel': 'rbf'}\n",
      "0.489 (+/-0.060) for {'C': 10, 'gamma': 0.001, 'kernel': 'rbf'}\n",
      "0.335 (+/-0.002) for {'C': 100, 'gamma': 100, 'kernel': 'rbf'}\n",
      "0.335 (+/-0.002) for {'C': 100, 'gamma': 10, 'kernel': 'rbf'}\n",
      "0.334 (+/-0.002) for {'C': 100, 'gamma': 1, 'kernel': 'rbf'}\n",
      "0.415 (+/-0.040) for {'C': 100, 'gamma': 0.1, 'kernel': 'rbf'}\n",
      "0.472 (+/-0.048) for {'C': 100, 'gamma': 0.01, 'kernel': 'rbf'}\n",
      "0.479 (+/-0.036) for {'C': 100, 'gamma': 0.001, 'kernel': 'rbf'}\n",
      "0.335 (+/-0.002) for {'C': 200, 'gamma': 100, 'kernel': 'rbf'}\n",
      "0.335 (+/-0.002) for {'C': 200, 'gamma': 10, 'kernel': 'rbf'}\n",
      "0.334 (+/-0.002) for {'C': 200, 'gamma': 1, 'kernel': 'rbf'}\n",
      "0.415 (+/-0.040) for {'C': 200, 'gamma': 0.1, 'kernel': 'rbf'}\n",
      "0.468 (+/-0.047) for {'C': 200, 'gamma': 0.01, 'kernel': 'rbf'}\n",
      "0.462 (+/-0.031) for {'C': 200, 'gamma': 0.001, 'kernel': 'rbf'}\n",
      "0.335 (+/-0.002) for {'C': 400, 'gamma': 100, 'kernel': 'rbf'}\n",
      "0.335 (+/-0.002) for {'C': 400, 'gamma': 10, 'kernel': 'rbf'}\n",
      "0.334 (+/-0.002) for {'C': 400, 'gamma': 1, 'kernel': 'rbf'}\n",
      "0.415 (+/-0.040) for {'C': 400, 'gamma': 0.1, 'kernel': 'rbf'}\n",
      "0.467 (+/-0.041) for {'C': 400, 'gamma': 0.01, 'kernel': 'rbf'}\n",
      "0.453 (+/-0.022) for {'C': 400, 'gamma': 0.001, 'kernel': 'rbf'}\n",
      "0.335 (+/-0.002) for {'C': 1000, 'gamma': 100, 'kernel': 'rbf'}\n",
      "0.335 (+/-0.002) for {'C': 1000, 'gamma': 10, 'kernel': 'rbf'}\n",
      "0.334 (+/-0.002) for {'C': 1000, 'gamma': 1, 'kernel': 'rbf'}\n",
      "0.415 (+/-0.040) for {'C': 1000, 'gamma': 0.1, 'kernel': 'rbf'}\n",
      "0.466 (+/-0.039) for {'C': 1000, 'gamma': 0.01, 'kernel': 'rbf'}\n",
      "0.438 (+/-0.032) for {'C': 1000, 'gamma': 0.001, 'kernel': 'rbf'}\n",
      "CPU times: user 2min 50s, sys: 1.01 s, total: 2min 51s\n",
      "Wall time: 2h 41min 52s\n"
     ]
    }
   ],
   "source": [
    "%%time\n",
    "a,b,c,d,e = prepare_input(train_labels, train_ecfp6_bits, target = 'EPA_category', encoder = encoder_epa)\n",
    "\n",
    "epa_svc_ecfp6bits = model_selection(svc, svm_grid_parameters, a, c, scoring = 'f1_weighted', cv=5, GridSearch = True, n_jobs=6)"
   ]
  },
  {
   "cell_type": "code",
   "execution_count": 31,
   "metadata": {},
   "outputs": [
    {
     "name": "stderr",
     "output_type": "stream",
     "text": [
      "/home/xinhao/.local/lib/python3.6/site-packages/joblib/externals/loky/process_executor.py:706: UserWarning: A worker stopped while some jobs were given to the executor. This can be caused by a too short worker timeout or by a memory leak.\n",
      "  \"timeout or by a memory leak.\", UserWarning\n"
     ]
    },
    {
     "name": "stdout",
     "output_type": "stream",
     "text": [
      "Best parameters set found on development set: {'C': 10, 'gamma': 0.01, 'kernel': 'rbf'}\n",
      "Best score: 0.5228362406712951\n",
      "Grid scores on development set:\n",
      "\n",
      "0.464 (+/-0.047) for {'C': 0.01, 'kernel': 'linear'}\n",
      "0.490 (+/-0.037) for {'C': 0.1, 'kernel': 'linear'}\n",
      "0.446 (+/-0.025) for {'C': 1, 'kernel': 'linear'}\n",
      "0.424 (+/-0.022) for {'C': 10, 'kernel': 'linear'}\n",
      "0.418 (+/-0.033) for {'C': 100, 'kernel': 'linear'}\n",
      "0.418 (+/-0.030) for {'C': 200, 'kernel': 'linear'}\n",
      "0.420 (+/-0.028) for {'C': 400, 'kernel': 'linear'}\n",
      "0.417 (+/-0.023) for {'C': 1000, 'kernel': 'linear'}\n",
      "0.334 (+/-0.001) for {'C': 0.01, 'gamma': 100, 'kernel': 'rbf'}\n",
      "0.334 (+/-0.001) for {'C': 0.01, 'gamma': 10, 'kernel': 'rbf'}\n",
      "0.334 (+/-0.001) for {'C': 0.01, 'gamma': 1, 'kernel': 'rbf'}\n",
      "0.334 (+/-0.001) for {'C': 0.01, 'gamma': 0.1, 'kernel': 'rbf'}\n",
      "0.334 (+/-0.001) for {'C': 0.01, 'gamma': 0.01, 'kernel': 'rbf'}\n",
      "0.334 (+/-0.001) for {'C': 0.01, 'gamma': 0.001, 'kernel': 'rbf'}\n",
      "0.334 (+/-0.001) for {'C': 0.1, 'gamma': 100, 'kernel': 'rbf'}\n",
      "0.334 (+/-0.001) for {'C': 0.1, 'gamma': 10, 'kernel': 'rbf'}\n",
      "0.334 (+/-0.001) for {'C': 0.1, 'gamma': 1, 'kernel': 'rbf'}\n",
      "0.334 (+/-0.001) for {'C': 0.1, 'gamma': 0.1, 'kernel': 'rbf'}\n",
      "0.340 (+/-0.008) for {'C': 0.1, 'gamma': 0.01, 'kernel': 'rbf'}\n",
      "0.336 (+/-0.004) for {'C': 0.1, 'gamma': 0.001, 'kernel': 'rbf'}\n",
      "0.334 (+/-0.001) for {'C': 1, 'gamma': 100, 'kernel': 'rbf'}\n",
      "0.334 (+/-0.001) for {'C': 1, 'gamma': 10, 'kernel': 'rbf'}\n",
      "0.334 (+/-0.001) for {'C': 1, 'gamma': 1, 'kernel': 'rbf'}\n",
      "0.348 (+/-0.008) for {'C': 1, 'gamma': 0.1, 'kernel': 'rbf'}\n",
      "0.488 (+/-0.057) for {'C': 1, 'gamma': 0.01, 'kernel': 'rbf'}\n",
      "0.375 (+/-0.030) for {'C': 1, 'gamma': 0.001, 'kernel': 'rbf'}\n",
      "0.334 (+/-0.001) for {'C': 10, 'gamma': 100, 'kernel': 'rbf'}\n",
      "0.334 (+/-0.001) for {'C': 10, 'gamma': 10, 'kernel': 'rbf'}\n",
      "0.334 (+/-0.001) for {'C': 10, 'gamma': 1, 'kernel': 'rbf'}\n",
      "0.360 (+/-0.010) for {'C': 10, 'gamma': 0.1, 'kernel': 'rbf'}\n",
      "0.523 (+/-0.036) for {'C': 10, 'gamma': 0.01, 'kernel': 'rbf'}\n",
      "0.504 (+/-0.042) for {'C': 10, 'gamma': 0.001, 'kernel': 'rbf'}\n",
      "0.334 (+/-0.001) for {'C': 100, 'gamma': 100, 'kernel': 'rbf'}\n",
      "0.334 (+/-0.001) for {'C': 100, 'gamma': 10, 'kernel': 'rbf'}\n",
      "0.334 (+/-0.001) for {'C': 100, 'gamma': 1, 'kernel': 'rbf'}\n",
      "0.360 (+/-0.010) for {'C': 100, 'gamma': 0.1, 'kernel': 'rbf'}\n",
      "0.510 (+/-0.027) for {'C': 100, 'gamma': 0.01, 'kernel': 'rbf'}\n",
      "0.491 (+/-0.043) for {'C': 100, 'gamma': 0.001, 'kernel': 'rbf'}\n",
      "0.334 (+/-0.001) for {'C': 200, 'gamma': 100, 'kernel': 'rbf'}\n",
      "0.334 (+/-0.001) for {'C': 200, 'gamma': 10, 'kernel': 'rbf'}\n",
      "0.334 (+/-0.001) for {'C': 200, 'gamma': 1, 'kernel': 'rbf'}\n",
      "0.360 (+/-0.010) for {'C': 200, 'gamma': 0.1, 'kernel': 'rbf'}\n",
      "0.509 (+/-0.029) for {'C': 200, 'gamma': 0.01, 'kernel': 'rbf'}\n",
      "0.473 (+/-0.037) for {'C': 200, 'gamma': 0.001, 'kernel': 'rbf'}\n",
      "0.334 (+/-0.001) for {'C': 400, 'gamma': 100, 'kernel': 'rbf'}\n",
      "0.334 (+/-0.001) for {'C': 400, 'gamma': 10, 'kernel': 'rbf'}\n",
      "0.334 (+/-0.001) for {'C': 400, 'gamma': 1, 'kernel': 'rbf'}\n",
      "0.360 (+/-0.010) for {'C': 400, 'gamma': 0.1, 'kernel': 'rbf'}\n",
      "0.508 (+/-0.029) for {'C': 400, 'gamma': 0.01, 'kernel': 'rbf'}\n",
      "0.463 (+/-0.033) for {'C': 400, 'gamma': 0.001, 'kernel': 'rbf'}\n",
      "0.334 (+/-0.001) for {'C': 1000, 'gamma': 100, 'kernel': 'rbf'}\n",
      "0.334 (+/-0.001) for {'C': 1000, 'gamma': 10, 'kernel': 'rbf'}\n",
      "0.334 (+/-0.001) for {'C': 1000, 'gamma': 1, 'kernel': 'rbf'}\n",
      "0.360 (+/-0.010) for {'C': 1000, 'gamma': 0.1, 'kernel': 'rbf'}\n",
      "0.509 (+/-0.030) for {'C': 1000, 'gamma': 0.01, 'kernel': 'rbf'}\n",
      "0.451 (+/-0.035) for {'C': 1000, 'gamma': 0.001, 'kernel': 'rbf'}\n",
      "CPU times: user 3min 2s, sys: 676 ms, total: 3min 3s\n",
      "Wall time: 2h 52min 24s\n"
     ]
    }
   ],
   "source": [
    "%%time\n",
    "a,b,c,d,e = prepare_input(train_labels, train_ecfp6_counts, target = 'EPA_category', encoder = encoder_epa)\n",
    "\n",
    "epa_svc_ecfp6counts = model_selection(svc, svm_grid_parameters, a, c, scoring = 'f1_weighted', cv=5, GridSearch = True, n_jobs=6)"
   ]
  },
  {
   "cell_type": "code",
   "execution_count": 21,
   "metadata": {},
   "outputs": [
    {
     "name": "stdout",
     "output_type": "stream",
     "text": [
      "Best parameters set found on development set: {'C': 10, 'gamma': 0.1}\n",
      "Best score: 0.5387228642293098\n",
      "Grid scores on development set:\n",
      "\n",
      "0.334 (+/-0.001) for {'C': 0.1, 'gamma': 10}\n",
      "0.336 (+/-0.006) for {'C': 0.1, 'gamma': 1}\n",
      "0.367 (+/-0.041) for {'C': 0.1, 'gamma': 0.1}\n",
      "0.334 (+/-0.001) for {'C': 0.1, 'gamma': 0.01}\n",
      "0.349 (+/-0.012) for {'C': 1, 'gamma': 10}\n",
      "0.362 (+/-0.038) for {'C': 1, 'gamma': 1}\n",
      "0.532 (+/-0.087) for {'C': 1, 'gamma': 0.1}\n",
      "0.443 (+/-0.019) for {'C': 1, 'gamma': 0.01}\n",
      "0.349 (+/-0.012) for {'C': 10, 'gamma': 10}\n",
      "0.375 (+/-0.038) for {'C': 10, 'gamma': 1}\n",
      "0.539 (+/-0.038) for {'C': 10, 'gamma': 0.1}\n",
      "0.526 (+/-0.042) for {'C': 10, 'gamma': 0.01}\n",
      "0.349 (+/-0.012) for {'C': 100, 'gamma': 10}\n",
      "0.375 (+/-0.038) for {'C': 100, 'gamma': 1}\n",
      "0.538 (+/-0.032) for {'C': 100, 'gamma': 0.1}\n",
      "0.509 (+/-0.041) for {'C': 100, 'gamma': 0.01}\n",
      "0.349 (+/-0.012) for {'C': 500, 'gamma': 10}\n",
      "0.375 (+/-0.038) for {'C': 500, 'gamma': 1}\n",
      "0.538 (+/-0.034) for {'C': 500, 'gamma': 0.1}\n",
      "0.482 (+/-0.035) for {'C': 500, 'gamma': 0.01}\n",
      "0.349 (+/-0.012) for {'C': 1000, 'gamma': 10}\n",
      "0.375 (+/-0.038) for {'C': 1000, 'gamma': 1}\n",
      "0.538 (+/-0.034) for {'C': 1000, 'gamma': 0.1}\n",
      "0.475 (+/-0.032) for {'C': 1000, 'gamma': 0.01}\n",
      "CPU times: user 17.2 s, sys: 168 ms, total: 17.3 s\n",
      "Wall time: 7min 58s\n"
     ]
    }
   ],
   "source": [
    "%%time\n",
    "a,b,c,d,e = prepare_input(train_labels, train_maccs, target = 'EPA_category', encoder = encoder_epa)\n",
    "\n",
    "epa_svc_maccs = model_selection(svc, svm_grid_parameters, a, c, scoring = 'f1_weighted', cv=5, GridSearch = True)"
   ]
  },
  {
   "cell_type": "code",
   "execution_count": 22,
   "metadata": {},
   "outputs": [
    {
     "name": "stdout",
     "output_type": "stream",
     "text": [
      "Best parameters set found on development set: {'C': 10, 'gamma': 1}\n",
      "Best score: 0.5411610907931664\n",
      "Grid scores on development set:\n",
      "\n",
      "0.337 (+/-0.005) for {'C': 0.1, 'gamma': 10}\n",
      "0.350 (+/-0.021) for {'C': 0.1, 'gamma': 1}\n",
      "0.335 (+/-0.002) for {'C': 0.1, 'gamma': 0.1}\n",
      "0.334 (+/-0.001) for {'C': 0.1, 'gamma': 0.01}\n",
      "0.456 (+/-0.093) for {'C': 1, 'gamma': 10}\n",
      "0.502 (+/-0.073) for {'C': 1, 'gamma': 1}\n",
      "0.363 (+/-0.025) for {'C': 1, 'gamma': 0.1}\n",
      "0.335 (+/-0.001) for {'C': 1, 'gamma': 0.01}\n",
      "0.480 (+/-0.082) for {'C': 10, 'gamma': 10}\n",
      "0.541 (+/-0.053) for {'C': 10, 'gamma': 1}\n",
      "0.467 (+/-0.054) for {'C': 10, 'gamma': 0.1}\n",
      "0.351 (+/-0.013) for {'C': 10, 'gamma': 0.01}\n",
      "0.481 (+/-0.082) for {'C': 100, 'gamma': 10}\n",
      "0.512 (+/-0.053) for {'C': 100, 'gamma': 1}\n",
      "0.522 (+/-0.050) for {'C': 100, 'gamma': 0.1}\n",
      "0.432 (+/-0.029) for {'C': 100, 'gamma': 0.01}\n",
      "0.482 (+/-0.084) for {'C': 500, 'gamma': 10}\n",
      "0.504 (+/-0.046) for {'C': 500, 'gamma': 1}\n",
      "0.528 (+/-0.053) for {'C': 500, 'gamma': 0.1}\n",
      "0.464 (+/-0.056) for {'C': 500, 'gamma': 0.01}\n",
      "0.482 (+/-0.084) for {'C': 1000, 'gamma': 10}\n",
      "0.499 (+/-0.046) for {'C': 1000, 'gamma': 1}\n",
      "0.521 (+/-0.055) for {'C': 1000, 'gamma': 0.1}\n",
      "0.478 (+/-0.057) for {'C': 1000, 'gamma': 0.01}\n",
      "CPU times: user 13.3 s, sys: 24 ms, total: 13.3 s\n",
      "Wall time: 7min 38s\n"
     ]
    }
   ],
   "source": [
    "%%time\n",
    "a,b,c,d,e = prepare_input(train_labels, train_rdkit2d, target = 'EPA_category', encoder = encoder_epa)\n",
    "\n",
    "epa_svc_rdkit2d = model_selection(svc, svm_grid_parameters, a, c, scoring = 'f1_weighted', cv=5, GridSearch = True)"
   ]
  },
  {
   "cell_type": "code",
   "execution_count": 12,
   "metadata": {},
   "outputs": [
    {
     "name": "stderr",
     "output_type": "stream",
     "text": [
      "/home/xinhao/.local/lib/python3.6/site-packages/joblib/externals/loky/process_executor.py:706: UserWarning: A worker stopped while some jobs were given to the executor. This can be caused by a too short worker timeout or by a memory leak.\n",
      "  \"timeout or by a memory leak.\", UserWarning\n"
     ]
    },
    {
     "name": "stdout",
     "output_type": "stream",
     "text": [
      "Best parameters set found on development set: {'C': 10, 'gamma': 1}\n",
      "Best score: 0.5373111143740519\n",
      "Grid scores on development set:\n",
      "\n",
      "0.334 (+/-0.001) for {'C': 0.1, 'gamma': 10}\n",
      "0.356 (+/-0.008) for {'C': 0.1, 'gamma': 1}\n",
      "0.336 (+/-0.003) for {'C': 0.1, 'gamma': 0.1}\n",
      "0.334 (+/-0.001) for {'C': 0.1, 'gamma': 0.01}\n",
      "0.348 (+/-0.018) for {'C': 1, 'gamma': 10}\n",
      "0.524 (+/-0.082) for {'C': 1, 'gamma': 1}\n",
      "0.450 (+/-0.079) for {'C': 1, 'gamma': 0.1}\n",
      "0.338 (+/-0.005) for {'C': 1, 'gamma': 0.01}\n",
      "0.366 (+/-0.039) for {'C': 10, 'gamma': 10}\n",
      "0.537 (+/-0.054) for {'C': 10, 'gamma': 1}\n",
      "0.534 (+/-0.056) for {'C': 10, 'gamma': 0.1}\n",
      "0.425 (+/-0.071) for {'C': 10, 'gamma': 0.01}\n",
      "0.366 (+/-0.039) for {'C': 100, 'gamma': 10}\n",
      "0.533 (+/-0.052) for {'C': 100, 'gamma': 1}\n",
      "0.534 (+/-0.047) for {'C': 100, 'gamma': 0.1}\n",
      "0.485 (+/-0.074) for {'C': 100, 'gamma': 0.01}\n",
      "0.366 (+/-0.039) for {'C': 500, 'gamma': 10}\n",
      "0.533 (+/-0.052) for {'C': 500, 'gamma': 1}\n",
      "0.508 (+/-0.076) for {'C': 500, 'gamma': 0.1}\n",
      "0.528 (+/-0.036) for {'C': 500, 'gamma': 0.01}\n",
      "0.366 (+/-0.039) for {'C': 1000, 'gamma': 10}\n",
      "0.533 (+/-0.052) for {'C': 1000, 'gamma': 1}\n",
      "0.505 (+/-0.076) for {'C': 1000, 'gamma': 0.1}\n",
      "0.536 (+/-0.036) for {'C': 1000, 'gamma': 0.01}\n",
      "CPU times: user 51.7 s, sys: 375 ms, total: 52.1 s\n",
      "Wall time: 17min 52s\n"
     ]
    }
   ],
   "source": [
    "%%time\n",
    "a,b,c,d,e = prepare_input(train_labels, train_mordred, target = 'EPA_category', encoder = encoder_epa)\n",
    "\n",
    "epa_svc_mordred = model_selection(svc, svm_grid_parameters, a, c, scoring = 'f1_weighted', cv=5, GridSearch = True)"
   ]
  },
  {
   "cell_type": "code",
   "execution_count": 18,
   "metadata": {},
   "outputs": [],
   "source": [
    "df_epa_svc_mordred = result_model_selection(epa_svc_mordred, 'epa_svc_mordred')"
   ]
  },
  {
   "cell_type": "markdown",
   "metadata": {},
   "source": [
    "## Endpoint 3: logLD50"
   ]
  },
  {
   "cell_type": "code",
   "execution_count": 36,
   "metadata": {},
   "outputs": [
    {
     "name": "stdout",
     "output_type": "stream",
     "text": [
      "Best parameters set found on development set: {'C': 1, 'gamma': 0.01}\n",
      "Best score: -0.5501342304980378\n",
      "Grid scores on development set:\n",
      "\n",
      "-0.827 (+/-0.309) for {'C': 1, 'gamma': 10}\n",
      "-0.827 (+/-0.309) for {'C': 1, 'gamma': 1}\n",
      "-0.627 (+/-0.226) for {'C': 1, 'gamma': 0.1}\n",
      "-0.550 (+/-0.191) for {'C': 1, 'gamma': 0.01}\n",
      "-0.823 (+/-0.278) for {'C': 10, 'gamma': 10}\n",
      "-0.823 (+/-0.277) for {'C': 10, 'gamma': 1}\n",
      "-0.613 (+/-0.202) for {'C': 10, 'gamma': 0.1}\n",
      "-0.582 (+/-0.184) for {'C': 10, 'gamma': 0.01}\n",
      "-0.823 (+/-0.278) for {'C': 100, 'gamma': 10}\n",
      "-0.823 (+/-0.277) for {'C': 100, 'gamma': 1}\n",
      "-0.613 (+/-0.202) for {'C': 100, 'gamma': 0.1}\n",
      "-0.665 (+/-0.141) for {'C': 100, 'gamma': 0.01}\n",
      "CPU times: user 1min, sys: 550 ms, total: 1min\n",
      "Wall time: 14min 5s\n"
     ]
    }
   ],
   "source": [
    "%%time\n",
    "a,b,c,d,e = prepare_input(train_labels, train_ecfp6_bits, target = 'logLD50_mmolkg', encoder = None)\n",
    "\n",
    "ld50_svr_ecfp6bits = model_selection(svr, svm_grid_parameters, a, c, scoring = 'neg_mean_squared_error', cv=5, GridSearch = True, n_jobs = 6)"
   ]
  },
  {
   "cell_type": "code",
   "execution_count": 37,
   "metadata": {},
   "outputs": [
    {
     "name": "stdout",
     "output_type": "stream",
     "text": [
      "Best parameters set found on development set: {'C': 10, 'gamma': 0.01}\n",
      "Best score: -0.5225856535556385\n",
      "Grid scores on development set:\n",
      "\n",
      "-0.827 (+/-0.309) for {'C': 1, 'gamma': 10}\n",
      "-0.827 (+/-0.309) for {'C': 1, 'gamma': 1}\n",
      "-0.738 (+/-0.287) for {'C': 1, 'gamma': 0.1}\n",
      "-0.528 (+/-0.208) for {'C': 1, 'gamma': 0.01}\n",
      "-0.823 (+/-0.278) for {'C': 10, 'gamma': 10}\n",
      "-0.823 (+/-0.278) for {'C': 10, 'gamma': 1}\n",
      "-0.726 (+/-0.264) for {'C': 10, 'gamma': 0.1}\n",
      "-0.523 (+/-0.193) for {'C': 10, 'gamma': 0.01}\n",
      "-0.823 (+/-0.278) for {'C': 100, 'gamma': 10}\n",
      "-0.823 (+/-0.278) for {'C': 100, 'gamma': 1}\n",
      "-0.726 (+/-0.264) for {'C': 100, 'gamma': 0.1}\n",
      "-0.546 (+/-0.191) for {'C': 100, 'gamma': 0.01}\n",
      "CPU times: user 1min 2s, sys: 173 ms, total: 1min 2s\n",
      "Wall time: 13min 55s\n"
     ]
    }
   ],
   "source": [
    "%%time\n",
    "a,b,c,d,e = prepare_input(train_labels, train_ecfp6_counts, target = 'logLD50_mmolkg', encoder = None)\n",
    "\n",
    "ld50_svr_ecfp6counts = model_selection(svr, svm_grid_parameters, a, c, scoring = 'neg_mean_squared_error', cv=5, GridSearch = True, n_jobs = 6)"
   ]
  },
  {
   "cell_type": "code",
   "execution_count": 23,
   "metadata": {},
   "outputs": [
    {
     "name": "stdout",
     "output_type": "stream",
     "text": [
      "Best parameters set found on development set: {'C': 10, 'gamma': 0.1}\n",
      "Best score: -0.45288626135182813\n",
      "Grid scores on development set:\n",
      "\n",
      "-0.837 (+/-0.322) for {'C': 0.1, 'gamma': 10}\n",
      "-0.818 (+/-0.304) for {'C': 0.1, 'gamma': 1}\n",
      "-0.573 (+/-0.176) for {'C': 0.1, 'gamma': 0.1}\n",
      "-0.623 (+/-0.217) for {'C': 0.1, 'gamma': 0.01}\n",
      "-0.812 (+/-0.279) for {'C': 1, 'gamma': 10}\n",
      "-0.766 (+/-0.262) for {'C': 1, 'gamma': 1}\n",
      "-0.464 (+/-0.141) for {'C': 1, 'gamma': 0.1}\n",
      "-0.522 (+/-0.141) for {'C': 1, 'gamma': 0.01}\n",
      "-0.808 (+/-0.254) for {'C': 10, 'gamma': 10}\n",
      "-0.754 (+/-0.243) for {'C': 10, 'gamma': 1}\n",
      "-0.453 (+/-0.084) for {'C': 10, 'gamma': 0.1}\n",
      "-0.478 (+/-0.163) for {'C': 10, 'gamma': 0.01}\n",
      "-0.808 (+/-0.254) for {'C': 100, 'gamma': 10}\n",
      "-0.754 (+/-0.243) for {'C': 100, 'gamma': 1}\n",
      "-0.457 (+/-0.081) for {'C': 100, 'gamma': 0.1}\n",
      "-0.554 (+/-0.177) for {'C': 100, 'gamma': 0.01}\n",
      "-0.808 (+/-0.254) for {'C': 500, 'gamma': 10}\n",
      "-0.754 (+/-0.243) for {'C': 500, 'gamma': 1}\n",
      "-0.457 (+/-0.081) for {'C': 500, 'gamma': 0.1}\n",
      "-0.671 (+/-0.101) for {'C': 500, 'gamma': 0.01}\n",
      "-0.808 (+/-0.254) for {'C': 1000, 'gamma': 10}\n",
      "-0.754 (+/-0.243) for {'C': 1000, 'gamma': 1}\n",
      "-0.457 (+/-0.081) for {'C': 1000, 'gamma': 0.1}\n",
      "-0.733 (+/-0.099) for {'C': 1000, 'gamma': 0.01}\n",
      "CPU times: user 8 s, sys: 36.1 ms, total: 8.03 s\n",
      "Wall time: 4min 5s\n"
     ]
    }
   ],
   "source": [
    "%%time\n",
    "a,b,c,d,e = prepare_input(train_labels, train_maccs, target = 'logLD50_mmolkg', encoder = None)\n",
    "\n",
    "ld50_svr_maccs = model_selection(svr, svm_grid_parameters, a, c, scoring = 'neg_mean_squared_error', cv=5, GridSearch = True)"
   ]
  },
  {
   "cell_type": "code",
   "execution_count": 24,
   "metadata": {},
   "outputs": [
    {
     "name": "stdout",
     "output_type": "stream",
     "text": [
      "Best parameters set found on development set: {'C': 1, 'gamma': 1}\n",
      "Best score: -0.4950215680734803\n",
      "Grid scores on development set:\n",
      "\n",
      "-0.729 (+/-0.293) for {'C': 0.1, 'gamma': 10}\n",
      "-0.579 (+/-0.175) for {'C': 0.1, 'gamma': 1}\n",
      "-0.680 (+/-0.267) for {'C': 0.1, 'gamma': 0.1}\n",
      "-0.786 (+/-0.330) for {'C': 0.1, 'gamma': 0.01}\n",
      "-0.588 (+/-0.221) for {'C': 1, 'gamma': 10}\n",
      "-0.495 (+/-0.148) for {'C': 1, 'gamma': 1}\n",
      "-0.592 (+/-0.171) for {'C': 1, 'gamma': 0.1}\n",
      "-0.689 (+/-0.268) for {'C': 1, 'gamma': 0.01}\n",
      "-0.576 (+/-0.207) for {'C': 10, 'gamma': 10}\n",
      "-0.500 (+/-0.181) for {'C': 10, 'gamma': 1}\n",
      "-0.533 (+/-0.140) for {'C': 10, 'gamma': 0.1}\n",
      "-0.624 (+/-0.180) for {'C': 10, 'gamma': 0.01}\n",
      "-0.576 (+/-0.208) for {'C': 100, 'gamma': 10}\n",
      "-0.597 (+/-0.228) for {'C': 100, 'gamma': 1}\n",
      "-0.533 (+/-0.174) for {'C': 100, 'gamma': 0.1}\n",
      "-0.579 (+/-0.151) for {'C': 100, 'gamma': 0.01}\n",
      "-0.576 (+/-0.208) for {'C': 500, 'gamma': 10}\n",
      "-0.682 (+/-0.246) for {'C': 500, 'gamma': 1}\n",
      "-0.630 (+/-0.245) for {'C': 500, 'gamma': 0.1}\n",
      "-0.548 (+/-0.146) for {'C': 500, 'gamma': 0.01}\n",
      "-0.576 (+/-0.208) for {'C': 1000, 'gamma': 10}\n",
      "-0.716 (+/-0.249) for {'C': 1000, 'gamma': 1}\n",
      "-0.728 (+/-0.313) for {'C': 1000, 'gamma': 0.1}\n",
      "-0.539 (+/-0.151) for {'C': 1000, 'gamma': 0.01}\n",
      "CPU times: user 6.53 s, sys: 28.1 ms, total: 6.56 s\n",
      "Wall time: 4min 49s\n"
     ]
    }
   ],
   "source": [
    "%%time\n",
    "a,b,c,d,e = prepare_input(train_labels, train_rdkit2d, target = 'logLD50_mmolkg', encoder = None)\n",
    "\n",
    "ld50_svr_rdkit2d = model_selection(svr, svm_grid_parameters, a, c, scoring = 'neg_mean_squared_error', cv=5, GridSearch = True)"
   ]
  },
  {
   "cell_type": "code",
   "execution_count": 25,
   "metadata": {},
   "outputs": [
    {
     "name": "stderr",
     "output_type": "stream",
     "text": [
      "/home/xinhao/.local/lib/python3.6/site-packages/joblib/externals/loky/process_executor.py:706: UserWarning: A worker stopped while some jobs were given to the executor. This can be caused by a too short worker timeout or by a memory leak.\n",
      "  \"timeout or by a memory leak.\", UserWarning\n"
     ]
    },
    {
     "name": "stdout",
     "output_type": "stream",
     "text": [
      "Best parameters set found on development set: {'C': 10, 'gamma': 0.1}\n",
      "Best score: -0.4613227665771701\n",
      "Grid scores on development set:\n",
      "\n",
      "-0.837 (+/-0.332) for {'C': 0.1, 'gamma': 10}\n",
      "-0.578 (+/-0.175) for {'C': 0.1, 'gamma': 1}\n",
      "-0.584 (+/-0.171) for {'C': 0.1, 'gamma': 0.1}\n",
      "-0.687 (+/-0.277) for {'C': 0.1, 'gamma': 0.01}\n",
      "-0.788 (+/-0.294) for {'C': 1, 'gamma': 10}\n",
      "-0.473 (+/-0.155) for {'C': 1, 'gamma': 1}\n",
      "-0.496 (+/-0.099) for {'C': 1, 'gamma': 0.1}\n",
      "-0.601 (+/-0.176) for {'C': 1, 'gamma': 0.01}\n",
      "-0.776 (+/-0.267) for {'C': 10, 'gamma': 10}\n",
      "-0.471 (+/-0.140) for {'C': 10, 'gamma': 1}\n",
      "-0.461 (+/-0.103) for {'C': 10, 'gamma': 0.1}\n",
      "-0.549 (+/-0.128) for {'C': 10, 'gamma': 0.01}\n",
      "-0.776 (+/-0.267) for {'C': 100, 'gamma': 10}\n",
      "-0.476 (+/-0.140) for {'C': 100, 'gamma': 1}\n",
      "-0.538 (+/-0.164) for {'C': 100, 'gamma': 0.1}\n",
      "-0.508 (+/-0.120) for {'C': 100, 'gamma': 0.01}\n",
      "-0.776 (+/-0.267) for {'C': 500, 'gamma': 10}\n",
      "-0.480 (+/-0.133) for {'C': 500, 'gamma': 1}\n",
      "-0.683 (+/-0.274) for {'C': 500, 'gamma': 0.1}\n",
      "-0.513 (+/-0.156) for {'C': 500, 'gamma': 0.01}\n",
      "-0.776 (+/-0.267) for {'C': 1000, 'gamma': 10}\n",
      "-0.489 (+/-0.118) for {'C': 1000, 'gamma': 1}\n",
      "-0.750 (+/-0.314) for {'C': 1000, 'gamma': 0.1}\n",
      "-0.524 (+/-0.175) for {'C': 1000, 'gamma': 0.01}\n",
      "CPU times: user 17.5 s, sys: 148 ms, total: 17.6 s\n",
      "Wall time: 8min 30s\n"
     ]
    }
   ],
   "source": [
    "%%time\n",
    "a,b,c,d,e = prepare_input(train_labels, train_mordred, target = 'logLD50_mmolkg', encoder = None)\n",
    "\n",
    "ld50_svr_mordred = model_selection(svr, svm_grid_parameters, a, c, scoring = 'neg_mean_squared_error', cv=5, GridSearch = True)"
   ]
  },
  {
   "cell_type": "markdown",
   "metadata": {},
   "source": [
    "# Random Forest Model"
   ]
  },
  {
   "cell_type": "markdown",
   "metadata": {},
   "source": [
    "## Endpoint 1: toxic"
   ]
  },
  {
   "cell_type": "code",
   "execution_count": 29,
   "metadata": {},
   "outputs": [],
   "source": [
    "encoder_toxic = joblib.load('../data/label_encoders/encoder_toxic.joblib')"
   ]
  },
  {
   "cell_type": "code",
   "execution_count": 33,
   "metadata": {},
   "outputs": [
    {
     "name": "stdout",
     "output_type": "stream",
     "text": [
      "Best parameters set found on development set: {'n_estimators': 1500, 'min_samples_split': 2, 'min_samples_leaf': 4, 'max_features': 'sqrt', 'max_depth': 80, 'bootstrap': False}\n",
      "Best score: 0.7957568767251008\n",
      "Grid scores on development set:\n",
      "\n",
      "0.776 (+/-0.070) for {'n_estimators': 1500, 'min_samples_split': 10, 'min_samples_leaf': 4, 'max_features': 'sqrt', 'max_depth': 20, 'bootstrap': False}\n",
      "0.788 (+/-0.066) for {'n_estimators': 500, 'min_samples_split': 2, 'min_samples_leaf': 4, 'max_features': 'sqrt', 'max_depth': 50, 'bootstrap': True}\n",
      "0.723 (+/-0.078) for {'n_estimators': 1500, 'min_samples_split': 10, 'min_samples_leaf': 2, 'max_features': 'sqrt', 'max_depth': 5, 'bootstrap': True}\n",
      "0.720 (+/-0.078) for {'n_estimators': 500, 'min_samples_split': 10, 'min_samples_leaf': 6, 'max_features': 'sqrt', 'max_depth': 5, 'bootstrap': False}\n",
      "0.788 (+/-0.072) for {'n_estimators': 1500, 'min_samples_split': 5, 'min_samples_leaf': 2, 'max_features': 'log2', 'max_depth': 80, 'bootstrap': True}\n",
      "0.777 (+/-0.077) for {'n_estimators': 1500, 'min_samples_split': 2, 'min_samples_leaf': 6, 'max_features': 'log2', 'max_depth': 80, 'bootstrap': False}\n",
      "0.769 (+/-0.074) for {'n_estimators': 500, 'min_samples_split': 10, 'min_samples_leaf': 4, 'max_features': 'log2', 'max_depth': 35, 'bootstrap': True}\n",
      "0.794 (+/-0.067) for {'n_estimators': 1500, 'min_samples_split': 2, 'min_samples_leaf': 4, 'max_features': 'sqrt', 'max_depth': 50, 'bootstrap': False}\n",
      "0.723 (+/-0.076) for {'n_estimators': 1500, 'min_samples_split': 5, 'min_samples_leaf': 2, 'max_features': 'sqrt', 'max_depth': 5, 'bootstrap': False}\n",
      "0.778 (+/-0.074) for {'n_estimators': 500, 'min_samples_split': 10, 'min_samples_leaf': 4, 'max_features': 'log2', 'max_depth': None, 'bootstrap': True}\n",
      "0.796 (+/-0.069) for {'n_estimators': 500, 'min_samples_split': 10, 'min_samples_leaf': 4, 'max_features': 'sqrt', 'max_depth': 80, 'bootstrap': False}\n",
      "0.769 (+/-0.078) for {'n_estimators': 1500, 'min_samples_split': 5, 'min_samples_leaf': 6, 'max_features': 'log2', 'max_depth': 35, 'bootstrap': False}\n",
      "0.779 (+/-0.069) for {'n_estimators': 500, 'min_samples_split': 2, 'min_samples_leaf': 2, 'max_features': 'sqrt', 'max_depth': 20, 'bootstrap': False}\n",
      "0.734 (+/-0.082) for {'n_estimators': 1500, 'min_samples_split': 10, 'min_samples_leaf': 6, 'max_features': 'log2', 'max_depth': 5, 'bootstrap': False}\n",
      "0.783 (+/-0.068) for {'n_estimators': 1500, 'min_samples_split': 10, 'min_samples_leaf': 4, 'max_features': 'sqrt', 'max_depth': 35, 'bootstrap': True}\n",
      "0.781 (+/-0.069) for {'n_estimators': 1500, 'min_samples_split': 5, 'min_samples_leaf': 6, 'max_features': 'sqrt', 'max_depth': 50, 'bootstrap': True}\n",
      "0.795 (+/-0.066) for {'n_estimators': 500, 'min_samples_split': 2, 'min_samples_leaf': 4, 'max_features': 'sqrt', 'max_depth': 65, 'bootstrap': False}\n",
      "0.782 (+/-0.069) for {'n_estimators': 1500, 'min_samples_split': 5, 'min_samples_leaf': 6, 'max_features': 'sqrt', 'max_depth': 65, 'bootstrap': True}\n",
      "0.796 (+/-0.068) for {'n_estimators': 1500, 'min_samples_split': 2, 'min_samples_leaf': 4, 'max_features': 'sqrt', 'max_depth': 80, 'bootstrap': False}\n",
      "0.735 (+/-0.082) for {'n_estimators': 500, 'min_samples_split': 2, 'min_samples_leaf': 2, 'max_features': 'log2', 'max_depth': 5, 'bootstrap': False}\n",
      "CPU times: user 7min 3s, sys: 27.2 s, total: 7min 31s\n",
      "Wall time: 23min 44s\n"
     ]
    }
   ],
   "source": [
    "%%time\n",
    "a,b,c,d,e = prepare_input(train_labels, train_ecfp6_bits, target = 'toxic', encoder = encoder_toxic)\n",
    "\n",
    "t_rf_ecfp6bits = model_selection(rf_clf, rf_grid_parameters, a, c, scoring = 'roc_auc', cv=5, GridSearch = False, n_iter=20,n_jobs=1)"
   ]
  },
  {
   "cell_type": "code",
   "execution_count": 31,
   "metadata": {},
   "outputs": [
    {
     "name": "stdout",
     "output_type": "stream",
     "text": [
      "Best parameters set found on development set: {'n_estimators': 1500, 'min_samples_split': 2, 'min_samples_leaf': 2, 'max_features': 'log2', 'max_depth': 35, 'bootstrap': False}\n",
      "Best score: 0.8223225294394823\n",
      "Grid scores on development set:\n",
      "\n",
      "0.818 (+/-0.066) for {'n_estimators': 1500, 'min_samples_split': 2, 'min_samples_leaf': 4, 'max_features': 'log2', 'max_depth': 50, 'bootstrap': False}\n",
      "0.813 (+/-0.065) for {'n_estimators': 1500, 'min_samples_split': 10, 'min_samples_leaf': 6, 'max_features': 'log2', 'max_depth': 50, 'bootstrap': False}\n",
      "0.807 (+/-0.065) for {'n_estimators': 1500, 'min_samples_split': 5, 'min_samples_leaf': 6, 'max_features': 'log2', 'max_depth': 20, 'bootstrap': True}\n",
      "0.813 (+/-0.066) for {'n_estimators': 500, 'min_samples_split': 5, 'min_samples_leaf': 6, 'max_features': 'log2', 'max_depth': 50, 'bootstrap': False}\n",
      "0.822 (+/-0.067) for {'n_estimators': 1500, 'min_samples_split': 5, 'min_samples_leaf': 2, 'max_features': 'sqrt', 'max_depth': 35, 'bootstrap': False}\n",
      "0.817 (+/-0.067) for {'n_estimators': 500, 'min_samples_split': 10, 'min_samples_leaf': 4, 'max_features': 'log2', 'max_depth': 35, 'bootstrap': False}\n",
      "0.820 (+/-0.066) for {'n_estimators': 1500, 'min_samples_split': 10, 'min_samples_leaf': 4, 'max_features': 'sqrt', 'max_depth': 80, 'bootstrap': False}\n",
      "0.807 (+/-0.065) for {'n_estimators': 500, 'min_samples_split': 10, 'min_samples_leaf': 6, 'max_features': 'log2', 'max_depth': 35, 'bootstrap': True}\n",
      "0.820 (+/-0.066) for {'n_estimators': 500, 'min_samples_split': 10, 'min_samples_leaf': 4, 'max_features': 'sqrt', 'max_depth': 50, 'bootstrap': False}\n",
      "0.822 (+/-0.066) for {'n_estimators': 1500, 'min_samples_split': 2, 'min_samples_leaf': 2, 'max_features': 'log2', 'max_depth': 35, 'bootstrap': False}\n",
      "0.765 (+/-0.071) for {'n_estimators': 1500, 'min_samples_split': 5, 'min_samples_leaf': 4, 'max_features': 'sqrt', 'max_depth': 5, 'bootstrap': True}\n",
      "0.761 (+/-0.078) for {'n_estimators': 500, 'min_samples_split': 5, 'min_samples_leaf': 4, 'max_features': 'log2', 'max_depth': 5, 'bootstrap': False}\n",
      "0.812 (+/-0.065) for {'n_estimators': 500, 'min_samples_split': 10, 'min_samples_leaf': 4, 'max_features': 'log2', 'max_depth': 65, 'bootstrap': True}\n",
      "0.807 (+/-0.065) for {'n_estimators': 500, 'min_samples_split': 10, 'min_samples_leaf': 6, 'max_features': 'log2', 'max_depth': 50, 'bootstrap': True}\n",
      "0.761 (+/-0.076) for {'n_estimators': 1500, 'min_samples_split': 2, 'min_samples_leaf': 2, 'max_features': 'log2', 'max_depth': 5, 'bootstrap': False}\n",
      "0.822 (+/-0.066) for {'n_estimators': 1500, 'min_samples_split': 5, 'min_samples_leaf': 2, 'max_features': 'sqrt', 'max_depth': 20, 'bootstrap': False}\n",
      "0.820 (+/-0.067) for {'n_estimators': 1500, 'min_samples_split': 5, 'min_samples_leaf': 4, 'max_features': 'sqrt', 'max_depth': 35, 'bootstrap': False}\n",
      "0.812 (+/-0.065) for {'n_estimators': 1500, 'min_samples_split': 5, 'min_samples_leaf': 6, 'max_features': 'sqrt', 'max_depth': 20, 'bootstrap': True}\n",
      "0.807 (+/-0.065) for {'n_estimators': 500, 'min_samples_split': 5, 'min_samples_leaf': 6, 'max_features': 'log2', 'max_depth': 50, 'bootstrap': True}\n",
      "0.760 (+/-0.076) for {'n_estimators': 1500, 'min_samples_split': 2, 'min_samples_leaf': 2, 'max_features': 'log2', 'max_depth': 5, 'bootstrap': True}\n",
      "0.821 (+/-0.066) for {'n_estimators': 500, 'min_samples_split': 2, 'min_samples_leaf': 2, 'max_features': 'sqrt', 'max_depth': 35, 'bootstrap': True}\n",
      "0.822 (+/-0.065) for {'n_estimators': 1500, 'min_samples_split': 2, 'min_samples_leaf': 2, 'max_features': 'log2', 'max_depth': 65, 'bootstrap': False}\n",
      "0.821 (+/-0.068) for {'n_estimators': 500, 'min_samples_split': 2, 'min_samples_leaf': 2, 'max_features': 'sqrt', 'max_depth': 65, 'bootstrap': False}\n",
      "0.818 (+/-0.066) for {'n_estimators': 500, 'min_samples_split': 2, 'min_samples_leaf': 4, 'max_features': 'log2', 'max_depth': 20, 'bootstrap': False}\n",
      "0.819 (+/-0.066) for {'n_estimators': 500, 'min_samples_split': 5, 'min_samples_leaf': 2, 'max_features': 'log2', 'max_depth': 50, 'bootstrap': True}\n",
      "0.820 (+/-0.067) for {'n_estimators': 500, 'min_samples_split': 5, 'min_samples_leaf': 2, 'max_features': 'sqrt', 'max_depth': 80, 'bootstrap': True}\n",
      "0.820 (+/-0.065) for {'n_estimators': 1500, 'min_samples_split': 2, 'min_samples_leaf': 2, 'max_features': 'log2', 'max_depth': 65, 'bootstrap': True}\n",
      "0.820 (+/-0.067) for {'n_estimators': 1500, 'min_samples_split': 5, 'min_samples_leaf': 2, 'max_features': 'sqrt', 'max_depth': 80, 'bootstrap': True}\n",
      "0.813 (+/-0.066) for {'n_estimators': 500, 'min_samples_split': 10, 'min_samples_leaf': 6, 'max_features': 'log2', 'max_depth': None, 'bootstrap': False}\n",
      "0.813 (+/-0.067) for {'n_estimators': 500, 'min_samples_split': 10, 'min_samples_leaf': 6, 'max_features': 'log2', 'max_depth': 20, 'bootstrap': False}\n",
      "CPU times: user 4min 27s, sys: 26.6 s, total: 4min 54s\n",
      "Wall time: 6min\n"
     ]
    }
   ],
   "source": [
    "%%time\n",
    "a,b,c,d,e = prepare_input(train_labels, train_maccs, target = 'toxic', encoder = encoder_toxic)\n",
    "\n",
    "t_rf_maccs = model_selection(rf_clf, rf_grid_parameters, a, c, scoring = 'roc_auc', cv=5, GridSearch = False, n_iter=30,n_jobs=1)"
   ]
  },
  {
   "cell_type": "code",
   "execution_count": 30,
   "metadata": {},
   "outputs": [
    {
     "name": "stdout",
     "output_type": "stream",
     "text": [
      "Best parameters set found on development set: {'n_estimators': 1500, 'min_samples_split': 2, 'min_samples_leaf': 2, 'max_features': 'log2', 'max_depth': 65, 'bootstrap': False}\n",
      "Best score: 0.8386576205979399\n",
      "Grid scores on development set:\n",
      "\n",
      "0.839 (+/-0.058) for {'n_estimators': 1500, 'min_samples_split': 2, 'min_samples_leaf': 2, 'max_features': 'log2', 'max_depth': 65, 'bootstrap': False}\n",
      "0.837 (+/-0.059) for {'n_estimators': 1500, 'min_samples_split': 5, 'min_samples_leaf': 4, 'max_features': 'sqrt', 'max_depth': 20, 'bootstrap': False}\n",
      "0.829 (+/-0.056) for {'n_estimators': 1500, 'min_samples_split': 10, 'min_samples_leaf': 6, 'max_features': 'sqrt', 'max_depth': 80, 'bootstrap': True}\n",
      "0.832 (+/-0.059) for {'n_estimators': 500, 'min_samples_split': 5, 'min_samples_leaf': 6, 'max_features': 'log2', 'max_depth': 50, 'bootstrap': False}\n",
      "0.838 (+/-0.057) for {'n_estimators': 1500, 'min_samples_split': 5, 'min_samples_leaf': 2, 'max_features': 'log2', 'max_depth': None, 'bootstrap': False}\n",
      "0.835 (+/-0.056) for {'n_estimators': 1500, 'min_samples_split': 5, 'min_samples_leaf': 2, 'max_features': 'log2', 'max_depth': None, 'bootstrap': True}\n",
      "0.838 (+/-0.059) for {'n_estimators': 500, 'min_samples_split': 10, 'min_samples_leaf': 2, 'max_features': 'sqrt', 'max_depth': None, 'bootstrap': False}\n",
      "0.767 (+/-0.062) for {'n_estimators': 500, 'min_samples_split': 10, 'min_samples_leaf': 2, 'max_features': 'log2', 'max_depth': 5, 'bootstrap': True}\n",
      "0.837 (+/-0.059) for {'n_estimators': 500, 'min_samples_split': 10, 'min_samples_leaf': 2, 'max_features': 'log2', 'max_depth': 65, 'bootstrap': False}\n",
      "0.767 (+/-0.064) for {'n_estimators': 500, 'min_samples_split': 10, 'min_samples_leaf': 6, 'max_features': 'log2', 'max_depth': 5, 'bootstrap': False}\n",
      "0.835 (+/-0.057) for {'n_estimators': 1500, 'min_samples_split': 2, 'min_samples_leaf': 6, 'max_features': 'sqrt', 'max_depth': 50, 'bootstrap': False}\n",
      "0.768 (+/-0.062) for {'n_estimators': 500, 'min_samples_split': 2, 'min_samples_leaf': 4, 'max_features': 'log2', 'max_depth': 5, 'bootstrap': True}\n",
      "0.838 (+/-0.060) for {'n_estimators': 500, 'min_samples_split': 5, 'min_samples_leaf': 2, 'max_features': 'sqrt', 'max_depth': 50, 'bootstrap': False}\n",
      "0.832 (+/-0.059) for {'n_estimators': 500, 'min_samples_split': 10, 'min_samples_leaf': 6, 'max_features': 'log2', 'max_depth': 20, 'bootstrap': False}\n",
      "0.837 (+/-0.058) for {'n_estimators': 500, 'min_samples_split': 5, 'min_samples_leaf': 2, 'max_features': 'log2', 'max_depth': 50, 'bootstrap': False}\n",
      "0.832 (+/-0.056) for {'n_estimators': 1500, 'min_samples_split': 2, 'min_samples_leaf': 4, 'max_features': 'sqrt', 'max_depth': 35, 'bootstrap': True}\n",
      "0.836 (+/-0.057) for {'n_estimators': 500, 'min_samples_split': 5, 'min_samples_leaf': 4, 'max_features': 'log2', 'max_depth': 50, 'bootstrap': False}\n",
      "0.830 (+/-0.057) for {'n_estimators': 1500, 'min_samples_split': 5, 'min_samples_leaf': 4, 'max_features': 'log2', 'max_depth': 50, 'bootstrap': True}\n",
      "0.833 (+/-0.058) for {'n_estimators': 1500, 'min_samples_split': 10, 'min_samples_leaf': 6, 'max_features': 'log2', 'max_depth': 65, 'bootstrap': False}\n",
      "0.833 (+/-0.058) for {'n_estimators': 1500, 'min_samples_split': 10, 'min_samples_leaf': 6, 'max_features': 'log2', 'max_depth': 35, 'bootstrap': False}\n",
      "0.826 (+/-0.057) for {'n_estimators': 1500, 'min_samples_split': 5, 'min_samples_leaf': 6, 'max_features': 'log2', 'max_depth': 65, 'bootstrap': True}\n",
      "0.826 (+/-0.057) for {'n_estimators': 1500, 'min_samples_split': 2, 'min_samples_leaf': 6, 'max_features': 'log2', 'max_depth': 35, 'bootstrap': True}\n",
      "0.768 (+/-0.064) for {'n_estimators': 1500, 'min_samples_split': 10, 'min_samples_leaf': 6, 'max_features': 'log2', 'max_depth': 5, 'bootstrap': False}\n",
      "0.832 (+/-0.058) for {'n_estimators': 500, 'min_samples_split': 10, 'min_samples_leaf': 2, 'max_features': 'sqrt', 'max_depth': 20, 'bootstrap': True}\n",
      "0.837 (+/-0.058) for {'n_estimators': 1500, 'min_samples_split': 10, 'min_samples_leaf': 4, 'max_features': 'sqrt', 'max_depth': 65, 'bootstrap': False}\n",
      "0.835 (+/-0.058) for {'n_estimators': 1500, 'min_samples_split': 5, 'min_samples_leaf': 2, 'max_features': 'sqrt', 'max_depth': 80, 'bootstrap': True}\n",
      "0.835 (+/-0.056) for {'n_estimators': 500, 'min_samples_split': 5, 'min_samples_leaf': 2, 'max_features': 'log2', 'max_depth': None, 'bootstrap': True}\n",
      "0.773 (+/-0.068) for {'n_estimators': 1500, 'min_samples_split': 2, 'min_samples_leaf': 4, 'max_features': 'sqrt', 'max_depth': 5, 'bootstrap': False}\n",
      "0.837 (+/-0.059) for {'n_estimators': 500, 'min_samples_split': 10, 'min_samples_leaf': 2, 'max_features': 'log2', 'max_depth': 80, 'bootstrap': False}\n",
      "0.834 (+/-0.056) for {'n_estimators': 1500, 'min_samples_split': 10, 'min_samples_leaf': 2, 'max_features': 'sqrt', 'max_depth': 35, 'bootstrap': True}\n",
      "CPU times: user 5min 20s, sys: 27.7 s, total: 5min 48s\n",
      "Wall time: 11min 36s\n"
     ]
    }
   ],
   "source": [
    "%%time\n",
    "a,b,c,d,e = prepare_input(train_labels, train_rdkit2d, target = 'toxic', encoder = encoder_toxic)\n",
    "\n",
    "t_rf_rdkit2d = model_selection(rf_clf, rf_grid_parameters, a, c, scoring = 'roc_auc', cv=5, GridSearch = False, n_iter=30,n_jobs=1)"
   ]
  },
  {
   "cell_type": "code",
   "execution_count": 32,
   "metadata": {},
   "outputs": [
    {
     "name": "stdout",
     "output_type": "stream",
     "text": [
      "Best parameters set found on development set: {'n_estimators': 1500, 'min_samples_split': 5, 'min_samples_leaf': 4, 'max_features': 'sqrt', 'max_depth': 80, 'bootstrap': False}\n",
      "Best score: 0.8351086174639999\n",
      "Grid scores on development set:\n",
      "\n",
      "0.832 (+/-0.059) for {'n_estimators': 1500, 'min_samples_split': 10, 'min_samples_leaf': 4, 'max_features': 'log2', 'max_depth': 35, 'bootstrap': False}\n",
      "0.790 (+/-0.060) for {'n_estimators': 1500, 'min_samples_split': 5, 'min_samples_leaf': 2, 'max_features': 'sqrt', 'max_depth': 5, 'bootstrap': True}\n",
      "0.830 (+/-0.060) for {'n_estimators': 1500, 'min_samples_split': 10, 'min_samples_leaf': 4, 'max_features': 'sqrt', 'max_depth': 50, 'bootstrap': True}\n",
      "0.782 (+/-0.064) for {'n_estimators': 500, 'min_samples_split': 10, 'min_samples_leaf': 4, 'max_features': 'log2', 'max_depth': 5, 'bootstrap': False}\n",
      "0.834 (+/-0.061) for {'n_estimators': 500, 'min_samples_split': 5, 'min_samples_leaf': 4, 'max_features': 'sqrt', 'max_depth': 35, 'bootstrap': False}\n",
      "0.832 (+/-0.060) for {'n_estimators': 1500, 'min_samples_split': 5, 'min_samples_leaf': 4, 'max_features': 'log2', 'max_depth': None, 'bootstrap': False}\n",
      "0.828 (+/-0.062) for {'n_estimators': 500, 'min_samples_split': 2, 'min_samples_leaf': 2, 'max_features': 'log2', 'max_depth': 65, 'bootstrap': True}\n",
      "0.823 (+/-0.060) for {'n_estimators': 500, 'min_samples_split': 10, 'min_samples_leaf': 6, 'max_features': 'log2', 'max_depth': None, 'bootstrap': True}\n",
      "0.824 (+/-0.060) for {'n_estimators': 1500, 'min_samples_split': 10, 'min_samples_leaf': 6, 'max_features': 'log2', 'max_depth': 35, 'bootstrap': True}\n",
      "0.830 (+/-0.059) for {'n_estimators': 1500, 'min_samples_split': 2, 'min_samples_leaf': 4, 'max_features': 'sqrt', 'max_depth': 20, 'bootstrap': True}\n",
      "0.829 (+/-0.061) for {'n_estimators': 500, 'min_samples_split': 5, 'min_samples_leaf': 2, 'max_features': 'log2', 'max_depth': 35, 'bootstrap': True}\n",
      "0.828 (+/-0.062) for {'n_estimators': 500, 'min_samples_split': 2, 'min_samples_leaf': 2, 'max_features': 'log2', 'max_depth': 80, 'bootstrap': True}\n",
      "0.830 (+/-0.059) for {'n_estimators': 1500, 'min_samples_split': 5, 'min_samples_leaf': 4, 'max_features': 'sqrt', 'max_depth': 65, 'bootstrap': True}\n",
      "0.834 (+/-0.060) for {'n_estimators': 500, 'min_samples_split': 10, 'min_samples_leaf': 4, 'max_features': 'sqrt', 'max_depth': 80, 'bootstrap': False}\n",
      "0.824 (+/-0.060) for {'n_estimators': 1500, 'min_samples_split': 10, 'min_samples_leaf': 6, 'max_features': 'log2', 'max_depth': 50, 'bootstrap': True}\n",
      "0.835 (+/-0.060) for {'n_estimators': 1500, 'min_samples_split': 5, 'min_samples_leaf': 4, 'max_features': 'sqrt', 'max_depth': 80, 'bootstrap': False}\n",
      "0.833 (+/-0.060) for {'n_estimators': 1500, 'min_samples_split': 2, 'min_samples_leaf': 6, 'max_features': 'sqrt', 'max_depth': 65, 'bootstrap': False}\n",
      "0.831 (+/-0.058) for {'n_estimators': 500, 'min_samples_split': 10, 'min_samples_leaf': 6, 'max_features': 'log2', 'max_depth': 50, 'bootstrap': False}\n",
      "0.832 (+/-0.060) for {'n_estimators': 500, 'min_samples_split': 2, 'min_samples_leaf': 2, 'max_features': 'log2', 'max_depth': 65, 'bootstrap': False}\n",
      "0.832 (+/-0.060) for {'n_estimators': 500, 'min_samples_split': 2, 'min_samples_leaf': 4, 'max_features': 'log2', 'max_depth': None, 'bootstrap': False}\n",
      "0.832 (+/-0.060) for {'n_estimators': 500, 'min_samples_split': 2, 'min_samples_leaf': 2, 'max_features': 'log2', 'max_depth': 80, 'bootstrap': False}\n",
      "0.832 (+/-0.060) for {'n_estimators': 1500, 'min_samples_split': 5, 'min_samples_leaf': 4, 'max_features': 'log2', 'max_depth': 35, 'bootstrap': False}\n",
      "0.781 (+/-0.065) for {'n_estimators': 500, 'min_samples_split': 2, 'min_samples_leaf': 6, 'max_features': 'log2', 'max_depth': 5, 'bootstrap': True}\n",
      "0.829 (+/-0.061) for {'n_estimators': 500, 'min_samples_split': 2, 'min_samples_leaf': 4, 'max_features': 'sqrt', 'max_depth': 65, 'bootstrap': True}\n",
      "0.835 (+/-0.060) for {'n_estimators': 500, 'min_samples_split': 10, 'min_samples_leaf': 2, 'max_features': 'sqrt', 'max_depth': 35, 'bootstrap': False}\n",
      "0.835 (+/-0.060) for {'n_estimators': 1500, 'min_samples_split': 2, 'min_samples_leaf': 4, 'max_features': 'sqrt', 'max_depth': 65, 'bootstrap': False}\n",
      "0.831 (+/-0.059) for {'n_estimators': 1500, 'min_samples_split': 2, 'min_samples_leaf': 6, 'max_features': 'log2', 'max_depth': 35, 'bootstrap': False}\n",
      "0.829 (+/-0.061) for {'n_estimators': 1500, 'min_samples_split': 10, 'min_samples_leaf': 4, 'max_features': 'sqrt', 'max_depth': 20, 'bootstrap': True}\n",
      "0.828 (+/-0.062) for {'n_estimators': 500, 'min_samples_split': 2, 'min_samples_leaf': 2, 'max_features': 'log2', 'max_depth': None, 'bootstrap': True}\n",
      "0.827 (+/-0.061) for {'n_estimators': 500, 'min_samples_split': 10, 'min_samples_leaf': 6, 'max_features': 'sqrt', 'max_depth': 35, 'bootstrap': True}\n",
      "CPU times: user 8min 38s, sys: 28.5 s, total: 9min 6s\n",
      "Wall time: 26min 48s\n"
     ]
    }
   ],
   "source": [
    "%%time\n",
    "a,b,c,d,e = prepare_input(train_labels, train_mordred, target = 'toxic', encoder = encoder_toxic)\n",
    "\n",
    "t_rf_mordred = model_selection(rf_clf, rf_grid_parameters, a, c, scoring = 'roc_auc', cv=5, GridSearch = False, n_iter=30,n_jobs=1)"
   ]
  },
  {
   "cell_type": "code",
   "execution_count": 34,
   "metadata": {},
   "outputs": [
    {
     "name": "stdout",
     "output_type": "stream",
     "text": [
      "Best parameters set found on development set: {'n_estimators': 1500, 'min_samples_split': 5, 'min_samples_leaf': 2, 'max_features': 'sqrt', 'max_depth': 35, 'bootstrap': True}\n",
      "Best score: 0.7978769614922325\n",
      "Grid scores on development set:\n",
      "\n",
      "0.779 (+/-0.072) for {'n_estimators': 1500, 'min_samples_split': 10, 'min_samples_leaf': 6, 'max_features': 'log2', 'max_depth': 50, 'bootstrap': False}\n",
      "0.773 (+/-0.074) for {'n_estimators': 1500, 'min_samples_split': 2, 'min_samples_leaf': 2, 'max_features': 'log2', 'max_depth': 20, 'bootstrap': False}\n",
      "0.787 (+/-0.068) for {'n_estimators': 1500, 'min_samples_split': 5, 'min_samples_leaf': 2, 'max_features': 'sqrt', 'max_depth': 20, 'bootstrap': False}\n",
      "0.736 (+/-0.078) for {'n_estimators': 500, 'min_samples_split': 5, 'min_samples_leaf': 4, 'max_features': 'log2', 'max_depth': 5, 'bootstrap': True}\n",
      "0.725 (+/-0.071) for {'n_estimators': 500, 'min_samples_split': 5, 'min_samples_leaf': 6, 'max_features': 'sqrt', 'max_depth': 5, 'bootstrap': True}\n",
      "0.767 (+/-0.069) for {'n_estimators': 500, 'min_samples_split': 2, 'min_samples_leaf': 6, 'max_features': 'log2', 'max_depth': 35, 'bootstrap': True}\n",
      "0.798 (+/-0.065) for {'n_estimators': 1500, 'min_samples_split': 5, 'min_samples_leaf': 2, 'max_features': 'sqrt', 'max_depth': 35, 'bootstrap': True}\n",
      "0.793 (+/-0.065) for {'n_estimators': 1500, 'min_samples_split': 10, 'min_samples_leaf': 6, 'max_features': 'sqrt', 'max_depth': 35, 'bootstrap': False}\n",
      "0.797 (+/-0.069) for {'n_estimators': 500, 'min_samples_split': 5, 'min_samples_leaf': 2, 'max_features': 'log2', 'max_depth': 65, 'bootstrap': False}\n",
      "0.785 (+/-0.070) for {'n_estimators': 500, 'min_samples_split': 5, 'min_samples_leaf': 4, 'max_features': 'log2', 'max_depth': 50, 'bootstrap': False}\n",
      "0.736 (+/-0.076) for {'n_estimators': 500, 'min_samples_split': 2, 'min_samples_leaf': 6, 'max_features': 'log2', 'max_depth': 5, 'bootstrap': False}\n",
      "0.785 (+/-0.072) for {'n_estimators': 500, 'min_samples_split': 10, 'min_samples_leaf': 4, 'max_features': 'log2', 'max_depth': 50, 'bootstrap': False}\n",
      "0.791 (+/-0.066) for {'n_estimators': 500, 'min_samples_split': 10, 'min_samples_leaf': 6, 'max_features': 'sqrt', 'max_depth': 65, 'bootstrap': True}\n",
      "0.737 (+/-0.075) for {'n_estimators': 500, 'min_samples_split': 2, 'min_samples_leaf': 2, 'max_features': 'log2', 'max_depth': 5, 'bootstrap': False}\n",
      "0.725 (+/-0.071) for {'n_estimators': 500, 'min_samples_split': 5, 'min_samples_leaf': 4, 'max_features': 'sqrt', 'max_depth': 5, 'bootstrap': True}\n",
      "0.784 (+/-0.072) for {'n_estimators': 1500, 'min_samples_split': 2, 'min_samples_leaf': 6, 'max_features': 'log2', 'max_depth': None, 'bootstrap': False}\n",
      "0.778 (+/-0.066) for {'n_estimators': 500, 'min_samples_split': 2, 'min_samples_leaf': 4, 'max_features': 'log2', 'max_depth': 50, 'bootstrap': True}\n",
      "0.792 (+/-0.067) for {'n_estimators': 500, 'min_samples_split': 2, 'min_samples_leaf': 6, 'max_features': 'sqrt', 'max_depth': None, 'bootstrap': True}\n",
      "0.798 (+/-0.065) for {'n_estimators': 1500, 'min_samples_split': 2, 'min_samples_leaf': 2, 'max_features': 'sqrt', 'max_depth': 35, 'bootstrap': True}\n",
      "0.795 (+/-0.065) for {'n_estimators': 1500, 'min_samples_split': 10, 'min_samples_leaf': 4, 'max_features': 'sqrt', 'max_depth': 50, 'bootstrap': True}\n",
      "CPU times: user 5min 26s, sys: 23.7 s, total: 5min 49s\n",
      "Wall time: 19min 12s\n"
     ]
    }
   ],
   "source": [
    "%%time\n",
    "a,b,c,d,e = prepare_input(train_labels, train_ecfp6_counts, target = 'toxic', encoder = encoder_toxic)\n",
    "\n",
    "t_rf_ecfp6count = model_selection(rf_clf, rf_grid_parameters, a, c, scoring = 'roc_auc', cv=5, GridSearch = False, n_iter=20,n_jobs=1)"
   ]
  },
  {
   "cell_type": "markdown",
   "metadata": {},
   "source": [
    "## Endpoint 2: EPA"
   ]
  },
  {
   "cell_type": "code",
   "execution_count": 35,
   "metadata": {},
   "outputs": [],
   "source": [
    "encoder_epa = joblib.load('../data/label_encoders/encoder_epa.joblib')"
   ]
  },
  {
   "cell_type": "code",
   "execution_count": 82,
   "metadata": {},
   "outputs": [
    {
     "name": "stderr",
     "output_type": "stream",
     "text": [
      "/home/xinhao/.local/lib/python3.6/site-packages/sklearn/metrics/classification.py:1437: UndefinedMetricWarning: F-score is ill-defined and being set to 0.0 in labels with no predicted samples.\n",
      "  'precision', 'predicted', average, warn_for)\n",
      "/home/xinhao/.local/lib/python3.6/site-packages/sklearn/metrics/classification.py:1437: UndefinedMetricWarning: F-score is ill-defined and being set to 0.0 in labels with no predicted samples.\n",
      "  'precision', 'predicted', average, warn_for)\n",
      "/home/xinhao/.local/lib/python3.6/site-packages/sklearn/metrics/classification.py:1437: UndefinedMetricWarning: F-score is ill-defined and being set to 0.0 in labels with no predicted samples.\n",
      "  'precision', 'predicted', average, warn_for)\n",
      "/home/xinhao/.local/lib/python3.6/site-packages/sklearn/metrics/classification.py:1437: UndefinedMetricWarning: F-score is ill-defined and being set to 0.0 in labels with no predicted samples.\n",
      "  'precision', 'predicted', average, warn_for)\n",
      "/home/xinhao/.local/lib/python3.6/site-packages/sklearn/metrics/classification.py:1437: UndefinedMetricWarning: F-score is ill-defined and being set to 0.0 in labels with no predicted samples.\n",
      "  'precision', 'predicted', average, warn_for)\n",
      "/home/xinhao/.local/lib/python3.6/site-packages/sklearn/metrics/classification.py:1437: UndefinedMetricWarning: F-score is ill-defined and being set to 0.0 in labels with no predicted samples.\n",
      "  'precision', 'predicted', average, warn_for)\n",
      "/home/xinhao/.local/lib/python3.6/site-packages/sklearn/metrics/classification.py:1437: UndefinedMetricWarning: F-score is ill-defined and being set to 0.0 in labels with no predicted samples.\n",
      "  'precision', 'predicted', average, warn_for)\n",
      "/home/xinhao/.local/lib/python3.6/site-packages/sklearn/metrics/classification.py:1437: UndefinedMetricWarning: F-score is ill-defined and being set to 0.0 in labels with no predicted samples.\n",
      "  'precision', 'predicted', average, warn_for)\n",
      "/home/xinhao/.local/lib/python3.6/site-packages/sklearn/metrics/classification.py:1437: UndefinedMetricWarning: F-score is ill-defined and being set to 0.0 in labels with no predicted samples.\n",
      "  'precision', 'predicted', average, warn_for)\n",
      "/home/xinhao/.local/lib/python3.6/site-packages/sklearn/metrics/classification.py:1437: UndefinedMetricWarning: F-score is ill-defined and being set to 0.0 in labels with no predicted samples.\n",
      "  'precision', 'predicted', average, warn_for)\n",
      "/home/xinhao/.local/lib/python3.6/site-packages/sklearn/metrics/classification.py:1437: UndefinedMetricWarning: F-score is ill-defined and being set to 0.0 in labels with no predicted samples.\n",
      "  'precision', 'predicted', average, warn_for)\n",
      "/home/xinhao/.local/lib/python3.6/site-packages/sklearn/metrics/classification.py:1437: UndefinedMetricWarning: F-score is ill-defined and being set to 0.0 in labels with no predicted samples.\n",
      "  'precision', 'predicted', average, warn_for)\n",
      "/home/xinhao/.local/lib/python3.6/site-packages/sklearn/metrics/classification.py:1437: UndefinedMetricWarning: F-score is ill-defined and being set to 0.0 in labels with no predicted samples.\n",
      "  'precision', 'predicted', average, warn_for)\n",
      "/home/xinhao/.local/lib/python3.6/site-packages/sklearn/metrics/classification.py:1437: UndefinedMetricWarning: F-score is ill-defined and being set to 0.0 in labels with no predicted samples.\n",
      "  'precision', 'predicted', average, warn_for)\n",
      "/home/xinhao/.local/lib/python3.6/site-packages/sklearn/metrics/classification.py:1437: UndefinedMetricWarning: F-score is ill-defined and being set to 0.0 in labels with no predicted samples.\n",
      "  'precision', 'predicted', average, warn_for)\n",
      "/home/xinhao/.local/lib/python3.6/site-packages/sklearn/metrics/classification.py:1437: UndefinedMetricWarning: F-score is ill-defined and being set to 0.0 in labels with no predicted samples.\n",
      "  'precision', 'predicted', average, warn_for)\n",
      "/home/xinhao/.local/lib/python3.6/site-packages/sklearn/metrics/classification.py:1437: UndefinedMetricWarning: F-score is ill-defined and being set to 0.0 in labels with no predicted samples.\n",
      "  'precision', 'predicted', average, warn_for)\n",
      "/home/xinhao/.local/lib/python3.6/site-packages/sklearn/metrics/classification.py:1437: UndefinedMetricWarning: F-score is ill-defined and being set to 0.0 in labels with no predicted samples.\n",
      "  'precision', 'predicted', average, warn_for)\n",
      "/home/xinhao/.local/lib/python3.6/site-packages/sklearn/metrics/classification.py:1437: UndefinedMetricWarning: F-score is ill-defined and being set to 0.0 in labels with no predicted samples.\n",
      "  'precision', 'predicted', average, warn_for)\n",
      "/home/xinhao/.local/lib/python3.6/site-packages/sklearn/metrics/classification.py:1437: UndefinedMetricWarning: F-score is ill-defined and being set to 0.0 in labels with no predicted samples.\n",
      "  'precision', 'predicted', average, warn_for)\n",
      "/home/xinhao/.local/lib/python3.6/site-packages/sklearn/metrics/classification.py:1437: UndefinedMetricWarning: F-score is ill-defined and being set to 0.0 in labels with no predicted samples.\n",
      "  'precision', 'predicted', average, warn_for)\n",
      "/home/xinhao/.local/lib/python3.6/site-packages/sklearn/metrics/classification.py:1437: UndefinedMetricWarning: F-score is ill-defined and being set to 0.0 in labels with no predicted samples.\n",
      "  'precision', 'predicted', average, warn_for)\n"
     ]
    },
    {
     "name": "stdout",
     "output_type": "stream",
     "text": [
      "Best parameters set found on development set: {'n_estimators': 1500, 'min_samples_split': 2, 'min_samples_leaf': 2, 'max_features': 'sqrt', 'max_depth': 80, 'bootstrap': False}\n",
      "Best score: 0.505328515223785\n",
      "Grid scores on development set:\n",
      "\n",
      "0.334 (+/-0.001) for {'n_estimators': 500, 'min_samples_split': 10, 'min_samples_leaf': 4, 'max_features': 'log2', 'max_depth': 5, 'bootstrap': True}\n",
      "0.378 (+/-0.022) for {'n_estimators': 500, 'min_samples_split': 10, 'min_samples_leaf': 6, 'max_features': 'log2', 'max_depth': None, 'bootstrap': False}\n",
      "0.463 (+/-0.069) for {'n_estimators': 1500, 'min_samples_split': 5, 'min_samples_leaf': 4, 'max_features': 'sqrt', 'max_depth': 80, 'bootstrap': True}\n",
      "0.380 (+/-0.022) for {'n_estimators': 500, 'min_samples_split': 5, 'min_samples_leaf': 4, 'max_features': 'log2', 'max_depth': 65, 'bootstrap': True}\n",
      "0.463 (+/-0.069) for {'n_estimators': 1500, 'min_samples_split': 2, 'min_samples_leaf': 6, 'max_features': 'sqrt', 'max_depth': 65, 'bootstrap': False}\n",
      "0.481 (+/-0.061) for {'n_estimators': 500, 'min_samples_split': 2, 'min_samples_leaf': 4, 'max_features': 'sqrt', 'max_depth': None, 'bootstrap': False}\n",
      "0.453 (+/-0.059) for {'n_estimators': 500, 'min_samples_split': 2, 'min_samples_leaf': 2, 'max_features': 'log2', 'max_depth': 80, 'bootstrap': False}\n",
      "0.404 (+/-0.028) for {'n_estimators': 1500, 'min_samples_split': 10, 'min_samples_leaf': 4, 'max_features': 'log2', 'max_depth': None, 'bootstrap': False}\n",
      "0.443 (+/-0.067) for {'n_estimators': 1500, 'min_samples_split': 10, 'min_samples_leaf': 6, 'max_features': 'sqrt', 'max_depth': 50, 'bootstrap': True}\n",
      "0.458 (+/-0.059) for {'n_estimators': 1500, 'min_samples_split': 2, 'min_samples_leaf': 2, 'max_features': 'log2', 'max_depth': None, 'bootstrap': False}\n",
      "0.505 (+/-0.053) for {'n_estimators': 1500, 'min_samples_split': 2, 'min_samples_leaf': 2, 'max_features': 'sqrt', 'max_depth': 80, 'bootstrap': False}\n",
      "0.483 (+/-0.064) for {'n_estimators': 500, 'min_samples_split': 5, 'min_samples_leaf': 4, 'max_features': 'sqrt', 'max_depth': 65, 'bootstrap': False}\n",
      "0.463 (+/-0.069) for {'n_estimators': 1500, 'min_samples_split': 10, 'min_samples_leaf': 6, 'max_features': 'sqrt', 'max_depth': 80, 'bootstrap': False}\n",
      "0.442 (+/-0.050) for {'n_estimators': 1500, 'min_samples_split': 5, 'min_samples_leaf': 2, 'max_features': 'log2', 'max_depth': 50, 'bootstrap': False}\n",
      "0.375 (+/-0.022) for {'n_estimators': 1500, 'min_samples_split': 2, 'min_samples_leaf': 6, 'max_features': 'log2', 'max_depth': 50, 'bootstrap': False}\n",
      "0.501 (+/-0.057) for {'n_estimators': 500, 'min_samples_split': 10, 'min_samples_leaf': 2, 'max_features': 'sqrt', 'max_depth': 80, 'bootstrap': False}\n",
      "0.502 (+/-0.058) for {'n_estimators': 500, 'min_samples_split': 2, 'min_samples_leaf': 2, 'max_features': 'sqrt', 'max_depth': 65, 'bootstrap': False}\n",
      "0.464 (+/-0.068) for {'n_estimators': 500, 'min_samples_split': 5, 'min_samples_leaf': 4, 'max_features': 'sqrt', 'max_depth': None, 'bootstrap': True}\n",
      "0.503 (+/-0.059) for {'n_estimators': 500, 'min_samples_split': 10, 'min_samples_leaf': 2, 'max_features': 'sqrt', 'max_depth': None, 'bootstrap': False}\n",
      "0.436 (+/-0.060) for {'n_estimators': 500, 'min_samples_split': 5, 'min_samples_leaf': 6, 'max_features': 'sqrt', 'max_depth': 20, 'bootstrap': False}\n",
      "0.497 (+/-0.057) for {'n_estimators': 500, 'min_samples_split': 5, 'min_samples_leaf': 2, 'max_features': 'sqrt', 'max_depth': 50, 'bootstrap': False}\n",
      "0.434 (+/-0.045) for {'n_estimators': 500, 'min_samples_split': 2, 'min_samples_leaf': 2, 'max_features': 'log2', 'max_depth': None, 'bootstrap': True}\n",
      "0.395 (+/-0.029) for {'n_estimators': 500, 'min_samples_split': 2, 'min_samples_leaf': 4, 'max_features': 'log2', 'max_depth': 50, 'bootstrap': False}\n",
      "0.479 (+/-0.056) for {'n_estimators': 500, 'min_samples_split': 10, 'min_samples_leaf': 2, 'max_features': 'sqrt', 'max_depth': 50, 'bootstrap': True}\n",
      "0.444 (+/-0.068) for {'n_estimators': 1500, 'min_samples_split': 2, 'min_samples_leaf': 6, 'max_features': 'sqrt', 'max_depth': None, 'bootstrap': True}\n",
      "0.334 (+/-0.001) for {'n_estimators': 1500, 'min_samples_split': 10, 'min_samples_leaf': 4, 'max_features': 'log2', 'max_depth': 5, 'bootstrap': False}\n",
      "0.342 (+/-0.011) for {'n_estimators': 1500, 'min_samples_split': 5, 'min_samples_leaf': 6, 'max_features': 'sqrt', 'max_depth': 5, 'bootstrap': True}\n",
      "0.346 (+/-0.019) for {'n_estimators': 1500, 'min_samples_split': 5, 'min_samples_leaf': 2, 'max_features': 'sqrt', 'max_depth': 5, 'bootstrap': False}\n",
      "0.344 (+/-0.016) for {'n_estimators': 1500, 'min_samples_split': 10, 'min_samples_leaf': 4, 'max_features': 'sqrt', 'max_depth': 5, 'bootstrap': True}\n",
      "0.416 (+/-0.039) for {'n_estimators': 1500, 'min_samples_split': 2, 'min_samples_leaf': 2, 'max_features': 'log2', 'max_depth': 35, 'bootstrap': False}\n",
      "CPU times: user 10min 16s, sys: 42.2 s, total: 10min 58s\n",
      "Wall time: 35min 20s\n"
     ]
    }
   ],
   "source": [
    "%%time\n",
    "a,b,c,d,e = prepare_input(train_labels, train_ecfp6_bits, target = 'EPA_category', encoder = encoder_epa)\n",
    "\n",
    "epa_rf_ecfp6bits = model_selection(rf_clf, rf_grid_parameters, a, c, scoring = 'f1_weighted', cv=5, GridSearch = False, n_iter=30,n_jobs=1)"
   ]
  },
  {
   "cell_type": "code",
   "execution_count": 43,
   "metadata": {},
   "outputs": [
    {
     "name": "stderr",
     "output_type": "stream",
     "text": [
      "/home/xinhao/.local/lib/python3.6/site-packages/sklearn/metrics/classification.py:1437: UndefinedMetricWarning: F-score is ill-defined and being set to 0.0 in labels with no predicted samples.\n",
      "  'precision', 'predicted', average, warn_for)\n",
      "/home/xinhao/.local/lib/python3.6/site-packages/sklearn/metrics/classification.py:1437: UndefinedMetricWarning: F-score is ill-defined and being set to 0.0 in labels with no predicted samples.\n",
      "  'precision', 'predicted', average, warn_for)\n",
      "/home/xinhao/.local/lib/python3.6/site-packages/sklearn/metrics/classification.py:1437: UndefinedMetricWarning: F-score is ill-defined and being set to 0.0 in labels with no predicted samples.\n",
      "  'precision', 'predicted', average, warn_for)\n",
      "/home/xinhao/.local/lib/python3.6/site-packages/sklearn/metrics/classification.py:1437: UndefinedMetricWarning: F-score is ill-defined and being set to 0.0 in labels with no predicted samples.\n",
      "  'precision', 'predicted', average, warn_for)\n",
      "/home/xinhao/.local/lib/python3.6/site-packages/sklearn/metrics/classification.py:1437: UndefinedMetricWarning: F-score is ill-defined and being set to 0.0 in labels with no predicted samples.\n",
      "  'precision', 'predicted', average, warn_for)\n",
      "/home/xinhao/.local/lib/python3.6/site-packages/sklearn/metrics/classification.py:1437: UndefinedMetricWarning: F-score is ill-defined and being set to 0.0 in labels with no predicted samples.\n",
      "  'precision', 'predicted', average, warn_for)\n",
      "/home/xinhao/.local/lib/python3.6/site-packages/sklearn/metrics/classification.py:1437: UndefinedMetricWarning: F-score is ill-defined and being set to 0.0 in labels with no predicted samples.\n",
      "  'precision', 'predicted', average, warn_for)\n",
      "/home/xinhao/.local/lib/python3.6/site-packages/sklearn/metrics/classification.py:1437: UndefinedMetricWarning: F-score is ill-defined and being set to 0.0 in labels with no predicted samples.\n",
      "  'precision', 'predicted', average, warn_for)\n",
      "/home/xinhao/.local/lib/python3.6/site-packages/sklearn/metrics/classification.py:1437: UndefinedMetricWarning: F-score is ill-defined and being set to 0.0 in labels with no predicted samples.\n",
      "  'precision', 'predicted', average, warn_for)\n",
      "/home/xinhao/.local/lib/python3.6/site-packages/sklearn/metrics/classification.py:1437: UndefinedMetricWarning: F-score is ill-defined and being set to 0.0 in labels with no predicted samples.\n",
      "  'precision', 'predicted', average, warn_for)\n",
      "/home/xinhao/.local/lib/python3.6/site-packages/sklearn/metrics/classification.py:1437: UndefinedMetricWarning: F-score is ill-defined and being set to 0.0 in labels with no predicted samples.\n",
      "  'precision', 'predicted', average, warn_for)\n",
      "/home/xinhao/.local/lib/python3.6/site-packages/sklearn/metrics/classification.py:1437: UndefinedMetricWarning: F-score is ill-defined and being set to 0.0 in labels with no predicted samples.\n",
      "  'precision', 'predicted', average, warn_for)\n"
     ]
    },
    {
     "name": "stdout",
     "output_type": "stream",
     "text": [
      "Best parameters set found on development set: {'n_estimators': 500, 'min_samples_split': 2, 'min_samples_leaf': 2, 'max_features': 'sqrt', 'max_depth': 35, 'bootstrap': False}\n",
      "Best score: 0.5401209830917464\n",
      "Grid scores on development set:\n",
      "\n",
      "0.367 (+/-0.034) for {'n_estimators': 500, 'min_samples_split': 2, 'min_samples_leaf': 2, 'max_features': 'log2', 'max_depth': 5, 'bootstrap': False}\n",
      "0.532 (+/-0.075) for {'n_estimators': 500, 'min_samples_split': 5, 'min_samples_leaf': 2, 'max_features': 'sqrt', 'max_depth': None, 'bootstrap': True}\n",
      "0.499 (+/-0.079) for {'n_estimators': 500, 'min_samples_split': 2, 'min_samples_leaf': 4, 'max_features': 'log2', 'max_depth': 50, 'bootstrap': True}\n",
      "0.525 (+/-0.073) for {'n_estimators': 1500, 'min_samples_split': 10, 'min_samples_leaf': 4, 'max_features': 'sqrt', 'max_depth': 35, 'bootstrap': False}\n",
      "0.392 (+/-0.032) for {'n_estimators': 500, 'min_samples_split': 10, 'min_samples_leaf': 4, 'max_features': 'sqrt', 'max_depth': 5, 'bootstrap': False}\n",
      "0.513 (+/-0.074) for {'n_estimators': 500, 'min_samples_split': 10, 'min_samples_leaf': 6, 'max_features': 'sqrt', 'max_depth': 80, 'bootstrap': False}\n",
      "0.365 (+/-0.035) for {'n_estimators': 1500, 'min_samples_split': 2, 'min_samples_leaf': 4, 'max_features': 'log2', 'max_depth': 5, 'bootstrap': True}\n",
      "0.496 (+/-0.079) for {'n_estimators': 500, 'min_samples_split': 10, 'min_samples_leaf': 4, 'max_features': 'log2', 'max_depth': 80, 'bootstrap': True}\n",
      "0.368 (+/-0.033) for {'n_estimators': 1500, 'min_samples_split': 10, 'min_samples_leaf': 6, 'max_features': 'log2', 'max_depth': 5, 'bootstrap': False}\n",
      "0.540 (+/-0.076) for {'n_estimators': 500, 'min_samples_split': 2, 'min_samples_leaf': 2, 'max_features': 'sqrt', 'max_depth': 35, 'bootstrap': False}\n",
      "0.497 (+/-0.077) for {'n_estimators': 500, 'min_samples_split': 2, 'min_samples_leaf': 6, 'max_features': 'log2', 'max_depth': 65, 'bootstrap': False}\n",
      "0.523 (+/-0.081) for {'n_estimators': 500, 'min_samples_split': 2, 'min_samples_leaf': 2, 'max_features': 'log2', 'max_depth': 50, 'bootstrap': True}\n",
      "0.390 (+/-0.028) for {'n_estimators': 500, 'min_samples_split': 5, 'min_samples_leaf': 2, 'max_features': 'sqrt', 'max_depth': 5, 'bootstrap': True}\n",
      "0.366 (+/-0.034) for {'n_estimators': 500, 'min_samples_split': 5, 'min_samples_leaf': 4, 'max_features': 'log2', 'max_depth': 5, 'bootstrap': False}\n",
      "0.523 (+/-0.076) for {'n_estimators': 500, 'min_samples_split': 10, 'min_samples_leaf': 2, 'max_features': 'sqrt', 'max_depth': 65, 'bootstrap': True}\n",
      "0.523 (+/-0.076) for {'n_estimators': 1500, 'min_samples_split': 10, 'min_samples_leaf': 2, 'max_features': 'log2', 'max_depth': 50, 'bootstrap': False}\n",
      "0.533 (+/-0.076) for {'n_estimators': 1500, 'min_samples_split': 5, 'min_samples_leaf': 2, 'max_features': 'sqrt', 'max_depth': 35, 'bootstrap': True}\n",
      "0.499 (+/-0.079) for {'n_estimators': 500, 'min_samples_split': 5, 'min_samples_leaf': 4, 'max_features': 'log2', 'max_depth': 35, 'bootstrap': True}\n",
      "0.501 (+/-0.069) for {'n_estimators': 500, 'min_samples_split': 2, 'min_samples_leaf': 6, 'max_features': 'sqrt', 'max_depth': 35, 'bootstrap': True}\n",
      "0.513 (+/-0.082) for {'n_estimators': 500, 'min_samples_split': 5, 'min_samples_leaf': 4, 'max_features': 'log2', 'max_depth': 80, 'bootstrap': False}\n",
      "0.364 (+/-0.034) for {'n_estimators': 1500, 'min_samples_split': 10, 'min_samples_leaf': 6, 'max_features': 'log2', 'max_depth': 5, 'bootstrap': True}\n",
      "0.497 (+/-0.069) for {'n_estimators': 1500, 'min_samples_split': 10, 'min_samples_leaf': 6, 'max_features': 'sqrt', 'max_depth': 35, 'bootstrap': True}\n",
      "0.526 (+/-0.076) for {'n_estimators': 500, 'min_samples_split': 5, 'min_samples_leaf': 4, 'max_features': 'sqrt', 'max_depth': 20, 'bootstrap': False}\n",
      "0.501 (+/-0.069) for {'n_estimators': 500, 'min_samples_split': 10, 'min_samples_leaf': 6, 'max_features': 'sqrt', 'max_depth': 65, 'bootstrap': True}\n",
      "0.389 (+/-0.027) for {'n_estimators': 500, 'min_samples_split': 10, 'min_samples_leaf': 6, 'max_features': 'sqrt', 'max_depth': 5, 'bootstrap': True}\n",
      "0.510 (+/-0.078) for {'n_estimators': 500, 'min_samples_split': 10, 'min_samples_leaf': 4, 'max_features': 'sqrt', 'max_depth': 20, 'bootstrap': True}\n",
      "0.529 (+/-0.077) for {'n_estimators': 500, 'min_samples_split': 5, 'min_samples_leaf': 4, 'max_features': 'sqrt', 'max_depth': 65, 'bootstrap': False}\n",
      "0.365 (+/-0.029) for {'n_estimators': 500, 'min_samples_split': 5, 'min_samples_leaf': 2, 'max_features': 'log2', 'max_depth': 5, 'bootstrap': True}\n",
      "0.499 (+/-0.076) for {'n_estimators': 1500, 'min_samples_split': 2, 'min_samples_leaf': 4, 'max_features': 'log2', 'max_depth': 80, 'bootstrap': True}\n",
      "0.531 (+/-0.080) for {'n_estimators': 500, 'min_samples_split': 2, 'min_samples_leaf': 2, 'max_features': 'log2', 'max_depth': 50, 'bootstrap': False}\n",
      "CPU times: user 3min 24s, sys: 21.5 s, total: 3min 45s\n",
      "Wall time: 4min 30s\n"
     ]
    }
   ],
   "source": [
    "%%time\n",
    "a,b,c,d,e = prepare_input(train_labels, train_maccs, target = 'EPA_category', encoder = encoder_epa)\n",
    "\n",
    "epa_rf_maccs = model_selection(rf_clf, rf_grid_parameters, a, c, scoring = 'f1_weighted', cv=5, GridSearch = False, n_iter=30,n_jobs=1)"
   ]
  },
  {
   "cell_type": "code",
   "execution_count": 44,
   "metadata": {},
   "outputs": [
    {
     "name": "stderr",
     "output_type": "stream",
     "text": [
      "/home/xinhao/.local/lib/python3.6/site-packages/sklearn/metrics/classification.py:1437: UndefinedMetricWarning: F-score is ill-defined and being set to 0.0 in labels with no predicted samples.\n",
      "  'precision', 'predicted', average, warn_for)\n",
      "/home/xinhao/.local/lib/python3.6/site-packages/sklearn/metrics/classification.py:1437: UndefinedMetricWarning: F-score is ill-defined and being set to 0.0 in labels with no predicted samples.\n",
      "  'precision', 'predicted', average, warn_for)\n",
      "/home/xinhao/.local/lib/python3.6/site-packages/sklearn/metrics/classification.py:1437: UndefinedMetricWarning: F-score is ill-defined and being set to 0.0 in labels with no predicted samples.\n",
      "  'precision', 'predicted', average, warn_for)\n",
      "/home/xinhao/.local/lib/python3.6/site-packages/sklearn/metrics/classification.py:1437: UndefinedMetricWarning: F-score is ill-defined and being set to 0.0 in labels with no predicted samples.\n",
      "  'precision', 'predicted', average, warn_for)\n",
      "/home/xinhao/.local/lib/python3.6/site-packages/sklearn/metrics/classification.py:1437: UndefinedMetricWarning: F-score is ill-defined and being set to 0.0 in labels with no predicted samples.\n",
      "  'precision', 'predicted', average, warn_for)\n",
      "/home/xinhao/.local/lib/python3.6/site-packages/sklearn/metrics/classification.py:1437: UndefinedMetricWarning: F-score is ill-defined and being set to 0.0 in labels with no predicted samples.\n",
      "  'precision', 'predicted', average, warn_for)\n",
      "/home/xinhao/.local/lib/python3.6/site-packages/sklearn/metrics/classification.py:1437: UndefinedMetricWarning: F-score is ill-defined and being set to 0.0 in labels with no predicted samples.\n",
      "  'precision', 'predicted', average, warn_for)\n",
      "/home/xinhao/.local/lib/python3.6/site-packages/sklearn/metrics/classification.py:1437: UndefinedMetricWarning: F-score is ill-defined and being set to 0.0 in labels with no predicted samples.\n",
      "  'precision', 'predicted', average, warn_for)\n",
      "/home/xinhao/.local/lib/python3.6/site-packages/sklearn/metrics/classification.py:1437: UndefinedMetricWarning: F-score is ill-defined and being set to 0.0 in labels with no predicted samples.\n",
      "  'precision', 'predicted', average, warn_for)\n",
      "/home/xinhao/.local/lib/python3.6/site-packages/sklearn/metrics/classification.py:1437: UndefinedMetricWarning: F-score is ill-defined and being set to 0.0 in labels with no predicted samples.\n",
      "  'precision', 'predicted', average, warn_for)\n",
      "/home/xinhao/.local/lib/python3.6/site-packages/sklearn/metrics/classification.py:1437: UndefinedMetricWarning: F-score is ill-defined and being set to 0.0 in labels with no predicted samples.\n",
      "  'precision', 'predicted', average, warn_for)\n",
      "/home/xinhao/.local/lib/python3.6/site-packages/sklearn/metrics/classification.py:1437: UndefinedMetricWarning: F-score is ill-defined and being set to 0.0 in labels with no predicted samples.\n",
      "  'precision', 'predicted', average, warn_for)\n"
     ]
    },
    {
     "name": "stdout",
     "output_type": "stream",
     "text": [
      "Best parameters set found on development set: {'n_estimators': 1500, 'min_samples_split': 2, 'min_samples_leaf': 2, 'max_features': 'sqrt', 'max_depth': 65, 'bootstrap': False}\n",
      "Best score: 0.501145603112801\n",
      "Grid scores on development set:\n",
      "\n",
      "0.458 (+/-0.050) for {'n_estimators': 500, 'min_samples_split': 10, 'min_samples_leaf': 2, 'max_features': 'log2', 'max_depth': 80, 'bootstrap': False}\n",
      "0.336 (+/-0.002) for {'n_estimators': 1500, 'min_samples_split': 5, 'min_samples_leaf': 4, 'max_features': 'log2', 'max_depth': 5, 'bootstrap': False}\n",
      "0.465 (+/-0.058) for {'n_estimators': 500, 'min_samples_split': 5, 'min_samples_leaf': 4, 'max_features': 'sqrt', 'max_depth': 50, 'bootstrap': True}\n",
      "0.416 (+/-0.035) for {'n_estimators': 500, 'min_samples_split': 5, 'min_samples_leaf': 4, 'max_features': 'log2', 'max_depth': None, 'bootstrap': False}\n",
      "0.381 (+/-0.020) for {'n_estimators': 500, 'min_samples_split': 5, 'min_samples_leaf': 6, 'max_features': 'log2', 'max_depth': 50, 'bootstrap': False}\n",
      "0.410 (+/-0.034) for {'n_estimators': 1500, 'min_samples_split': 2, 'min_samples_leaf': 2, 'max_features': 'log2', 'max_depth': 35, 'bootstrap': False}\n",
      "0.466 (+/-0.054) for {'n_estimators': 1500, 'min_samples_split': 5, 'min_samples_leaf': 6, 'max_features': 'sqrt', 'max_depth': None, 'bootstrap': False}\n",
      "0.382 (+/-0.024) for {'n_estimators': 1500, 'min_samples_split': 5, 'min_samples_leaf': 4, 'max_features': 'log2', 'max_depth': 50, 'bootstrap': True}\n",
      "0.367 (+/-0.016) for {'n_estimators': 500, 'min_samples_split': 5, 'min_samples_leaf': 2, 'max_features': 'log2', 'max_depth': 20, 'bootstrap': False}\n",
      "0.448 (+/-0.048) for {'n_estimators': 500, 'min_samples_split': 10, 'min_samples_leaf': 2, 'max_features': 'sqrt', 'max_depth': 20, 'bootstrap': False}\n",
      "0.392 (+/-0.026) for {'n_estimators': 1500, 'min_samples_split': 10, 'min_samples_leaf': 4, 'max_features': 'log2', 'max_depth': None, 'bootstrap': True}\n",
      "0.391 (+/-0.021) for {'n_estimators': 500, 'min_samples_split': 5, 'min_samples_leaf': 4, 'max_features': 'log2', 'max_depth': 80, 'bootstrap': True}\n",
      "0.421 (+/-0.055) for {'n_estimators': 500, 'min_samples_split': 10, 'min_samples_leaf': 4, 'max_features': 'sqrt', 'max_depth': 20, 'bootstrap': True}\n",
      "0.460 (+/-0.059) for {'n_estimators': 500, 'min_samples_split': 10, 'min_samples_leaf': 4, 'max_features': 'sqrt', 'max_depth': 35, 'bootstrap': True}\n",
      "0.371 (+/-0.019) for {'n_estimators': 500, 'min_samples_split': 2, 'min_samples_leaf': 6, 'max_features': 'log2', 'max_depth': 80, 'bootstrap': True}\n",
      "0.486 (+/-0.061) for {'n_estimators': 500, 'min_samples_split': 2, 'min_samples_leaf': 2, 'max_features': 'sqrt', 'max_depth': 35, 'bootstrap': False}\n",
      "0.335 (+/-0.001) for {'n_estimators': 500, 'min_samples_split': 2, 'min_samples_leaf': 4, 'max_features': 'log2', 'max_depth': 5, 'bootstrap': False}\n",
      "0.351 (+/-0.011) for {'n_estimators': 500, 'min_samples_split': 2, 'min_samples_leaf': 6, 'max_features': 'log2', 'max_depth': 20, 'bootstrap': False}\n",
      "0.501 (+/-0.056) for {'n_estimators': 1500, 'min_samples_split': 2, 'min_samples_leaf': 2, 'max_features': 'sqrt', 'max_depth': 65, 'bootstrap': False}\n",
      "0.413 (+/-0.048) for {'n_estimators': 500, 'min_samples_split': 2, 'min_samples_leaf': 6, 'max_features': 'sqrt', 'max_depth': 20, 'bootstrap': True}\n",
      "0.388 (+/-0.021) for {'n_estimators': 1500, 'min_samples_split': 5, 'min_samples_leaf': 6, 'max_features': 'log2', 'max_depth': None, 'bootstrap': False}\n",
      "0.491 (+/-0.052) for {'n_estimators': 1500, 'min_samples_split': 5, 'min_samples_leaf': 2, 'max_features': 'sqrt', 'max_depth': None, 'bootstrap': True}\n",
      "0.467 (+/-0.054) for {'n_estimators': 1500, 'min_samples_split': 10, 'min_samples_leaf': 6, 'max_features': 'sqrt', 'max_depth': 80, 'bootstrap': False}\n",
      "0.461 (+/-0.051) for {'n_estimators': 500, 'min_samples_split': 2, 'min_samples_leaf': 2, 'max_features': 'log2', 'max_depth': None, 'bootstrap': False}\n",
      "0.413 (+/-0.041) for {'n_estimators': 500, 'min_samples_split': 2, 'min_samples_leaf': 2, 'max_features': 'log2', 'max_depth': 50, 'bootstrap': True}\n",
      "0.355 (+/-0.016) for {'n_estimators': 1500, 'min_samples_split': 10, 'min_samples_leaf': 4, 'max_features': 'log2', 'max_depth': 20, 'bootstrap': False}\n",
      "0.386 (+/-0.025) for {'n_estimators': 500, 'min_samples_split': 5, 'min_samples_leaf': 4, 'max_features': 'log2', 'max_depth': 65, 'bootstrap': True}\n",
      "0.468 (+/-0.061) for {'n_estimators': 500, 'min_samples_split': 2, 'min_samples_leaf': 4, 'max_features': 'sqrt', 'max_depth': 80, 'bootstrap': True}\n",
      "0.469 (+/-0.059) for {'n_estimators': 500, 'min_samples_split': 2, 'min_samples_leaf': 4, 'max_features': 'sqrt', 'max_depth': None, 'bootstrap': True}\n",
      "0.441 (+/-0.049) for {'n_estimators': 500, 'min_samples_split': 10, 'min_samples_leaf': 6, 'max_features': 'sqrt', 'max_depth': 35, 'bootstrap': True}\n",
      "CPU times: user 9min 3s, sys: 35.1 s, total: 9min 38s\n",
      "Wall time: 30min 28s\n"
     ]
    }
   ],
   "source": [
    "%%time\n",
    "a,b,c,d,e = prepare_input(train_labels, train_ecfp6_counts, target = 'EPA_category', encoder = encoder_epa)\n",
    "\n",
    "epa_rf_ecfp6count = model_selection(rf_clf, rf_grid_parameters, a, c, scoring = 'f1_weighted', cv=5, GridSearch = False, n_iter=30,n_jobs=1)"
   ]
  },
  {
   "cell_type": "code",
   "execution_count": 45,
   "metadata": {},
   "outputs": [
    {
     "name": "stderr",
     "output_type": "stream",
     "text": [
      "/home/xinhao/.local/lib/python3.6/site-packages/sklearn/metrics/classification.py:1437: UndefinedMetricWarning: F-score is ill-defined and being set to 0.0 in labels with no predicted samples.\n",
      "  'precision', 'predicted', average, warn_for)\n"
     ]
    },
    {
     "name": "stdout",
     "output_type": "stream",
     "text": [
      "Best parameters set found on development set: {'n_estimators': 500, 'min_samples_split': 5, 'min_samples_leaf': 2, 'max_features': 'sqrt', 'max_depth': 80, 'bootstrap': False}\n",
      "Best score: 0.5466101521057932\n",
      "Grid scores on development set:\n",
      "\n",
      "0.516 (+/-0.059) for {'n_estimators': 500, 'min_samples_split': 10, 'min_samples_leaf': 4, 'max_features': 'sqrt', 'max_depth': 20, 'bootstrap': True}\n",
      "0.510 (+/-0.066) for {'n_estimators': 500, 'min_samples_split': 2, 'min_samples_leaf': 6, 'max_features': 'sqrt', 'max_depth': None, 'bootstrap': True}\n",
      "0.517 (+/-0.060) for {'n_estimators': 500, 'min_samples_split': 10, 'min_samples_leaf': 4, 'max_features': 'sqrt', 'max_depth': 65, 'bootstrap': True}\n",
      "0.510 (+/-0.065) for {'n_estimators': 500, 'min_samples_split': 10, 'min_samples_leaf': 6, 'max_features': 'sqrt', 'max_depth': 35, 'bootstrap': True}\n",
      "0.518 (+/-0.069) for {'n_estimators': 500, 'min_samples_split': 5, 'min_samples_leaf': 2, 'max_features': 'log2', 'max_depth': 20, 'bootstrap': True}\n",
      "0.521 (+/-0.057) for {'n_estimators': 500, 'min_samples_split': 5, 'min_samples_leaf': 2, 'max_features': 'log2', 'max_depth': 65, 'bootstrap': True}\n",
      "0.534 (+/-0.063) for {'n_estimators': 1500, 'min_samples_split': 10, 'min_samples_leaf': 2, 'max_features': 'log2', 'max_depth': None, 'bootstrap': False}\n",
      "0.386 (+/-0.033) for {'n_estimators': 500, 'min_samples_split': 2, 'min_samples_leaf': 6, 'max_features': 'sqrt', 'max_depth': 5, 'bootstrap': False}\n",
      "0.513 (+/-0.063) for {'n_estimators': 1500, 'min_samples_split': 10, 'min_samples_leaf': 2, 'max_features': 'log2', 'max_depth': 20, 'bootstrap': True}\n",
      "0.530 (+/-0.056) for {'n_estimators': 500, 'min_samples_split': 5, 'min_samples_leaf': 2, 'max_features': 'sqrt', 'max_depth': None, 'bootstrap': True}\n",
      "0.507 (+/-0.062) for {'n_estimators': 1500, 'min_samples_split': 5, 'min_samples_leaf': 6, 'max_features': 'sqrt', 'max_depth': 80, 'bootstrap': True}\n",
      "0.527 (+/-0.064) for {'n_estimators': 500, 'min_samples_split': 2, 'min_samples_leaf': 4, 'max_features': 'log2', 'max_depth': 65, 'bootstrap': False}\n",
      "0.539 (+/-0.062) for {'n_estimators': 1500, 'min_samples_split': 2, 'min_samples_leaf': 4, 'max_features': 'sqrt', 'max_depth': 50, 'bootstrap': False}\n",
      "0.542 (+/-0.059) for {'n_estimators': 500, 'min_samples_split': 5, 'min_samples_leaf': 2, 'max_features': 'log2', 'max_depth': None, 'bootstrap': False}\n",
      "0.510 (+/-0.066) for {'n_estimators': 500, 'min_samples_split': 5, 'min_samples_leaf': 6, 'max_features': 'sqrt', 'max_depth': 65, 'bootstrap': True}\n",
      "0.513 (+/-0.070) for {'n_estimators': 1500, 'min_samples_split': 2, 'min_samples_leaf': 6, 'max_features': 'log2', 'max_depth': 20, 'bootstrap': False}\n",
      "0.536 (+/-0.061) for {'n_estimators': 1500, 'min_samples_split': 2, 'min_samples_leaf': 2, 'max_features': 'log2', 'max_depth': 20, 'bootstrap': False}\n",
      "0.527 (+/-0.064) for {'n_estimators': 500, 'min_samples_split': 5, 'min_samples_leaf': 4, 'max_features': 'log2', 'max_depth': 80, 'bootstrap': False}\n",
      "0.543 (+/-0.057) for {'n_estimators': 500, 'min_samples_split': 10, 'min_samples_leaf': 2, 'max_features': 'sqrt', 'max_depth': 80, 'bootstrap': False}\n",
      "0.510 (+/-0.065) for {'n_estimators': 500, 'min_samples_split': 5, 'min_samples_leaf': 6, 'max_features': 'sqrt', 'max_depth': 35, 'bootstrap': True}\n",
      "0.520 (+/-0.062) for {'n_estimators': 1500, 'min_samples_split': 10, 'min_samples_leaf': 4, 'max_features': 'sqrt', 'max_depth': 80, 'bootstrap': True}\n",
      "0.528 (+/-0.066) for {'n_estimators': 1500, 'min_samples_split': 2, 'min_samples_leaf': 4, 'max_features': 'log2', 'max_depth': 35, 'bootstrap': False}\n",
      "0.513 (+/-0.068) for {'n_estimators': 500, 'min_samples_split': 10, 'min_samples_leaf': 6, 'max_features': 'log2', 'max_depth': 20, 'bootstrap': False}\n",
      "0.375 (+/-0.035) for {'n_estimators': 500, 'min_samples_split': 2, 'min_samples_leaf': 4, 'max_features': 'log2', 'max_depth': 5, 'bootstrap': False}\n",
      "0.526 (+/-0.064) for {'n_estimators': 1500, 'min_samples_split': 10, 'min_samples_leaf': 2, 'max_features': 'sqrt', 'max_depth': 35, 'bootstrap': True}\n",
      "0.533 (+/-0.058) for {'n_estimators': 1500, 'min_samples_split': 2, 'min_samples_leaf': 2, 'max_features': 'sqrt', 'max_depth': 65, 'bootstrap': True}\n",
      "0.547 (+/-0.059) for {'n_estimators': 500, 'min_samples_split': 5, 'min_samples_leaf': 2, 'max_features': 'sqrt', 'max_depth': 80, 'bootstrap': False}\n",
      "0.376 (+/-0.040) for {'n_estimators': 1500, 'min_samples_split': 10, 'min_samples_leaf': 4, 'max_features': 'log2', 'max_depth': 5, 'bootstrap': True}\n",
      "0.521 (+/-0.057) for {'n_estimators': 500, 'min_samples_split': 5, 'min_samples_leaf': 2, 'max_features': 'log2', 'max_depth': 80, 'bootstrap': True}\n",
      "0.525 (+/-0.064) for {'n_estimators': 500, 'min_samples_split': 10, 'min_samples_leaf': 2, 'max_features': 'sqrt', 'max_depth': 80, 'bootstrap': True}\n",
      "CPU times: user 4min 33s, sys: 25.6 s, total: 4min 59s\n",
      "Wall time: 10min 8s\n"
     ]
    }
   ],
   "source": [
    "%%time\n",
    "a,b,c,d,e = prepare_input(train_labels, train_rdkit2d, target = 'EPA_category', encoder = encoder_epa)\n",
    "\n",
    "epa_rf_rdkit2d = model_selection(rf_clf, rf_grid_parameters, a, c, scoring = 'f1_weighted', cv=5, GridSearch = False, n_iter=30,n_jobs=1)"
   ]
  },
  {
   "cell_type": "code",
   "execution_count": 46,
   "metadata": {},
   "outputs": [
    {
     "name": "stdout",
     "output_type": "stream",
     "text": [
      "Best parameters set found on development set: {'n_estimators': 500, 'min_samples_split': 5, 'min_samples_leaf': 2, 'max_features': 'sqrt', 'max_depth': None, 'bootstrap': False}\n",
      "Best score: 0.5444247485651312\n",
      "Grid scores on development set:\n",
      "\n",
      "0.526 (+/-0.074) for {'n_estimators': 1500, 'min_samples_split': 2, 'min_samples_leaf': 6, 'max_features': 'log2', 'max_depth': 50, 'bootstrap': False}\n",
      "0.532 (+/-0.071) for {'n_estimators': 1500, 'min_samples_split': 10, 'min_samples_leaf': 2, 'max_features': 'sqrt', 'max_depth': 80, 'bootstrap': True}\n",
      "0.525 (+/-0.076) for {'n_estimators': 500, 'min_samples_split': 2, 'min_samples_leaf': 6, 'max_features': 'log2', 'max_depth': 65, 'bootstrap': False}\n",
      "0.525 (+/-0.075) for {'n_estimators': 500, 'min_samples_split': 2, 'min_samples_leaf': 6, 'max_features': 'log2', 'max_depth': 35, 'bootstrap': False}\n",
      "0.533 (+/-0.075) for {'n_estimators': 500, 'min_samples_split': 2, 'min_samples_leaf': 4, 'max_features': 'log2', 'max_depth': 50, 'bootstrap': False}\n",
      "0.518 (+/-0.078) for {'n_estimators': 1500, 'min_samples_split': 10, 'min_samples_leaf': 4, 'max_features': 'log2', 'max_depth': 35, 'bootstrap': True}\n",
      "0.531 (+/-0.074) for {'n_estimators': 500, 'min_samples_split': 2, 'min_samples_leaf': 2, 'max_features': 'log2', 'max_depth': None, 'bootstrap': True}\n",
      "0.525 (+/-0.076) for {'n_estimators': 500, 'min_samples_split': 2, 'min_samples_leaf': 6, 'max_features': 'log2', 'max_depth': 80, 'bootstrap': False}\n",
      "0.526 (+/-0.074) for {'n_estimators': 1500, 'min_samples_split': 10, 'min_samples_leaf': 6, 'max_features': 'log2', 'max_depth': 35, 'bootstrap': False}\n",
      "0.526 (+/-0.074) for {'n_estimators': 1500, 'min_samples_split': 10, 'min_samples_leaf': 6, 'max_features': 'log2', 'max_depth': 80, 'bootstrap': False}\n",
      "0.529 (+/-0.072) for {'n_estimators': 1500, 'min_samples_split': 2, 'min_samples_leaf': 2, 'max_features': 'log2', 'max_depth': 35, 'bootstrap': True}\n",
      "0.526 (+/-0.076) for {'n_estimators': 1500, 'min_samples_split': 10, 'min_samples_leaf': 6, 'max_features': 'sqrt', 'max_depth': 80, 'bootstrap': True}\n",
      "0.420 (+/-0.068) for {'n_estimators': 1500, 'min_samples_split': 2, 'min_samples_leaf': 4, 'max_features': 'sqrt', 'max_depth': 5, 'bootstrap': True}\n",
      "0.424 (+/-0.082) for {'n_estimators': 500, 'min_samples_split': 2, 'min_samples_leaf': 4, 'max_features': 'sqrt', 'max_depth': 5, 'bootstrap': False}\n",
      "0.527 (+/-0.078) for {'n_estimators': 500, 'min_samples_split': 5, 'min_samples_leaf': 6, 'max_features': 'sqrt', 'max_depth': None, 'bootstrap': True}\n",
      "0.535 (+/-0.072) for {'n_estimators': 1500, 'min_samples_split': 10, 'min_samples_leaf': 4, 'max_features': 'log2', 'max_depth': 80, 'bootstrap': False}\n",
      "0.536 (+/-0.068) for {'n_estimators': 500, 'min_samples_split': 2, 'min_samples_leaf': 2, 'max_features': 'log2', 'max_depth': 20, 'bootstrap': False}\n",
      "0.535 (+/-0.071) for {'n_estimators': 500, 'min_samples_split': 10, 'min_samples_leaf': 2, 'max_features': 'log2', 'max_depth': 65, 'bootstrap': False}\n",
      "0.531 (+/-0.074) for {'n_estimators': 500, 'min_samples_split': 2, 'min_samples_leaf': 2, 'max_features': 'log2', 'max_depth': 80, 'bootstrap': True}\n",
      "0.518 (+/-0.076) for {'n_estimators': 1500, 'min_samples_split': 5, 'min_samples_leaf': 4, 'max_features': 'log2', 'max_depth': 35, 'bootstrap': True}\n",
      "0.529 (+/-0.075) for {'n_estimators': 1500, 'min_samples_split': 10, 'min_samples_leaf': 4, 'max_features': 'sqrt', 'max_depth': 20, 'bootstrap': True}\n",
      "0.540 (+/-0.064) for {'n_estimators': 500, 'min_samples_split': 10, 'min_samples_leaf': 6, 'max_features': 'sqrt', 'max_depth': 80, 'bootstrap': False}\n",
      "0.544 (+/-0.069) for {'n_estimators': 500, 'min_samples_split': 5, 'min_samples_leaf': 2, 'max_features': 'sqrt', 'max_depth': None, 'bootstrap': False}\n",
      "0.523 (+/-0.075) for {'n_estimators': 1500, 'min_samples_split': 5, 'min_samples_leaf': 6, 'max_features': 'sqrt', 'max_depth': 20, 'bootstrap': True}\n",
      "0.524 (+/-0.078) for {'n_estimators': 1500, 'min_samples_split': 5, 'min_samples_leaf': 6, 'max_features': 'log2', 'max_depth': 20, 'bootstrap': False}\n",
      "0.420 (+/-0.069) for {'n_estimators': 1500, 'min_samples_split': 10, 'min_samples_leaf': 4, 'max_features': 'sqrt', 'max_depth': 5, 'bootstrap': True}\n",
      "0.539 (+/-0.070) for {'n_estimators': 500, 'min_samples_split': 5, 'min_samples_leaf': 4, 'max_features': 'sqrt', 'max_depth': None, 'bootstrap': False}\n",
      "0.392 (+/-0.036) for {'n_estimators': 1500, 'min_samples_split': 2, 'min_samples_leaf': 6, 'max_features': 'log2', 'max_depth': 5, 'bootstrap': True}\n",
      "0.539 (+/-0.071) for {'n_estimators': 1500, 'min_samples_split': 5, 'min_samples_leaf': 2, 'max_features': 'log2', 'max_depth': 20, 'bootstrap': False}\n",
      "0.394 (+/-0.036) for {'n_estimators': 500, 'min_samples_split': 5, 'min_samples_leaf': 2, 'max_features': 'log2', 'max_depth': 5, 'bootstrap': False}\n",
      "CPU times: user 7min, sys: 32.4 s, total: 7min 32s\n",
      "Wall time: 25min 17s\n"
     ]
    }
   ],
   "source": [
    "%%time\n",
    "a,b,c,d,e = prepare_input(train_labels, train_mordred, target = 'EPA_category', encoder = encoder_epa)\n",
    "\n",
    "epa_rf_mordred = model_selection(rf_clf, rf_grid_parameters, a, c, scoring = 'f1_weighted', cv=5, GridSearch = False, n_iter=30,n_jobs=1)"
   ]
  },
  {
   "cell_type": "markdown",
   "metadata": {},
   "source": [
    "## Endpoint 3: logLD50"
   ]
  },
  {
   "cell_type": "code",
   "execution_count": 47,
   "metadata": {},
   "outputs": [
    {
     "name": "stdout",
     "output_type": "stream",
     "text": [
      "Best parameters set found on development set: {'n_estimators': 1500, 'min_samples_split': 2, 'min_samples_leaf': 2, 'max_features': 'sqrt', 'max_depth': None, 'bootstrap': False}\n",
      "Best score: -0.5136635794907726\n",
      "Grid scores on development set:\n",
      "\n",
      "-0.579 (+/-0.187) for {'n_estimators': 1500, 'min_samples_split': 10, 'min_samples_leaf': 2, 'max_features': 'log2', 'max_depth': None, 'bootstrap': False}\n",
      "-0.560 (+/-0.169) for {'n_estimators': 500, 'min_samples_split': 2, 'min_samples_leaf': 4, 'max_features': 'sqrt', 'max_depth': 65, 'bootstrap': True}\n",
      "-0.543 (+/-0.167) for {'n_estimators': 500, 'min_samples_split': 5, 'min_samples_leaf': 4, 'max_features': 'sqrt', 'max_depth': 80, 'bootstrap': False}\n",
      "-0.565 (+/-0.169) for {'n_estimators': 500, 'min_samples_split': 2, 'min_samples_leaf': 6, 'max_features': 'sqrt', 'max_depth': 50, 'bootstrap': False}\n",
      "-0.610 (+/-0.197) for {'n_estimators': 500, 'min_samples_split': 5, 'min_samples_leaf': 2, 'max_features': 'log2', 'max_depth': 50, 'bootstrap': True}\n",
      "-0.575 (+/-0.172) for {'n_estimators': 500, 'min_samples_split': 5, 'min_samples_leaf': 2, 'max_features': 'sqrt', 'max_depth': 20, 'bootstrap': False}\n",
      "-0.651 (+/-0.212) for {'n_estimators': 1500, 'min_samples_split': 2, 'min_samples_leaf': 6, 'max_features': 'log2', 'max_depth': 50, 'bootstrap': True}\n",
      "-0.721 (+/-0.233) for {'n_estimators': 500, 'min_samples_split': 2, 'min_samples_leaf': 2, 'max_features': 'sqrt', 'max_depth': 5, 'bootstrap': True}\n",
      "-0.672 (+/-0.223) for {'n_estimators': 500, 'min_samples_split': 5, 'min_samples_leaf': 2, 'max_features': 'log2', 'max_depth': 20, 'bootstrap': True}\n",
      "-0.595 (+/-0.191) for {'n_estimators': 1500, 'min_samples_split': 10, 'min_samples_leaf': 2, 'max_features': 'log2', 'max_depth': 50, 'bootstrap': False}\n",
      "-0.639 (+/-0.208) for {'n_estimators': 1500, 'min_samples_split': 5, 'min_samples_leaf': 6, 'max_features': 'log2', 'max_depth': 50, 'bootstrap': False}\n",
      "-0.544 (+/-0.168) for {'n_estimators': 1500, 'min_samples_split': 2, 'min_samples_leaf': 4, 'max_features': 'sqrt', 'max_depth': 65, 'bootstrap': False}\n",
      "-0.632 (+/-0.206) for {'n_estimators': 1500, 'min_samples_split': 10, 'min_samples_leaf': 4, 'max_features': 'log2', 'max_depth': 65, 'bootstrap': True}\n",
      "-0.594 (+/-0.192) for {'n_estimators': 1500, 'min_samples_split': 5, 'min_samples_leaf': 2, 'max_features': 'log2', 'max_depth': 50, 'bootstrap': False}\n",
      "-0.632 (+/-0.207) for {'n_estimators': 500, 'min_samples_split': 5, 'min_samples_leaf': 4, 'max_features': 'log2', 'max_depth': 80, 'bootstrap': True}\n",
      "-0.647 (+/-0.211) for {'n_estimators': 1500, 'min_samples_split': 2, 'min_samples_leaf': 6, 'max_features': 'log2', 'max_depth': 80, 'bootstrap': True}\n",
      "-0.560 (+/-0.171) for {'n_estimators': 500, 'min_samples_split': 2, 'min_samples_leaf': 4, 'max_features': 'sqrt', 'max_depth': None, 'bootstrap': True}\n",
      "-0.532 (+/-0.163) for {'n_estimators': 500, 'min_samples_split': 5, 'min_samples_leaf': 2, 'max_features': 'sqrt', 'max_depth': 35, 'bootstrap': False}\n",
      "-0.521 (+/-0.163) for {'n_estimators': 1500, 'min_samples_split': 5, 'min_samples_leaf': 2, 'max_features': 'sqrt', 'max_depth': 50, 'bootstrap': False}\n",
      "-0.648 (+/-0.212) for {'n_estimators': 500, 'min_samples_split': 2, 'min_samples_leaf': 6, 'max_features': 'log2', 'max_depth': None, 'bootstrap': True}\n",
      "-0.614 (+/-0.199) for {'n_estimators': 1500, 'min_samples_split': 10, 'min_samples_leaf': 4, 'max_features': 'log2', 'max_depth': None, 'bootstrap': False}\n",
      "-0.514 (+/-0.164) for {'n_estimators': 1500, 'min_samples_split': 2, 'min_samples_leaf': 2, 'max_features': 'sqrt', 'max_depth': None, 'bootstrap': False}\n",
      "-0.719 (+/-0.229) for {'n_estimators': 500, 'min_samples_split': 10, 'min_samples_leaf': 4, 'max_features': 'sqrt', 'max_depth': 5, 'bootstrap': False}\n",
      "-0.724 (+/-0.233) for {'n_estimators': 1500, 'min_samples_split': 2, 'min_samples_leaf': 6, 'max_features': 'sqrt', 'max_depth': 5, 'bootstrap': True}\n",
      "-0.723 (+/-0.233) for {'n_estimators': 500, 'min_samples_split': 2, 'min_samples_leaf': 6, 'max_features': 'sqrt', 'max_depth': 5, 'bootstrap': True}\n",
      "-0.772 (+/-0.267) for {'n_estimators': 500, 'min_samples_split': 5, 'min_samples_leaf': 2, 'max_features': 'log2', 'max_depth': 5, 'bootstrap': False}\n",
      "-0.639 (+/-0.208) for {'n_estimators': 1500, 'min_samples_split': 2, 'min_samples_leaf': 6, 'max_features': 'log2', 'max_depth': 50, 'bootstrap': False}\n",
      "-0.588 (+/-0.177) for {'n_estimators': 1500, 'min_samples_split': 10, 'min_samples_leaf': 6, 'max_features': 'sqrt', 'max_depth': 35, 'bootstrap': True}\n",
      "-0.684 (+/-0.225) for {'n_estimators': 500, 'min_samples_split': 10, 'min_samples_leaf': 4, 'max_features': 'log2', 'max_depth': 20, 'bootstrap': True}\n",
      "-0.612 (+/-0.184) for {'n_estimators': 1500, 'min_samples_split': 10, 'min_samples_leaf': 6, 'max_features': 'sqrt', 'max_depth': 20, 'bootstrap': True}\n",
      "CPU times: user 6min 59s, sys: 25.3 s, total: 7min 24s\n",
      "Wall time: 22min 31s\n"
     ]
    }
   ],
   "source": [
    "%%time\n",
    "a,b,c,d,e = prepare_input(train_labels, train_ecfp6_bits, target = 'logLD50_mmolkg', encoder = None)\n",
    "\n",
    "ld50_rf_ecfp6bits = model_selection(rf_reg, rf_grid_parameters, a, c, scoring = 'neg_mean_squared_error', cv=5, GridSearch = False, n_iter=30,n_jobs=1)"
   ]
  },
  {
   "cell_type": "code",
   "execution_count": 48,
   "metadata": {},
   "outputs": [
    {
     "name": "stdout",
     "output_type": "stream",
     "text": [
      "Best parameters set found on development set: {'n_estimators': 500, 'min_samples_split': 5, 'min_samples_leaf': 2, 'max_features': 'sqrt', 'max_depth': 80, 'bootstrap': False}\n",
      "Best score: -0.44620082987210974\n",
      "Grid scores on development set:\n",
      "\n",
      "-0.490 (+/-0.127) for {'n_estimators': 1500, 'min_samples_split': 10, 'min_samples_leaf': 4, 'max_features': 'sqrt', 'max_depth': 20, 'bootstrap': True}\n",
      "-0.456 (+/-0.110) for {'n_estimators': 1500, 'min_samples_split': 10, 'min_samples_leaf': 2, 'max_features': 'sqrt', 'max_depth': None, 'bootstrap': False}\n",
      "-0.474 (+/-0.117) for {'n_estimators': 1500, 'min_samples_split': 10, 'min_samples_leaf': 2, 'max_features': 'log2', 'max_depth': 80, 'bootstrap': False}\n",
      "-0.505 (+/-0.133) for {'n_estimators': 500, 'min_samples_split': 5, 'min_samples_leaf': 6, 'max_features': 'sqrt', 'max_depth': 50, 'bootstrap': True}\n",
      "-0.509 (+/-0.135) for {'n_estimators': 500, 'min_samples_split': 2, 'min_samples_leaf': 4, 'max_features': 'log2', 'max_depth': 20, 'bootstrap': True}\n",
      "-0.511 (+/-0.136) for {'n_estimators': 500, 'min_samples_split': 10, 'min_samples_leaf': 4, 'max_features': 'log2', 'max_depth': 50, 'bootstrap': True}\n",
      "-0.483 (+/-0.123) for {'n_estimators': 1500, 'min_samples_split': 5, 'min_samples_leaf': 6, 'max_features': 'sqrt', 'max_depth': 65, 'bootstrap': False}\n",
      "-0.490 (+/-0.127) for {'n_estimators': 500, 'min_samples_split': 10, 'min_samples_leaf': 4, 'max_features': 'sqrt', 'max_depth': 20, 'bootstrap': True}\n",
      "-0.446 (+/-0.104) for {'n_estimators': 500, 'min_samples_split': 5, 'min_samples_leaf': 2, 'max_features': 'sqrt', 'max_depth': 80, 'bootstrap': False}\n",
      "-0.504 (+/-0.133) for {'n_estimators': 1500, 'min_samples_split': 2, 'min_samples_leaf': 6, 'max_features': 'sqrt', 'max_depth': 65, 'bootstrap': True}\n",
      "-0.455 (+/-0.108) for {'n_estimators': 500, 'min_samples_split': 10, 'min_samples_leaf': 2, 'max_features': 'sqrt', 'max_depth': 50, 'bootstrap': False}\n",
      "-0.526 (+/-0.143) for {'n_estimators': 500, 'min_samples_split': 2, 'min_samples_leaf': 6, 'max_features': 'log2', 'max_depth': 50, 'bootstrap': True}\n",
      "-0.479 (+/-0.121) for {'n_estimators': 500, 'min_samples_split': 2, 'min_samples_leaf': 2, 'max_features': 'log2', 'max_depth': None, 'bootstrap': True}\n",
      "-0.473 (+/-0.117) for {'n_estimators': 1500, 'min_samples_split': 10, 'min_samples_leaf': 2, 'max_features': 'sqrt', 'max_depth': 80, 'bootstrap': True}\n",
      "-0.510 (+/-0.137) for {'n_estimators': 1500, 'min_samples_split': 10, 'min_samples_leaf': 4, 'max_features': 'log2', 'max_depth': 50, 'bootstrap': True}\n",
      "-0.464 (+/-0.112) for {'n_estimators': 500, 'min_samples_split': 5, 'min_samples_leaf': 2, 'max_features': 'log2', 'max_depth': 20, 'bootstrap': False}\n",
      "-0.526 (+/-0.143) for {'n_estimators': 500, 'min_samples_split': 10, 'min_samples_leaf': 6, 'max_features': 'log2', 'max_depth': 35, 'bootstrap': True}\n",
      "-0.509 (+/-0.136) for {'n_estimators': 1500, 'min_samples_split': 5, 'min_samples_leaf': 4, 'max_features': 'log2', 'max_depth': 20, 'bootstrap': True}\n",
      "-0.493 (+/-0.126) for {'n_estimators': 500, 'min_samples_split': 10, 'min_samples_leaf': 2, 'max_features': 'log2', 'max_depth': 65, 'bootstrap': True}\n",
      "-0.483 (+/-0.123) for {'n_estimators': 1500, 'min_samples_split': 10, 'min_samples_leaf': 6, 'max_features': 'sqrt', 'max_depth': 65, 'bootstrap': False}\n",
      "-0.493 (+/-0.128) for {'n_estimators': 1500, 'min_samples_split': 10, 'min_samples_leaf': 2, 'max_features': 'log2', 'max_depth': 80, 'bootstrap': True}\n",
      "-0.491 (+/-0.127) for {'n_estimators': 1500, 'min_samples_split': 10, 'min_samples_leaf': 4, 'max_features': 'log2', 'max_depth': 65, 'bootstrap': False}\n",
      "-0.461 (+/-0.110) for {'n_estimators': 1500, 'min_samples_split': 2, 'min_samples_leaf': 2, 'max_features': 'log2', 'max_depth': 35, 'bootstrap': False}\n",
      "-0.506 (+/-0.130) for {'n_estimators': 500, 'min_samples_split': 2, 'min_samples_leaf': 6, 'max_features': 'log2', 'max_depth': 35, 'bootstrap': False}\n",
      "-0.506 (+/-0.133) for {'n_estimators': 1500, 'min_samples_split': 5, 'min_samples_leaf': 6, 'max_features': 'log2', 'max_depth': 50, 'bootstrap': False}\n",
      "-0.489 (+/-0.125) for {'n_estimators': 500, 'min_samples_split': 2, 'min_samples_leaf': 4, 'max_features': 'log2', 'max_depth': None, 'bootstrap': False}\n",
      "-0.526 (+/-0.143) for {'n_estimators': 500, 'min_samples_split': 2, 'min_samples_leaf': 6, 'max_features': 'log2', 'max_depth': None, 'bootstrap': True}\n",
      "-0.487 (+/-0.127) for {'n_estimators': 1500, 'min_samples_split': 2, 'min_samples_leaf': 4, 'max_features': 'sqrt', 'max_depth': 65, 'bootstrap': True}\n",
      "-0.506 (+/-0.133) for {'n_estimators': 1500, 'min_samples_split': 10, 'min_samples_leaf': 6, 'max_features': 'log2', 'max_depth': 20, 'bootstrap': False}\n",
      "-0.605 (+/-0.182) for {'n_estimators': 500, 'min_samples_split': 2, 'min_samples_leaf': 2, 'max_features': 'sqrt', 'max_depth': 5, 'bootstrap': True}\n",
      "CPU times: user 3min 17s, sys: 15.4 s, total: 3min 32s\n",
      "Wall time: 4min 32s\n"
     ]
    }
   ],
   "source": [
    "%%time\n",
    "a,b,c,d,e = prepare_input(train_labels, train_maccs, target = 'logLD50_mmolkg', encoder = None)\n",
    "\n",
    "ld50_rf_maccs = model_selection(rf_reg, rf_grid_parameters, a, c, scoring = 'neg_mean_squared_error', cv=5, GridSearch = False, n_iter=30,n_jobs=1)"
   ]
  },
  {
   "cell_type": "code",
   "execution_count": 49,
   "metadata": {},
   "outputs": [
    {
     "name": "stdout",
     "output_type": "stream",
     "text": [
      "Best parameters set found on development set: {'n_estimators': 500, 'min_samples_split': 2, 'min_samples_leaf': 2, 'max_features': 'sqrt', 'max_depth': None, 'bootstrap': False}\n",
      "Best score: -0.5082676513713261\n",
      "Grid scores on development set:\n",
      "\n",
      "-0.634 (+/-0.201) for {'n_estimators': 1500, 'min_samples_split': 10, 'min_samples_leaf': 2, 'max_features': 'log2', 'max_depth': 35, 'bootstrap': True}\n",
      "-0.723 (+/-0.228) for {'n_estimators': 500, 'min_samples_split': 2, 'min_samples_leaf': 6, 'max_features': 'sqrt', 'max_depth': 5, 'bootstrap': False}\n",
      "-0.556 (+/-0.169) for {'n_estimators': 1500, 'min_samples_split': 10, 'min_samples_leaf': 6, 'max_features': 'sqrt', 'max_depth': 80, 'bootstrap': False}\n",
      "-0.556 (+/-0.170) for {'n_estimators': 1500, 'min_samples_split': 10, 'min_samples_leaf': 4, 'max_features': 'sqrt', 'max_depth': 65, 'bootstrap': True}\n",
      "-0.642 (+/-0.208) for {'n_estimators': 1500, 'min_samples_split': 2, 'min_samples_leaf': 4, 'max_features': 'log2', 'max_depth': 35, 'bootstrap': False}\n",
      "-0.671 (+/-0.215) for {'n_estimators': 1500, 'min_samples_split': 5, 'min_samples_leaf': 2, 'max_features': 'log2', 'max_depth': 20, 'bootstrap': False}\n",
      "-0.558 (+/-0.168) for {'n_estimators': 500, 'min_samples_split': 10, 'min_samples_leaf': 4, 'max_features': 'sqrt', 'max_depth': 50, 'bootstrap': True}\n",
      "-0.776 (+/-0.267) for {'n_estimators': 500, 'min_samples_split': 10, 'min_samples_leaf': 6, 'max_features': 'log2', 'max_depth': 5, 'bootstrap': False}\n",
      "-0.612 (+/-0.200) for {'n_estimators': 1500, 'min_samples_split': 5, 'min_samples_leaf': 4, 'max_features': 'log2', 'max_depth': None, 'bootstrap': False}\n",
      "-0.575 (+/-0.175) for {'n_estimators': 1500, 'min_samples_split': 5, 'min_samples_leaf': 6, 'max_features': 'sqrt', 'max_depth': 80, 'bootstrap': True}\n",
      "-0.508 (+/-0.158) for {'n_estimators': 500, 'min_samples_split': 2, 'min_samples_leaf': 2, 'max_features': 'sqrt', 'max_depth': None, 'bootstrap': False}\n",
      "-0.670 (+/-0.216) for {'n_estimators': 500, 'min_samples_split': 2, 'min_samples_leaf': 2, 'max_features': 'log2', 'max_depth': 20, 'bootstrap': False}\n",
      "-0.632 (+/-0.208) for {'n_estimators': 1500, 'min_samples_split': 5, 'min_samples_leaf': 6, 'max_features': 'log2', 'max_depth': 80, 'bootstrap': False}\n",
      "-0.622 (+/-0.194) for {'n_estimators': 500, 'min_samples_split': 10, 'min_samples_leaf': 2, 'max_features': 'log2', 'max_depth': 35, 'bootstrap': False}\n",
      "-0.596 (+/-0.173) for {'n_estimators': 1500, 'min_samples_split': 10, 'min_samples_leaf': 6, 'max_features': 'sqrt', 'max_depth': 20, 'bootstrap': False}\n",
      "-0.614 (+/-0.195) for {'n_estimators': 500, 'min_samples_split': 2, 'min_samples_leaf': 2, 'max_features': 'log2', 'max_depth': 50, 'bootstrap': True}\n",
      "-0.531 (+/-0.165) for {'n_estimators': 1500, 'min_samples_split': 10, 'min_samples_leaf': 2, 'max_features': 'sqrt', 'max_depth': 65, 'bootstrap': True}\n",
      "-0.557 (+/-0.167) for {'n_estimators': 500, 'min_samples_split': 2, 'min_samples_leaf': 6, 'max_features': 'sqrt', 'max_depth': 50, 'bootstrap': False}\n",
      "-0.725 (+/-0.230) for {'n_estimators': 1500, 'min_samples_split': 5, 'min_samples_leaf': 2, 'max_features': 'sqrt', 'max_depth': 5, 'bootstrap': True}\n",
      "-0.633 (+/-0.206) for {'n_estimators': 500, 'min_samples_split': 2, 'min_samples_leaf': 4, 'max_features': 'log2', 'max_depth': 65, 'bootstrap': True}\n",
      "-0.600 (+/-0.176) for {'n_estimators': 500, 'min_samples_split': 10, 'min_samples_leaf': 4, 'max_features': 'sqrt', 'max_depth': 20, 'bootstrap': True}\n",
      "-0.555 (+/-0.170) for {'n_estimators': 1500, 'min_samples_split': 10, 'min_samples_leaf': 4, 'max_features': 'sqrt', 'max_depth': 80, 'bootstrap': True}\n",
      "-0.576 (+/-0.163) for {'n_estimators': 1500, 'min_samples_split': 5, 'min_samples_leaf': 2, 'max_features': 'sqrt', 'max_depth': 20, 'bootstrap': False}\n",
      "-0.556 (+/-0.168) for {'n_estimators': 500, 'min_samples_split': 5, 'min_samples_leaf': 6, 'max_features': 'sqrt', 'max_depth': 65, 'bootstrap': False}\n",
      "-0.629 (+/-0.206) for {'n_estimators': 1500, 'min_samples_split': 5, 'min_samples_leaf': 4, 'max_features': 'log2', 'max_depth': 80, 'bootstrap': True}\n",
      "-0.723 (+/-0.227) for {'n_estimators': 500, 'min_samples_split': 5, 'min_samples_leaf': 2, 'max_features': 'sqrt', 'max_depth': 5, 'bootstrap': False}\n",
      "-0.526 (+/-0.163) for {'n_estimators': 500, 'min_samples_split': 2, 'min_samples_leaf': 2, 'max_features': 'sqrt', 'max_depth': 80, 'bootstrap': True}\n",
      "-0.547 (+/-0.163) for {'n_estimators': 1500, 'min_samples_split': 5, 'min_samples_leaf': 2, 'max_features': 'sqrt', 'max_depth': 35, 'bootstrap': True}\n",
      "-0.525 (+/-0.163) for {'n_estimators': 500, 'min_samples_split': 5, 'min_samples_leaf': 2, 'max_features': 'sqrt', 'max_depth': None, 'bootstrap': True}\n",
      "-0.535 (+/-0.162) for {'n_estimators': 500, 'min_samples_split': 5, 'min_samples_leaf': 4, 'max_features': 'sqrt', 'max_depth': 80, 'bootstrap': False}\n",
      "CPU times: user 5min 42s, sys: 25.5 s, total: 6min 8s\n",
      "Wall time: 25min 17s\n"
     ]
    }
   ],
   "source": [
    "%%time\n",
    "a,b,c,d,e = prepare_input(train_labels, train_ecfp6_counts, target = 'logLD50_mmolkg', encoder = None)\n",
    "\n",
    "ld50_rf_ecfp6count = model_selection(rf_reg, rf_grid_parameters, a, c, scoring = 'neg_mean_squared_error', cv=5, GridSearch = False, n_iter=30,n_jobs=1)"
   ]
  },
  {
   "cell_type": "code",
   "execution_count": 50,
   "metadata": {},
   "outputs": [
    {
     "name": "stdout",
     "output_type": "stream",
     "text": [
      "Best parameters set found on development set: {'n_estimators': 1500, 'min_samples_split': 2, 'min_samples_leaf': 2, 'max_features': 'sqrt', 'max_depth': 65, 'bootstrap': False}\n",
      "Best score: -0.4552310603566815\n",
      "Grid scores on development set:\n",
      "\n",
      "-0.500 (+/-0.154) for {'n_estimators': 500, 'min_samples_split': 5, 'min_samples_leaf': 4, 'max_features': 'log2', 'max_depth': None, 'bootstrap': True}\n",
      "-0.467 (+/-0.138) for {'n_estimators': 1500, 'min_samples_split': 2, 'min_samples_leaf': 4, 'max_features': 'sqrt', 'max_depth': 65, 'bootstrap': False}\n",
      "-0.602 (+/-0.189) for {'n_estimators': 500, 'min_samples_split': 5, 'min_samples_leaf': 2, 'max_features': 'sqrt', 'max_depth': 5, 'bootstrap': True}\n",
      "-0.478 (+/-0.143) for {'n_estimators': 500, 'min_samples_split': 2, 'min_samples_leaf': 4, 'max_features': 'log2', 'max_depth': None, 'bootstrap': False}\n",
      "-0.602 (+/-0.190) for {'n_estimators': 500, 'min_samples_split': 2, 'min_samples_leaf': 2, 'max_features': 'sqrt', 'max_depth': 5, 'bootstrap': True}\n",
      "-0.467 (+/-0.138) for {'n_estimators': 1500, 'min_samples_split': 5, 'min_samples_leaf': 4, 'max_features': 'sqrt', 'max_depth': None, 'bootstrap': False}\n",
      "-0.513 (+/-0.159) for {'n_estimators': 500, 'min_samples_split': 2, 'min_samples_leaf': 6, 'max_features': 'log2', 'max_depth': 80, 'bootstrap': True}\n",
      "-0.502 (+/-0.155) for {'n_estimators': 1500, 'min_samples_split': 10, 'min_samples_leaf': 4, 'max_features': 'log2', 'max_depth': None, 'bootstrap': True}\n",
      "-0.463 (+/-0.132) for {'n_estimators': 500, 'min_samples_split': 10, 'min_samples_leaf': 2, 'max_features': 'sqrt', 'max_depth': 50, 'bootstrap': False}\n",
      "-0.491 (+/-0.147) for {'n_estimators': 500, 'min_samples_split': 10, 'min_samples_leaf': 6, 'max_features': 'log2', 'max_depth': 20, 'bootstrap': False}\n",
      "-0.479 (+/-0.146) for {'n_estimators': 1500, 'min_samples_split': 2, 'min_samples_leaf': 6, 'max_features': 'sqrt', 'max_depth': 20, 'bootstrap': False}\n",
      "-0.499 (+/-0.150) for {'n_estimators': 500, 'min_samples_split': 5, 'min_samples_leaf': 6, 'max_features': 'sqrt', 'max_depth': 65, 'bootstrap': True}\n",
      "-0.499 (+/-0.155) for {'n_estimators': 500, 'min_samples_split': 2, 'min_samples_leaf': 4, 'max_features': 'log2', 'max_depth': 20, 'bootstrap': True}\n",
      "-0.484 (+/-0.144) for {'n_estimators': 500, 'min_samples_split': 5, 'min_samples_leaf': 2, 'max_features': 'log2', 'max_depth': 35, 'bootstrap': True}\n",
      "-0.463 (+/-0.135) for {'n_estimators': 500, 'min_samples_split': 2, 'min_samples_leaf': 2, 'max_features': 'log2', 'max_depth': 50, 'bootstrap': False}\n",
      "-0.490 (+/-0.150) for {'n_estimators': 500, 'min_samples_split': 2, 'min_samples_leaf': 4, 'max_features': 'sqrt', 'max_depth': 20, 'bootstrap': True}\n",
      "-0.622 (+/-0.203) for {'n_estimators': 1500, 'min_samples_split': 5, 'min_samples_leaf': 6, 'max_features': 'log2', 'max_depth': 5, 'bootstrap': True}\n",
      "-0.493 (+/-0.148) for {'n_estimators': 500, 'min_samples_split': 10, 'min_samples_leaf': 2, 'max_features': 'log2', 'max_depth': 50, 'bootstrap': True}\n",
      "-0.500 (+/-0.153) for {'n_estimators': 1500, 'min_samples_split': 2, 'min_samples_leaf': 6, 'max_features': 'sqrt', 'max_depth': 50, 'bootstrap': True}\n",
      "-0.621 (+/-0.202) for {'n_estimators': 1500, 'min_samples_split': 2, 'min_samples_leaf': 2, 'max_features': 'log2', 'max_depth': 5, 'bootstrap': True}\n",
      "-0.500 (+/-0.153) for {'n_estimators': 1500, 'min_samples_split': 2, 'min_samples_leaf': 6, 'max_features': 'sqrt', 'max_depth': 80, 'bootstrap': True}\n",
      "-0.484 (+/-0.146) for {'n_estimators': 1500, 'min_samples_split': 5, 'min_samples_leaf': 2, 'max_features': 'log2', 'max_depth': 80, 'bootstrap': True}\n",
      "-0.491 (+/-0.148) for {'n_estimators': 1500, 'min_samples_split': 2, 'min_samples_leaf': 6, 'max_features': 'log2', 'max_depth': 50, 'bootstrap': False}\n",
      "-0.456 (+/-0.131) for {'n_estimators': 1500, 'min_samples_split': 5, 'min_samples_leaf': 2, 'max_features': 'sqrt', 'max_depth': 50, 'bootstrap': False}\n",
      "-0.483 (+/-0.148) for {'n_estimators': 1500, 'min_samples_split': 10, 'min_samples_leaf': 2, 'max_features': 'sqrt', 'max_depth': 65, 'bootstrap': True}\n",
      "-0.600 (+/-0.187) for {'n_estimators': 1500, 'min_samples_split': 10, 'min_samples_leaf': 6, 'max_features': 'sqrt', 'max_depth': 5, 'bootstrap': False}\n",
      "-0.479 (+/-0.146) for {'n_estimators': 500, 'min_samples_split': 10, 'min_samples_leaf': 6, 'max_features': 'sqrt', 'max_depth': 50, 'bootstrap': False}\n",
      "-0.603 (+/-0.189) for {'n_estimators': 1500, 'min_samples_split': 2, 'min_samples_leaf': 2, 'max_features': 'sqrt', 'max_depth': 5, 'bootstrap': True}\n",
      "-0.467 (+/-0.136) for {'n_estimators': 500, 'min_samples_split': 5, 'min_samples_leaf': 4, 'max_features': 'sqrt', 'max_depth': None, 'bootstrap': False}\n",
      "-0.455 (+/-0.131) for {'n_estimators': 1500, 'min_samples_split': 2, 'min_samples_leaf': 2, 'max_features': 'sqrt', 'max_depth': 65, 'bootstrap': False}\n",
      "CPU times: user 4min 8s, sys: 16.2 s, total: 4min 24s\n",
      "Wall time: 7min 55s\n"
     ]
    }
   ],
   "source": [
    "%%time\n",
    "a,b,c,d,e = prepare_input(train_labels, train_rdkit2d, target = 'logLD50_mmolkg', encoder = None)\n",
    "\n",
    "ld50_rf_rdkit2d = model_selection(rf_reg, rf_grid_parameters, a, c, scoring = 'neg_mean_squared_error', cv=5, GridSearch = False, n_iter=30,n_jobs=1)"
   ]
  },
  {
   "cell_type": "code",
   "execution_count": 51,
   "metadata": {},
   "outputs": [
    {
     "name": "stdout",
     "output_type": "stream",
     "text": [
      "Best parameters set found on development set: {'n_estimators': 1500, 'min_samples_split': 10, 'min_samples_leaf': 2, 'max_features': 'sqrt', 'max_depth': 65, 'bootstrap': False}\n",
      "Best score: -0.4551508147810823\n",
      "Grid scores on development set:\n",
      "\n",
      "-0.581 (+/-0.165) for {'n_estimators': 500, 'min_samples_split': 5, 'min_samples_leaf': 4, 'max_features': 'sqrt', 'max_depth': 5, 'bootstrap': True}\n",
      "-0.464 (+/-0.132) for {'n_estimators': 1500, 'min_samples_split': 5, 'min_samples_leaf': 6, 'max_features': 'sqrt', 'max_depth': 20, 'bootstrap': False}\n",
      "-0.599 (+/-0.171) for {'n_estimators': 1500, 'min_samples_split': 2, 'min_samples_leaf': 6, 'max_features': 'log2', 'max_depth': 5, 'bootstrap': False}\n",
      "-0.476 (+/-0.135) for {'n_estimators': 500, 'min_samples_split': 10, 'min_samples_leaf': 4, 'max_features': 'log2', 'max_depth': 35, 'bootstrap': False}\n",
      "-0.486 (+/-0.143) for {'n_estimators': 500, 'min_samples_split': 10, 'min_samples_leaf': 6, 'max_features': 'sqrt', 'max_depth': 80, 'bootstrap': True}\n",
      "-0.474 (+/-0.136) for {'n_estimators': 500, 'min_samples_split': 2, 'min_samples_leaf': 4, 'max_features': 'log2', 'max_depth': None, 'bootstrap': False}\n",
      "-0.462 (+/-0.125) for {'n_estimators': 1500, 'min_samples_split': 2, 'min_samples_leaf': 2, 'max_features': 'log2', 'max_depth': 35, 'bootstrap': False}\n",
      "-0.505 (+/-0.145) for {'n_estimators': 1500, 'min_samples_split': 5, 'min_samples_leaf': 6, 'max_features': 'log2', 'max_depth': 20, 'bootstrap': True}\n",
      "-0.465 (+/-0.134) for {'n_estimators': 500, 'min_samples_split': 2, 'min_samples_leaf': 6, 'max_features': 'sqrt', 'max_depth': 20, 'bootstrap': False}\n",
      "-0.465 (+/-0.130) for {'n_estimators': 500, 'min_samples_split': 2, 'min_samples_leaf': 2, 'max_features': 'log2', 'max_depth': 20, 'bootstrap': False}\n",
      "-0.455 (+/-0.129) for {'n_estimators': 1500, 'min_samples_split': 10, 'min_samples_leaf': 2, 'max_features': 'sqrt', 'max_depth': 65, 'bootstrap': False}\n",
      "-0.479 (+/-0.141) for {'n_estimators': 1500, 'min_samples_split': 5, 'min_samples_leaf': 4, 'max_features': 'sqrt', 'max_depth': 50, 'bootstrap': True}\n",
      "-0.505 (+/-0.146) for {'n_estimators': 1500, 'min_samples_split': 10, 'min_samples_leaf': 6, 'max_features': 'log2', 'max_depth': 80, 'bootstrap': True}\n",
      "-0.505 (+/-0.144) for {'n_estimators': 500, 'min_samples_split': 2, 'min_samples_leaf': 6, 'max_features': 'log2', 'max_depth': 35, 'bootstrap': True}\n",
      "-0.505 (+/-0.146) for {'n_estimators': 1500, 'min_samples_split': 2, 'min_samples_leaf': 6, 'max_features': 'log2', 'max_depth': None, 'bootstrap': True}\n",
      "-0.464 (+/-0.135) for {'n_estimators': 500, 'min_samples_split': 5, 'min_samples_leaf': 6, 'max_features': 'sqrt', 'max_depth': None, 'bootstrap': False}\n",
      "-0.456 (+/-0.130) for {'n_estimators': 1500, 'min_samples_split': 5, 'min_samples_leaf': 4, 'max_features': 'sqrt', 'max_depth': 35, 'bootstrap': False}\n",
      "-0.505 (+/-0.144) for {'n_estimators': 500, 'min_samples_split': 5, 'min_samples_leaf': 6, 'max_features': 'log2', 'max_depth': 65, 'bootstrap': True}\n",
      "-0.582 (+/-0.167) for {'n_estimators': 500, 'min_samples_split': 5, 'min_samples_leaf': 2, 'max_features': 'sqrt', 'max_depth': 5, 'bootstrap': True}\n",
      "-0.486 (+/-0.134) for {'n_estimators': 500, 'min_samples_split': 5, 'min_samples_leaf': 2, 'max_features': 'log2', 'max_depth': 65, 'bootstrap': True}\n",
      "-0.484 (+/-0.135) for {'n_estimators': 1500, 'min_samples_split': 2, 'min_samples_leaf': 2, 'max_features': 'log2', 'max_depth': 35, 'bootstrap': True}\n",
      "-0.479 (+/-0.141) for {'n_estimators': 1500, 'min_samples_split': 2, 'min_samples_leaf': 4, 'max_features': 'sqrt', 'max_depth': None, 'bootstrap': True}\n",
      "-0.481 (+/-0.140) for {'n_estimators': 500, 'min_samples_split': 10, 'min_samples_leaf': 4, 'max_features': 'sqrt', 'max_depth': 35, 'bootstrap': True}\n",
      "-0.473 (+/-0.140) for {'n_estimators': 500, 'min_samples_split': 5, 'min_samples_leaf': 2, 'max_features': 'sqrt', 'max_depth': 50, 'bootstrap': True}\n",
      "-0.497 (+/-0.143) for {'n_estimators': 500, 'min_samples_split': 10, 'min_samples_leaf': 4, 'max_features': 'log2', 'max_depth': 65, 'bootstrap': True}\n",
      "-0.482 (+/-0.137) for {'n_estimators': 1500, 'min_samples_split': 10, 'min_samples_leaf': 6, 'max_features': 'log2', 'max_depth': None, 'bootstrap': False}\n",
      "-0.455 (+/-0.129) for {'n_estimators': 1500, 'min_samples_split': 10, 'min_samples_leaf': 2, 'max_features': 'sqrt', 'max_depth': 80, 'bootstrap': False}\n",
      "-0.479 (+/-0.141) for {'n_estimators': 1500, 'min_samples_split': 2, 'min_samples_leaf': 4, 'max_features': 'sqrt', 'max_depth': 50, 'bootstrap': True}\n",
      "-0.463 (+/-0.125) for {'n_estimators': 500, 'min_samples_split': 2, 'min_samples_leaf': 2, 'max_features': 'log2', 'max_depth': 50, 'bootstrap': False}\n",
      "-0.505 (+/-0.144) for {'n_estimators': 500, 'min_samples_split': 5, 'min_samples_leaf': 6, 'max_features': 'log2', 'max_depth': None, 'bootstrap': True}\n",
      "CPU times: user 6min 19s, sys: 17.8 s, total: 6min 36s\n",
      "Wall time: 18min 28s\n"
     ]
    }
   ],
   "source": [
    "%%time\n",
    "a,b,c,d,e = prepare_input(train_labels, train_mordred, target = 'logLD50_mmolkg', encoder = None)\n",
    "\n",
    "ld50_rf_mordred = model_selection(rf_reg, rf_grid_parameters, a, c, scoring = 'neg_mean_squared_error', cv=5, GridSearch = False, n_iter=30,n_jobs=1)"
   ]
  },
  {
   "cell_type": "markdown",
   "metadata": {},
   "source": [
    "# XGBoost"
   ]
  },
  {
   "cell_type": "markdown",
   "metadata": {},
   "source": [
    "## Endpoint 1: logLD50"
   ]
  },
  {
   "cell_type": "code",
   "execution_count": 83,
   "metadata": {},
   "outputs": [
    {
     "name": "stdout",
     "output_type": "stream",
     "text": [
      "Best parameters set found on development set: {'subsample': 0.9, 'n_estimators': 1500, 'min_child_weight': 3, 'max_depth': 10, 'learning_rate': 0.01, 'gamma': 0, 'colsample_bytree': 0.7}\n",
      "Best score: -0.5021409167738714\n",
      "Grid scores on development set:\n",
      "\n",
      "-0.548 (+/-0.176) for {'subsample': 0.9, 'n_estimators': 1500, 'min_child_weight': 1, 'max_depth': 10, 'learning_rate': 0.01, 'gamma': 5, 'colsample_bytree': 0.6}\n",
      "-0.540 (+/-0.168) for {'subsample': 0.9, 'n_estimators': 1500, 'min_child_weight': 5, 'max_depth': 6, 'learning_rate': 0.1, 'gamma': 0, 'colsample_bytree': 0.6}\n",
      "-0.544 (+/-0.152) for {'subsample': 0.7, 'n_estimators': 1500, 'min_child_weight': 3, 'max_depth': 10, 'learning_rate': 0.1, 'gamma': 0, 'colsample_bytree': 1.0}\n",
      "-0.543 (+/-0.185) for {'subsample': 1.0, 'n_estimators': 500, 'min_child_weight': 1, 'max_depth': 3, 'learning_rate': 0.1, 'gamma': 0, 'colsample_bytree': 0.7}\n",
      "-0.530 (+/-0.167) for {'subsample': 0.6, 'n_estimators': 500, 'min_child_weight': 5, 'max_depth': 6, 'learning_rate': 0.1, 'gamma': 0, 'colsample_bytree': 0.9}\n",
      "-0.529 (+/-0.165) for {'subsample': 1.0, 'n_estimators': 500, 'min_child_weight': 1, 'max_depth': 6, 'learning_rate': 0.1, 'gamma': 0, 'colsample_bytree': 0.8}\n",
      "-0.525 (+/-0.170) for {'subsample': 0.7, 'n_estimators': 500, 'min_child_weight': 3, 'max_depth': 10, 'learning_rate': 0.01, 'gamma': 1, 'colsample_bytree': 0.7}\n",
      "-0.531 (+/-0.162) for {'subsample': 0.7, 'n_estimators': 500, 'min_child_weight': 3, 'max_depth': 10, 'learning_rate': 0.1, 'gamma': 0, 'colsample_bytree': 1.0}\n",
      "-0.553 (+/-0.157) for {'subsample': 0.6, 'n_estimators': 1500, 'min_child_weight': 5, 'max_depth': 6, 'learning_rate': 0.1, 'gamma': 0, 'colsample_bytree': 0.9}\n",
      "-0.566 (+/-0.196) for {'subsample': 0.7, 'n_estimators': 1500, 'min_child_weight': 3, 'max_depth': 3, 'learning_rate': 0.1, 'gamma': 5, 'colsample_bytree': 0.9}\n",
      "-0.584 (+/-0.201) for {'subsample': 0.9, 'n_estimators': 1500, 'min_child_weight': 5, 'max_depth': 3, 'learning_rate': 0.01, 'gamma': 5, 'colsample_bytree': 0.7}\n",
      "-0.570 (+/-0.199) for {'subsample': 0.8, 'n_estimators': 1500, 'min_child_weight': 5, 'max_depth': 3, 'learning_rate': 0.1, 'gamma': 5, 'colsample_bytree': 0.9}\n",
      "-0.557 (+/-0.185) for {'subsample': 0.7, 'n_estimators': 500, 'min_child_weight': 3, 'max_depth': 6, 'learning_rate': 0.01, 'gamma': 0, 'colsample_bytree': 0.7}\n",
      "-0.510 (+/-0.159) for {'subsample': 0.7, 'n_estimators': 500, 'min_child_weight': 1, 'max_depth': 10, 'learning_rate': 0.1, 'gamma': 0, 'colsample_bytree': 0.6}\n",
      "-0.618 (+/-0.194) for {'subsample': 0.9, 'n_estimators': 500, 'min_child_weight': 1, 'max_depth': 3, 'learning_rate': 0.01, 'gamma': 0, 'colsample_bytree': 0.7}\n",
      "-0.528 (+/-0.158) for {'subsample': 0.6, 'n_estimators': 1500, 'min_child_weight': 5, 'max_depth': 10, 'learning_rate': 0.1, 'gamma': 1, 'colsample_bytree': 0.5}\n",
      "-0.502 (+/-0.175) for {'subsample': 0.9, 'n_estimators': 1500, 'min_child_weight': 3, 'max_depth': 10, 'learning_rate': 0.01, 'gamma': 0, 'colsample_bytree': 0.7}\n",
      "-0.528 (+/-0.180) for {'subsample': 0.8, 'n_estimators': 500, 'min_child_weight': 5, 'max_depth': 10, 'learning_rate': 0.01, 'gamma': 1, 'colsample_bytree': 0.7}\n",
      "-0.556 (+/-0.186) for {'subsample': 0.9, 'n_estimators': 500, 'min_child_weight': 1, 'max_depth': 6, 'learning_rate': 0.01, 'gamma': 0, 'colsample_bytree': 0.9}\n",
      "-0.536 (+/-0.167) for {'subsample': 0.8, 'n_estimators': 1500, 'min_child_weight': 1, 'max_depth': 6, 'learning_rate': 0.1, 'gamma': 0, 'colsample_bytree': 0.9}\n",
      "-0.588 (+/-0.201) for {'subsample': 1.0, 'n_estimators': 500, 'min_child_weight': 3, 'max_depth': 3, 'learning_rate': 0.1, 'gamma': 5, 'colsample_bytree': 0.5}\n",
      "-0.558 (+/-0.189) for {'subsample': 0.7, 'n_estimators': 500, 'min_child_weight': 5, 'max_depth': 6, 'learning_rate': 0.01, 'gamma': 1, 'colsample_bytree': 0.9}\n",
      "-0.559 (+/-0.187) for {'subsample': 0.9, 'n_estimators': 1500, 'min_child_weight': 3, 'max_depth': 6, 'learning_rate': 0.01, 'gamma': 5, 'colsample_bytree': 0.8}\n",
      "-0.563 (+/-0.191) for {'subsample': 0.6, 'n_estimators': 1500, 'min_child_weight': 1, 'max_depth': 3, 'learning_rate': 0.01, 'gamma': 0, 'colsample_bytree': 0.8}\n",
      "-0.540 (+/-0.176) for {'subsample': 0.9, 'n_estimators': 1500, 'min_child_weight': 5, 'max_depth': 10, 'learning_rate': 0.1, 'gamma': 5, 'colsample_bytree': 0.9}\n",
      "-0.576 (+/-0.199) for {'subsample': 0.9, 'n_estimators': 500, 'min_child_weight': 3, 'max_depth': 3, 'learning_rate': 0.1, 'gamma': 5, 'colsample_bytree': 0.5}\n",
      "-0.617 (+/-0.195) for {'subsample': 0.8, 'n_estimators': 500, 'min_child_weight': 1, 'max_depth': 3, 'learning_rate': 0.01, 'gamma': 0, 'colsample_bytree': 0.8}\n",
      "-0.536 (+/-0.172) for {'subsample': 1.0, 'n_estimators': 1500, 'min_child_weight': 3, 'max_depth': 6, 'learning_rate': 0.1, 'gamma': 0, 'colsample_bytree': 0.8}\n",
      "-0.544 (+/-0.175) for {'subsample': 0.8, 'n_estimators': 1500, 'min_child_weight': 3, 'max_depth': 3, 'learning_rate': 0.1, 'gamma': 1, 'colsample_bytree': 0.8}\n",
      "-0.617 (+/-0.194) for {'subsample': 0.9, 'n_estimators': 500, 'min_child_weight': 3, 'max_depth': 3, 'learning_rate': 0.01, 'gamma': 1, 'colsample_bytree': 1.0}\n",
      "CPU times: user 14h 17min 59s, sys: 54.6 s, total: 14h 18min 54s\n",
      "Wall time: 2h 25min 50s\n"
     ]
    }
   ],
   "source": [
    "%%time\n",
    "a,b,c,d,e = prepare_input(train_labels, train_ecfp6_bits, target = 'logLD50_mmolkg', encoder = None)\n",
    "\n",
    "ld50_xgb_ecfp6bits = model_selection(xgb_reg, xgb_grid_parameters, a, c, scoring = 'neg_mean_squared_error', cv=5, GridSearch = False, n_iter=30, n_jobs=1)"
   ]
  },
  {
   "cell_type": "code",
   "execution_count": 84,
   "metadata": {},
   "outputs": [
    {
     "name": "stdout",
     "output_type": "stream",
     "text": [
      "Best parameters set found on development set: {'subsample': 0.6, 'n_estimators': 1500, 'min_child_weight': 1, 'max_depth': 10, 'learning_rate': 0.01, 'gamma': 0, 'colsample_bytree': 0.7}\n",
      "Best score: -0.4233172282014326\n",
      "Grid scores on development set:\n",
      "\n",
      "-0.506 (+/-0.144) for {'subsample': 0.8, 'n_estimators': 500, 'min_child_weight': 5, 'max_depth': 6, 'learning_rate': 0.01, 'gamma': 5, 'colsample_bytree': 0.5}\n",
      "-0.483 (+/-0.138) for {'subsample': 0.8, 'n_estimators': 1500, 'min_child_weight': 5, 'max_depth': 10, 'learning_rate': 0.01, 'gamma': 5, 'colsample_bytree': 0.5}\n",
      "-0.513 (+/-0.144) for {'subsample': 1.0, 'n_estimators': 500, 'min_child_weight': 3, 'max_depth': 10, 'learning_rate': 0.1, 'gamma': 5, 'colsample_bytree': 1.0}\n",
      "-0.559 (+/-0.163) for {'subsample': 1.0, 'n_estimators': 500, 'min_child_weight': 1, 'max_depth': 3, 'learning_rate': 0.01, 'gamma': 5, 'colsample_bytree': 0.7}\n",
      "-0.490 (+/-0.141) for {'subsample': 1.0, 'n_estimators': 500, 'min_child_weight': 3, 'max_depth': 10, 'learning_rate': 0.01, 'gamma': 5, 'colsample_bytree': 0.5}\n",
      "-0.439 (+/-0.119) for {'subsample': 1.0, 'n_estimators': 1500, 'min_child_weight': 1, 'max_depth': 6, 'learning_rate': 0.01, 'gamma': 0, 'colsample_bytree': 0.5}\n",
      "-0.423 (+/-0.084) for {'subsample': 0.6, 'n_estimators': 1500, 'min_child_weight': 1, 'max_depth': 10, 'learning_rate': 0.01, 'gamma': 0, 'colsample_bytree': 0.7}\n",
      "-0.493 (+/-0.144) for {'subsample': 0.7, 'n_estimators': 500, 'min_child_weight': 3, 'max_depth': 10, 'learning_rate': 0.01, 'gamma': 5, 'colsample_bytree': 0.8}\n",
      "-0.480 (+/-0.132) for {'subsample': 0.7, 'n_estimators': 500, 'min_child_weight': 1, 'max_depth': 10, 'learning_rate': 0.1, 'gamma': 5, 'colsample_bytree': 1.0}\n",
      "-0.447 (+/-0.081) for {'subsample': 0.6, 'n_estimators': 1500, 'min_child_weight': 3, 'max_depth': 10, 'learning_rate': 0.1, 'gamma': 1, 'colsample_bytree': 1.0}\n",
      "-0.441 (+/-0.098) for {'subsample': 0.9, 'n_estimators': 500, 'min_child_weight': 5, 'max_depth': 6, 'learning_rate': 0.1, 'gamma': 1, 'colsample_bytree': 0.6}\n",
      "-0.490 (+/-0.142) for {'subsample': 0.7, 'n_estimators': 500, 'min_child_weight': 1, 'max_depth': 6, 'learning_rate': 0.1, 'gamma': 5, 'colsample_bytree': 1.0}\n",
      "-0.547 (+/-0.151) for {'subsample': 1.0, 'n_estimators': 1500, 'min_child_weight': 5, 'max_depth': 3, 'learning_rate': 0.01, 'gamma': 5, 'colsample_bytree': 0.9}\n",
      "-0.518 (+/-0.157) for {'subsample': 0.9, 'n_estimators': 500, 'min_child_weight': 1, 'max_depth': 3, 'learning_rate': 0.1, 'gamma': 5, 'colsample_bytree': 0.8}\n",
      "-0.467 (+/-0.132) for {'subsample': 0.6, 'n_estimators': 500, 'min_child_weight': 5, 'max_depth': 6, 'learning_rate': 0.01, 'gamma': 1, 'colsample_bytree': 0.7}\n",
      "-0.468 (+/-0.111) for {'subsample': 0.9, 'n_estimators': 1500, 'min_child_weight': 5, 'max_depth': 3, 'learning_rate': 0.1, 'gamma': 1, 'colsample_bytree': 1.0}\n",
      "-0.470 (+/-0.130) for {'subsample': 0.8, 'n_estimators': 1500, 'min_child_weight': 5, 'max_depth': 10, 'learning_rate': 0.1, 'gamma': 5, 'colsample_bytree': 0.9}\n",
      "-0.509 (+/-0.143) for {'subsample': 0.9, 'n_estimators': 1500, 'min_child_weight': 5, 'max_depth': 3, 'learning_rate': 0.1, 'gamma': 5, 'colsample_bytree': 0.8}\n",
      "-0.474 (+/-0.118) for {'subsample': 0.6, 'n_estimators': 1500, 'min_child_weight': 5, 'max_depth': 10, 'learning_rate': 0.1, 'gamma': 5, 'colsample_bytree': 0.8}\n",
      "-0.508 (+/-0.149) for {'subsample': 0.9, 'n_estimators': 1500, 'min_child_weight': 1, 'max_depth': 3, 'learning_rate': 0.1, 'gamma': 5, 'colsample_bytree': 0.7}\n",
      "-0.438 (+/-0.109) for {'subsample': 1.0, 'n_estimators': 1500, 'min_child_weight': 5, 'max_depth': 10, 'learning_rate': 0.01, 'gamma': 1, 'colsample_bytree': 0.8}\n",
      "-0.474 (+/-0.136) for {'subsample': 0.6, 'n_estimators': 500, 'min_child_weight': 3, 'max_depth': 3, 'learning_rate': 0.1, 'gamma': 1, 'colsample_bytree': 0.9}\n",
      "-0.468 (+/-0.113) for {'subsample': 0.7, 'n_estimators': 1500, 'min_child_weight': 3, 'max_depth': 3, 'learning_rate': 0.1, 'gamma': 0, 'colsample_bytree': 0.7}\n",
      "-0.431 (+/-0.101) for {'subsample': 1.0, 'n_estimators': 1500, 'min_child_weight': 1, 'max_depth': 10, 'learning_rate': 0.01, 'gamma': 1, 'colsample_bytree': 0.5}\n",
      "-0.454 (+/-0.083) for {'subsample': 0.7, 'n_estimators': 500, 'min_child_weight': 3, 'max_depth': 6, 'learning_rate': 0.1, 'gamma': 0, 'colsample_bytree': 1.0}\n",
      "-0.436 (+/-0.105) for {'subsample': 0.7, 'n_estimators': 500, 'min_child_weight': 3, 'max_depth': 10, 'learning_rate': 0.01, 'gamma': 1, 'colsample_bytree': 0.7}\n",
      "-0.446 (+/-0.085) for {'subsample': 0.9, 'n_estimators': 1500, 'min_child_weight': 3, 'max_depth': 10, 'learning_rate': 0.1, 'gamma': 1, 'colsample_bytree': 1.0}\n",
      "-0.447 (+/-0.097) for {'subsample': 0.7, 'n_estimators': 1500, 'min_child_weight': 1, 'max_depth': 6, 'learning_rate': 0.1, 'gamma': 1, 'colsample_bytree': 0.8}\n",
      "-0.468 (+/-0.136) for {'subsample': 1.0, 'n_estimators': 500, 'min_child_weight': 3, 'max_depth': 6, 'learning_rate': 0.01, 'gamma': 0, 'colsample_bytree': 0.5}\n",
      "-0.487 (+/-0.133) for {'subsample': 1.0, 'n_estimators': 500, 'min_child_weight': 1, 'max_depth': 10, 'learning_rate': 0.1, 'gamma': 5, 'colsample_bytree': 0.8}\n",
      "CPU times: user 1h 36min 50s, sys: 10.6 s, total: 1h 37min 1s\n",
      "Wall time: 16min 13s\n"
     ]
    }
   ],
   "source": [
    "%%time\n",
    "a,b,c,d,e = prepare_input(train_labels, train_maccs, target = 'logLD50_mmolkg', encoder = None)\n",
    "\n",
    "ld50_xgb_maccs = model_selection(xgb_reg, xgb_grid_parameters, a, c, scoring = 'neg_mean_squared_error', cv=5, GridSearch = False, n_iter=30, n_jobs=1)"
   ]
  },
  {
   "cell_type": "code",
   "execution_count": 85,
   "metadata": {},
   "outputs": [
    {
     "name": "stdout",
     "output_type": "stream",
     "text": [
      "Best parameters set found on development set: {'subsample': 1.0, 'n_estimators': 500, 'min_child_weight': 5, 'max_depth': 10, 'learning_rate': 0.1, 'gamma': 0, 'colsample_bytree': 0.6}\n",
      "Best score: -0.4815733590546198\n",
      "Grid scores on development set:\n",
      "\n",
      "-0.507 (+/-0.167) for {'subsample': 0.7, 'n_estimators': 1500, 'min_child_weight': 5, 'max_depth': 6, 'learning_rate': 0.01, 'gamma': 0, 'colsample_bytree': 0.8}\n",
      "-0.549 (+/-0.177) for {'subsample': 1.0, 'n_estimators': 1500, 'min_child_weight': 1, 'max_depth': 3, 'learning_rate': 0.1, 'gamma': 1, 'colsample_bytree': 1.0}\n",
      "-0.491 (+/-0.132) for {'subsample': 0.8, 'n_estimators': 1500, 'min_child_weight': 3, 'max_depth': 10, 'learning_rate': 0.1, 'gamma': 1, 'colsample_bytree': 0.8}\n",
      "-0.560 (+/-0.185) for {'subsample': 0.8, 'n_estimators': 1500, 'min_child_weight': 3, 'max_depth': 3, 'learning_rate': 0.01, 'gamma': 0, 'colsample_bytree': 1.0}\n",
      "-0.552 (+/-0.189) for {'subsample': 1.0, 'n_estimators': 500, 'min_child_weight': 3, 'max_depth': 10, 'learning_rate': 0.1, 'gamma': 5, 'colsample_bytree': 1.0}\n",
      "-0.539 (+/-0.171) for {'subsample': 1.0, 'n_estimators': 500, 'min_child_weight': 1, 'max_depth': 10, 'learning_rate': 0.1, 'gamma': 5, 'colsample_bytree': 0.8}\n",
      "-0.498 (+/-0.124) for {'subsample': 0.6, 'n_estimators': 1500, 'min_child_weight': 1, 'max_depth': 10, 'learning_rate': 0.1, 'gamma': 1, 'colsample_bytree': 0.8}\n",
      "-0.489 (+/-0.155) for {'subsample': 0.6, 'n_estimators': 1500, 'min_child_weight': 5, 'max_depth': 10, 'learning_rate': 0.01, 'gamma': 1, 'colsample_bytree': 0.7}\n",
      "-0.495 (+/-0.133) for {'subsample': 0.6, 'n_estimators': 500, 'min_child_weight': 5, 'max_depth': 10, 'learning_rate': 0.1, 'gamma': 0, 'colsample_bytree': 0.7}\n",
      "-0.482 (+/-0.121) for {'subsample': 1.0, 'n_estimators': 500, 'min_child_weight': 5, 'max_depth': 10, 'learning_rate': 0.1, 'gamma': 0, 'colsample_bytree': 0.6}\n",
      "-0.485 (+/-0.122) for {'subsample': 1.0, 'n_estimators': 1500, 'min_child_weight': 5, 'max_depth': 10, 'learning_rate': 0.1, 'gamma': 1, 'colsample_bytree': 0.7}\n",
      "-0.486 (+/-0.125) for {'subsample': 0.9, 'n_estimators': 1500, 'min_child_weight': 5, 'max_depth': 10, 'learning_rate': 0.1, 'gamma': 1, 'colsample_bytree': 0.8}\n",
      "-0.504 (+/-0.161) for {'subsample': 0.6, 'n_estimators': 1500, 'min_child_weight': 3, 'max_depth': 6, 'learning_rate': 0.01, 'gamma': 0, 'colsample_bytree': 0.9}\n",
      "-0.571 (+/-0.183) for {'subsample': 1.0, 'n_estimators': 1500, 'min_child_weight': 1, 'max_depth': 3, 'learning_rate': 0.01, 'gamma': 0, 'colsample_bytree': 0.6}\n",
      "-0.587 (+/-0.192) for {'subsample': 1.0, 'n_estimators': 1500, 'min_child_weight': 3, 'max_depth': 3, 'learning_rate': 0.01, 'gamma': 5, 'colsample_bytree': 0.7}\n",
      "-0.572 (+/-0.193) for {'subsample': 0.8, 'n_estimators': 1500, 'min_child_weight': 5, 'max_depth': 3, 'learning_rate': 0.01, 'gamma': 5, 'colsample_bytree': 0.9}\n",
      "-0.611 (+/-0.184) for {'subsample': 0.6, 'n_estimators': 500, 'min_child_weight': 1, 'max_depth': 3, 'learning_rate': 0.01, 'gamma': 0, 'colsample_bytree': 0.7}\n",
      "-0.534 (+/-0.147) for {'subsample': 0.8, 'n_estimators': 1500, 'min_child_weight': 3, 'max_depth': 3, 'learning_rate': 0.1, 'gamma': 0, 'colsample_bytree': 0.5}\n",
      "-0.488 (+/-0.111) for {'subsample': 0.9, 'n_estimators': 1500, 'min_child_weight': 1, 'max_depth': 10, 'learning_rate': 0.1, 'gamma': 1, 'colsample_bytree': 0.9}\n",
      "-0.503 (+/-0.119) for {'subsample': 0.6, 'n_estimators': 1500, 'min_child_weight': 3, 'max_depth': 6, 'learning_rate': 0.1, 'gamma': 1, 'colsample_bytree': 0.8}\n",
      "-0.618 (+/-0.192) for {'subsample': 0.8, 'n_estimators': 500, 'min_child_weight': 3, 'max_depth': 3, 'learning_rate': 0.01, 'gamma': 5, 'colsample_bytree': 0.5}\n",
      "-0.504 (+/-0.159) for {'subsample': 0.8, 'n_estimators': 500, 'min_child_weight': 3, 'max_depth': 10, 'learning_rate': 0.01, 'gamma': 0, 'colsample_bytree': 0.6}\n",
      "-0.529 (+/-0.167) for {'subsample': 0.8, 'n_estimators': 1500, 'min_child_weight': 3, 'max_depth': 10, 'learning_rate': 0.1, 'gamma': 5, 'colsample_bytree': 0.6}\n",
      "-0.494 (+/-0.128) for {'subsample': 0.7, 'n_estimators': 1500, 'min_child_weight': 5, 'max_depth': 10, 'learning_rate': 0.1, 'gamma': 1, 'colsample_bytree': 1.0}\n",
      "-0.515 (+/-0.154) for {'subsample': 1.0, 'n_estimators': 1500, 'min_child_weight': 3, 'max_depth': 6, 'learning_rate': 0.1, 'gamma': 0, 'colsample_bytree': 0.7}\n",
      "-0.520 (+/-0.165) for {'subsample': 0.6, 'n_estimators': 500, 'min_child_weight': 5, 'max_depth': 6, 'learning_rate': 0.1, 'gamma': 1, 'colsample_bytree': 0.9}\n",
      "-0.563 (+/-0.187) for {'subsample': 0.9, 'n_estimators': 500, 'min_child_weight': 1, 'max_depth': 6, 'learning_rate': 0.01, 'gamma': 5, 'colsample_bytree': 0.6}\n",
      "-0.520 (+/-0.163) for {'subsample': 1.0, 'n_estimators': 1500, 'min_child_weight': 1, 'max_depth': 6, 'learning_rate': 0.01, 'gamma': 0, 'colsample_bytree': 0.6}\n",
      "-0.496 (+/-0.132) for {'subsample': 0.6, 'n_estimators': 500, 'min_child_weight': 5, 'max_depth': 10, 'learning_rate': 0.1, 'gamma': 1, 'colsample_bytree': 1.0}\n",
      "-0.562 (+/-0.185) for {'subsample': 0.9, 'n_estimators': 1500, 'min_child_weight': 5, 'max_depth': 3, 'learning_rate': 0.01, 'gamma': 1, 'colsample_bytree': 0.7}\n",
      "CPU times: user 17h 34min 47s, sys: 53.6 s, total: 17h 35min 41s\n",
      "Wall time: 2h 58min 41s\n"
     ]
    }
   ],
   "source": [
    "%%time\n",
    "a,b,c,d,e = prepare_input(train_labels, train_ecfp6_counts, target = 'logLD50_mmolkg', encoder = None)\n",
    "\n",
    "ld50_xgb_ecfp6count = model_selection(xgb_reg, xgb_grid_parameters, a, c, scoring = 'neg_mean_squared_error', cv=5, GridSearch = False, n_iter=30, n_jobs=1)"
   ]
  },
  {
   "cell_type": "code",
   "execution_count": 86,
   "metadata": {},
   "outputs": [
    {
     "name": "stdout",
     "output_type": "stream",
     "text": [
      "Best parameters set found on development set: {'subsample': 1.0, 'n_estimators': 500, 'min_child_weight': 1, 'max_depth': 10, 'learning_rate': 0.01, 'gamma': 0, 'colsample_bytree': 0.5}\n",
      "Best score: -0.45077808405783387\n",
      "Grid scores on development set:\n",
      "\n",
      "-0.515 (+/-0.134) for {'subsample': 0.6, 'n_estimators': 1500, 'min_child_weight': 1, 'max_depth': 3, 'learning_rate': 0.01, 'gamma': 1, 'colsample_bytree': 0.6}\n",
      "-0.499 (+/-0.131) for {'subsample': 0.7, 'n_estimators': 500, 'min_child_weight': 1, 'max_depth': 3, 'learning_rate': 0.1, 'gamma': 0, 'colsample_bytree': 0.6}\n",
      "-0.490 (+/-0.138) for {'subsample': 0.8, 'n_estimators': 1500, 'min_child_weight': 3, 'max_depth': 10, 'learning_rate': 0.01, 'gamma': 5, 'colsample_bytree': 0.9}\n",
      "-0.463 (+/-0.110) for {'subsample': 0.9, 'n_estimators': 1500, 'min_child_weight': 5, 'max_depth': 10, 'learning_rate': 0.1, 'gamma': 0, 'colsample_bytree': 0.7}\n",
      "-0.472 (+/-0.129) for {'subsample': 0.9, 'n_estimators': 1500, 'min_child_weight': 1, 'max_depth': 6, 'learning_rate': 0.1, 'gamma': 0, 'colsample_bytree': 0.5}\n",
      "-0.476 (+/-0.117) for {'subsample': 0.8, 'n_estimators': 1500, 'min_child_weight': 5, 'max_depth': 6, 'learning_rate': 0.1, 'gamma': 0, 'colsample_bytree': 0.5}\n",
      "-0.458 (+/-0.121) for {'subsample': 0.6, 'n_estimators': 1500, 'min_child_weight': 5, 'max_depth': 6, 'learning_rate': 0.01, 'gamma': 0, 'colsample_bytree': 0.5}\n",
      "-0.469 (+/-0.125) for {'subsample': 1.0, 'n_estimators': 1500, 'min_child_weight': 5, 'max_depth': 10, 'learning_rate': 0.1, 'gamma': 1, 'colsample_bytree': 0.9}\n",
      "-0.472 (+/-0.124) for {'subsample': 0.7, 'n_estimators': 500, 'min_child_weight': 5, 'max_depth': 10, 'learning_rate': 0.1, 'gamma': 1, 'colsample_bytree': 0.8}\n",
      "-0.481 (+/-0.127) for {'subsample': 0.7, 'n_estimators': 500, 'min_child_weight': 1, 'max_depth': 6, 'learning_rate': 0.01, 'gamma': 0, 'colsample_bytree': 0.9}\n",
      "-0.462 (+/-0.115) for {'subsample': 0.9, 'n_estimators': 1500, 'min_child_weight': 1, 'max_depth': 6, 'learning_rate': 0.01, 'gamma': 1, 'colsample_bytree': 0.8}\n",
      "-0.507 (+/-0.142) for {'subsample': 0.7, 'n_estimators': 500, 'min_child_weight': 1, 'max_depth': 6, 'learning_rate': 0.01, 'gamma': 5, 'colsample_bytree': 0.9}\n",
      "-0.503 (+/-0.119) for {'subsample': 0.6, 'n_estimators': 500, 'min_child_weight': 1, 'max_depth': 3, 'learning_rate': 0.1, 'gamma': 0, 'colsample_bytree': 1.0}\n",
      "-0.498 (+/-0.123) for {'subsample': 0.7, 'n_estimators': 1500, 'min_child_weight': 3, 'max_depth': 3, 'learning_rate': 0.1, 'gamma': 1, 'colsample_bytree': 0.8}\n",
      "-0.472 (+/-0.119) for {'subsample': 0.7, 'n_estimators': 1500, 'min_child_weight': 5, 'max_depth': 10, 'learning_rate': 0.1, 'gamma': 1, 'colsample_bytree': 0.5}\n",
      "-0.472 (+/-0.128) for {'subsample': 1.0, 'n_estimators': 1500, 'min_child_weight': 3, 'max_depth': 10, 'learning_rate': 0.1, 'gamma': 1, 'colsample_bytree': 0.6}\n",
      "-0.516 (+/-0.139) for {'subsample': 0.8, 'n_estimators': 1500, 'min_child_weight': 3, 'max_depth': 3, 'learning_rate': 0.01, 'gamma': 1, 'colsample_bytree': 0.9}\n",
      "-0.495 (+/-0.139) for {'subsample': 0.9, 'n_estimators': 500, 'min_child_weight': 3, 'max_depth': 10, 'learning_rate': 0.01, 'gamma': 5, 'colsample_bytree': 0.6}\n",
      "-0.497 (+/-0.124) for {'subsample': 0.7, 'n_estimators': 500, 'min_child_weight': 3, 'max_depth': 6, 'learning_rate': 0.1, 'gamma': 5, 'colsample_bytree': 1.0}\n",
      "-0.526 (+/-0.141) for {'subsample': 0.6, 'n_estimators': 1500, 'min_child_weight': 1, 'max_depth': 3, 'learning_rate': 0.01, 'gamma': 5, 'colsample_bytree': 0.7}\n",
      "-0.464 (+/-0.119) for {'subsample': 0.9, 'n_estimators': 1500, 'min_child_weight': 3, 'max_depth': 6, 'learning_rate': 0.01, 'gamma': 0, 'colsample_bytree': 1.0}\n",
      "-0.481 (+/-0.128) for {'subsample': 0.9, 'n_estimators': 500, 'min_child_weight': 3, 'max_depth': 6, 'learning_rate': 0.01, 'gamma': 1, 'colsample_bytree': 0.5}\n",
      "-0.559 (+/-0.162) for {'subsample': 0.8, 'n_estimators': 500, 'min_child_weight': 5, 'max_depth': 3, 'learning_rate': 0.01, 'gamma': 0, 'colsample_bytree': 0.9}\n",
      "-0.516 (+/-0.126) for {'subsample': 0.6, 'n_estimators': 1500, 'min_child_weight': 3, 'max_depth': 3, 'learning_rate': 0.1, 'gamma': 5, 'colsample_bytree': 0.5}\n",
      "-0.455 (+/-0.131) for {'subsample': 0.7, 'n_estimators': 500, 'min_child_weight': 5, 'max_depth': 10, 'learning_rate': 0.01, 'gamma': 0, 'colsample_bytree': 0.9}\n",
      "-0.451 (+/-0.125) for {'subsample': 1.0, 'n_estimators': 500, 'min_child_weight': 1, 'max_depth': 10, 'learning_rate': 0.01, 'gamma': 0, 'colsample_bytree': 0.5}\n",
      "-0.563 (+/-0.165) for {'subsample': 0.9, 'n_estimators': 500, 'min_child_weight': 5, 'max_depth': 3, 'learning_rate': 0.01, 'gamma': 0, 'colsample_bytree': 0.5}\n",
      "-0.515 (+/-0.136) for {'subsample': 0.7, 'n_estimators': 1500, 'min_child_weight': 3, 'max_depth': 3, 'learning_rate': 0.01, 'gamma': 1, 'colsample_bytree': 0.8}\n",
      "-0.499 (+/-0.142) for {'subsample': 0.6, 'n_estimators': 500, 'min_child_weight': 1, 'max_depth': 10, 'learning_rate': 0.01, 'gamma': 5, 'colsample_bytree': 0.7}\n",
      "-0.468 (+/-0.122) for {'subsample': 1.0, 'n_estimators': 1500, 'min_child_weight': 1, 'max_depth': 10, 'learning_rate': 0.1, 'gamma': 1, 'colsample_bytree': 0.6}\n",
      "CPU times: user 1h 47min 36s, sys: 7.08 s, total: 1h 47min 44s\n",
      "Wall time: 18min 1s\n"
     ]
    }
   ],
   "source": [
    "%%time\n",
    "a,b,c,d,e = prepare_input(train_labels, train_rdkit2d, target = 'logLD50_mmolkg', encoder = None)\n",
    "\n",
    "ld50_xgb_rdkit2d = model_selection(xgb_reg, xgb_grid_parameters, a, c, scoring = 'neg_mean_squared_error', cv=5, GridSearch = False, n_iter=30, n_jobs=1)"
   ]
  },
  {
   "cell_type": "code",
   "execution_count": 87,
   "metadata": {},
   "outputs": [
    {
     "name": "stdout",
     "output_type": "stream",
     "text": [
      "Best parameters set found on development set: {'subsample': 0.9, 'n_estimators': 500, 'min_child_weight': 1, 'max_depth': 10, 'learning_rate': 0.01, 'gamma': 0, 'colsample_bytree': 0.8}\n",
      "Best score: -0.4365641335401894\n",
      "Grid scores on development set:\n",
      "\n",
      "-0.462 (+/-0.116) for {'subsample': 0.6, 'n_estimators': 1500, 'min_child_weight': 5, 'max_depth': 10, 'learning_rate': 0.1, 'gamma': 5, 'colsample_bytree': 0.5}\n",
      "-0.476 (+/-0.111) for {'subsample': 0.8, 'n_estimators': 1500, 'min_child_weight': 3, 'max_depth': 3, 'learning_rate': 0.01, 'gamma': 0, 'colsample_bytree': 0.5}\n",
      "-0.453 (+/-0.119) for {'subsample': 0.8, 'n_estimators': 500, 'min_child_weight': 5, 'max_depth': 6, 'learning_rate': 0.01, 'gamma': 0, 'colsample_bytree': 0.6}\n",
      "-0.474 (+/-0.105) for {'subsample': 0.8, 'n_estimators': 1500, 'min_child_weight': 5, 'max_depth': 3, 'learning_rate': 0.01, 'gamma': 0, 'colsample_bytree': 0.7}\n",
      "-0.455 (+/-0.111) for {'subsample': 0.8, 'n_estimators': 1500, 'min_child_weight': 1, 'max_depth': 10, 'learning_rate': 0.1, 'gamma': 1, 'colsample_bytree': 1.0}\n",
      "-0.473 (+/-0.127) for {'subsample': 0.7, 'n_estimators': 500, 'min_child_weight': 5, 'max_depth': 6, 'learning_rate': 0.01, 'gamma': 5, 'colsample_bytree': 1.0}\n",
      "-0.438 (+/-0.105) for {'subsample': 0.8, 'n_estimators': 1500, 'min_child_weight': 5, 'max_depth': 6, 'learning_rate': 0.1, 'gamma': 1, 'colsample_bytree': 0.8}\n",
      "-0.438 (+/-0.115) for {'subsample': 0.6, 'n_estimators': 500, 'min_child_weight': 3, 'max_depth': 10, 'learning_rate': 0.01, 'gamma': 0, 'colsample_bytree': 0.9}\n",
      "-0.523 (+/-0.137) for {'subsample': 0.8, 'n_estimators': 500, 'min_child_weight': 1, 'max_depth': 3, 'learning_rate': 0.01, 'gamma': 1, 'colsample_bytree': 0.8}\n",
      "-0.462 (+/-0.118) for {'subsample': 0.7, 'n_estimators': 1500, 'min_child_weight': 5, 'max_depth': 6, 'learning_rate': 0.01, 'gamma': 5, 'colsample_bytree': 0.7}\n",
      "-0.437 (+/-0.121) for {'subsample': 0.9, 'n_estimators': 500, 'min_child_weight': 1, 'max_depth': 10, 'learning_rate': 0.01, 'gamma': 0, 'colsample_bytree': 0.8}\n",
      "-0.454 (+/-0.118) for {'subsample': 0.8, 'n_estimators': 500, 'min_child_weight': 3, 'max_depth': 6, 'learning_rate': 0.01, 'gamma': 0, 'colsample_bytree': 0.7}\n",
      "-0.524 (+/-0.139) for {'subsample': 0.7, 'n_estimators': 500, 'min_child_weight': 1, 'max_depth': 3, 'learning_rate': 0.01, 'gamma': 5, 'colsample_bytree': 1.0}\n",
      "-0.457 (+/-0.118) for {'subsample': 0.8, 'n_estimators': 1500, 'min_child_weight': 3, 'max_depth': 10, 'learning_rate': 0.01, 'gamma': 5, 'colsample_bytree': 0.9}\n",
      "-0.452 (+/-0.113) for {'subsample': 0.9, 'n_estimators': 500, 'min_child_weight': 1, 'max_depth': 6, 'learning_rate': 0.01, 'gamma': 0, 'colsample_bytree': 0.5}\n",
      "-0.454 (+/-0.117) for {'subsample': 1.0, 'n_estimators': 500, 'min_child_weight': 3, 'max_depth': 10, 'learning_rate': 0.1, 'gamma': 1, 'colsample_bytree': 0.7}\n",
      "-0.444 (+/-0.110) for {'subsample': 1.0, 'n_estimators': 1500, 'min_child_weight': 3, 'max_depth': 6, 'learning_rate': 0.1, 'gamma': 0, 'colsample_bytree': 0.8}\n",
      "-0.457 (+/-0.102) for {'subsample': 0.6, 'n_estimators': 1500, 'min_child_weight': 3, 'max_depth': 3, 'learning_rate': 0.1, 'gamma': 1, 'colsample_bytree': 1.0}\n",
      "-0.486 (+/-0.114) for {'subsample': 0.9, 'n_estimators': 1500, 'min_child_weight': 1, 'max_depth': 3, 'learning_rate': 0.01, 'gamma': 5, 'colsample_bytree': 0.8}\n",
      "-0.458 (+/-0.122) for {'subsample': 0.6, 'n_estimators': 500, 'min_child_weight': 3, 'max_depth': 6, 'learning_rate': 0.01, 'gamma': 1, 'colsample_bytree': 0.9}\n",
      "-0.474 (+/-0.107) for {'subsample': 0.6, 'n_estimators': 1500, 'min_child_weight': 1, 'max_depth': 3, 'learning_rate': 0.01, 'gamma': 0, 'colsample_bytree': 0.7}\n",
      "-0.467 (+/-0.129) for {'subsample': 0.9, 'n_estimators': 500, 'min_child_weight': 5, 'max_depth': 10, 'learning_rate': 0.1, 'gamma': 5, 'colsample_bytree': 1.0}\n",
      "-0.454 (+/-0.114) for {'subsample': 0.7, 'n_estimators': 500, 'min_child_weight': 3, 'max_depth': 6, 'learning_rate': 0.01, 'gamma': 1, 'colsample_bytree': 0.6}\n",
      "-0.466 (+/-0.118) for {'subsample': 0.6, 'n_estimators': 1500, 'min_child_weight': 1, 'max_depth': 6, 'learning_rate': 0.01, 'gamma': 5, 'colsample_bytree': 0.5}\n",
      "-0.463 (+/-0.125) for {'subsample': 0.9, 'n_estimators': 500, 'min_child_weight': 5, 'max_depth': 10, 'learning_rate': 0.01, 'gamma': 5, 'colsample_bytree': 0.9}\n",
      "-0.459 (+/-0.104) for {'subsample': 0.8, 'n_estimators': 1500, 'min_child_weight': 1, 'max_depth': 3, 'learning_rate': 0.1, 'gamma': 0, 'colsample_bytree': 0.7}\n",
      "-0.445 (+/-0.116) for {'subsample': 0.9, 'n_estimators': 500, 'min_child_weight': 5, 'max_depth': 6, 'learning_rate': 0.1, 'gamma': 1, 'colsample_bytree': 1.0}\n",
      "-0.455 (+/-0.111) for {'subsample': 0.7, 'n_estimators': 500, 'min_child_weight': 5, 'max_depth': 6, 'learning_rate': 0.01, 'gamma': 1, 'colsample_bytree': 0.6}\n",
      "-0.458 (+/-0.093) for {'subsample': 0.9, 'n_estimators': 500, 'min_child_weight': 3, 'max_depth': 3, 'learning_rate': 0.1, 'gamma': 1, 'colsample_bytree': 0.6}\n",
      "-0.447 (+/-0.113) for {'subsample': 0.8, 'n_estimators': 500, 'min_child_weight': 3, 'max_depth': 6, 'learning_rate': 0.1, 'gamma': 1, 'colsample_bytree': 1.0}\n",
      "CPU times: user 5h 53min 44s, sys: 14.8 s, total: 5h 53min 59s\n",
      "Wall time: 59min 13s\n"
     ]
    }
   ],
   "source": [
    "%%time\n",
    "a,b,c,d,e = prepare_input(train_labels, train_mordred, target = 'logLD50_mmolkg', encoder = None)\n",
    "\n",
    "ld50_xgb_mordred = model_selection(xgb_reg, xgb_grid_parameters, a, c, scoring = 'neg_mean_squared_error', cv=5, GridSearch = False, n_iter=30, n_jobs=1)"
   ]
  },
  {
   "cell_type": "markdown",
   "metadata": {},
   "source": [
    "## Endpoint 2: toxic"
   ]
  },
  {
   "cell_type": "code",
   "execution_count": 88,
   "metadata": {},
   "outputs": [],
   "source": [
    "encoder_toxic = joblib.load('../data/label_encoders/encoder_toxic.joblib')"
   ]
  },
  {
   "cell_type": "code",
   "execution_count": 89,
   "metadata": {},
   "outputs": [
    {
     "name": "stdout",
     "output_type": "stream",
     "text": [
      "Best parameters set found on development set: {'subsample': 0.6, 'n_estimators': 1500, 'min_child_weight': 5, 'max_depth': 10, 'learning_rate': 0.01, 'gamma': 1, 'colsample_bytree': 0.9}\n",
      "Best score: 0.7755507035878748\n",
      "Grid scores on development set:\n",
      "\n",
      "0.759 (+/-0.055) for {'subsample': 0.9, 'n_estimators': 1500, 'min_child_weight': 3, 'max_depth': 6, 'learning_rate': 0.01, 'gamma': 5, 'colsample_bytree': 0.6}\n",
      "0.766 (+/-0.066) for {'subsample': 1.0, 'n_estimators': 500, 'min_child_weight': 1, 'max_depth': 10, 'learning_rate': 0.1, 'gamma': 0, 'colsample_bytree': 1.0}\n",
      "0.768 (+/-0.059) for {'subsample': 0.7, 'n_estimators': 500, 'min_child_weight': 3, 'max_depth': 10, 'learning_rate': 0.1, 'gamma': 0, 'colsample_bytree': 0.5}\n",
      "0.763 (+/-0.056) for {'subsample': 0.9, 'n_estimators': 1500, 'min_child_weight': 3, 'max_depth': 6, 'learning_rate': 0.01, 'gamma': 1, 'colsample_bytree': 0.6}\n",
      "0.765 (+/-0.059) for {'subsample': 0.9, 'n_estimators': 500, 'min_child_weight': 3, 'max_depth': 10, 'learning_rate': 0.1, 'gamma': 5, 'colsample_bytree': 0.8}\n",
      "0.770 (+/-0.056) for {'subsample': 0.8, 'n_estimators': 1500, 'min_child_weight': 5, 'max_depth': 10, 'learning_rate': 0.1, 'gamma': 5, 'colsample_bytree': 1.0}\n",
      "0.740 (+/-0.052) for {'subsample': 0.8, 'n_estimators': 1500, 'min_child_weight': 5, 'max_depth': 3, 'learning_rate': 0.01, 'gamma': 5, 'colsample_bytree': 1.0}\n",
      "0.772 (+/-0.058) for {'subsample': 0.6, 'n_estimators': 1500, 'min_child_weight': 1, 'max_depth': 6, 'learning_rate': 0.01, 'gamma': 1, 'colsample_bytree': 1.0}\n",
      "0.770 (+/-0.057) for {'subsample': 0.7, 'n_estimators': 1500, 'min_child_weight': 1, 'max_depth': 6, 'learning_rate': 0.01, 'gamma': 0, 'colsample_bytree': 1.0}\n",
      "0.751 (+/-0.054) for {'subsample': 0.6, 'n_estimators': 500, 'min_child_weight': 5, 'max_depth': 3, 'learning_rate': 0.1, 'gamma': 5, 'colsample_bytree': 0.8}\n",
      "0.761 (+/-0.061) for {'subsample': 1.0, 'n_estimators': 500, 'min_child_weight': 5, 'max_depth': 6, 'learning_rate': 0.1, 'gamma': 1, 'colsample_bytree': 0.7}\n",
      "0.753 (+/-0.049) for {'subsample': 1.0, 'n_estimators': 500, 'min_child_weight': 3, 'max_depth': 6, 'learning_rate': 0.1, 'gamma': 5, 'colsample_bytree': 1.0}\n",
      "0.744 (+/-0.053) for {'subsample': 0.8, 'n_estimators': 1500, 'min_child_weight': 3, 'max_depth': 3, 'learning_rate': 0.01, 'gamma': 1, 'colsample_bytree': 0.9}\n",
      "0.749 (+/-0.051) for {'subsample': 0.9, 'n_estimators': 500, 'min_child_weight': 5, 'max_depth': 3, 'learning_rate': 0.1, 'gamma': 5, 'colsample_bytree': 0.9}\n",
      "0.750 (+/-0.052) for {'subsample': 0.9, 'n_estimators': 500, 'min_child_weight': 3, 'max_depth': 6, 'learning_rate': 0.01, 'gamma': 0, 'colsample_bytree': 1.0}\n",
      "0.765 (+/-0.056) for {'subsample': 0.8, 'n_estimators': 500, 'min_child_weight': 3, 'max_depth': 10, 'learning_rate': 0.01, 'gamma': 5, 'colsample_bytree': 0.6}\n",
      "0.737 (+/-0.051) for {'subsample': 1.0, 'n_estimators': 1500, 'min_child_weight': 1, 'max_depth': 3, 'learning_rate': 0.01, 'gamma': 5, 'colsample_bytree': 0.5}\n",
      "0.758 (+/-0.049) for {'subsample': 0.8, 'n_estimators': 1500, 'min_child_weight': 1, 'max_depth': 3, 'learning_rate': 0.1, 'gamma': 5, 'colsample_bytree': 1.0}\n",
      "0.750 (+/-0.058) for {'subsample': 1.0, 'n_estimators': 500, 'min_child_weight': 1, 'max_depth': 3, 'learning_rate': 0.1, 'gamma': 1, 'colsample_bytree': 0.8}\n",
      "0.739 (+/-0.055) for {'subsample': 1.0, 'n_estimators': 1500, 'min_child_weight': 5, 'max_depth': 3, 'learning_rate': 0.01, 'gamma': 0, 'colsample_bytree': 0.7}\n",
      "0.773 (+/-0.056) for {'subsample': 0.9, 'n_estimators': 500, 'min_child_weight': 1, 'max_depth': 10, 'learning_rate': 0.01, 'gamma': 0, 'colsample_bytree': 0.7}\n",
      "0.761 (+/-0.056) for {'subsample': 0.6, 'n_estimators': 1500, 'min_child_weight': 5, 'max_depth': 6, 'learning_rate': 0.01, 'gamma': 5, 'colsample_bytree': 0.7}\n",
      "0.762 (+/-0.065) for {'subsample': 0.7, 'n_estimators': 500, 'min_child_weight': 3, 'max_depth': 6, 'learning_rate': 0.1, 'gamma': 1, 'colsample_bytree': 0.8}\n",
      "0.747 (+/-0.057) for {'subsample': 0.6, 'n_estimators': 1500, 'min_child_weight': 3, 'max_depth': 3, 'learning_rate': 0.01, 'gamma': 1, 'colsample_bytree': 0.8}\n",
      "0.740 (+/-0.052) for {'subsample': 0.8, 'n_estimators': 1500, 'min_child_weight': 5, 'max_depth': 3, 'learning_rate': 0.01, 'gamma': 5, 'colsample_bytree': 0.9}\n",
      "0.776 (+/-0.056) for {'subsample': 0.6, 'n_estimators': 1500, 'min_child_weight': 5, 'max_depth': 10, 'learning_rate': 0.01, 'gamma': 1, 'colsample_bytree': 0.9}\n",
      "0.763 (+/-0.051) for {'subsample': 0.9, 'n_estimators': 500, 'min_child_weight': 5, 'max_depth': 10, 'learning_rate': 0.01, 'gamma': 5, 'colsample_bytree': 0.8}\n",
      "0.767 (+/-0.065) for {'subsample': 1.0, 'n_estimators': 1500, 'min_child_weight': 1, 'max_depth': 10, 'learning_rate': 0.1, 'gamma': 1, 'colsample_bytree': 0.7}\n",
      "0.754 (+/-0.056) for {'subsample': 0.8, 'n_estimators': 500, 'min_child_weight': 5, 'max_depth': 3, 'learning_rate': 0.1, 'gamma': 0, 'colsample_bytree': 0.8}\n",
      "0.749 (+/-0.054) for {'subsample': 0.9, 'n_estimators': 500, 'min_child_weight': 3, 'max_depth': 6, 'learning_rate': 0.01, 'gamma': 5, 'colsample_bytree': 0.5}\n",
      "CPU times: user 18h 32min 26s, sys: 50.6 s, total: 18h 33min 17s\n",
      "Wall time: 3h 9min 10s\n"
     ]
    }
   ],
   "source": [
    "%%time\n",
    "a,b,c,d,e = prepare_input(train_labels, train_ecfp6_bits, target = 'toxic', encoder = encoder_toxic)\n",
    "\n",
    "t_xgb_ecfp6bits = model_selection(xgb_clf, xgb_grid_parameters, a, c, scoring = 'roc_auc', cv=5, GridSearch = False, n_iter=30,n_jobs=1)"
   ]
  },
  {
   "cell_type": "code",
   "execution_count": 90,
   "metadata": {},
   "outputs": [
    {
     "name": "stdout",
     "output_type": "stream",
     "text": [
      "Best parameters set found on development set: {'subsample': 0.6, 'n_estimators': 500, 'min_child_weight': 5, 'max_depth': 10, 'learning_rate': 0.01, 'gamma': 1, 'colsample_bytree': 0.8}\n",
      "Best score: 0.8157050296733598\n",
      "Grid scores on development set:\n",
      "\n",
      "0.797 (+/-0.078) for {'subsample': 1.0, 'n_estimators': 1500, 'min_child_weight': 1, 'max_depth': 10, 'learning_rate': 0.1, 'gamma': 0, 'colsample_bytree': 0.7}\n",
      "0.781 (+/-0.069) for {'subsample': 0.7, 'n_estimators': 500, 'min_child_weight': 5, 'max_depth': 3, 'learning_rate': 0.01, 'gamma': 1, 'colsample_bytree': 0.9}\n",
      "0.807 (+/-0.072) for {'subsample': 0.6, 'n_estimators': 500, 'min_child_weight': 5, 'max_depth': 10, 'learning_rate': 0.1, 'gamma': 5, 'colsample_bytree': 0.5}\n",
      "0.792 (+/-0.077) for {'subsample': 1.0, 'n_estimators': 1500, 'min_child_weight': 1, 'max_depth': 6, 'learning_rate': 0.1, 'gamma': 0, 'colsample_bytree': 0.7}\n",
      "0.811 (+/-0.077) for {'subsample': 1.0, 'n_estimators': 1500, 'min_child_weight': 3, 'max_depth': 10, 'learning_rate': 0.01, 'gamma': 0, 'colsample_bytree': 0.6}\n",
      "0.800 (+/-0.064) for {'subsample': 0.6, 'n_estimators': 500, 'min_child_weight': 5, 'max_depth': 3, 'learning_rate': 0.1, 'gamma': 5, 'colsample_bytree': 1.0}\n",
      "0.804 (+/-0.065) for {'subsample': 0.6, 'n_estimators': 500, 'min_child_weight': 5, 'max_depth': 6, 'learning_rate': 0.01, 'gamma': 5, 'colsample_bytree': 0.6}\n",
      "0.809 (+/-0.069) for {'subsample': 0.9, 'n_estimators': 500, 'min_child_weight': 1, 'max_depth': 6, 'learning_rate': 0.1, 'gamma': 5, 'colsample_bytree': 0.7}\n",
      "0.801 (+/-0.067) for {'subsample': 0.6, 'n_estimators': 500, 'min_child_weight': 5, 'max_depth': 3, 'learning_rate': 0.1, 'gamma': 1, 'colsample_bytree': 0.7}\n",
      "0.795 (+/-0.067) for {'subsample': 0.8, 'n_estimators': 1500, 'min_child_weight': 3, 'max_depth': 3, 'learning_rate': 0.01, 'gamma': 1, 'colsample_bytree': 0.9}\n",
      "0.815 (+/-0.065) for {'subsample': 0.6, 'n_estimators': 1500, 'min_child_weight': 5, 'max_depth': 6, 'learning_rate': 0.01, 'gamma': 0, 'colsample_bytree': 0.7}\n",
      "0.797 (+/-0.068) for {'subsample': 0.6, 'n_estimators': 1500, 'min_child_weight': 1, 'max_depth': 3, 'learning_rate': 0.01, 'gamma': 1, 'colsample_bytree': 0.6}\n",
      "0.799 (+/-0.065) for {'subsample': 0.8, 'n_estimators': 500, 'min_child_weight': 3, 'max_depth': 3, 'learning_rate': 0.1, 'gamma': 5, 'colsample_bytree': 0.5}\n",
      "0.803 (+/-0.071) for {'subsample': 0.8, 'n_estimators': 1500, 'min_child_weight': 1, 'max_depth': 10, 'learning_rate': 0.1, 'gamma': 1, 'colsample_bytree': 0.6}\n",
      "0.812 (+/-0.070) for {'subsample': 0.7, 'n_estimators': 500, 'min_child_weight': 1, 'max_depth': 6, 'learning_rate': 0.01, 'gamma': 1, 'colsample_bytree': 0.7}\n",
      "0.802 (+/-0.077) for {'subsample': 1.0, 'n_estimators': 500, 'min_child_weight': 1, 'max_depth': 10, 'learning_rate': 0.1, 'gamma': 1, 'colsample_bytree': 0.9}\n",
      "0.800 (+/-0.075) for {'subsample': 1.0, 'n_estimators': 1500, 'min_child_weight': 5, 'max_depth': 3, 'learning_rate': 0.1, 'gamma': 1, 'colsample_bytree': 0.6}\n",
      "0.815 (+/-0.068) for {'subsample': 0.6, 'n_estimators': 1500, 'min_child_weight': 1, 'max_depth': 10, 'learning_rate': 0.01, 'gamma': 5, 'colsample_bytree': 0.9}\n",
      "0.792 (+/-0.068) for {'subsample': 0.8, 'n_estimators': 1500, 'min_child_weight': 3, 'max_depth': 3, 'learning_rate': 0.01, 'gamma': 5, 'colsample_bytree': 0.8}\n",
      "0.815 (+/-0.070) for {'subsample': 0.6, 'n_estimators': 1500, 'min_child_weight': 3, 'max_depth': 10, 'learning_rate': 0.01, 'gamma': 1, 'colsample_bytree': 1.0}\n",
      "0.816 (+/-0.068) for {'subsample': 0.6, 'n_estimators': 500, 'min_child_weight': 5, 'max_depth': 10, 'learning_rate': 0.01, 'gamma': 1, 'colsample_bytree': 0.8}\n",
      "0.802 (+/-0.074) for {'subsample': 0.9, 'n_estimators': 1500, 'min_child_weight': 1, 'max_depth': 3, 'learning_rate': 0.1, 'gamma': 1, 'colsample_bytree': 0.8}\n",
      "0.802 (+/-0.069) for {'subsample': 0.8, 'n_estimators': 1500, 'min_child_weight': 3, 'max_depth': 6, 'learning_rate': 0.1, 'gamma': 1, 'colsample_bytree': 0.5}\n",
      "0.796 (+/-0.074) for {'subsample': 1.0, 'n_estimators': 1500, 'min_child_weight': 5, 'max_depth': 6, 'learning_rate': 0.1, 'gamma': 0, 'colsample_bytree': 0.7}\n",
      "0.796 (+/-0.073) for {'subsample': 1.0, 'n_estimators': 1500, 'min_child_weight': 3, 'max_depth': 3, 'learning_rate': 0.1, 'gamma': 1, 'colsample_bytree': 1.0}\n",
      "0.791 (+/-0.070) for {'subsample': 0.9, 'n_estimators': 1500, 'min_child_weight': 5, 'max_depth': 3, 'learning_rate': 0.01, 'gamma': 5, 'colsample_bytree': 0.5}\n",
      "0.805 (+/-0.067) for {'subsample': 0.6, 'n_estimators': 500, 'min_child_weight': 3, 'max_depth': 6, 'learning_rate': 0.01, 'gamma': 5, 'colsample_bytree': 0.6}\n",
      "0.806 (+/-0.070) for {'subsample': 0.7, 'n_estimators': 500, 'min_child_weight': 1, 'max_depth': 6, 'learning_rate': 0.01, 'gamma': 5, 'colsample_bytree': 0.8}\n",
      "0.791 (+/-0.069) for {'subsample': 0.8, 'n_estimators': 1500, 'min_child_weight': 3, 'max_depth': 3, 'learning_rate': 0.01, 'gamma': 5, 'colsample_bytree': 0.5}\n",
      "0.802 (+/-0.073) for {'subsample': 0.6, 'n_estimators': 1500, 'min_child_weight': 5, 'max_depth': 3, 'learning_rate': 0.1, 'gamma': 0, 'colsample_bytree': 0.8}\n",
      "CPU times: user 1h 38min 26s, sys: 7.21 s, total: 1h 38min 33s\n",
      "Wall time: 16min 30s\n"
     ]
    }
   ],
   "source": [
    "%%time\n",
    "a,b,c,d,e = prepare_input(train_labels, train_maccs, target = 'toxic', encoder = encoder_toxic)\n",
    "\n",
    "t_xgb_maccs = model_selection(xgb_clf, xgb_grid_parameters, a, c, scoring = 'roc_auc', cv=5, GridSearch = False, n_iter=30,n_jobs=1)"
   ]
  },
  {
   "cell_type": "code",
   "execution_count": 91,
   "metadata": {},
   "outputs": [
    {
     "name": "stdout",
     "output_type": "stream",
     "text": [
      "Best parameters set found on development set: {'subsample': 0.8, 'n_estimators': 1500, 'min_child_weight': 1, 'max_depth': 10, 'learning_rate': 0.01, 'gamma': 0, 'colsample_bytree': 0.6}\n",
      "Best score: 0.8354318675778982\n",
      "Grid scores on development set:\n",
      "\n",
      "0.814 (+/-0.062) for {'subsample': 0.7, 'n_estimators': 500, 'min_child_weight': 1, 'max_depth': 3, 'learning_rate': 0.1, 'gamma': 0, 'colsample_bytree': 0.8}\n",
      "0.820 (+/-0.061) for {'subsample': 0.9, 'n_estimators': 500, 'min_child_weight': 1, 'max_depth': 6, 'learning_rate': 0.1, 'gamma': 5, 'colsample_bytree': 1.0}\n",
      "0.822 (+/-0.060) for {'subsample': 0.6, 'n_estimators': 500, 'min_child_weight': 3, 'max_depth': 6, 'learning_rate': 0.01, 'gamma': 1, 'colsample_bytree': 0.7}\n",
      "0.819 (+/-0.061) for {'subsample': 0.8, 'n_estimators': 500, 'min_child_weight': 5, 'max_depth': 6, 'learning_rate': 0.01, 'gamma': 5, 'colsample_bytree': 1.0}\n",
      "0.831 (+/-0.060) for {'subsample': 0.6, 'n_estimators': 1500, 'min_child_weight': 1, 'max_depth': 6, 'learning_rate': 0.01, 'gamma': 0, 'colsample_bytree': 0.7}\n",
      "0.829 (+/-0.061) for {'subsample': 0.6, 'n_estimators': 1500, 'min_child_weight': 5, 'max_depth': 6, 'learning_rate': 0.01, 'gamma': 1, 'colsample_bytree': 0.9}\n",
      "0.818 (+/-0.057) for {'subsample': 0.7, 'n_estimators': 500, 'min_child_weight': 5, 'max_depth': 6, 'learning_rate': 0.1, 'gamma': 5, 'colsample_bytree': 0.8}\n",
      "0.810 (+/-0.059) for {'subsample': 0.7, 'n_estimators': 1500, 'min_child_weight': 1, 'max_depth': 3, 'learning_rate': 0.01, 'gamma': 5, 'colsample_bytree': 0.8}\n",
      "0.821 (+/-0.066) for {'subsample': 1.0, 'n_estimators': 500, 'min_child_weight': 3, 'max_depth': 10, 'learning_rate': 0.1, 'gamma': 5, 'colsample_bytree': 0.9}\n",
      "0.831 (+/-0.057) for {'subsample': 0.6, 'n_estimators': 500, 'min_child_weight': 5, 'max_depth': 10, 'learning_rate': 0.01, 'gamma': 1, 'colsample_bytree': 0.5}\n",
      "0.821 (+/-0.061) for {'subsample': 0.9, 'n_estimators': 500, 'min_child_weight': 3, 'max_depth': 10, 'learning_rate': 0.1, 'gamma': 5, 'colsample_bytree': 0.8}\n",
      "0.810 (+/-0.060) for {'subsample': 0.8, 'n_estimators': 1500, 'min_child_weight': 5, 'max_depth': 3, 'learning_rate': 0.01, 'gamma': 5, 'colsample_bytree': 1.0}\n",
      "0.801 (+/-0.061) for {'subsample': 1.0, 'n_estimators': 500, 'min_child_weight': 3, 'max_depth': 3, 'learning_rate': 0.1, 'gamma': 5, 'colsample_bytree': 1.0}\n",
      "0.818 (+/-0.062) for {'subsample': 0.9, 'n_estimators': 500, 'min_child_weight': 5, 'max_depth': 6, 'learning_rate': 0.1, 'gamma': 5, 'colsample_bytree': 0.8}\n",
      "0.813 (+/-0.057) for {'subsample': 0.8, 'n_estimators': 500, 'min_child_weight': 5, 'max_depth': 3, 'learning_rate': 0.1, 'gamma': 5, 'colsample_bytree': 0.8}\n",
      "0.810 (+/-0.059) for {'subsample': 1.0, 'n_estimators': 1500, 'min_child_weight': 3, 'max_depth': 3, 'learning_rate': 0.1, 'gamma': 5, 'colsample_bytree': 0.6}\n",
      "0.823 (+/-0.065) for {'subsample': 1.0, 'n_estimators': 1500, 'min_child_weight': 1, 'max_depth': 10, 'learning_rate': 0.1, 'gamma': 5, 'colsample_bytree': 0.5}\n",
      "0.781 (+/-0.070) for {'subsample': 1.0, 'n_estimators': 500, 'min_child_weight': 3, 'max_depth': 3, 'learning_rate': 0.01, 'gamma': 0, 'colsample_bytree': 1.0}\n",
      "0.789 (+/-0.060) for {'subsample': 0.6, 'n_estimators': 500, 'min_child_weight': 3, 'max_depth': 3, 'learning_rate': 0.01, 'gamma': 5, 'colsample_bytree': 0.6}\n",
      "0.819 (+/-0.065) for {'subsample': 0.8, 'n_estimators': 1500, 'min_child_weight': 1, 'max_depth': 6, 'learning_rate': 0.1, 'gamma': 0, 'colsample_bytree': 1.0}\n",
      "0.808 (+/-0.061) for {'subsample': 0.8, 'n_estimators': 1500, 'min_child_weight': 5, 'max_depth': 3, 'learning_rate': 0.1, 'gamma': 1, 'colsample_bytree': 1.0}\n",
      "0.813 (+/-0.066) for {'subsample': 0.6, 'n_estimators': 500, 'min_child_weight': 1, 'max_depth': 3, 'learning_rate': 0.1, 'gamma': 1, 'colsample_bytree': 0.5}\n",
      "0.835 (+/-0.060) for {'subsample': 0.8, 'n_estimators': 1500, 'min_child_weight': 1, 'max_depth': 10, 'learning_rate': 0.01, 'gamma': 0, 'colsample_bytree': 0.6}\n",
      "0.809 (+/-0.059) for {'subsample': 0.7, 'n_estimators': 1500, 'min_child_weight': 3, 'max_depth': 3, 'learning_rate': 0.01, 'gamma': 0, 'colsample_bytree': 0.5}\n",
      "0.811 (+/-0.059) for {'subsample': 0.6, 'n_estimators': 1500, 'min_child_weight': 1, 'max_depth': 3, 'learning_rate': 0.01, 'gamma': 1, 'colsample_bytree': 0.5}\n",
      "0.819 (+/-0.064) for {'subsample': 0.8, 'n_estimators': 500, 'min_child_weight': 3, 'max_depth': 6, 'learning_rate': 0.1, 'gamma': 5, 'colsample_bytree': 0.5}\n",
      "0.827 (+/-0.062) for {'subsample': 0.9, 'n_estimators': 500, 'min_child_weight': 3, 'max_depth': 10, 'learning_rate': 0.01, 'gamma': 5, 'colsample_bytree': 1.0}\n",
      "0.811 (+/-0.062) for {'subsample': 0.6, 'n_estimators': 1500, 'min_child_weight': 5, 'max_depth': 3, 'learning_rate': 0.01, 'gamma': 5, 'colsample_bytree': 1.0}\n",
      "0.809 (+/-0.064) for {'subsample': 0.9, 'n_estimators': 1500, 'min_child_weight': 1, 'max_depth': 3, 'learning_rate': 0.01, 'gamma': 1, 'colsample_bytree': 1.0}\n",
      "0.818 (+/-0.060) for {'subsample': 0.9, 'n_estimators': 500, 'min_child_weight': 3, 'max_depth': 6, 'learning_rate': 0.01, 'gamma': 5, 'colsample_bytree': 0.8}\n",
      "CPU times: user 1h 49min 8s, sys: 6.62 s, total: 1h 49min 15s\n",
      "Wall time: 18min 17s\n"
     ]
    }
   ],
   "source": [
    "%%time\n",
    "a,b,c,d,e = prepare_input(train_labels, train_rdkit2d, target = 'toxic', encoder = encoder_toxic)\n",
    "\n",
    "t_xgb_rdkit2d = model_selection(xgb_clf, xgb_grid_parameters, a, c, scoring = 'roc_auc', cv=5, GridSearch = False, n_iter=30,n_jobs=1)"
   ]
  },
  {
   "cell_type": "code",
   "execution_count": 92,
   "metadata": {},
   "outputs": [
    {
     "name": "stdout",
     "output_type": "stream",
     "text": [
      "Best parameters set found on development set: {'subsample': 1.0, 'n_estimators': 1500, 'min_child_weight': 3, 'max_depth': 10, 'learning_rate': 0.01, 'gamma': 0, 'colsample_bytree': 0.7}\n",
      "Best score: 0.8362956248572742\n",
      "Grid scores on development set:\n",
      "\n",
      "0.805 (+/-0.061) for {'subsample': 0.8, 'n_estimators': 500, 'min_child_weight': 1, 'max_depth': 3, 'learning_rate': 0.01, 'gamma': 1, 'colsample_bytree': 0.5}\n",
      "0.831 (+/-0.066) for {'subsample': 1.0, 'n_estimators': 1500, 'min_child_weight': 3, 'max_depth': 10, 'learning_rate': 0.01, 'gamma': 5, 'colsample_bytree': 0.8}\n",
      "0.812 (+/-0.064) for {'subsample': 1.0, 'n_estimators': 1500, 'min_child_weight': 5, 'max_depth': 3, 'learning_rate': 0.1, 'gamma': 0, 'colsample_bytree': 1.0}\n",
      "0.821 (+/-0.060) for {'subsample': 1.0, 'n_estimators': 500, 'min_child_weight': 3, 'max_depth': 6, 'learning_rate': 0.01, 'gamma': 1, 'colsample_bytree': 1.0}\n",
      "0.803 (+/-0.062) for {'subsample': 0.8, 'n_estimators': 500, 'min_child_weight': 3, 'max_depth': 3, 'learning_rate': 0.01, 'gamma': 1, 'colsample_bytree': 0.9}\n",
      "0.801 (+/-0.064) for {'subsample': 1.0, 'n_estimators': 500, 'min_child_weight': 5, 'max_depth': 3, 'learning_rate': 0.01, 'gamma': 5, 'colsample_bytree': 0.5}\n",
      "0.816 (+/-0.062) for {'subsample': 0.7, 'n_estimators': 500, 'min_child_weight': 1, 'max_depth': 3, 'learning_rate': 0.1, 'gamma': 1, 'colsample_bytree': 1.0}\n",
      "0.835 (+/-0.060) for {'subsample': 0.8, 'n_estimators': 1500, 'min_child_weight': 1, 'max_depth': 6, 'learning_rate': 0.01, 'gamma': 1, 'colsample_bytree': 0.5}\n",
      "0.836 (+/-0.062) for {'subsample': 1.0, 'n_estimators': 1500, 'min_child_weight': 3, 'max_depth': 10, 'learning_rate': 0.01, 'gamma': 0, 'colsample_bytree': 0.7}\n",
      "0.815 (+/-0.066) for {'subsample': 0.7, 'n_estimators': 500, 'min_child_weight': 5, 'max_depth': 3, 'learning_rate': 0.1, 'gamma': 1, 'colsample_bytree': 1.0}\n",
      "0.828 (+/-0.063) for {'subsample': 1.0, 'n_estimators': 500, 'min_child_weight': 1, 'max_depth': 10, 'learning_rate': 0.01, 'gamma': 0, 'colsample_bytree': 1.0}\n",
      "0.803 (+/-0.063) for {'subsample': 0.9, 'n_estimators': 500, 'min_child_weight': 3, 'max_depth': 3, 'learning_rate': 0.01, 'gamma': 5, 'colsample_bytree': 0.8}\n",
      "0.833 (+/-0.060) for {'subsample': 0.7, 'n_estimators': 500, 'min_child_weight': 5, 'max_depth': 10, 'learning_rate': 0.01, 'gamma': 0, 'colsample_bytree': 0.5}\n",
      "0.826 (+/-0.067) for {'subsample': 0.8, 'n_estimators': 500, 'min_child_weight': 5, 'max_depth': 10, 'learning_rate': 0.1, 'gamma': 1, 'colsample_bytree': 0.5}\n",
      "0.827 (+/-0.063) for {'subsample': 0.7, 'n_estimators': 500, 'min_child_weight': 3, 'max_depth': 10, 'learning_rate': 0.1, 'gamma': 1, 'colsample_bytree': 1.0}\n",
      "0.834 (+/-0.062) for {'subsample': 0.9, 'n_estimators': 500, 'min_child_weight': 5, 'max_depth': 10, 'learning_rate': 0.01, 'gamma': 0, 'colsample_bytree': 0.9}\n",
      "0.805 (+/-0.058) for {'subsample': 0.6, 'n_estimators': 500, 'min_child_weight': 5, 'max_depth': 3, 'learning_rate': 0.01, 'gamma': 5, 'colsample_bytree': 1.0}\n",
      "0.827 (+/-0.067) for {'subsample': 0.9, 'n_estimators': 500, 'min_child_weight': 3, 'max_depth': 6, 'learning_rate': 0.1, 'gamma': 1, 'colsample_bytree': 0.6}\n",
      "0.816 (+/-0.065) for {'subsample': 0.6, 'n_estimators': 1500, 'min_child_weight': 5, 'max_depth': 3, 'learning_rate': 0.1, 'gamma': 0, 'colsample_bytree': 0.8}\n",
      "0.825 (+/-0.062) for {'subsample': 0.6, 'n_estimators': 1500, 'min_child_weight': 5, 'max_depth': 10, 'learning_rate': 0.1, 'gamma': 0, 'colsample_bytree': 0.8}\n",
      "0.827 (+/-0.061) for {'subsample': 0.9, 'n_estimators': 500, 'min_child_weight': 3, 'max_depth': 6, 'learning_rate': 0.01, 'gamma': 1, 'colsample_bytree': 0.6}\n",
      "0.800 (+/-0.065) for {'subsample': 1.0, 'n_estimators': 500, 'min_child_weight': 3, 'max_depth': 3, 'learning_rate': 0.01, 'gamma': 5, 'colsample_bytree': 0.7}\n",
      "0.833 (+/-0.063) for {'subsample': 1.0, 'n_estimators': 1500, 'min_child_weight': 5, 'max_depth': 10, 'learning_rate': 0.01, 'gamma': 0, 'colsample_bytree': 0.9}\n",
      "0.826 (+/-0.067) for {'subsample': 0.6, 'n_estimators': 500, 'min_child_weight': 1, 'max_depth': 10, 'learning_rate': 0.1, 'gamma': 1, 'colsample_bytree': 0.9}\n",
      "0.819 (+/-0.061) for {'subsample': 0.9, 'n_estimators': 1500, 'min_child_weight': 3, 'max_depth': 3, 'learning_rate': 0.1, 'gamma': 1, 'colsample_bytree': 0.9}\n",
      "0.820 (+/-0.063) for {'subsample': 0.8, 'n_estimators': 1500, 'min_child_weight': 3, 'max_depth': 3, 'learning_rate': 0.1, 'gamma': 5, 'colsample_bytree': 0.8}\n",
      "0.827 (+/-0.061) for {'subsample': 0.9, 'n_estimators': 1500, 'min_child_weight': 3, 'max_depth': 6, 'learning_rate': 0.1, 'gamma': 0, 'colsample_bytree': 0.7}\n",
      "0.829 (+/-0.066) for {'subsample': 1.0, 'n_estimators': 500, 'min_child_weight': 5, 'max_depth': 10, 'learning_rate': 0.1, 'gamma': 0, 'colsample_bytree': 0.9}\n",
      "0.814 (+/-0.062) for {'subsample': 1.0, 'n_estimators': 1500, 'min_child_weight': 1, 'max_depth': 3, 'learning_rate': 0.01, 'gamma': 5, 'colsample_bytree': 0.6}\n",
      "0.816 (+/-0.063) for {'subsample': 0.8, 'n_estimators': 1500, 'min_child_weight': 3, 'max_depth': 3, 'learning_rate': 0.01, 'gamma': 1, 'colsample_bytree': 0.8}\n",
      "CPU times: user 7h 23min 39s, sys: 19.4 s, total: 7h 23min 58s\n",
      "Wall time: 1h 14min 18s\n"
     ]
    }
   ],
   "source": [
    "%%time\n",
    "a,b,c,d,e = prepare_input(train_labels, train_mordred, target = 'toxic', encoder = encoder_toxic)\n",
    "\n",
    "t_xgb_mordred = model_selection(xgb_clf, xgb_grid_parameters, a, c, scoring = 'roc_auc', cv=5, GridSearch = False, n_iter=30,n_jobs=1)"
   ]
  },
  {
   "cell_type": "code",
   "execution_count": 93,
   "metadata": {},
   "outputs": [
    {
     "name": "stdout",
     "output_type": "stream",
     "text": [
      "Best parameters set found on development set: {'subsample': 0.6, 'n_estimators': 1500, 'min_child_weight': 1, 'max_depth': 10, 'learning_rate': 0.01, 'gamma': 0, 'colsample_bytree': 0.7}\n",
      "Best score: 0.7909498211135538\n",
      "Grid scores on development set:\n",
      "\n",
      "0.777 (+/-0.057) for {'subsample': 1.0, 'n_estimators': 500, 'min_child_weight': 1, 'max_depth': 10, 'learning_rate': 0.01, 'gamma': 5, 'colsample_bytree': 0.7}\n",
      "0.762 (+/-0.059) for {'subsample': 0.8, 'n_estimators': 1500, 'min_child_weight': 1, 'max_depth': 3, 'learning_rate': 0.1, 'gamma': 5, 'colsample_bytree': 0.7}\n",
      "0.775 (+/-0.056) for {'subsample': 0.6, 'n_estimators': 500, 'min_child_weight': 5, 'max_depth': 10, 'learning_rate': 0.01, 'gamma': 5, 'colsample_bytree': 0.5}\n",
      "0.745 (+/-0.060) for {'subsample': 1.0, 'n_estimators': 1500, 'min_child_weight': 5, 'max_depth': 3, 'learning_rate': 0.01, 'gamma': 0, 'colsample_bytree': 1.0}\n",
      "0.771 (+/-0.064) for {'subsample': 0.9, 'n_estimators': 500, 'min_child_weight': 1, 'max_depth': 6, 'learning_rate': 0.1, 'gamma': 5, 'colsample_bytree': 0.5}\n",
      "0.774 (+/-0.064) for {'subsample': 0.6, 'n_estimators': 500, 'min_child_weight': 3, 'max_depth': 10, 'learning_rate': 0.1, 'gamma': 1, 'colsample_bytree': 0.7}\n",
      "0.726 (+/-0.063) for {'subsample': 1.0, 'n_estimators': 500, 'min_child_weight': 5, 'max_depth': 3, 'learning_rate': 0.01, 'gamma': 5, 'colsample_bytree': 0.5}\n",
      "0.771 (+/-0.058) for {'subsample': 0.7, 'n_estimators': 500, 'min_child_weight': 5, 'max_depth': 10, 'learning_rate': 0.1, 'gamma': 1, 'colsample_bytree': 0.6}\n",
      "0.787 (+/-0.060) for {'subsample': 0.6, 'n_estimators': 1500, 'min_child_weight': 3, 'max_depth': 10, 'learning_rate': 0.01, 'gamma': 0, 'colsample_bytree': 0.5}\n",
      "0.791 (+/-0.060) for {'subsample': 0.6, 'n_estimators': 1500, 'min_child_weight': 1, 'max_depth': 10, 'learning_rate': 0.01, 'gamma': 0, 'colsample_bytree': 0.7}\n",
      "0.767 (+/-0.062) for {'subsample': 1.0, 'n_estimators': 500, 'min_child_weight': 3, 'max_depth': 10, 'learning_rate': 0.1, 'gamma': 1, 'colsample_bytree': 0.7}\n",
      "0.748 (+/-0.061) for {'subsample': 1.0, 'n_estimators': 1500, 'min_child_weight': 3, 'max_depth': 3, 'learning_rate': 0.01, 'gamma': 1, 'colsample_bytree': 0.9}\n",
      "0.760 (+/-0.060) for {'subsample': 0.6, 'n_estimators': 500, 'min_child_weight': 3, 'max_depth': 3, 'learning_rate': 0.1, 'gamma': 5, 'colsample_bytree': 0.6}\n",
      "0.765 (+/-0.061) for {'subsample': 0.9, 'n_estimators': 500, 'min_child_weight': 1, 'max_depth': 6, 'learning_rate': 0.01, 'gamma': 0, 'colsample_bytree': 0.7}\n",
      "0.771 (+/-0.060) for {'subsample': 0.6, 'n_estimators': 1500, 'min_child_weight': 1, 'max_depth': 10, 'learning_rate': 0.1, 'gamma': 0, 'colsample_bytree': 0.8}\n",
      "0.781 (+/-0.061) for {'subsample': 0.8, 'n_estimators': 500, 'min_child_weight': 1, 'max_depth': 10, 'learning_rate': 0.1, 'gamma': 1, 'colsample_bytree': 0.9}\n",
      "0.765 (+/-0.059) for {'subsample': 0.9, 'n_estimators': 500, 'min_child_weight': 1, 'max_depth': 6, 'learning_rate': 0.01, 'gamma': 1, 'colsample_bytree': 0.7}\n",
      "0.771 (+/-0.066) for {'subsample': 0.9, 'n_estimators': 500, 'min_child_weight': 1, 'max_depth': 6, 'learning_rate': 0.1, 'gamma': 1, 'colsample_bytree': 0.6}\n",
      "0.777 (+/-0.058) for {'subsample': 1.0, 'n_estimators': 1500, 'min_child_weight': 3, 'max_depth': 10, 'learning_rate': 0.01, 'gamma': 1, 'colsample_bytree': 0.7}\n",
      "0.771 (+/-0.066) for {'subsample': 1.0, 'n_estimators': 500, 'min_child_weight': 5, 'max_depth': 10, 'learning_rate': 0.1, 'gamma': 0, 'colsample_bytree': 0.8}\n",
      "0.763 (+/-0.066) for {'subsample': 1.0, 'n_estimators': 1500, 'min_child_weight': 5, 'max_depth': 6, 'learning_rate': 0.1, 'gamma': 1, 'colsample_bytree': 0.9}\n",
      "0.781 (+/-0.061) for {'subsample': 0.7, 'n_estimators': 500, 'min_child_weight': 5, 'max_depth': 10, 'learning_rate': 0.01, 'gamma': 0, 'colsample_bytree': 0.6}\n",
      "0.760 (+/-0.060) for {'subsample': 0.8, 'n_estimators': 1500, 'min_child_weight': 3, 'max_depth': 6, 'learning_rate': 0.1, 'gamma': 1, 'colsample_bytree': 0.6}\n",
      "0.764 (+/-0.057) for {'subsample': 0.8, 'n_estimators': 500, 'min_child_weight': 1, 'max_depth': 6, 'learning_rate': 0.01, 'gamma': 5, 'colsample_bytree': 1.0}\n",
      "0.776 (+/-0.059) for {'subsample': 0.9, 'n_estimators': 500, 'min_child_weight': 5, 'max_depth': 10, 'learning_rate': 0.1, 'gamma': 0, 'colsample_bytree': 0.7}\n",
      "0.774 (+/-0.060) for {'subsample': 0.9, 'n_estimators': 1500, 'min_child_weight': 1, 'max_depth': 6, 'learning_rate': 0.01, 'gamma': 0, 'colsample_bytree': 0.5}\n",
      "0.771 (+/-0.058) for {'subsample': 0.7, 'n_estimators': 1500, 'min_child_weight': 5, 'max_depth': 6, 'learning_rate': 0.01, 'gamma': 5, 'colsample_bytree': 0.7}\n",
      "0.765 (+/-0.058) for {'subsample': 0.6, 'n_estimators': 500, 'min_child_weight': 3, 'max_depth': 3, 'learning_rate': 0.1, 'gamma': 0, 'colsample_bytree': 0.5}\n",
      "0.763 (+/-0.061) for {'subsample': 0.8, 'n_estimators': 500, 'min_child_weight': 5, 'max_depth': 6, 'learning_rate': 0.01, 'gamma': 1, 'colsample_bytree': 0.5}\n",
      "0.762 (+/-0.060) for {'subsample': 1.0, 'n_estimators': 1500, 'min_child_weight': 1, 'max_depth': 3, 'learning_rate': 0.1, 'gamma': 1, 'colsample_bytree': 0.9}\n",
      "CPU times: user 16h 42min 53s, sys: 1min 1s, total: 16h 43min 55s\n",
      "Wall time: 2h 50min 51s\n"
     ]
    }
   ],
   "source": [
    "%%time\n",
    "a,b,c,d,e = prepare_input(train_labels, train_ecfp6_counts, target = 'toxic', encoder = encoder_toxic)\n",
    "\n",
    "t_xgb_ecfp6count = model_selection(xgb_clf, xgb_grid_parameters, a, c, scoring = 'roc_auc', cv=5, GridSearch = False, n_iter=30,n_jobs=1)"
   ]
  },
  {
   "cell_type": "markdown",
   "metadata": {},
   "source": [
    "## Endpoint 3: EPA"
   ]
  },
  {
   "cell_type": "code",
   "execution_count": 94,
   "metadata": {},
   "outputs": [],
   "source": [
    "encoder_epa = joblib.load('../data/label_encoders/encoder_epa.joblib')"
   ]
  },
  {
   "cell_type": "code",
   "execution_count": 95,
   "metadata": {},
   "outputs": [
    {
     "name": "stdout",
     "output_type": "stream",
     "text": [
      "Best parameters set found on development set: {'subsample': 0.7, 'n_estimators': 500, 'min_child_weight': 1, 'max_depth': 10, 'learning_rate': 0.1, 'gamma': 1, 'colsample_bytree': 0.9}\n",
      "Best score: 0.5257901007118562\n",
      "Grid scores on development set:\n",
      "\n",
      "0.514 (+/-0.053) for {'subsample': 0.9, 'n_estimators': 1500, 'min_child_weight': 5, 'max_depth': 10, 'learning_rate': 0.1, 'gamma': 1, 'colsample_bytree': 0.5}\n",
      "0.492 (+/-0.058) for {'subsample': 0.9, 'n_estimators': 1500, 'min_child_weight': 5, 'max_depth': 10, 'learning_rate': 0.1, 'gamma': 5, 'colsample_bytree': 0.5}\n",
      "0.474 (+/-0.051) for {'subsample': 0.9, 'n_estimators': 1500, 'min_child_weight': 5, 'max_depth': 3, 'learning_rate': 0.01, 'gamma': 0, 'colsample_bytree': 0.9}\n",
      "0.468 (+/-0.051) for {'subsample': 0.7, 'n_estimators': 1500, 'min_child_weight': 1, 'max_depth': 6, 'learning_rate': 0.01, 'gamma': 5, 'colsample_bytree': 0.5}\n",
      "0.490 (+/-0.060) for {'subsample': 0.6, 'n_estimators': 500, 'min_child_weight': 5, 'max_depth': 10, 'learning_rate': 0.01, 'gamma': 1, 'colsample_bytree': 0.9}\n",
      "0.526 (+/-0.052) for {'subsample': 0.7, 'n_estimators': 500, 'min_child_weight': 1, 'max_depth': 10, 'learning_rate': 0.1, 'gamma': 1, 'colsample_bytree': 0.9}\n",
      "0.460 (+/-0.052) for {'subsample': 0.9, 'n_estimators': 500, 'min_child_weight': 5, 'max_depth': 3, 'learning_rate': 0.1, 'gamma': 5, 'colsample_bytree': 0.6}\n",
      "0.476 (+/-0.058) for {'subsample': 0.6, 'n_estimators': 500, 'min_child_weight': 1, 'max_depth': 6, 'learning_rate': 0.01, 'gamma': 1, 'colsample_bytree': 0.7}\n",
      "0.475 (+/-0.059) for {'subsample': 0.8, 'n_estimators': 500, 'min_child_weight': 1, 'max_depth': 6, 'learning_rate': 0.01, 'gamma': 1, 'colsample_bytree': 0.5}\n",
      "0.485 (+/-0.041) for {'subsample': 0.8, 'n_estimators': 500, 'min_child_weight': 1, 'max_depth': 6, 'learning_rate': 0.1, 'gamma': 5, 'colsample_bytree': 0.9}\n",
      "0.452 (+/-0.050) for {'subsample': 0.9, 'n_estimators': 1500, 'min_child_weight': 1, 'max_depth': 3, 'learning_rate': 0.01, 'gamma': 5, 'colsample_bytree': 1.0}\n",
      "0.471 (+/-0.056) for {'subsample': 0.9, 'n_estimators': 500, 'min_child_weight': 3, 'max_depth': 6, 'learning_rate': 0.01, 'gamma': 1, 'colsample_bytree': 0.8}\n",
      "0.426 (+/-0.046) for {'subsample': 0.6, 'n_estimators': 500, 'min_child_weight': 1, 'max_depth': 3, 'learning_rate': 0.01, 'gamma': 0, 'colsample_bytree': 0.9}\n",
      "0.516 (+/-0.050) for {'subsample': 0.7, 'n_estimators': 1500, 'min_child_weight': 1, 'max_depth': 10, 'learning_rate': 0.1, 'gamma': 1, 'colsample_bytree': 0.8}\n",
      "0.482 (+/-0.060) for {'subsample': 1.0, 'n_estimators': 500, 'min_child_weight': 3, 'max_depth': 10, 'learning_rate': 0.1, 'gamma': 5, 'colsample_bytree': 0.5}\n",
      "0.472 (+/-0.056) for {'subsample': 0.7, 'n_estimators': 500, 'min_child_weight': 3, 'max_depth': 6, 'learning_rate': 0.01, 'gamma': 0, 'colsample_bytree': 0.7}\n",
      "0.488 (+/-0.047) for {'subsample': 0.6, 'n_estimators': 500, 'min_child_weight': 1, 'max_depth': 6, 'learning_rate': 0.1, 'gamma': 5, 'colsample_bytree': 0.9}\n",
      "0.484 (+/-0.042) for {'subsample': 0.6, 'n_estimators': 1500, 'min_child_weight': 3, 'max_depth': 3, 'learning_rate': 0.1, 'gamma': 5, 'colsample_bytree': 0.9}\n",
      "0.476 (+/-0.056) for {'subsample': 0.6, 'n_estimators': 500, 'min_child_weight': 1, 'max_depth': 6, 'learning_rate': 0.01, 'gamma': 0, 'colsample_bytree': 0.6}\n",
      "0.465 (+/-0.058) for {'subsample': 0.8, 'n_estimators': 500, 'min_child_weight': 1, 'max_depth': 10, 'learning_rate': 0.01, 'gamma': 5, 'colsample_bytree': 0.5}\n",
      "0.517 (+/-0.044) for {'subsample': 0.6, 'n_estimators': 500, 'min_child_weight': 5, 'max_depth': 6, 'learning_rate': 0.1, 'gamma': 0, 'colsample_bytree': 1.0}\n",
      "0.496 (+/-0.051) for {'subsample': 0.7, 'n_estimators': 1500, 'min_child_weight': 3, 'max_depth': 10, 'learning_rate': 0.1, 'gamma': 5, 'colsample_bytree': 0.8}\n",
      "0.478 (+/-0.053) for {'subsample': 0.7, 'n_estimators': 1500, 'min_child_weight': 1, 'max_depth': 3, 'learning_rate': 0.01, 'gamma': 1, 'colsample_bytree': 0.9}\n",
      "0.462 (+/-0.054) for {'subsample': 1.0, 'n_estimators': 1500, 'min_child_weight': 5, 'max_depth': 10, 'learning_rate': 0.01, 'gamma': 5, 'colsample_bytree': 1.0}\n",
      "0.508 (+/-0.047) for {'subsample': 0.6, 'n_estimators': 1500, 'min_child_weight': 3, 'max_depth': 10, 'learning_rate': 0.1, 'gamma': 1, 'colsample_bytree': 1.0}\n",
      "0.513 (+/-0.046) for {'subsample': 0.8, 'n_estimators': 1500, 'min_child_weight': 5, 'max_depth': 10, 'learning_rate': 0.01, 'gamma': 1, 'colsample_bytree': 0.7}\n",
      "0.475 (+/-0.060) for {'subsample': 0.8, 'n_estimators': 500, 'min_child_weight': 1, 'max_depth': 6, 'learning_rate': 0.01, 'gamma': 0, 'colsample_bytree': 0.5}\n",
      "0.506 (+/-0.034) for {'subsample': 1.0, 'n_estimators': 1500, 'min_child_weight': 1, 'max_depth': 3, 'learning_rate': 0.1, 'gamma': 1, 'colsample_bytree': 0.9}\n",
      "0.514 (+/-0.041) for {'subsample': 0.7, 'n_estimators': 500, 'min_child_weight': 3, 'max_depth': 10, 'learning_rate': 0.1, 'gamma': 0, 'colsample_bytree': 0.8}\n",
      "0.506 (+/-0.049) for {'subsample': 0.6, 'n_estimators': 1500, 'min_child_weight': 5, 'max_depth': 6, 'learning_rate': 0.01, 'gamma': 1, 'colsample_bytree': 1.0}\n",
      "CPU times: user 3d 8h 17min 44s, sys: 2min 35s, total: 3d 8h 20min 20s\n",
      "Wall time: 13h 37min 36s\n"
     ]
    }
   ],
   "source": [
    "%%time\n",
    "a,b,c,d,e = prepare_input(train_labels, train_ecfp6_bits, target = 'EPA_category', encoder = encoder_epa)\n",
    "\n",
    "epa_xgb_ecfp6bits = model_selection(xgb_clf, xgb_grid_parameters, a, c, scoring = 'f1_weighted', cv=5, GridSearch = False, n_iter=30,n_jobs=1)"
   ]
  },
  {
   "cell_type": "code",
   "execution_count": 96,
   "metadata": {},
   "outputs": [
    {
     "name": "stdout",
     "output_type": "stream",
     "text": [
      "Best parameters set found on development set: {'subsample': 0.6, 'n_estimators': 1500, 'min_child_weight': 3, 'max_depth': 10, 'learning_rate': 0.01, 'gamma': 0, 'colsample_bytree': 0.5}\n",
      "Best score: 0.5425233859942723\n",
      "Grid scores on development set:\n",
      "\n",
      "0.526 (+/-0.027) for {'subsample': 0.7, 'n_estimators': 1500, 'min_child_weight': 5, 'max_depth': 10, 'learning_rate': 0.1, 'gamma': 0, 'colsample_bytree': 0.6}\n",
      "0.532 (+/-0.027) for {'subsample': 0.6, 'n_estimators': 500, 'min_child_weight': 5, 'max_depth': 10, 'learning_rate': 0.1, 'gamma': 1, 'colsample_bytree': 1.0}\n",
      "0.543 (+/-0.043) for {'subsample': 0.6, 'n_estimators': 1500, 'min_child_weight': 3, 'max_depth': 10, 'learning_rate': 0.01, 'gamma': 0, 'colsample_bytree': 0.5}\n",
      "0.507 (+/-0.037) for {'subsample': 0.7, 'n_estimators': 1500, 'min_child_weight': 1, 'max_depth': 10, 'learning_rate': 0.01, 'gamma': 5, 'colsample_bytree': 0.8}\n",
      "0.539 (+/-0.041) for {'subsample': 0.8, 'n_estimators': 1500, 'min_child_weight': 5, 'max_depth': 10, 'learning_rate': 0.01, 'gamma': 1, 'colsample_bytree': 0.5}\n",
      "0.449 (+/-0.054) for {'subsample': 0.7, 'n_estimators': 500, 'min_child_weight': 3, 'max_depth': 3, 'learning_rate': 0.01, 'gamma': 5, 'colsample_bytree': 0.5}\n",
      "0.452 (+/-0.057) for {'subsample': 0.9, 'n_estimators': 500, 'min_child_weight': 3, 'max_depth': 3, 'learning_rate': 0.01, 'gamma': 5, 'colsample_bytree': 0.7}\n",
      "0.535 (+/-0.039) for {'subsample': 0.8, 'n_estimators': 1500, 'min_child_weight': 1, 'max_depth': 6, 'learning_rate': 0.01, 'gamma': 0, 'colsample_bytree': 0.8}\n",
      "0.452 (+/-0.058) for {'subsample': 0.8, 'n_estimators': 500, 'min_child_weight': 3, 'max_depth': 3, 'learning_rate': 0.01, 'gamma': 5, 'colsample_bytree': 0.6}\n",
      "0.527 (+/-0.024) for {'subsample': 0.9, 'n_estimators': 1500, 'min_child_weight': 1, 'max_depth': 6, 'learning_rate': 0.1, 'gamma': 1, 'colsample_bytree': 0.5}\n",
      "0.531 (+/-0.029) for {'subsample': 1.0, 'n_estimators': 1500, 'min_child_weight': 5, 'max_depth': 10, 'learning_rate': 0.1, 'gamma': 1, 'colsample_bytree': 0.6}\n",
      "0.453 (+/-0.054) for {'subsample': 0.8, 'n_estimators': 500, 'min_child_weight': 1, 'max_depth': 3, 'learning_rate': 0.01, 'gamma': 5, 'colsample_bytree': 1.0}\n",
      "0.538 (+/-0.058) for {'subsample': 0.7, 'n_estimators': 500, 'min_child_weight': 3, 'max_depth': 10, 'learning_rate': 0.01, 'gamma': 1, 'colsample_bytree': 0.9}\n",
      "0.515 (+/-0.051) for {'subsample': 0.8, 'n_estimators': 1500, 'min_child_weight': 3, 'max_depth': 3, 'learning_rate': 0.1, 'gamma': 1, 'colsample_bytree': 0.7}\n",
      "0.484 (+/-0.029) for {'subsample': 0.8, 'n_estimators': 1500, 'min_child_weight': 3, 'max_depth': 3, 'learning_rate': 0.1, 'gamma': 5, 'colsample_bytree': 0.5}\n",
      "0.510 (+/-0.039) for {'subsample': 0.9, 'n_estimators': 1500, 'min_child_weight': 5, 'max_depth': 10, 'learning_rate': 0.01, 'gamma': 5, 'colsample_bytree': 0.8}\n",
      "0.508 (+/-0.047) for {'subsample': 0.9, 'n_estimators': 500, 'min_child_weight': 1, 'max_depth': 3, 'learning_rate': 0.1, 'gamma': 1, 'colsample_bytree': 0.9}\n",
      "0.535 (+/-0.052) for {'subsample': 0.8, 'n_estimators': 500, 'min_child_weight': 1, 'max_depth': 10, 'learning_rate': 0.01, 'gamma': 1, 'colsample_bytree': 1.0}\n",
      "0.516 (+/-0.037) for {'subsample': 0.6, 'n_estimators': 500, 'min_child_weight': 1, 'max_depth': 3, 'learning_rate': 0.1, 'gamma': 1, 'colsample_bytree': 0.6}\n",
      "0.533 (+/-0.024) for {'subsample': 1.0, 'n_estimators': 500, 'min_child_weight': 3, 'max_depth': 10, 'learning_rate': 0.1, 'gamma': 0, 'colsample_bytree': 0.6}\n",
      "0.527 (+/-0.022) for {'subsample': 0.6, 'n_estimators': 1500, 'min_child_weight': 5, 'max_depth': 10, 'learning_rate': 0.1, 'gamma': 1, 'colsample_bytree': 1.0}\n",
      "0.493 (+/-0.031) for {'subsample': 0.9, 'n_estimators': 1500, 'min_child_weight': 1, 'max_depth': 3, 'learning_rate': 0.01, 'gamma': 1, 'colsample_bytree': 0.6}\n",
      "0.498 (+/-0.036) for {'subsample': 0.9, 'n_estimators': 1500, 'min_child_weight': 1, 'max_depth': 6, 'learning_rate': 0.01, 'gamma': 5, 'colsample_bytree': 0.9}\n",
      "0.511 (+/-0.039) for {'subsample': 0.8, 'n_estimators': 1500, 'min_child_weight': 1, 'max_depth': 10, 'learning_rate': 0.1, 'gamma': 5, 'colsample_bytree': 0.6}\n",
      "0.472 (+/-0.037) for {'subsample': 0.9, 'n_estimators': 1500, 'min_child_weight': 1, 'max_depth': 3, 'learning_rate': 0.01, 'gamma': 5, 'colsample_bytree': 0.8}\n",
      "0.532 (+/-0.040) for {'subsample': 0.8, 'n_estimators': 1500, 'min_child_weight': 5, 'max_depth': 6, 'learning_rate': 0.01, 'gamma': 0, 'colsample_bytree': 0.5}\n",
      "0.518 (+/-0.037) for {'subsample': 1.0, 'n_estimators': 500, 'min_child_weight': 5, 'max_depth': 6, 'learning_rate': 0.1, 'gamma': 0, 'colsample_bytree': 0.8}\n",
      "0.518 (+/-0.041) for {'subsample': 0.6, 'n_estimators': 500, 'min_child_weight': 3, 'max_depth': 6, 'learning_rate': 0.01, 'gamma': 0, 'colsample_bytree': 0.9}\n",
      "0.519 (+/-0.047) for {'subsample': 0.6, 'n_estimators': 1500, 'min_child_weight': 5, 'max_depth': 3, 'learning_rate': 0.1, 'gamma': 0, 'colsample_bytree': 0.5}\n",
      "0.513 (+/-0.032) for {'subsample': 0.8, 'n_estimators': 500, 'min_child_weight': 3, 'max_depth': 10, 'learning_rate': 0.1, 'gamma': 5, 'colsample_bytree': 0.8}\n",
      "CPU times: user 7h 14min 31s, sys: 29.8 s, total: 7h 15min 1s\n",
      "Wall time: 1h 12min 46s\n"
     ]
    }
   ],
   "source": [
    "%%time\n",
    "a,b,c,d,e = prepare_input(train_labels, train_maccs, target = 'EPA_category', encoder = encoder_epa)\n",
    "\n",
    "epa_xgb_maccs = model_selection(xgb_clf, xgb_grid_parameters, a, c, scoring = 'f1_weighted', cv=5, GridSearch = False, n_iter=30,n_jobs=1)"
   ]
  },
  {
   "cell_type": "code",
   "execution_count": 97,
   "metadata": {},
   "outputs": [
    {
     "name": "stdout",
     "output_type": "stream",
     "text": [
      "Best parameters set found on development set: {'subsample': 0.8, 'n_estimators': 500, 'min_child_weight': 1, 'max_depth': 10, 'learning_rate': 0.1, 'gamma': 1, 'colsample_bytree': 1.0}\n",
      "Best score: 0.5237005463544709\n",
      "Grid scores on development set:\n",
      "\n",
      "0.500 (+/-0.057) for {'subsample': 0.8, 'n_estimators': 1500, 'min_child_weight': 1, 'max_depth': 10, 'learning_rate': 0.1, 'gamma': 5, 'colsample_bytree': 0.7}\n",
      "0.521 (+/-0.051) for {'subsample': 0.9, 'n_estimators': 1500, 'min_child_weight': 1, 'max_depth': 10, 'learning_rate': 0.1, 'gamma': 1, 'colsample_bytree': 0.5}\n",
      "0.514 (+/-0.041) for {'subsample': 0.7, 'n_estimators': 1500, 'min_child_weight': 5, 'max_depth': 3, 'learning_rate': 0.1, 'gamma': 0, 'colsample_bytree': 1.0}\n",
      "0.455 (+/-0.053) for {'subsample': 1.0, 'n_estimators': 1500, 'min_child_weight': 1, 'max_depth': 3, 'learning_rate': 0.01, 'gamma': 0, 'colsample_bytree': 0.7}\n",
      "0.453 (+/-0.053) for {'subsample': 1.0, 'n_estimators': 1500, 'min_child_weight': 1, 'max_depth': 3, 'learning_rate': 0.01, 'gamma': 1, 'colsample_bytree': 0.8}\n",
      "0.516 (+/-0.049) for {'subsample': 0.9, 'n_estimators': 1500, 'min_child_weight': 3, 'max_depth': 6, 'learning_rate': 0.1, 'gamma': 1, 'colsample_bytree': 0.6}\n",
      "0.510 (+/-0.047) for {'subsample': 0.9, 'n_estimators': 1500, 'min_child_weight': 5, 'max_depth': 3, 'learning_rate': 0.1, 'gamma': 0, 'colsample_bytree': 1.0}\n",
      "0.486 (+/-0.062) for {'subsample': 0.9, 'n_estimators': 1500, 'min_child_weight': 5, 'max_depth': 10, 'learning_rate': 0.1, 'gamma': 5, 'colsample_bytree': 1.0}\n",
      "0.470 (+/-0.054) for {'subsample': 0.7, 'n_estimators': 500, 'min_child_weight': 3, 'max_depth': 6, 'learning_rate': 0.01, 'gamma': 1, 'colsample_bytree': 0.6}\n",
      "0.470 (+/-0.055) for {'subsample': 0.7, 'n_estimators': 1500, 'min_child_weight': 1, 'max_depth': 3, 'learning_rate': 0.01, 'gamma': 1, 'colsample_bytree': 0.9}\n",
      "0.513 (+/-0.041) for {'subsample': 0.6, 'n_estimators': 1500, 'min_child_weight': 3, 'max_depth': 10, 'learning_rate': 0.1, 'gamma': 0, 'colsample_bytree': 1.0}\n",
      "0.464 (+/-0.051) for {'subsample': 0.9, 'n_estimators': 1500, 'min_child_weight': 3, 'max_depth': 3, 'learning_rate': 0.01, 'gamma': 1, 'colsample_bytree': 0.8}\n",
      "0.477 (+/-0.054) for {'subsample': 0.8, 'n_estimators': 500, 'min_child_weight': 1, 'max_depth': 6, 'learning_rate': 0.01, 'gamma': 1, 'colsample_bytree': 0.8}\n",
      "0.465 (+/-0.052) for {'subsample': 0.6, 'n_estimators': 500, 'min_child_weight': 1, 'max_depth': 10, 'learning_rate': 0.01, 'gamma': 5, 'colsample_bytree': 0.8}\n",
      "0.454 (+/-0.056) for {'subsample': 0.8, 'n_estimators': 1500, 'min_child_weight': 1, 'max_depth': 3, 'learning_rate': 0.01, 'gamma': 5, 'colsample_bytree': 0.5}\n",
      "0.481 (+/-0.048) for {'subsample': 0.7, 'n_estimators': 1500, 'min_child_weight': 5, 'max_depth': 3, 'learning_rate': 0.1, 'gamma': 5, 'colsample_bytree': 0.8}\n",
      "0.507 (+/-0.038) for {'subsample': 1.0, 'n_estimators': 500, 'min_child_weight': 5, 'max_depth': 6, 'learning_rate': 0.1, 'gamma': 0, 'colsample_bytree': 0.9}\n",
      "0.512 (+/-0.047) for {'subsample': 0.9, 'n_estimators': 1500, 'min_child_weight': 3, 'max_depth': 10, 'learning_rate': 0.01, 'gamma': 0, 'colsample_bytree': 0.5}\n",
      "0.490 (+/-0.047) for {'subsample': 0.7, 'n_estimators': 1500, 'min_child_weight': 5, 'max_depth': 6, 'learning_rate': 0.1, 'gamma': 5, 'colsample_bytree': 0.9}\n",
      "0.504 (+/-0.052) for {'subsample': 0.7, 'n_estimators': 1500, 'min_child_weight': 3, 'max_depth': 6, 'learning_rate': 0.01, 'gamma': 0, 'colsample_bytree': 0.7}\n",
      "0.517 (+/-0.051) for {'subsample': 0.8, 'n_estimators': 500, 'min_child_weight': 3, 'max_depth': 6, 'learning_rate': 0.1, 'gamma': 1, 'colsample_bytree': 0.8}\n",
      "0.457 (+/-0.057) for {'subsample': 0.8, 'n_estimators': 500, 'min_child_weight': 3, 'max_depth': 6, 'learning_rate': 0.01, 'gamma': 5, 'colsample_bytree': 0.9}\n",
      "0.517 (+/-0.040) for {'subsample': 0.6, 'n_estimators': 500, 'min_child_weight': 5, 'max_depth': 6, 'learning_rate': 0.1, 'gamma': 0, 'colsample_bytree': 0.7}\n",
      "0.477 (+/-0.052) for {'subsample': 0.7, 'n_estimators': 500, 'min_child_weight': 3, 'max_depth': 6, 'learning_rate': 0.1, 'gamma': 5, 'colsample_bytree': 0.5}\n",
      "0.524 (+/-0.042) for {'subsample': 0.8, 'n_estimators': 500, 'min_child_weight': 1, 'max_depth': 10, 'learning_rate': 0.1, 'gamma': 1, 'colsample_bytree': 1.0}\n",
      "0.512 (+/-0.038) for {'subsample': 0.9, 'n_estimators': 500, 'min_child_weight': 5, 'max_depth': 6, 'learning_rate': 0.1, 'gamma': 1, 'colsample_bytree': 0.8}\n",
      "0.449 (+/-0.053) for {'subsample': 0.6, 'n_estimators': 500, 'min_child_weight': 5, 'max_depth': 6, 'learning_rate': 0.01, 'gamma': 5, 'colsample_bytree': 0.9}\n",
      "0.519 (+/-0.048) for {'subsample': 0.7, 'n_estimators': 500, 'min_child_weight': 3, 'max_depth': 6, 'learning_rate': 0.1, 'gamma': 0, 'colsample_bytree': 0.7}\n",
      "0.504 (+/-0.048) for {'subsample': 0.8, 'n_estimators': 500, 'min_child_weight': 3, 'max_depth': 3, 'learning_rate': 0.1, 'gamma': 1, 'colsample_bytree': 0.5}\n",
      "0.486 (+/-0.063) for {'subsample': 0.9, 'n_estimators': 500, 'min_child_weight': 5, 'max_depth': 10, 'learning_rate': 0.01, 'gamma': 0, 'colsample_bytree': 0.7}\n",
      "CPU times: user 3d 55min 8s, sys: 1min 45s, total: 3d 56min 54s\n",
      "Wall time: 12h 24min 2s\n"
     ]
    }
   ],
   "source": [
    "%%time\n",
    "a,b,c,d,e = prepare_input(train_labels, train_ecfp6_counts, target = 'EPA_category', encoder = encoder_epa)\n",
    "\n",
    "epa_xgb_ecfp6count = model_selection(xgb_clf, xgb_grid_parameters, a, c, scoring = 'f1_weighted', cv=5, GridSearch = False, n_iter=30,n_jobs=1)"
   ]
  },
  {
   "cell_type": "code",
   "execution_count": 98,
   "metadata": {},
   "outputs": [
    {
     "name": "stdout",
     "output_type": "stream",
     "text": [
      "Best parameters set found on development set: {'subsample': 0.6, 'n_estimators': 1500, 'min_child_weight': 1, 'max_depth': 10, 'learning_rate': 0.01, 'gamma': 0, 'colsample_bytree': 0.8}\n",
      "Best score: 0.5529601386031521\n",
      "Grid scores on development set:\n",
      "\n",
      "0.545 (+/-0.057) for {'subsample': 1.0, 'n_estimators': 1500, 'min_child_weight': 3, 'max_depth': 6, 'learning_rate': 0.1, 'gamma': 1, 'colsample_bytree': 0.6}\n",
      "0.543 (+/-0.046) for {'subsample': 0.6, 'n_estimators': 1500, 'min_child_weight': 5, 'max_depth': 10, 'learning_rate': 0.1, 'gamma': 1, 'colsample_bytree': 0.9}\n",
      "0.546 (+/-0.052) for {'subsample': 0.9, 'n_estimators': 1500, 'min_child_weight': 1, 'max_depth': 6, 'learning_rate': 0.1, 'gamma': 0, 'colsample_bytree': 0.8}\n",
      "0.508 (+/-0.053) for {'subsample': 0.6, 'n_estimators': 1500, 'min_child_weight': 1, 'max_depth': 3, 'learning_rate': 0.01, 'gamma': 1, 'colsample_bytree': 0.6}\n",
      "0.546 (+/-0.055) for {'subsample': 0.6, 'n_estimators': 1500, 'min_child_weight': 5, 'max_depth': 6, 'learning_rate': 0.01, 'gamma': 1, 'colsample_bytree': 0.5}\n",
      "0.548 (+/-0.058) for {'subsample': 0.8, 'n_estimators': 1500, 'min_child_weight': 3, 'max_depth': 6, 'learning_rate': 0.1, 'gamma': 1, 'colsample_bytree': 0.7}\n",
      "0.547 (+/-0.054) for {'subsample': 0.8, 'n_estimators': 500, 'min_child_weight': 1, 'max_depth': 10, 'learning_rate': 0.01, 'gamma': 0, 'colsample_bytree': 0.6}\n",
      "0.545 (+/-0.044) for {'subsample': 1.0, 'n_estimators': 1500, 'min_child_weight': 1, 'max_depth': 10, 'learning_rate': 0.1, 'gamma': 1, 'colsample_bytree': 0.9}\n",
      "0.547 (+/-0.063) for {'subsample': 0.6, 'n_estimators': 1500, 'min_child_weight': 3, 'max_depth': 10, 'learning_rate': 0.1, 'gamma': 0, 'colsample_bytree': 0.9}\n",
      "0.543 (+/-0.048) for {'subsample': 0.9, 'n_estimators': 1500, 'min_child_weight': 5, 'max_depth': 10, 'learning_rate': 0.1, 'gamma': 1, 'colsample_bytree': 1.0}\n",
      "0.542 (+/-0.039) for {'subsample': 1.0, 'n_estimators': 500, 'min_child_weight': 5, 'max_depth': 10, 'learning_rate': 0.01, 'gamma': 0, 'colsample_bytree': 0.6}\n",
      "0.508 (+/-0.046) for {'subsample': 0.8, 'n_estimators': 500, 'min_child_weight': 3, 'max_depth': 3, 'learning_rate': 0.1, 'gamma': 5, 'colsample_bytree': 0.5}\n",
      "0.553 (+/-0.054) for {'subsample': 0.6, 'n_estimators': 1500, 'min_child_weight': 1, 'max_depth': 10, 'learning_rate': 0.01, 'gamma': 0, 'colsample_bytree': 0.8}\n",
      "0.545 (+/-0.042) for {'subsample': 0.7, 'n_estimators': 500, 'min_child_weight': 5, 'max_depth': 10, 'learning_rate': 0.1, 'gamma': 1, 'colsample_bytree': 0.6}\n",
      "0.536 (+/-0.055) for {'subsample': 0.8, 'n_estimators': 500, 'min_child_weight': 5, 'max_depth': 3, 'learning_rate': 0.1, 'gamma': 1, 'colsample_bytree': 0.6}\n",
      "0.522 (+/-0.052) for {'subsample': 0.6, 'n_estimators': 1500, 'min_child_weight': 1, 'max_depth': 6, 'learning_rate': 0.01, 'gamma': 5, 'colsample_bytree': 1.0}\n",
      "0.524 (+/-0.051) for {'subsample': 1.0, 'n_estimators': 1500, 'min_child_weight': 1, 'max_depth': 6, 'learning_rate': 0.1, 'gamma': 5, 'colsample_bytree': 0.6}\n",
      "0.547 (+/-0.044) for {'subsample': 1.0, 'n_estimators': 1500, 'min_child_weight': 1, 'max_depth': 10, 'learning_rate': 0.01, 'gamma': 0, 'colsample_bytree': 0.8}\n",
      "0.472 (+/-0.032) for {'subsample': 1.0, 'n_estimators': 1500, 'min_child_weight': 5, 'max_depth': 3, 'learning_rate': 0.01, 'gamma': 5, 'colsample_bytree': 0.7}\n",
      "0.522 (+/-0.053) for {'subsample': 0.6, 'n_estimators': 500, 'min_child_weight': 1, 'max_depth': 6, 'learning_rate': 0.01, 'gamma': 0, 'colsample_bytree': 0.6}\n",
      "0.544 (+/-0.044) for {'subsample': 0.8, 'n_estimators': 1500, 'min_child_weight': 3, 'max_depth': 10, 'learning_rate': 0.1, 'gamma': 1, 'colsample_bytree': 0.8}\n",
      "0.537 (+/-0.045) for {'subsample': 1.0, 'n_estimators': 1500, 'min_child_weight': 3, 'max_depth': 3, 'learning_rate': 0.1, 'gamma': 0, 'colsample_bytree': 1.0}\n",
      "0.537 (+/-0.048) for {'subsample': 0.6, 'n_estimators': 500, 'min_child_weight': 5, 'max_depth': 3, 'learning_rate': 0.1, 'gamma': 1, 'colsample_bytree': 0.5}\n",
      "0.531 (+/-0.035) for {'subsample': 1.0, 'n_estimators': 500, 'min_child_weight': 3, 'max_depth': 3, 'learning_rate': 0.1, 'gamma': 1, 'colsample_bytree': 0.5}\n",
      "0.509 (+/-0.051) for {'subsample': 0.6, 'n_estimators': 1500, 'min_child_weight': 5, 'max_depth': 3, 'learning_rate': 0.01, 'gamma': 1, 'colsample_bytree': 0.6}\n",
      "0.496 (+/-0.044) for {'subsample': 0.7, 'n_estimators': 1500, 'min_child_weight': 3, 'max_depth': 3, 'learning_rate': 0.01, 'gamma': 5, 'colsample_bytree': 0.8}\n",
      "0.513 (+/-0.056) for {'subsample': 0.8, 'n_estimators': 500, 'min_child_weight': 5, 'max_depth': 3, 'learning_rate': 0.1, 'gamma': 5, 'colsample_bytree': 0.6}\n",
      "0.535 (+/-0.043) for {'subsample': 0.6, 'n_estimators': 1500, 'min_child_weight': 3, 'max_depth': 10, 'learning_rate': 0.1, 'gamma': 1, 'colsample_bytree': 0.9}\n",
      "0.545 (+/-0.044) for {'subsample': 0.6, 'n_estimators': 1500, 'min_child_weight': 1, 'max_depth': 6, 'learning_rate': 0.01, 'gamma': 1, 'colsample_bytree': 0.9}\n",
      "0.544 (+/-0.053) for {'subsample': 0.8, 'n_estimators': 1500, 'min_child_weight': 5, 'max_depth': 6, 'learning_rate': 0.01, 'gamma': 1, 'colsample_bytree': 0.7}\n",
      "CPU times: user 11h 28min 11s, sys: 30.2 s, total: 11h 28min 41s\n",
      "Wall time: 1h 55min 8s\n"
     ]
    }
   ],
   "source": [
    "%%time\n",
    "a,b,c,d,e = prepare_input(train_labels, train_rdkit2d, target = 'EPA_category', encoder = encoder_epa)\n",
    "\n",
    "epa_xgb_rdkit2d = model_selection(xgb_clf, xgb_grid_parameters, a, c, scoring = 'f1_weighted', cv=5, GridSearch = False, n_iter=30,n_jobs=1)"
   ]
  },
  {
   "cell_type": "code",
   "execution_count": 99,
   "metadata": {},
   "outputs": [
    {
     "name": "stdout",
     "output_type": "stream",
     "text": [
      "Best parameters set found on development set: {'subsample': 0.8, 'n_estimators': 1500, 'min_child_weight': 3, 'max_depth': 6, 'learning_rate': 0.1, 'gamma': 5, 'colsample_bytree': 0.8}\n",
      "Best score: 0.5497431119851961\n",
      "Grid scores on development set:\n",
      "\n",
      "0.544 (+/-0.054) for {'subsample': 0.8, 'n_estimators': 1500, 'min_child_weight': 1, 'max_depth': 6, 'learning_rate': 0.1, 'gamma': 0, 'colsample_bytree': 0.6}\n",
      "0.521 (+/-0.068) for {'subsample': 0.8, 'n_estimators': 1500, 'min_child_weight': 3, 'max_depth': 3, 'learning_rate': 0.01, 'gamma': 5, 'colsample_bytree': 0.8}\n",
      "0.532 (+/-0.054) for {'subsample': 0.6, 'n_estimators': 500, 'min_child_weight': 5, 'max_depth': 3, 'learning_rate': 0.1, 'gamma': 5, 'colsample_bytree': 0.8}\n",
      "0.539 (+/-0.073) for {'subsample': 0.7, 'n_estimators': 500, 'min_child_weight': 5, 'max_depth': 10, 'learning_rate': 0.01, 'gamma': 5, 'colsample_bytree': 0.8}\n",
      "0.541 (+/-0.057) for {'subsample': 0.7, 'n_estimators': 1500, 'min_child_weight': 5, 'max_depth': 10, 'learning_rate': 0.1, 'gamma': 1, 'colsample_bytree': 0.7}\n",
      "0.532 (+/-0.063) for {'subsample': 1.0, 'n_estimators': 500, 'min_child_weight': 3, 'max_depth': 6, 'learning_rate': 0.01, 'gamma': 0, 'colsample_bytree': 1.0}\n",
      "0.544 (+/-0.056) for {'subsample': 0.9, 'n_estimators': 500, 'min_child_weight': 3, 'max_depth': 10, 'learning_rate': 0.1, 'gamma': 0, 'colsample_bytree': 0.6}\n",
      "0.537 (+/-0.077) for {'subsample': 0.6, 'n_estimators': 500, 'min_child_weight': 5, 'max_depth': 6, 'learning_rate': 0.01, 'gamma': 1, 'colsample_bytree': 0.6}\n",
      "0.521 (+/-0.070) for {'subsample': 0.6, 'n_estimators': 1500, 'min_child_weight': 5, 'max_depth': 3, 'learning_rate': 0.01, 'gamma': 5, 'colsample_bytree': 0.6}\n",
      "0.550 (+/-0.050) for {'subsample': 0.8, 'n_estimators': 1500, 'min_child_weight': 3, 'max_depth': 6, 'learning_rate': 0.1, 'gamma': 5, 'colsample_bytree': 0.8}\n",
      "0.503 (+/-0.073) for {'subsample': 1.0, 'n_estimators': 1500, 'min_child_weight': 3, 'max_depth': 3, 'learning_rate': 0.01, 'gamma': 5, 'colsample_bytree': 1.0}\n",
      "0.523 (+/-0.065) for {'subsample': 0.8, 'n_estimators': 1500, 'min_child_weight': 1, 'max_depth': 3, 'learning_rate': 0.01, 'gamma': 5, 'colsample_bytree': 1.0}\n",
      "0.546 (+/-0.057) for {'subsample': 0.7, 'n_estimators': 1500, 'min_child_weight': 3, 'max_depth': 10, 'learning_rate': 0.1, 'gamma': 5, 'colsample_bytree': 1.0}\n",
      "0.547 (+/-0.059) for {'subsample': 0.6, 'n_estimators': 1500, 'min_child_weight': 3, 'max_depth': 10, 'learning_rate': 0.1, 'gamma': 0, 'colsample_bytree': 0.6}\n",
      "0.513 (+/-0.069) for {'subsample': 1.0, 'n_estimators': 500, 'min_child_weight': 1, 'max_depth': 3, 'learning_rate': 0.1, 'gamma': 5, 'colsample_bytree': 0.9}\n",
      "0.548 (+/-0.063) for {'subsample': 0.9, 'n_estimators': 1500, 'min_child_weight': 1, 'max_depth': 10, 'learning_rate': 0.01, 'gamma': 1, 'colsample_bytree': 0.6}\n",
      "0.538 (+/-0.056) for {'subsample': 0.8, 'n_estimators': 1500, 'min_child_weight': 3, 'max_depth': 3, 'learning_rate': 0.1, 'gamma': 1, 'colsample_bytree': 1.0}\n",
      "0.547 (+/-0.063) for {'subsample': 0.8, 'n_estimators': 1500, 'min_child_weight': 5, 'max_depth': 6, 'learning_rate': 0.01, 'gamma': 0, 'colsample_bytree': 0.8}\n",
      "0.544 (+/-0.066) for {'subsample': 0.9, 'n_estimators': 1500, 'min_child_weight': 3, 'max_depth': 6, 'learning_rate': 0.01, 'gamma': 1, 'colsample_bytree': 1.0}\n",
      "0.532 (+/-0.069) for {'subsample': 0.6, 'n_estimators': 500, 'min_child_weight': 5, 'max_depth': 10, 'learning_rate': 0.01, 'gamma': 5, 'colsample_bytree': 0.9}\n",
      "0.534 (+/-0.075) for {'subsample': 0.9, 'n_estimators': 500, 'min_child_weight': 1, 'max_depth': 6, 'learning_rate': 0.01, 'gamma': 0, 'colsample_bytree': 0.8}\n",
      "0.488 (+/-0.073) for {'subsample': 0.8, 'n_estimators': 500, 'min_child_weight': 3, 'max_depth': 3, 'learning_rate': 0.01, 'gamma': 5, 'colsample_bytree': 0.6}\n",
      "0.514 (+/-0.065) for {'subsample': 1.0, 'n_estimators': 500, 'min_child_weight': 1, 'max_depth': 3, 'learning_rate': 0.1, 'gamma': 5, 'colsample_bytree': 0.7}\n",
      "0.549 (+/-0.068) for {'subsample': 0.6, 'n_estimators': 1500, 'min_child_weight': 5, 'max_depth': 6, 'learning_rate': 0.01, 'gamma': 0, 'colsample_bytree': 0.5}\n",
      "0.537 (+/-0.069) for {'subsample': 0.9, 'n_estimators': 1500, 'min_child_weight': 3, 'max_depth': 6, 'learning_rate': 0.1, 'gamma': 5, 'colsample_bytree': 1.0}\n",
      "0.529 (+/-0.074) for {'subsample': 0.9, 'n_estimators': 500, 'min_child_weight': 1, 'max_depth': 6, 'learning_rate': 0.01, 'gamma': 5, 'colsample_bytree': 0.5}\n",
      "0.534 (+/-0.061) for {'subsample': 0.8, 'n_estimators': 500, 'min_child_weight': 3, 'max_depth': 3, 'learning_rate': 0.1, 'gamma': 5, 'colsample_bytree': 0.7}\n",
      "0.534 (+/-0.046) for {'subsample': 0.6, 'n_estimators': 1500, 'min_child_weight': 3, 'max_depth': 3, 'learning_rate': 0.1, 'gamma': 5, 'colsample_bytree': 0.7}\n",
      "0.541 (+/-0.051) for {'subsample': 0.7, 'n_estimators': 500, 'min_child_weight': 3, 'max_depth': 10, 'learning_rate': 0.1, 'gamma': 1, 'colsample_bytree': 0.6}\n",
      "0.536 (+/-0.075) for {'subsample': 0.7, 'n_estimators': 1500, 'min_child_weight': 5, 'max_depth': 6, 'learning_rate': 0.01, 'gamma': 5, 'colsample_bytree': 0.9}\n",
      "CPU times: user 1d 9h 27min 15s, sys: 1min 8s, total: 1d 9h 28min 24s\n",
      "Wall time: 5h 37min 48s\n"
     ]
    }
   ],
   "source": [
    "%%time\n",
    "a,b,c,d,e = prepare_input(train_labels, train_mordred, target = 'EPA_category', encoder = encoder_epa)\n",
    "\n",
    "epa_xgb_mordred = model_selection(xgb_clf, xgb_grid_parameters, a, c, scoring = 'f1_weighted', cv=5, GridSearch = False, n_iter=30,n_jobs=1)"
   ]
  }
 ],
 "metadata": {
  "kernelspec": {
   "display_name": "Python 3",
   "language": "python",
   "name": "python3"
  },
  "language_info": {
   "codemirror_mode": {
    "name": "ipython",
    "version": 3
   },
   "file_extension": ".py",
   "mimetype": "text/x-python",
   "name": "python",
   "nbconvert_exporter": "python",
   "pygments_lexer": "ipython3",
   "version": "3.6.6"
  }
 },
 "nbformat": 4,
 "nbformat_minor": 2
}
